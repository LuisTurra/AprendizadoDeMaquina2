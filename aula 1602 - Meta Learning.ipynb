{
 "cells": [
  {
   "cell_type": "code",
   "execution_count": 1,
   "metadata": {},
   "outputs": [
    {
     "data": {
      "text/html": [
       "<div>\n",
       "<style scoped>\n",
       "    .dataframe tbody tr th:only-of-type {\n",
       "        vertical-align: middle;\n",
       "    }\n",
       "\n",
       "    .dataframe tbody tr th {\n",
       "        vertical-align: top;\n",
       "    }\n",
       "\n",
       "    .dataframe thead th {\n",
       "        text-align: right;\n",
       "    }\n",
       "</style>\n",
       "<table border=\"1\" class=\"dataframe\">\n",
       "  <thead>\n",
       "    <tr style=\"text-align: right;\">\n",
       "      <th></th>\n",
       "      <th>id</th>\n",
       "      <th>SAVI</th>\n",
       "      <th>NDVI_4</th>\n",
       "      <th>NDVI_3</th>\n",
       "      <th>NDVI_2</th>\n",
       "      <th>NDVI_1</th>\n",
       "      <th>A_Bri_Todas</th>\n",
       "      <th>AC_9</th>\n",
       "      <th>AC_8</th>\n",
       "      <th>AC_7</th>\n",
       "      <th>...</th>\n",
       "      <th>'Mean.40</th>\n",
       "      <th>'Mean.41</th>\n",
       "      <th>'Mean.42</th>\n",
       "      <th>'Mean.43</th>\n",
       "      <th>'Mean.44</th>\n",
       "      <th>'Mean.45</th>\n",
       "      <th>'Mean.46</th>\n",
       "      <th>'Mean.47</th>\n",
       "      <th>'Mean.48</th>\n",
       "      <th>'Class</th>\n",
       "    </tr>\n",
       "  </thead>\n",
       "  <tbody>\n",
       "    <tr>\n",
       "      <th>0</th>\n",
       "      <td>1</td>\n",
       "      <td>0.445056</td>\n",
       "      <td>0.151780</td>\n",
       "      <td>0.381752</td>\n",
       "      <td>0.056918</td>\n",
       "      <td>0.296909</td>\n",
       "      <td>158.472067</td>\n",
       "      <td>0.447438</td>\n",
       "      <td>0.892295</td>\n",
       "      <td>0.542128</td>\n",
       "      <td>...</td>\n",
       "      <td>-8.169620</td>\n",
       "      <td>199.127815</td>\n",
       "      <td>223.031003</td>\n",
       "      <td>196.721556</td>\n",
       "      <td>204.887833</td>\n",
       "      <td>404.742615</td>\n",
       "      <td>505.544019</td>\n",
       "      <td>294.344838</td>\n",
       "      <td>-15.065224</td>\n",
       "      <td>Sombra</td>\n",
       "    </tr>\n",
       "    <tr>\n",
       "      <th>1</th>\n",
       "      <td>2</td>\n",
       "      <td>-0.201749</td>\n",
       "      <td>-0.163363</td>\n",
       "      <td>-0.138499</td>\n",
       "      <td>-0.159447</td>\n",
       "      <td>-0.134553</td>\n",
       "      <td>-2.389007</td>\n",
       "      <td>1.321530</td>\n",
       "      <td>1.379386</td>\n",
       "      <td>1.310946</td>\n",
       "      <td>...</td>\n",
       "      <td>-11.467251</td>\n",
       "      <td>0.063633</td>\n",
       "      <td>0.090360</td>\n",
       "      <td>0.000000</td>\n",
       "      <td>0.030544</td>\n",
       "      <td>0.383073</td>\n",
       "      <td>0.519249</td>\n",
       "      <td>0.132358</td>\n",
       "      <td>141.579065</td>\n",
       "      <td>Lago</td>\n",
       "    </tr>\n",
       "    <tr>\n",
       "      <th>2</th>\n",
       "      <td>3</td>\n",
       "      <td>-0.027614</td>\n",
       "      <td>-0.110212</td>\n",
       "      <td>0.006475</td>\n",
       "      <td>-0.134734</td>\n",
       "      <td>-0.018419</td>\n",
       "      <td>1.178177</td>\n",
       "      <td>0.987133</td>\n",
       "      <td>1.311429</td>\n",
       "      <td>1.037530</td>\n",
       "      <td>...</td>\n",
       "      <td>-10.633529</td>\n",
       "      <td>0.355530</td>\n",
       "      <td>0.726843</td>\n",
       "      <td>0.744457</td>\n",
       "      <td>0.542586</td>\n",
       "      <td>2.861286</td>\n",
       "      <td>4.405111</td>\n",
       "      <td>2.482221</td>\n",
       "      <td>65.499723</td>\n",
       "      <td>Lago</td>\n",
       "    </tr>\n",
       "    <tr>\n",
       "      <th>3</th>\n",
       "      <td>4</td>\n",
       "      <td>0.256585</td>\n",
       "      <td>0.051272</td>\n",
       "      <td>0.255617</td>\n",
       "      <td>-0.037182</td>\n",
       "      <td>0.171195</td>\n",
       "      <td>50.670838</td>\n",
       "      <td>0.592842</td>\n",
       "      <td>1.077235</td>\n",
       "      <td>0.707658</td>\n",
       "      <td>...</td>\n",
       "      <td>-12.376023</td>\n",
       "      <td>38.611830</td>\n",
       "      <td>54.739680</td>\n",
       "      <td>31.984904</td>\n",
       "      <td>30.775724</td>\n",
       "      <td>127.880776</td>\n",
       "      <td>180.032039</td>\n",
       "      <td>88.176217</td>\n",
       "      <td>-25.103820</td>\n",
       "      <td>Lago</td>\n",
       "    </tr>\n",
       "    <tr>\n",
       "      <th>4</th>\n",
       "      <td>5</td>\n",
       "      <td>0.239442</td>\n",
       "      <td>0.036465</td>\n",
       "      <td>0.226924</td>\n",
       "      <td>-0.033319</td>\n",
       "      <td>0.159751</td>\n",
       "      <td>7.272871</td>\n",
       "      <td>0.630093</td>\n",
       "      <td>1.068935</td>\n",
       "      <td>0.724508</td>\n",
       "      <td>...</td>\n",
       "      <td>-3.468881</td>\n",
       "      <td>0.000000</td>\n",
       "      <td>1.638002</td>\n",
       "      <td>0.000000</td>\n",
       "      <td>0.000000</td>\n",
       "      <td>6.617527</td>\n",
       "      <td>22.355446</td>\n",
       "      <td>6.093366</td>\n",
       "      <td>-10.208845</td>\n",
       "      <td>Lago</td>\n",
       "    </tr>\n",
       "    <tr>\n",
       "      <th>...</th>\n",
       "      <td>...</td>\n",
       "      <td>...</td>\n",
       "      <td>...</td>\n",
       "      <td>...</td>\n",
       "      <td>...</td>\n",
       "      <td>...</td>\n",
       "      <td>...</td>\n",
       "      <td>...</td>\n",
       "      <td>...</td>\n",
       "      <td>...</td>\n",
       "      <td>...</td>\n",
       "      <td>...</td>\n",
       "      <td>...</td>\n",
       "      <td>...</td>\n",
       "      <td>...</td>\n",
       "      <td>...</td>\n",
       "      <td>...</td>\n",
       "      <td>...</td>\n",
       "      <td>...</td>\n",
       "      <td>...</td>\n",
       "      <td>...</td>\n",
       "    </tr>\n",
       "    <tr>\n",
       "      <th>508</th>\n",
       "      <td>509</td>\n",
       "      <td>0.462411</td>\n",
       "      <td>0.130957</td>\n",
       "      <td>0.368886</td>\n",
       "      <td>0.063190</td>\n",
       "      <td>0.308326</td>\n",
       "      <td>876.814209</td>\n",
       "      <td>0.461042</td>\n",
       "      <td>0.881132</td>\n",
       "      <td>0.528671</td>\n",
       "      <td>...</td>\n",
       "      <td>1.829424</td>\n",
       "      <td>1180.028152</td>\n",
       "      <td>1368.848225</td>\n",
       "      <td>1560.468788</td>\n",
       "      <td>1540.471236</td>\n",
       "      <td>2129.552020</td>\n",
       "      <td>2322.363525</td>\n",
       "      <td>2039.137087</td>\n",
       "      <td>21.113831</td>\n",
       "      <td>Vegetacao Rasteira</td>\n",
       "    </tr>\n",
       "    <tr>\n",
       "      <th>509</th>\n",
       "      <td>510</td>\n",
       "      <td>0.532200</td>\n",
       "      <td>0.151068</td>\n",
       "      <td>0.411439</td>\n",
       "      <td>0.085665</td>\n",
       "      <td>0.354852</td>\n",
       "      <td>796.499753</td>\n",
       "      <td>0.416994</td>\n",
       "      <td>0.842189</td>\n",
       "      <td>0.476176</td>\n",
       "      <td>...</td>\n",
       "      <td>0.198680</td>\n",
       "      <td>1048.631621</td>\n",
       "      <td>1207.460211</td>\n",
       "      <td>1367.710935</td>\n",
       "      <td>1344.028063</td>\n",
       "      <td>1902.272200</td>\n",
       "      <td>2087.986430</td>\n",
       "      <td>1852.730171</td>\n",
       "      <td>48.006061</td>\n",
       "      <td>Vegetacao Rasteira</td>\n",
       "    </tr>\n",
       "    <tr>\n",
       "      <th>510</th>\n",
       "      <td>511</td>\n",
       "      <td>0.546539</td>\n",
       "      <td>0.173273</td>\n",
       "      <td>0.418253</td>\n",
       "      <td>0.110971</td>\n",
       "      <td>0.364412</td>\n",
       "      <td>864.732286</td>\n",
       "      <td>0.410185</td>\n",
       "      <td>0.800227</td>\n",
       "      <td>0.465833</td>\n",
       "      <td>...</td>\n",
       "      <td>0.616802</td>\n",
       "      <td>1097.614206</td>\n",
       "      <td>1268.228412</td>\n",
       "      <td>1487.977020</td>\n",
       "      <td>1451.016017</td>\n",
       "      <td>2100.078691</td>\n",
       "      <td>2375.559889</td>\n",
       "      <td>2052.430362</td>\n",
       "      <td>34.426184</td>\n",
       "      <td>Vegetacao Rasteira</td>\n",
       "    </tr>\n",
       "    <tr>\n",
       "      <th>511</th>\n",
       "      <td>512</td>\n",
       "      <td>0.516244</td>\n",
       "      <td>0.150201</td>\n",
       "      <td>0.398731</td>\n",
       "      <td>0.087837</td>\n",
       "      <td>0.344207</td>\n",
       "      <td>1000.501483</td>\n",
       "      <td>0.429868</td>\n",
       "      <td>0.838511</td>\n",
       "      <td>0.487866</td>\n",
       "      <td>...</td>\n",
       "      <td>-3.632927</td>\n",
       "      <td>1336.958797</td>\n",
       "      <td>1524.104415</td>\n",
       "      <td>1758.364894</td>\n",
       "      <td>1725.430293</td>\n",
       "      <td>2397.351904</td>\n",
       "      <td>2622.893889</td>\n",
       "      <td>2355.546181</td>\n",
       "      <td>98.779519</td>\n",
       "      <td>Vegetacao Rasteira</td>\n",
       "    </tr>\n",
       "    <tr>\n",
       "      <th>512</th>\n",
       "      <td>513</td>\n",
       "      <td>0.990017</td>\n",
       "      <td>0.244157</td>\n",
       "      <td>0.692092</td>\n",
       "      <td>0.187963</td>\n",
       "      <td>0.660103</td>\n",
       "      <td>774.878394</td>\n",
       "      <td>0.181969</td>\n",
       "      <td>0.683553</td>\n",
       "      <td>0.204745</td>\n",
       "      <td>...</td>\n",
       "      <td>4.858285</td>\n",
       "      <td>909.745679</td>\n",
       "      <td>1097.259259</td>\n",
       "      <td>1230.696296</td>\n",
       "      <td>1212.214815</td>\n",
       "      <td>1892.498765</td>\n",
       "      <td>2111.669136</td>\n",
       "      <td>1827.096296</td>\n",
       "      <td>-75.187654</td>\n",
       "      <td>Vegetacao Rasteira</td>\n",
       "    </tr>\n",
       "  </tbody>\n",
       "</table>\n",
       "<p>513 rows × 125 columns</p>\n",
       "</div>"
      ],
      "text/plain": [
       "      id      SAVI    NDVI_4    NDVI_3    NDVI_2    NDVI_1  A_Bri_Todas  \\\n",
       "0      1  0.445056  0.151780  0.381752  0.056918  0.296909   158.472067   \n",
       "1      2 -0.201749 -0.163363 -0.138499 -0.159447 -0.134553    -2.389007   \n",
       "2      3 -0.027614 -0.110212  0.006475 -0.134734 -0.018419     1.178177   \n",
       "3      4  0.256585  0.051272  0.255617 -0.037182  0.171195    50.670838   \n",
       "4      5  0.239442  0.036465  0.226924 -0.033319  0.159751     7.272871   \n",
       "..   ...       ...       ...       ...       ...       ...          ...   \n",
       "508  509  0.462411  0.130957  0.368886  0.063190  0.308326   876.814209   \n",
       "509  510  0.532200  0.151068  0.411439  0.085665  0.354852   796.499753   \n",
       "510  511  0.546539  0.173273  0.418253  0.110971  0.364412   864.732286   \n",
       "511  512  0.516244  0.150201  0.398731  0.087837  0.344207  1000.501483   \n",
       "512  513  0.990017  0.244157  0.692092  0.187963  0.660103   774.878394   \n",
       "\n",
       "         AC_9      AC_8      AC_7  ...   'Mean.40     'Mean.41     'Mean.42  \\\n",
       "0    0.447438  0.892295  0.542128  ...  -8.169620   199.127815   223.031003   \n",
       "1    1.321530  1.379386  1.310946  ... -11.467251     0.063633     0.090360   \n",
       "2    0.987133  1.311429  1.037530  ... -10.633529     0.355530     0.726843   \n",
       "3    0.592842  1.077235  0.707658  ... -12.376023    38.611830    54.739680   \n",
       "4    0.630093  1.068935  0.724508  ...  -3.468881     0.000000     1.638002   \n",
       "..        ...       ...       ...  ...        ...          ...          ...   \n",
       "508  0.461042  0.881132  0.528671  ...   1.829424  1180.028152  1368.848225   \n",
       "509  0.416994  0.842189  0.476176  ...   0.198680  1048.631621  1207.460211   \n",
       "510  0.410185  0.800227  0.465833  ...   0.616802  1097.614206  1268.228412   \n",
       "511  0.429868  0.838511  0.487866  ...  -3.632927  1336.958797  1524.104415   \n",
       "512  0.181969  0.683553  0.204745  ...   4.858285   909.745679  1097.259259   \n",
       "\n",
       "        'Mean.43     'Mean.44     'Mean.45     'Mean.46     'Mean.47  \\\n",
       "0     196.721556   204.887833   404.742615   505.544019   294.344838   \n",
       "1       0.000000     0.030544     0.383073     0.519249     0.132358   \n",
       "2       0.744457     0.542586     2.861286     4.405111     2.482221   \n",
       "3      31.984904    30.775724   127.880776   180.032039    88.176217   \n",
       "4       0.000000     0.000000     6.617527    22.355446     6.093366   \n",
       "..           ...          ...          ...          ...          ...   \n",
       "508  1560.468788  1540.471236  2129.552020  2322.363525  2039.137087   \n",
       "509  1367.710935  1344.028063  1902.272200  2087.986430  1852.730171   \n",
       "510  1487.977020  1451.016017  2100.078691  2375.559889  2052.430362   \n",
       "511  1758.364894  1725.430293  2397.351904  2622.893889  2355.546181   \n",
       "512  1230.696296  1212.214815  1892.498765  2111.669136  1827.096296   \n",
       "\n",
       "       'Mean.48              'Class  \n",
       "0    -15.065224              Sombra  \n",
       "1    141.579065                Lago  \n",
       "2     65.499723                Lago  \n",
       "3    -25.103820                Lago  \n",
       "4    -10.208845                Lago  \n",
       "..          ...                 ...  \n",
       "508   21.113831  Vegetacao Rasteira  \n",
       "509   48.006061  Vegetacao Rasteira  \n",
       "510   34.426184  Vegetacao Rasteira  \n",
       "511   98.779519  Vegetacao Rasteira  \n",
       "512  -75.187654  Vegetacao Rasteira  \n",
       "\n",
       "[513 rows x 125 columns]"
      ]
     },
     "execution_count": 1,
     "metadata": {},
     "output_type": "execute_result"
    }
   ],
   "source": [
    "import pandas as pd\n",
    "import numpy as np\n",
    "df = pd.read_csv('csv_result-Amostras_Treinamento_WV_3_Nivel_1_Arff.csv')\n",
    "df"
   ]
  },
  {
   "cell_type": "code",
   "execution_count": 2,
   "metadata": {},
   "outputs": [],
   "source": [
    "x = df.iloc[:, :-1].values\n",
    "y = df.iloc[:, -1].values\n"
   ]
  },
  {
   "cell_type": "code",
   "execution_count": 3,
   "metadata": {},
   "outputs": [],
   "source": [
    "from sklearn.model_selection import train_test_split\n",
    "X_train, X_test, y_train, y_test = train_test_split(x, y, test_size = 0.25, random_state = 0)"
   ]
  },
  {
   "cell_type": "code",
   "execution_count": 4,
   "metadata": {},
   "outputs": [],
   "source": [
    "from sklearn.preprocessing import StandardScaler\n",
    "sc = StandardScaler()\n",
    "X_train = sc.fit_transform(X_train)\n",
    "X_test = sc.transform(X_test)"
   ]
  },
  {
   "cell_type": "code",
   "execution_count": 5,
   "metadata": {
    "scrolled": true
   },
   "outputs": [
    {
     "name": "stderr",
     "output_type": "stream",
     "text": [
      "C:\\ProgramData\\Anaconda3\\lib\\site-packages\\dask\\dataframe\\utils.py:366: FutureWarning: pandas.Int64Index is deprecated and will be removed from pandas in a future version. Use pandas.Index with the appropriate dtype instead.\n",
      "  _numeric_index_types = (pd.Int64Index, pd.Float64Index, pd.UInt64Index)\n",
      "C:\\ProgramData\\Anaconda3\\lib\\site-packages\\dask\\dataframe\\utils.py:366: FutureWarning: pandas.Float64Index is deprecated and will be removed from pandas in a future version. Use pandas.Index with the appropriate dtype instead.\n",
      "  _numeric_index_types = (pd.Int64Index, pd.Float64Index, pd.UInt64Index)\n",
      "C:\\ProgramData\\Anaconda3\\lib\\site-packages\\dask\\dataframe\\utils.py:366: FutureWarning: pandas.UInt64Index is deprecated and will be removed from pandas in a future version. Use pandas.Index with the appropriate dtype instead.\n",
      "  _numeric_index_types = (pd.Int64Index, pd.Float64Index, pd.UInt64Index)\n"
     ]
    },
    {
     "name": "stdout",
     "output_type": "stream",
     "text": [
      "[flaml.automl.automl: 02-24 00:57:31] {2716} INFO - task = classification\n",
      "[flaml.automl.automl: 02-24 00:57:31] {2718} INFO - Data split method: stratified\n",
      "[flaml.automl.automl: 02-24 00:57:31] {2721} INFO - Evaluation method: holdout\n",
      "[flaml.automl.automl: 02-24 00:57:31] {1312} INFO - class 0 augmented from 12 to 24\n",
      "[flaml.automl.automl: 02-24 00:57:31] {1312} INFO - class 3 augmented from 4 to 20\n",
      "[flaml.automl.automl: 02-24 00:57:31] {1312} INFO - class 5 augmented from 18 to 36\n",
      "[flaml.automl.automl: 02-24 00:57:31] {1312} INFO - class 6 augmented from 16 to 32\n",
      "[flaml.automl.automl: 02-24 00:57:31] {1312} INFO - class 7 augmented from 13 to 26\n",
      "[flaml.automl.automl: 02-24 00:57:31] {1312} INFO - class 8 augmented from 18 to 36\n",
      "[flaml.automl.automl: 02-24 00:57:31] {1312} INFO - class 10 augmented from 16 to 32\n",
      "[flaml.automl.automl: 02-24 00:57:31] {2848} INFO - Minimizing error metric: 1-accuracy\n",
      "[flaml.automl.automl: 02-24 00:57:31] {2994} INFO - List of ML learners in AutoML Run: ['lgbm', 'rf', 'xgboost', 'extra_tree', 'xgb_limitdepth', 'lrl1']\n",
      "[flaml.automl.automl: 02-24 00:57:31] {3323} INFO - iteration 0, current learner lgbm\n",
      "[flaml.automl.automl: 02-24 00:57:31] {3461} INFO - Estimated sufficient time budget=458s. Estimated necessary time budget=11s.\n",
      "[flaml.automl.automl: 02-24 00:57:31] {3508} INFO -  at 0.1s,\testimator lgbm's best error=0.3000,\tbest estimator lgbm's best error=0.3000\n",
      "[flaml.automl.automl: 02-24 00:57:31] {3323} INFO - iteration 1, current learner lgbm\n",
      "[flaml.automl.automl: 02-24 00:57:31] {3508} INFO -  at 0.1s,\testimator lgbm's best error=0.3000,\tbest estimator lgbm's best error=0.3000\n",
      "[flaml.automl.automl: 02-24 00:57:31] {3323} INFO - iteration 2, current learner lgbm\n",
      "[flaml.automl.automl: 02-24 00:57:31] {3508} INFO -  at 0.1s,\testimator lgbm's best error=0.2000,\tbest estimator lgbm's best error=0.2000\n",
      "[flaml.automl.automl: 02-24 00:57:31] {3323} INFO - iteration 3, current learner lgbm\n",
      "[flaml.automl.automl: 02-24 00:57:31] {3508} INFO -  at 0.2s,\testimator lgbm's best error=0.1167,\tbest estimator lgbm's best error=0.1167\n",
      "[flaml.automl.automl: 02-24 00:57:31] {3323} INFO - iteration 4, current learner lgbm\n",
      "[flaml.automl.automl: 02-24 00:57:31] {3508} INFO -  at 0.2s,\testimator lgbm's best error=0.1167,\tbest estimator lgbm's best error=0.1167\n",
      "[flaml.automl.automl: 02-24 00:57:31] {3323} INFO - iteration 5, current learner lgbm\n",
      "[flaml.automl.automl: 02-24 00:57:31] {3508} INFO -  at 0.3s,\testimator lgbm's best error=0.1167,\tbest estimator lgbm's best error=0.1167\n",
      "[flaml.automl.automl: 02-24 00:57:31] {3323} INFO - iteration 6, current learner xgboost\n",
      "[flaml.automl.automl: 02-24 00:57:31] {3508} INFO -  at 0.4s,\testimator xgboost's best error=0.2000,\tbest estimator lgbm's best error=0.1167\n",
      "[flaml.automl.automl: 02-24 00:57:31] {3323} INFO - iteration 7, current learner lgbm\n",
      "[flaml.automl.automl: 02-24 00:57:31] {3508} INFO -  at 0.4s,\testimator lgbm's best error=0.1167,\tbest estimator lgbm's best error=0.1167\n",
      "[flaml.automl.automl: 02-24 00:57:31] {3323} INFO - iteration 8, current learner lgbm\n",
      "[flaml.automl.automl: 02-24 00:57:31] {3508} INFO -  at 0.5s,\testimator lgbm's best error=0.1167,\tbest estimator lgbm's best error=0.1167\n",
      "[flaml.automl.automl: 02-24 00:57:31] {3323} INFO - iteration 9, current learner xgboost\n"
     ]
    },
    {
     "name": "stderr",
     "output_type": "stream",
     "text": [
      "C:\\ProgramData\\Anaconda3\\lib\\site-packages\\xgboost\\sklearn.py:1395: UserWarning: `use_label_encoder` is deprecated in 1.7.0.\n",
      "  warnings.warn(\"`use_label_encoder` is deprecated in 1.7.0.\")\n",
      "C:\\ProgramData\\Anaconda3\\lib\\site-packages\\xgboost\\sklearn.py:1395: UserWarning: `use_label_encoder` is deprecated in 1.7.0.\n",
      "  warnings.warn(\"`use_label_encoder` is deprecated in 1.7.0.\")\n"
     ]
    },
    {
     "name": "stdout",
     "output_type": "stream",
     "text": [
      "[flaml.automl.automl: 02-24 00:57:31] {3508} INFO -  at 0.5s,\testimator xgboost's best error=0.2000,\tbest estimator lgbm's best error=0.1167\n",
      "[flaml.automl.automl: 02-24 00:57:31] {3323} INFO - iteration 10, current learner extra_tree\n",
      "[flaml.automl.automl: 02-24 00:57:31] {3508} INFO -  at 0.6s,\testimator extra_tree's best error=0.5500,\tbest estimator lgbm's best error=0.1167\n",
      "[flaml.automl.automl: 02-24 00:57:31] {3323} INFO - iteration 11, current learner xgboost\n",
      "[flaml.automl.automl: 02-24 00:57:31] {3508} INFO -  at 0.6s,\testimator xgboost's best error=0.1667,\tbest estimator lgbm's best error=0.1167\n",
      "[flaml.automl.automl: 02-24 00:57:31] {3323} INFO - iteration 12, current learner extra_tree\n",
      "[flaml.automl.automl: 02-24 00:57:32] {3508} INFO -  at 0.7s,\testimator extra_tree's best error=0.5333,\tbest estimator lgbm's best error=0.1167\n",
      "[flaml.automl.automl: 02-24 00:57:32] {3323} INFO - iteration 13, current learner rf\n",
      "[flaml.automl.automl: 02-24 00:57:32] {3508} INFO -  at 0.7s,\testimator rf's best error=0.4833,\tbest estimator lgbm's best error=0.1167\n",
      "[flaml.automl.automl: 02-24 00:57:32] {3323} INFO - iteration 14, current learner rf\n"
     ]
    },
    {
     "name": "stderr",
     "output_type": "stream",
     "text": [
      "C:\\ProgramData\\Anaconda3\\lib\\site-packages\\xgboost\\sklearn.py:1395: UserWarning: `use_label_encoder` is deprecated in 1.7.0.\n",
      "  warnings.warn(\"`use_label_encoder` is deprecated in 1.7.0.\")\n"
     ]
    },
    {
     "name": "stdout",
     "output_type": "stream",
     "text": [
      "[flaml.automl.automl: 02-24 00:57:32] {3508} INFO -  at 0.7s,\testimator rf's best error=0.4333,\tbest estimator lgbm's best error=0.1167\n",
      "[flaml.automl.automl: 02-24 00:57:32] {3323} INFO - iteration 15, current learner rf\n",
      "[flaml.automl.automl: 02-24 00:57:32] {3508} INFO -  at 0.8s,\testimator rf's best error=0.4333,\tbest estimator lgbm's best error=0.1167\n",
      "[flaml.automl.automl: 02-24 00:57:32] {3323} INFO - iteration 16, current learner lgbm\n",
      "[flaml.automl.automl: 02-24 00:57:32] {3508} INFO -  at 0.9s,\testimator lgbm's best error=0.0833,\tbest estimator lgbm's best error=0.0833\n",
      "[flaml.automl.automl: 02-24 00:57:32] {3323} INFO - iteration 17, current learner xgboost\n",
      "[flaml.automl.automl: 02-24 00:57:32] {3508} INFO -  at 0.9s,\testimator xgboost's best error=0.1667,\tbest estimator lgbm's best error=0.0833\n",
      "[flaml.automl.automl: 02-24 00:57:32] {3323} INFO - iteration 18, current learner lgbm\n",
      "[flaml.automl.automl: 02-24 00:57:32] {3508} INFO -  at 1.0s,\testimator lgbm's best error=0.0833,\tbest estimator lgbm's best error=0.0833\n",
      "[flaml.automl.automl: 02-24 00:57:32] {3323} INFO - iteration 19, current learner rf\n",
      "[flaml.automl.automl: 02-24 00:57:32] {3508} INFO -  at 1.1s,\testimator rf's best error=0.3500,\tbest estimator lgbm's best error=0.0833\n"
     ]
    },
    {
     "name": "stderr",
     "output_type": "stream",
     "text": [
      "C:\\ProgramData\\Anaconda3\\lib\\site-packages\\xgboost\\sklearn.py:1395: UserWarning: `use_label_encoder` is deprecated in 1.7.0.\n",
      "  warnings.warn(\"`use_label_encoder` is deprecated in 1.7.0.\")\n"
     ]
    },
    {
     "name": "stdout",
     "output_type": "stream",
     "text": [
      "[flaml.automl.automl: 02-24 00:57:32] {3323} INFO - iteration 20, current learner lgbm\n",
      "[flaml.automl.automl: 02-24 00:57:32] {3508} INFO -  at 1.3s,\testimator lgbm's best error=0.0333,\tbest estimator lgbm's best error=0.0333\n",
      "[flaml.automl.automl: 02-24 00:57:32] {3323} INFO - iteration 21, current learner lgbm\n",
      "[flaml.automl.automl: 02-24 00:57:32] {3508} INFO -  at 1.4s,\testimator lgbm's best error=0.0333,\tbest estimator lgbm's best error=0.0333\n",
      "[flaml.automl.automl: 02-24 00:57:32] {3323} INFO - iteration 22, current learner lgbm\n",
      "[flaml.automl.automl: 02-24 00:57:32] {3508} INFO -  at 1.6s,\testimator lgbm's best error=0.0333,\tbest estimator lgbm's best error=0.0333\n",
      "[flaml.automl.automl: 02-24 00:57:32] {3323} INFO - iteration 23, current learner lgbm\n",
      "[flaml.automl.automl: 02-24 00:57:33] {3508} INFO -  at 1.8s,\testimator lgbm's best error=0.0333,\tbest estimator lgbm's best error=0.0333\n",
      "[flaml.automl.automl: 02-24 00:57:33] {3323} INFO - iteration 24, current learner xgboost\n",
      "[flaml.automl.automl: 02-24 00:57:33] {3508} INFO -  at 1.9s,\testimator xgboost's best error=0.1500,\tbest estimator lgbm's best error=0.0333\n",
      "[flaml.automl.automl: 02-24 00:57:33] {3323} INFO - iteration 25, current learner extra_tree\n",
      "[flaml.automl.automl: 02-24 00:57:33] {3508} INFO -  at 1.9s,\testimator extra_tree's best error=0.5333,\tbest estimator lgbm's best error=0.0333\n",
      "[flaml.automl.automl: 02-24 00:57:33] {3323} INFO - iteration 26, current learner lgbm\n"
     ]
    },
    {
     "name": "stderr",
     "output_type": "stream",
     "text": [
      "C:\\ProgramData\\Anaconda3\\lib\\site-packages\\xgboost\\sklearn.py:1395: UserWarning: `use_label_encoder` is deprecated in 1.7.0.\n",
      "  warnings.warn(\"`use_label_encoder` is deprecated in 1.7.0.\")\n"
     ]
    },
    {
     "name": "stdout",
     "output_type": "stream",
     "text": [
      "[flaml.automl.automl: 02-24 00:57:33] {3508} INFO -  at 2.1s,\testimator lgbm's best error=0.0333,\tbest estimator lgbm's best error=0.0333\n",
      "[flaml.automl.automl: 02-24 00:57:33] {3323} INFO - iteration 27, current learner rf\n",
      "[flaml.automl.automl: 02-24 00:57:33] {3508} INFO -  at 2.2s,\testimator rf's best error=0.3333,\tbest estimator lgbm's best error=0.0333\n",
      "[flaml.automl.automl: 02-24 00:57:33] {3323} INFO - iteration 28, current learner xgboost\n",
      "[flaml.automl.automl: 02-24 00:57:33] {3508} INFO -  at 2.3s,\testimator xgboost's best error=0.1500,\tbest estimator lgbm's best error=0.0333\n",
      "[flaml.automl.automl: 02-24 00:57:33] {3323} INFO - iteration 29, current learner extra_tree\n",
      "[flaml.automl.automl: 02-24 00:57:33] {3508} INFO -  at 2.3s,\testimator extra_tree's best error=0.4833,\tbest estimator lgbm's best error=0.0333\n",
      "[flaml.automl.automl: 02-24 00:57:33] {3323} INFO - iteration 30, current learner lgbm\n"
     ]
    },
    {
     "name": "stderr",
     "output_type": "stream",
     "text": [
      "C:\\ProgramData\\Anaconda3\\lib\\site-packages\\xgboost\\sklearn.py:1395: UserWarning: `use_label_encoder` is deprecated in 1.7.0.\n",
      "  warnings.warn(\"`use_label_encoder` is deprecated in 1.7.0.\")\n"
     ]
    },
    {
     "name": "stdout",
     "output_type": "stream",
     "text": [
      "[flaml.automl.automl: 02-24 00:57:33] {3508} INFO -  at 2.5s,\testimator lgbm's best error=0.0333,\tbest estimator lgbm's best error=0.0333\n",
      "[flaml.automl.automl: 02-24 00:57:33] {3323} INFO - iteration 31, current learner lgbm\n",
      "[flaml.automl.automl: 02-24 00:57:33] {3508} INFO -  at 2.6s,\testimator lgbm's best error=0.0333,\tbest estimator lgbm's best error=0.0333\n",
      "[flaml.automl.automl: 02-24 00:57:33] {3323} INFO - iteration 32, current learner lgbm\n",
      "[flaml.automl.automl: 02-24 00:57:34] {3508} INFO -  at 2.8s,\testimator lgbm's best error=0.0333,\tbest estimator lgbm's best error=0.0333\n",
      "[flaml.automl.automl: 02-24 00:57:34] {3323} INFO - iteration 33, current learner extra_tree\n",
      "[flaml.automl.automl: 02-24 00:57:34] {3508} INFO -  at 2.8s,\testimator extra_tree's best error=0.4667,\tbest estimator lgbm's best error=0.0333\n",
      "[flaml.automl.automl: 02-24 00:57:34] {3323} INFO - iteration 34, current learner lgbm\n",
      "[flaml.automl.automl: 02-24 00:57:34] {3508} INFO -  at 3.0s,\testimator lgbm's best error=0.0333,\tbest estimator lgbm's best error=0.0333\n",
      "[flaml.automl.automl: 02-24 00:57:34] {3323} INFO - iteration 35, current learner rf\n",
      "[flaml.automl.automl: 02-24 00:57:34] {3508} INFO -  at 3.1s,\testimator rf's best error=0.3333,\tbest estimator lgbm's best error=0.0333\n",
      "[flaml.automl.automl: 02-24 00:57:34] {3323} INFO - iteration 36, current learner extra_tree\n",
      "[flaml.automl.automl: 02-24 00:57:34] {3508} INFO -  at 3.2s,\testimator extra_tree's best error=0.4667,\tbest estimator lgbm's best error=0.0333\n",
      "[flaml.automl.automl: 02-24 00:57:34] {3323} INFO - iteration 37, current learner rf\n",
      "[flaml.automl.automl: 02-24 00:57:34] {3508} INFO -  at 3.2s,\testimator rf's best error=0.3333,\tbest estimator lgbm's best error=0.0333\n",
      "[flaml.automl.automl: 02-24 00:57:34] {3323} INFO - iteration 38, current learner xgboost\n",
      "[flaml.automl.automl: 02-24 00:57:34] {3508} INFO -  at 3.4s,\testimator xgboost's best error=0.1333,\tbest estimator lgbm's best error=0.0333\n",
      "[flaml.automl.automl: 02-24 00:57:34] {3323} INFO - iteration 39, current learner lgbm\n"
     ]
    },
    {
     "name": "stderr",
     "output_type": "stream",
     "text": [
      "C:\\ProgramData\\Anaconda3\\lib\\site-packages\\xgboost\\sklearn.py:1395: UserWarning: `use_label_encoder` is deprecated in 1.7.0.\n",
      "  warnings.warn(\"`use_label_encoder` is deprecated in 1.7.0.\")\n"
     ]
    },
    {
     "name": "stdout",
     "output_type": "stream",
     "text": [
      "[flaml.automl.automl: 02-24 00:57:34] {3508} INFO -  at 3.5s,\testimator lgbm's best error=0.0333,\tbest estimator lgbm's best error=0.0333\n",
      "[flaml.automl.automl: 02-24 00:57:34] {3323} INFO - iteration 40, current learner xgboost\n",
      "[flaml.automl.automl: 02-24 00:57:35] {3508} INFO -  at 3.7s,\testimator xgboost's best error=0.1333,\tbest estimator lgbm's best error=0.0333\n",
      "[flaml.automl.automl: 02-24 00:57:35] {3323} INFO - iteration 41, current learner extra_tree\n",
      "[flaml.automl.automl: 02-24 00:57:35] {3508} INFO -  at 3.7s,\testimator extra_tree's best error=0.4000,\tbest estimator lgbm's best error=0.0333\n"
     ]
    },
    {
     "name": "stderr",
     "output_type": "stream",
     "text": [
      "C:\\ProgramData\\Anaconda3\\lib\\site-packages\\xgboost\\sklearn.py:1395: UserWarning: `use_label_encoder` is deprecated in 1.7.0.\n",
      "  warnings.warn(\"`use_label_encoder` is deprecated in 1.7.0.\")\n"
     ]
    },
    {
     "name": "stdout",
     "output_type": "stream",
     "text": [
      "[flaml.automl.automl: 02-24 00:57:35] {3323} INFO - iteration 42, current learner lgbm\n",
      "[flaml.automl.automl: 02-24 00:57:35] {3508} INFO -  at 4.0s,\testimator lgbm's best error=0.0333,\tbest estimator lgbm's best error=0.0333\n",
      "[flaml.automl.automl: 02-24 00:57:35] {3323} INFO - iteration 43, current learner extra_tree\n",
      "[flaml.automl.automl: 02-24 00:57:35] {3508} INFO -  at 4.0s,\testimator extra_tree's best error=0.4000,\tbest estimator lgbm's best error=0.0333\n",
      "[flaml.automl.automl: 02-24 00:57:35] {3323} INFO - iteration 44, current learner extra_tree\n",
      "[flaml.automl.automl: 02-24 00:57:35] {3508} INFO -  at 4.1s,\testimator extra_tree's best error=0.4000,\tbest estimator lgbm's best error=0.0333\n",
      "[flaml.automl.automl: 02-24 00:57:35] {3323} INFO - iteration 45, current learner extra_tree\n",
      "[flaml.automl.automl: 02-24 00:57:35] {3508} INFO -  at 4.1s,\testimator extra_tree's best error=0.4000,\tbest estimator lgbm's best error=0.0333\n",
      "[flaml.automl.automl: 02-24 00:57:35] {3323} INFO - iteration 46, current learner lgbm\n",
      "[flaml.automl.automl: 02-24 00:57:35] {3508} INFO -  at 4.4s,\testimator lgbm's best error=0.0333,\tbest estimator lgbm's best error=0.0333\n",
      "[flaml.automl.automl: 02-24 00:57:35] {3323} INFO - iteration 47, current learner extra_tree\n",
      "[flaml.automl.automl: 02-24 00:57:35] {3508} INFO -  at 4.4s,\testimator extra_tree's best error=0.2833,\tbest estimator lgbm's best error=0.0333\n",
      "[flaml.automl.automl: 02-24 00:57:35] {3323} INFO - iteration 48, current learner lgbm\n",
      "[flaml.automl.automl: 02-24 00:57:35] {3508} INFO -  at 4.5s,\testimator lgbm's best error=0.0333,\tbest estimator lgbm's best error=0.0333\n",
      "[flaml.automl.automl: 02-24 00:57:35] {3323} INFO - iteration 49, current learner extra_tree\n",
      "[flaml.automl.automl: 02-24 00:57:35] {3508} INFO -  at 4.6s,\testimator extra_tree's best error=0.2500,\tbest estimator lgbm's best error=0.0333\n",
      "[flaml.automl.automl: 02-24 00:57:35] {3323} INFO - iteration 50, current learner extra_tree\n",
      "[flaml.automl.automl: 02-24 00:57:35] {3508} INFO -  at 4.6s,\testimator extra_tree's best error=0.2167,\tbest estimator lgbm's best error=0.0333\n",
      "[flaml.automl.automl: 02-24 00:57:35] {3323} INFO - iteration 51, current learner xgboost\n",
      "[flaml.automl.automl: 02-24 00:57:36] {3508} INFO -  at 4.8s,\testimator xgboost's best error=0.1333,\tbest estimator lgbm's best error=0.0333\n",
      "[flaml.automl.automl: 02-24 00:57:36] {3323} INFO - iteration 52, current learner xgboost\n"
     ]
    },
    {
     "name": "stderr",
     "output_type": "stream",
     "text": [
      "C:\\ProgramData\\Anaconda3\\lib\\site-packages\\xgboost\\sklearn.py:1395: UserWarning: `use_label_encoder` is deprecated in 1.7.0.\n",
      "  warnings.warn(\"`use_label_encoder` is deprecated in 1.7.0.\")\n",
      "C:\\ProgramData\\Anaconda3\\lib\\site-packages\\xgboost\\sklearn.py:1395: UserWarning: `use_label_encoder` is deprecated in 1.7.0.\n",
      "  warnings.warn(\"`use_label_encoder` is deprecated in 1.7.0.\")\n"
     ]
    },
    {
     "name": "stdout",
     "output_type": "stream",
     "text": [
      "[flaml.automl.automl: 02-24 00:57:36] {3508} INFO -  at 5.0s,\testimator xgboost's best error=0.1333,\tbest estimator lgbm's best error=0.0333\n",
      "[flaml.automl.automl: 02-24 00:57:36] {3323} INFO - iteration 53, current learner lgbm\n",
      "[flaml.automl.automl: 02-24 00:57:36] {3508} INFO -  at 5.3s,\testimator lgbm's best error=0.0333,\tbest estimator lgbm's best error=0.0333\n",
      "[flaml.automl.automl: 02-24 00:57:36] {3323} INFO - iteration 54, current learner lgbm\n",
      "[flaml.automl.automl: 02-24 00:57:36] {3508} INFO -  at 5.4s,\testimator lgbm's best error=0.0333,\tbest estimator lgbm's best error=0.0333\n",
      "[flaml.automl.automl: 02-24 00:57:36] {3323} INFO - iteration 55, current learner extra_tree\n",
      "[flaml.automl.automl: 02-24 00:57:36] {3508} INFO -  at 5.5s,\testimator extra_tree's best error=0.2167,\tbest estimator lgbm's best error=0.0333\n",
      "[flaml.automl.automl: 02-24 00:57:36] {3323} INFO - iteration 56, current learner rf\n",
      "[flaml.automl.automl: 02-24 00:57:36] {3508} INFO -  at 5.5s,\testimator rf's best error=0.3167,\tbest estimator lgbm's best error=0.0333\n",
      "[flaml.automl.automl: 02-24 00:57:36] {3323} INFO - iteration 57, current learner rf\n",
      "[flaml.automl.automl: 02-24 00:57:36] {3508} INFO -  at 5.6s,\testimator rf's best error=0.3167,\tbest estimator lgbm's best error=0.0333\n",
      "[flaml.automl.automl: 02-24 00:57:36] {3323} INFO - iteration 58, current learner extra_tree\n",
      "[flaml.automl.automl: 02-24 00:57:36] {3508} INFO -  at 5.6s,\testimator extra_tree's best error=0.2167,\tbest estimator lgbm's best error=0.0333\n",
      "[flaml.automl.automl: 02-24 00:57:36] {3323} INFO - iteration 59, current learner lgbm\n",
      "[flaml.automl.automl: 02-24 00:57:37] {3508} INFO -  at 5.8s,\testimator lgbm's best error=0.0333,\tbest estimator lgbm's best error=0.0333\n",
      "[flaml.automl.automl: 02-24 00:57:37] {3323} INFO - iteration 60, current learner extra_tree\n",
      "[flaml.automl.automl: 02-24 00:57:37] {3508} INFO -  at 5.8s,\testimator extra_tree's best error=0.2167,\tbest estimator lgbm's best error=0.0333\n",
      "[flaml.automl.automl: 02-24 00:57:37] {3323} INFO - iteration 61, current learner lgbm\n",
      "[flaml.automl.automl: 02-24 00:57:37] {3508} INFO -  at 6.0s,\testimator lgbm's best error=0.0333,\tbest estimator lgbm's best error=0.0333\n",
      "[flaml.automl.automl: 02-24 00:57:37] {3323} INFO - iteration 62, current learner extra_tree\n",
      "[flaml.automl.automl: 02-24 00:57:37] {3508} INFO -  at 6.1s,\testimator extra_tree's best error=0.2167,\tbest estimator lgbm's best error=0.0333\n",
      "[flaml.automl.automl: 02-24 00:57:37] {3323} INFO - iteration 63, current learner extra_tree\n",
      "[flaml.automl.automl: 02-24 00:57:37] {3508} INFO -  at 6.1s,\testimator extra_tree's best error=0.2167,\tbest estimator lgbm's best error=0.0333\n",
      "[flaml.automl.automl: 02-24 00:57:37] {3323} INFO - iteration 64, current learner lgbm\n",
      "[flaml.automl.automl: 02-24 00:57:37] {3508} INFO -  at 6.4s,\testimator lgbm's best error=0.0333,\tbest estimator lgbm's best error=0.0333\n",
      "[flaml.automl.automl: 02-24 00:57:37] {3323} INFO - iteration 65, current learner rf\n",
      "[flaml.automl.automl: 02-24 00:57:37] {3508} INFO -  at 6.5s,\testimator rf's best error=0.3167,\tbest estimator lgbm's best error=0.0333\n",
      "[flaml.automl.automl: 02-24 00:57:37] {3323} INFO - iteration 66, current learner extra_tree\n",
      "[flaml.automl.automl: 02-24 00:57:37] {3508} INFO -  at 6.5s,\testimator extra_tree's best error=0.2167,\tbest estimator lgbm's best error=0.0333\n",
      "[flaml.automl.automl: 02-24 00:57:37] {3323} INFO - iteration 67, current learner xgb_limitdepth\n",
      "[flaml.automl.automl: 02-24 00:57:38] {3508} INFO -  at 6.7s,\testimator xgb_limitdepth's best error=0.1333,\tbest estimator lgbm's best error=0.0333\n",
      "[flaml.automl.automl: 02-24 00:57:38] {3323} INFO - iteration 68, current learner xgb_limitdepth\n"
     ]
    },
    {
     "name": "stderr",
     "output_type": "stream",
     "text": [
      "C:\\ProgramData\\Anaconda3\\lib\\site-packages\\xgboost\\sklearn.py:1395: UserWarning: `use_label_encoder` is deprecated in 1.7.0.\n",
      "  warnings.warn(\"`use_label_encoder` is deprecated in 1.7.0.\")\n",
      "C:\\ProgramData\\Anaconda3\\lib\\site-packages\\xgboost\\sklearn.py:1395: UserWarning: `use_label_encoder` is deprecated in 1.7.0.\n",
      "  warnings.warn(\"`use_label_encoder` is deprecated in 1.7.0.\")\n"
     ]
    },
    {
     "name": "stdout",
     "output_type": "stream",
     "text": [
      "[flaml.automl.automl: 02-24 00:57:38] {3508} INFO -  at 6.8s,\testimator xgb_limitdepth's best error=0.1333,\tbest estimator lgbm's best error=0.0333\n",
      "[flaml.automl.automl: 02-24 00:57:38] {3323} INFO - iteration 69, current learner lgbm\n",
      "[flaml.automl.automl: 02-24 00:57:38] {3508} INFO -  at 7.0s,\testimator lgbm's best error=0.0333,\tbest estimator lgbm's best error=0.0333\n",
      "[flaml.automl.automl: 02-24 00:57:38] {3323} INFO - iteration 70, current learner xgb_limitdepth\n",
      "[flaml.automl.automl: 02-24 00:57:38] {3508} INFO -  at 7.1s,\testimator xgb_limitdepth's best error=0.0833,\tbest estimator lgbm's best error=0.0333\n",
      "[flaml.automl.automl: 02-24 00:57:38] {3323} INFO - iteration 71, current learner xgb_limitdepth\n"
     ]
    },
    {
     "name": "stderr",
     "output_type": "stream",
     "text": [
      "C:\\ProgramData\\Anaconda3\\lib\\site-packages\\xgboost\\sklearn.py:1395: UserWarning: `use_label_encoder` is deprecated in 1.7.0.\n",
      "  warnings.warn(\"`use_label_encoder` is deprecated in 1.7.0.\")\n",
      "C:\\ProgramData\\Anaconda3\\lib\\site-packages\\xgboost\\sklearn.py:1395: UserWarning: `use_label_encoder` is deprecated in 1.7.0.\n",
      "  warnings.warn(\"`use_label_encoder` is deprecated in 1.7.0.\")\n"
     ]
    },
    {
     "name": "stdout",
     "output_type": "stream",
     "text": [
      "[flaml.automl.automl: 02-24 00:57:38] {3508} INFO -  at 7.2s,\testimator xgb_limitdepth's best error=0.0833,\tbest estimator lgbm's best error=0.0333\n",
      "[flaml.automl.automl: 02-24 00:57:38] {3323} INFO - iteration 72, current learner xgb_limitdepth\n",
      "[flaml.automl.automl: 02-24 00:57:38] {3508} INFO -  at 7.4s,\testimator xgb_limitdepth's best error=0.0833,\tbest estimator lgbm's best error=0.0333\n",
      "[flaml.automl.automl: 02-24 00:57:38] {3323} INFO - iteration 73, current learner xgb_limitdepth\n"
     ]
    },
    {
     "name": "stderr",
     "output_type": "stream",
     "text": [
      "C:\\ProgramData\\Anaconda3\\lib\\site-packages\\xgboost\\sklearn.py:1395: UserWarning: `use_label_encoder` is deprecated in 1.7.0.\n",
      "  warnings.warn(\"`use_label_encoder` is deprecated in 1.7.0.\")\n",
      "C:\\ProgramData\\Anaconda3\\lib\\site-packages\\xgboost\\sklearn.py:1395: UserWarning: `use_label_encoder` is deprecated in 1.7.0.\n",
      "  warnings.warn(\"`use_label_encoder` is deprecated in 1.7.0.\")\n"
     ]
    },
    {
     "name": "stdout",
     "output_type": "stream",
     "text": [
      "[flaml.automl.automl: 02-24 00:57:38] {3508} INFO -  at 7.5s,\testimator xgb_limitdepth's best error=0.0833,\tbest estimator lgbm's best error=0.0333\n",
      "[flaml.automl.automl: 02-24 00:57:38] {3323} INFO - iteration 74, current learner xgb_limitdepth\n",
      "[flaml.automl.automl: 02-24 00:57:38] {3508} INFO -  at 7.6s,\testimator xgb_limitdepth's best error=0.0833,\tbest estimator lgbm's best error=0.0333\n",
      "[flaml.automl.automl: 02-24 00:57:38] {3323} INFO - iteration 75, current learner xgb_limitdepth\n"
     ]
    },
    {
     "name": "stderr",
     "output_type": "stream",
     "text": [
      "C:\\ProgramData\\Anaconda3\\lib\\site-packages\\xgboost\\sklearn.py:1395: UserWarning: `use_label_encoder` is deprecated in 1.7.0.\n",
      "  warnings.warn(\"`use_label_encoder` is deprecated in 1.7.0.\")\n",
      "C:\\ProgramData\\Anaconda3\\lib\\site-packages\\xgboost\\sklearn.py:1395: UserWarning: `use_label_encoder` is deprecated in 1.7.0.\n",
      "  warnings.warn(\"`use_label_encoder` is deprecated in 1.7.0.\")\n"
     ]
    },
    {
     "name": "stdout",
     "output_type": "stream",
     "text": [
      "[flaml.automl.automl: 02-24 00:57:39] {3508} INFO -  at 7.7s,\testimator xgb_limitdepth's best error=0.0667,\tbest estimator lgbm's best error=0.0333\n",
      "[flaml.automl.automl: 02-24 00:57:39] {3323} INFO - iteration 76, current learner lgbm\n",
      "[flaml.automl.automl: 02-24 00:57:39] {3508} INFO -  at 7.9s,\testimator lgbm's best error=0.0333,\tbest estimator lgbm's best error=0.0333\n",
      "[flaml.automl.automl: 02-24 00:57:39] {3323} INFO - iteration 77, current learner lgbm\n",
      "[flaml.automl.automl: 02-24 00:57:39] {3508} INFO -  at 8.1s,\testimator lgbm's best error=0.0333,\tbest estimator lgbm's best error=0.0333\n",
      "[flaml.automl.automl: 02-24 00:57:39] {3323} INFO - iteration 78, current learner xgb_limitdepth\n",
      "[flaml.automl.automl: 02-24 00:57:39] {3508} INFO -  at 8.3s,\testimator xgb_limitdepth's best error=0.0667,\tbest estimator lgbm's best error=0.0333\n",
      "[flaml.automl.automl: 02-24 00:57:39] {3323} INFO - iteration 79, current learner xgboost\n"
     ]
    },
    {
     "name": "stderr",
     "output_type": "stream",
     "text": [
      "C:\\ProgramData\\Anaconda3\\lib\\site-packages\\xgboost\\sklearn.py:1395: UserWarning: `use_label_encoder` is deprecated in 1.7.0.\n",
      "  warnings.warn(\"`use_label_encoder` is deprecated in 1.7.0.\")\n",
      "C:\\ProgramData\\Anaconda3\\lib\\site-packages\\xgboost\\sklearn.py:1395: UserWarning: `use_label_encoder` is deprecated in 1.7.0.\n",
      "  warnings.warn(\"`use_label_encoder` is deprecated in 1.7.0.\")\n"
     ]
    },
    {
     "name": "stdout",
     "output_type": "stream",
     "text": [
      "[flaml.automl.automl: 02-24 00:57:39] {3508} INFO -  at 8.4s,\testimator xgboost's best error=0.1333,\tbest estimator lgbm's best error=0.0333\n",
      "[flaml.automl.automl: 02-24 00:57:39] {3323} INFO - iteration 80, current learner lgbm\n",
      "[flaml.automl.automl: 02-24 00:57:39] {3508} INFO -  at 8.5s,\testimator lgbm's best error=0.0333,\tbest estimator lgbm's best error=0.0333\n",
      "[flaml.automl.automl: 02-24 00:57:39] {3323} INFO - iteration 81, current learner xgb_limitdepth\n",
      "[flaml.automl.automl: 02-24 00:57:40] {3508} INFO -  at 8.7s,\testimator xgb_limitdepth's best error=0.0667,\tbest estimator lgbm's best error=0.0333\n",
      "[flaml.automl.automl: 02-24 00:57:40] {3323} INFO - iteration 82, current learner rf\n"
     ]
    },
    {
     "name": "stderr",
     "output_type": "stream",
     "text": [
      "C:\\ProgramData\\Anaconda3\\lib\\site-packages\\xgboost\\sklearn.py:1395: UserWarning: `use_label_encoder` is deprecated in 1.7.0.\n",
      "  warnings.warn(\"`use_label_encoder` is deprecated in 1.7.0.\")\n"
     ]
    },
    {
     "name": "stdout",
     "output_type": "stream",
     "text": [
      "[flaml.automl.automl: 02-24 00:57:40] {3508} INFO -  at 8.8s,\testimator rf's best error=0.2333,\tbest estimator lgbm's best error=0.0333\n",
      "[flaml.automl.automl: 02-24 00:57:40] {3323} INFO - iteration 83, current learner extra_tree\n",
      "[flaml.automl.automl: 02-24 00:57:40] {3508} INFO -  at 8.8s,\testimator extra_tree's best error=0.1833,\tbest estimator lgbm's best error=0.0333\n",
      "[flaml.automl.automl: 02-24 00:57:40] {3323} INFO - iteration 84, current learner extra_tree\n",
      "[flaml.automl.automl: 02-24 00:57:40] {3508} INFO -  at 8.9s,\testimator extra_tree's best error=0.1833,\tbest estimator lgbm's best error=0.0333\n",
      "[flaml.automl.automl: 02-24 00:57:40] {3323} INFO - iteration 85, current learner xgb_limitdepth\n",
      "[flaml.automl.automl: 02-24 00:57:40] {3508} INFO -  at 9.0s,\testimator xgb_limitdepth's best error=0.0667,\tbest estimator lgbm's best error=0.0333\n",
      "[flaml.automl.automl: 02-24 00:57:40] {3323} INFO - iteration 86, current learner rf\n",
      "[flaml.automl.automl: 02-24 00:57:40] {3508} INFO -  at 9.0s,\testimator rf's best error=0.2333,\tbest estimator lgbm's best error=0.0333\n",
      "[flaml.automl.automl: 02-24 00:57:40] {3323} INFO - iteration 87, current learner extra_tree\n"
     ]
    },
    {
     "name": "stderr",
     "output_type": "stream",
     "text": [
      "C:\\ProgramData\\Anaconda3\\lib\\site-packages\\xgboost\\sklearn.py:1395: UserWarning: `use_label_encoder` is deprecated in 1.7.0.\n",
      "  warnings.warn(\"`use_label_encoder` is deprecated in 1.7.0.\")\n"
     ]
    },
    {
     "name": "stdout",
     "output_type": "stream",
     "text": [
      "[flaml.automl.automl: 02-24 00:57:40] {3508} INFO -  at 9.1s,\testimator extra_tree's best error=0.1833,\tbest estimator lgbm's best error=0.0333\n",
      "[flaml.automl.automl: 02-24 00:57:40] {3323} INFO - iteration 88, current learner rf\n",
      "[flaml.automl.automl: 02-24 00:57:40] {3508} INFO -  at 9.2s,\testimator rf's best error=0.1667,\tbest estimator lgbm's best error=0.0333\n",
      "[flaml.automl.automl: 02-24 00:57:40] {3323} INFO - iteration 89, current learner rf\n",
      "[flaml.automl.automl: 02-24 00:57:40] {3508} INFO -  at 9.2s,\testimator rf's best error=0.1500,\tbest estimator lgbm's best error=0.0333\n",
      "[flaml.automl.automl: 02-24 00:57:40] {3323} INFO - iteration 90, current learner xgb_limitdepth\n",
      "[flaml.automl.automl: 02-24 00:57:40] {3508} INFO -  at 9.4s,\testimator xgb_limitdepth's best error=0.0667,\tbest estimator lgbm's best error=0.0333\n",
      "[flaml.automl.automl: 02-24 00:57:40] {3323} INFO - iteration 91, current learner rf\n"
     ]
    },
    {
     "name": "stderr",
     "output_type": "stream",
     "text": [
      "C:\\ProgramData\\Anaconda3\\lib\\site-packages\\xgboost\\sklearn.py:1395: UserWarning: `use_label_encoder` is deprecated in 1.7.0.\n",
      "  warnings.warn(\"`use_label_encoder` is deprecated in 1.7.0.\")\n"
     ]
    },
    {
     "name": "stdout",
     "output_type": "stream",
     "text": [
      "[flaml.automl.automl: 02-24 00:57:40] {3508} INFO -  at 9.5s,\testimator rf's best error=0.1500,\tbest estimator lgbm's best error=0.0333\n",
      "[flaml.automl.automl: 02-24 00:57:40] {3323} INFO - iteration 92, current learner xgb_limitdepth\n",
      "[flaml.automl.automl: 02-24 00:57:40] {3508} INFO -  at 9.6s,\testimator xgb_limitdepth's best error=0.0667,\tbest estimator lgbm's best error=0.0333\n",
      "[flaml.automl.automl: 02-24 00:57:40] {3323} INFO - iteration 93, current learner extra_tree\n",
      "[flaml.automl.automl: 02-24 00:57:40] {3508} INFO -  at 9.6s,\testimator extra_tree's best error=0.1833,\tbest estimator lgbm's best error=0.0333\n"
     ]
    },
    {
     "name": "stderr",
     "output_type": "stream",
     "text": [
      "C:\\ProgramData\\Anaconda3\\lib\\site-packages\\xgboost\\sklearn.py:1395: UserWarning: `use_label_encoder` is deprecated in 1.7.0.\n",
      "  warnings.warn(\"`use_label_encoder` is deprecated in 1.7.0.\")\n"
     ]
    },
    {
     "name": "stdout",
     "output_type": "stream",
     "text": [
      "[flaml.automl.automl: 02-24 00:57:40] {3323} INFO - iteration 94, current learner xgboost\n",
      "[flaml.automl.automl: 02-24 00:57:41] {3508} INFO -  at 9.8s,\testimator xgboost's best error=0.1333,\tbest estimator lgbm's best error=0.0333\n",
      "[flaml.automl.automl: 02-24 00:57:41] {3323} INFO - iteration 95, current learner lgbm\n"
     ]
    },
    {
     "name": "stderr",
     "output_type": "stream",
     "text": [
      "C:\\ProgramData\\Anaconda3\\lib\\site-packages\\xgboost\\sklearn.py:1395: UserWarning: `use_label_encoder` is deprecated in 1.7.0.\n",
      "  warnings.warn(\"`use_label_encoder` is deprecated in 1.7.0.\")\n"
     ]
    },
    {
     "name": "stdout",
     "output_type": "stream",
     "text": [
      "[flaml.automl.automl: 02-24 00:57:41] {3508} INFO -  at 10.0s,\testimator lgbm's best error=0.0333,\tbest estimator lgbm's best error=0.0333\n",
      "[flaml.automl.automl: 02-24 00:57:41] {3323} INFO - iteration 96, current learner xgb_limitdepth\n",
      "[flaml.automl.automl: 02-24 00:57:41] {3508} INFO -  at 10.1s,\testimator xgb_limitdepth's best error=0.0667,\tbest estimator lgbm's best error=0.0333\n",
      "[flaml.automl.automl: 02-24 00:57:41] {3323} INFO - iteration 97, current learner rf\n",
      "[flaml.automl.automl: 02-24 00:57:41] {3508} INFO -  at 10.2s,\testimator rf's best error=0.1000,\tbest estimator lgbm's best error=0.0333\n",
      "[flaml.automl.automl: 02-24 00:57:41] {3323} INFO - iteration 98, current learner rf\n"
     ]
    },
    {
     "name": "stderr",
     "output_type": "stream",
     "text": [
      "C:\\ProgramData\\Anaconda3\\lib\\site-packages\\xgboost\\sklearn.py:1395: UserWarning: `use_label_encoder` is deprecated in 1.7.0.\n",
      "  warnings.warn(\"`use_label_encoder` is deprecated in 1.7.0.\")\n"
     ]
    },
    {
     "name": "stdout",
     "output_type": "stream",
     "text": [
      "[flaml.automl.automl: 02-24 00:57:41] {3508} INFO -  at 10.3s,\testimator rf's best error=0.1000,\tbest estimator lgbm's best error=0.0333\n",
      "[flaml.automl.automl: 02-24 00:57:41] {3323} INFO - iteration 99, current learner rf\n",
      "[flaml.automl.automl: 02-24 00:57:41] {3508} INFO -  at 10.3s,\testimator rf's best error=0.1000,\tbest estimator lgbm's best error=0.0333\n",
      "[flaml.automl.automl: 02-24 00:57:41] {3323} INFO - iteration 100, current learner rf\n",
      "[flaml.automl.automl: 02-24 00:57:41] {3508} INFO -  at 10.4s,\testimator rf's best error=0.1000,\tbest estimator lgbm's best error=0.0333\n",
      "[flaml.automl.automl: 02-24 00:57:41] {3323} INFO - iteration 101, current learner extra_tree\n",
      "[flaml.automl.automl: 02-24 00:57:41] {3508} INFO -  at 10.5s,\testimator extra_tree's best error=0.1833,\tbest estimator lgbm's best error=0.0333\n",
      "[flaml.automl.automl: 02-24 00:57:41] {3323} INFO - iteration 102, current learner rf\n",
      "[flaml.automl.automl: 02-24 00:57:41] {3508} INFO -  at 10.5s,\testimator rf's best error=0.0833,\tbest estimator lgbm's best error=0.0333\n",
      "[flaml.automl.automl: 02-24 00:57:41] {3323} INFO - iteration 103, current learner lgbm\n",
      "[flaml.automl.automl: 02-24 00:57:42] {3508} INFO -  at 10.7s,\testimator lgbm's best error=0.0333,\tbest estimator lgbm's best error=0.0333\n",
      "[flaml.automl.automl: 02-24 00:57:42] {3323} INFO - iteration 104, current learner rf\n",
      "[flaml.automl.automl: 02-24 00:57:42] {3508} INFO -  at 10.8s,\testimator rf's best error=0.0833,\tbest estimator lgbm's best error=0.0333\n",
      "[flaml.automl.automl: 02-24 00:57:42] {3323} INFO - iteration 105, current learner rf\n",
      "[flaml.automl.automl: 02-24 00:57:42] {3508} INFO -  at 10.9s,\testimator rf's best error=0.0833,\tbest estimator lgbm's best error=0.0333\n",
      "[flaml.automl.automl: 02-24 00:57:42] {3323} INFO - iteration 106, current learner rf\n",
      "[flaml.automl.automl: 02-24 00:57:42] {3508} INFO -  at 10.9s,\testimator rf's best error=0.0833,\tbest estimator lgbm's best error=0.0333\n",
      "[flaml.automl.automl: 02-24 00:57:42] {3323} INFO - iteration 107, current learner xgb_limitdepth\n"
     ]
    },
    {
     "name": "stderr",
     "output_type": "stream",
     "text": [
      "C:\\ProgramData\\Anaconda3\\lib\\site-packages\\xgboost\\sklearn.py:1395: UserWarning: `use_label_encoder` is deprecated in 1.7.0.\n",
      "  warnings.warn(\"`use_label_encoder` is deprecated in 1.7.0.\")\n"
     ]
    },
    {
     "name": "stdout",
     "output_type": "stream",
     "text": [
      "[flaml.automl.automl: 02-24 00:57:42] {3508} INFO -  at 11.2s,\testimator xgb_limitdepth's best error=0.0667,\tbest estimator lgbm's best error=0.0333\n",
      "[flaml.automl.automl: 02-24 00:57:42] {3323} INFO - iteration 108, current learner rf\n",
      "[flaml.automl.automl: 02-24 00:57:42] {3508} INFO -  at 11.3s,\testimator rf's best error=0.0833,\tbest estimator lgbm's best error=0.0333\n",
      "[flaml.automl.automl: 02-24 00:57:42] {3323} INFO - iteration 109, current learner xgb_limitdepth\n",
      "[flaml.automl.automl: 02-24 00:57:42] {3508} INFO -  at 11.4s,\testimator xgb_limitdepth's best error=0.0667,\tbest estimator lgbm's best error=0.0333\n",
      "[flaml.automl.automl: 02-24 00:57:42] {3323} INFO - iteration 110, current learner extra_tree\n",
      "[flaml.automl.automl: 02-24 00:57:42] {3508} INFO -  at 11.4s,\testimator extra_tree's best error=0.1500,\tbest estimator lgbm's best error=0.0333\n",
      "[flaml.automl.automl: 02-24 00:57:42] {3323} INFO - iteration 111, current learner lgbm\n"
     ]
    },
    {
     "name": "stderr",
     "output_type": "stream",
     "text": [
      "C:\\ProgramData\\Anaconda3\\lib\\site-packages\\xgboost\\sklearn.py:1395: UserWarning: `use_label_encoder` is deprecated in 1.7.0.\n",
      "  warnings.warn(\"`use_label_encoder` is deprecated in 1.7.0.\")\n"
     ]
    },
    {
     "name": "stdout",
     "output_type": "stream",
     "text": [
      "[flaml.automl.automl: 02-24 00:57:42] {3508} INFO -  at 11.6s,\testimator lgbm's best error=0.0333,\tbest estimator lgbm's best error=0.0333\n",
      "[flaml.automl.automl: 02-24 00:57:42] {3323} INFO - iteration 112, current learner xgb_limitdepth\n",
      "[flaml.automl.automl: 02-24 00:57:43] {3508} INFO -  at 11.8s,\testimator xgb_limitdepth's best error=0.0667,\tbest estimator lgbm's best error=0.0333\n",
      "[flaml.automl.automl: 02-24 00:57:43] {3323} INFO - iteration 113, current learner extra_tree\n",
      "[flaml.automl.automl: 02-24 00:57:43] {3508} INFO -  at 11.8s,\testimator extra_tree's best error=0.1500,\tbest estimator lgbm's best error=0.0333\n"
     ]
    },
    {
     "name": "stderr",
     "output_type": "stream",
     "text": [
      "C:\\ProgramData\\Anaconda3\\lib\\site-packages\\xgboost\\sklearn.py:1395: UserWarning: `use_label_encoder` is deprecated in 1.7.0.\n",
      "  warnings.warn(\"`use_label_encoder` is deprecated in 1.7.0.\")\n"
     ]
    },
    {
     "name": "stdout",
     "output_type": "stream",
     "text": [
      "[flaml.automl.automl: 02-24 00:57:43] {3323} INFO - iteration 114, current learner xgb_limitdepth\n",
      "[flaml.automl.automl: 02-24 00:57:43] {3508} INFO -  at 11.9s,\testimator xgb_limitdepth's best error=0.0667,\tbest estimator lgbm's best error=0.0333\n",
      "[flaml.automl.automl: 02-24 00:57:43] {3323} INFO - iteration 115, current learner rf\n",
      "[flaml.automl.automl: 02-24 00:57:43] {3508} INFO -  at 12.0s,\testimator rf's best error=0.0833,\tbest estimator lgbm's best error=0.0333\n",
      "[flaml.automl.automl: 02-24 00:57:43] {3323} INFO - iteration 116, current learner lgbm\n"
     ]
    },
    {
     "name": "stderr",
     "output_type": "stream",
     "text": [
      "C:\\ProgramData\\Anaconda3\\lib\\site-packages\\xgboost\\sklearn.py:1395: UserWarning: `use_label_encoder` is deprecated in 1.7.0.\n",
      "  warnings.warn(\"`use_label_encoder` is deprecated in 1.7.0.\")\n"
     ]
    },
    {
     "name": "stdout",
     "output_type": "stream",
     "text": [
      "[flaml.automl.automl: 02-24 00:57:43] {3508} INFO -  at 12.4s,\testimator lgbm's best error=0.0333,\tbest estimator lgbm's best error=0.0333\n",
      "[flaml.automl.automl: 02-24 00:57:43] {3323} INFO - iteration 117, current learner xgb_limitdepth\n"
     ]
    },
    {
     "name": "stderr",
     "output_type": "stream",
     "text": [
      "C:\\ProgramData\\Anaconda3\\lib\\site-packages\\xgboost\\sklearn.py:1395: UserWarning: `use_label_encoder` is deprecated in 1.7.0.\n",
      "  warnings.warn(\"`use_label_encoder` is deprecated in 1.7.0.\")\n"
     ]
    },
    {
     "name": "stdout",
     "output_type": "stream",
     "text": [
      "[flaml.automl.automl: 02-24 00:57:44] {3508} INFO -  at 12.7s,\testimator xgb_limitdepth's best error=0.0667,\tbest estimator lgbm's best error=0.0333\n",
      "[flaml.automl.automl: 02-24 00:57:44] {3323} INFO - iteration 118, current learner extra_tree\n",
      "[flaml.automl.automl: 02-24 00:57:44] {3508} INFO -  at 12.7s,\testimator extra_tree's best error=0.1500,\tbest estimator lgbm's best error=0.0333\n",
      "[flaml.automl.automl: 02-24 00:57:44] {3323} INFO - iteration 119, current learner lgbm\n",
      "[flaml.automl.automl: 02-24 00:57:44] {3508} INFO -  at 12.8s,\testimator lgbm's best error=0.0333,\tbest estimator lgbm's best error=0.0333\n",
      "[flaml.automl.automl: 02-24 00:57:44] {3323} INFO - iteration 120, current learner extra_tree\n",
      "[flaml.automl.automl: 02-24 00:57:44] {3508} INFO -  at 12.8s,\testimator extra_tree's best error=0.1500,\tbest estimator lgbm's best error=0.0333\n",
      "[flaml.automl.automl: 02-24 00:57:44] {3323} INFO - iteration 121, current learner extra_tree\n",
      "[flaml.automl.automl: 02-24 00:57:44] {3508} INFO -  at 12.9s,\testimator extra_tree's best error=0.1500,\tbest estimator lgbm's best error=0.0333\n",
      "[flaml.automl.automl: 02-24 00:57:44] {3323} INFO - iteration 122, current learner xgb_limitdepth\n",
      "[flaml.automl.automl: 02-24 00:57:44] {3508} INFO -  at 13.0s,\testimator xgb_limitdepth's best error=0.0667,\tbest estimator lgbm's best error=0.0333\n",
      "[flaml.automl.automl: 02-24 00:57:44] {3323} INFO - iteration 123, current learner extra_tree\n",
      "[flaml.automl.automl: 02-24 00:57:44] {3508} INFO -  at 13.0s,\testimator extra_tree's best error=0.1500,\tbest estimator lgbm's best error=0.0333\n",
      "[flaml.automl.automl: 02-24 00:57:44] {3323} INFO - iteration 124, current learner lgbm\n"
     ]
    },
    {
     "name": "stderr",
     "output_type": "stream",
     "text": [
      "C:\\ProgramData\\Anaconda3\\lib\\site-packages\\xgboost\\sklearn.py:1395: UserWarning: `use_label_encoder` is deprecated in 1.7.0.\n",
      "  warnings.warn(\"`use_label_encoder` is deprecated in 1.7.0.\")\n"
     ]
    },
    {
     "name": "stdout",
     "output_type": "stream",
     "text": [
      "[flaml.automl.automl: 02-24 00:57:44] {3508} INFO -  at 13.3s,\testimator lgbm's best error=0.0333,\tbest estimator lgbm's best error=0.0333\n",
      "[flaml.automl.automl: 02-24 00:57:44] {3323} INFO - iteration 125, current learner lgbm\n",
      "[flaml.automl.automl: 02-24 00:57:44] {3508} INFO -  at 13.4s,\testimator lgbm's best error=0.0333,\tbest estimator lgbm's best error=0.0333\n",
      "[flaml.automl.automl: 02-24 00:57:44] {3323} INFO - iteration 126, current learner lgbm\n",
      "[flaml.automl.automl: 02-24 00:57:45] {3508} INFO -  at 13.7s,\testimator lgbm's best error=0.0333,\tbest estimator lgbm's best error=0.0333\n",
      "[flaml.automl.automl: 02-24 00:57:45] {3323} INFO - iteration 127, current learner lgbm\n",
      "[flaml.automl.automl: 02-24 00:57:45] {3508} INFO -  at 13.8s,\testimator lgbm's best error=0.0333,\tbest estimator lgbm's best error=0.0333\n",
      "[flaml.automl.automl: 02-24 00:57:45] {3323} INFO - iteration 128, current learner rf\n",
      "[flaml.automl.automl: 02-24 00:57:45] {3508} INFO -  at 13.9s,\testimator rf's best error=0.0833,\tbest estimator lgbm's best error=0.0333\n",
      "[flaml.automl.automl: 02-24 00:57:45] {3323} INFO - iteration 129, current learner extra_tree\n",
      "[flaml.automl.automl: 02-24 00:57:45] {3508} INFO -  at 13.9s,\testimator extra_tree's best error=0.1500,\tbest estimator lgbm's best error=0.0333\n",
      "[flaml.automl.automl: 02-24 00:57:45] {3323} INFO - iteration 130, current learner extra_tree\n",
      "[flaml.automl.automl: 02-24 00:57:45] {3508} INFO -  at 14.0s,\testimator extra_tree's best error=0.1500,\tbest estimator lgbm's best error=0.0333\n",
      "[flaml.automl.automl: 02-24 00:57:45] {3323} INFO - iteration 131, current learner extra_tree\n",
      "[flaml.automl.automl: 02-24 00:57:45] {3508} INFO -  at 14.0s,\testimator extra_tree's best error=0.1500,\tbest estimator lgbm's best error=0.0333\n",
      "[flaml.automl.automl: 02-24 00:57:45] {3323} INFO - iteration 132, current learner extra_tree\n",
      "[flaml.automl.automl: 02-24 00:57:45] {3508} INFO -  at 14.1s,\testimator extra_tree's best error=0.1500,\tbest estimator lgbm's best error=0.0333\n",
      "[flaml.automl.automl: 02-24 00:57:45] {3323} INFO - iteration 133, current learner lgbm\n",
      "[flaml.automl.automl: 02-24 00:57:45] {3508} INFO -  at 14.2s,\testimator lgbm's best error=0.0333,\tbest estimator lgbm's best error=0.0333\n",
      "[flaml.automl.automl: 02-24 00:57:45] {3323} INFO - iteration 134, current learner rf\n",
      "[flaml.automl.automl: 02-24 00:57:45] {3508} INFO -  at 14.2s,\testimator rf's best error=0.0833,\tbest estimator lgbm's best error=0.0333\n",
      "[flaml.automl.automl: 02-24 00:57:45] {3323} INFO - iteration 135, current learner extra_tree\n",
      "[flaml.automl.automl: 02-24 00:57:45] {3508} INFO -  at 14.2s,\testimator extra_tree's best error=0.1500,\tbest estimator lgbm's best error=0.0333\n",
      "[flaml.automl.automl: 02-24 00:57:45] {3323} INFO - iteration 136, current learner xgb_limitdepth\n"
     ]
    },
    {
     "name": "stderr",
     "output_type": "stream",
     "text": [
      "C:\\ProgramData\\Anaconda3\\lib\\site-packages\\xgboost\\sklearn.py:1395: UserWarning: `use_label_encoder` is deprecated in 1.7.0.\n",
      "  warnings.warn(\"`use_label_encoder` is deprecated in 1.7.0.\")\n"
     ]
    },
    {
     "name": "stdout",
     "output_type": "stream",
     "text": [
      "[flaml.automl.automl: 02-24 00:57:45] {3508} INFO -  at 14.5s,\testimator xgb_limitdepth's best error=0.0667,\tbest estimator lgbm's best error=0.0333\n",
      "[flaml.automl.automl: 02-24 00:57:45] {3323} INFO - iteration 137, current learner xgboost\n"
     ]
    },
    {
     "name": "stderr",
     "output_type": "stream",
     "text": [
      "C:\\ProgramData\\Anaconda3\\lib\\site-packages\\xgboost\\sklearn.py:1395: UserWarning: `use_label_encoder` is deprecated in 1.7.0.\n",
      "  warnings.warn(\"`use_label_encoder` is deprecated in 1.7.0.\")\n"
     ]
    },
    {
     "name": "stdout",
     "output_type": "stream",
     "text": [
      "[flaml.automl.automl: 02-24 00:57:46] {3508} INFO -  at 14.7s,\testimator xgboost's best error=0.1333,\tbest estimator lgbm's best error=0.0333\n",
      "[flaml.automl.automl: 02-24 00:57:46] {3323} INFO - iteration 138, current learner lgbm\n",
      "[flaml.automl.automl: 02-24 00:57:46] {3508} INFO -  at 15.0s,\testimator lgbm's best error=0.0333,\tbest estimator lgbm's best error=0.0333\n",
      "[flaml.automl.automl: 02-24 00:57:46] {3772} INFO - retrain lgbm for 0.2s\n",
      "[flaml.automl.automl: 02-24 00:57:46] {3779} INFO - retrained model: LGBMClassifier(colsample_bytree=0.763007791741338,\n",
      "               learning_rate=0.16645809713264254, max_bin=1023,\n",
      "               min_child_samples=6, n_estimators=27, num_leaves=9,\n",
      "               reg_alpha=0.0009765625, reg_lambda=0.10626868868028042,\n",
      "               verbose=-1)\n",
      "[flaml.automl.automl: 02-24 00:57:46] {3024} INFO - fit succeeded\n",
      "[flaml.automl.automl: 02-24 00:57:46] {3025} INFO - Time taken to find the best model: 1.2627513408660889\n"
     ]
    }
   ],
   "source": [
    "from flaml import AutoML\n",
    "automl = AutoML()\n",
    "\n",
    "settings = {\n",
    "    \"time_budget\": 15,  # seconds\n",
    "    \"metric\": 'accuracy', # metric used for the evaluation\n",
    "    \"task\": 'classification', # type of the task\n",
    "    \"log_file_name\": \"./penguins.log\", # location of the log\n",
    "}\n",
    "\n",
    "automl.fit(X_train=X_train, y_train=y_train,\n",
    "           **settings)"
   ]
  },
  {
   "cell_type": "code",
   "execution_count": 6,
   "metadata": {},
   "outputs": [
    {
     "data": {
      "text/html": [
       "<style>#sk-container-id-1 {color: black;background-color: white;}#sk-container-id-1 pre{padding: 0;}#sk-container-id-1 div.sk-toggleable {background-color: white;}#sk-container-id-1 label.sk-toggleable__label {cursor: pointer;display: block;width: 100%;margin-bottom: 0;padding: 0.3em;box-sizing: border-box;text-align: center;}#sk-container-id-1 label.sk-toggleable__label-arrow:before {content: \"▸\";float: left;margin-right: 0.25em;color: #696969;}#sk-container-id-1 label.sk-toggleable__label-arrow:hover:before {color: black;}#sk-container-id-1 div.sk-estimator:hover label.sk-toggleable__label-arrow:before {color: black;}#sk-container-id-1 div.sk-toggleable__content {max-height: 0;max-width: 0;overflow: hidden;text-align: left;background-color: #f0f8ff;}#sk-container-id-1 div.sk-toggleable__content pre {margin: 0.2em;color: black;border-radius: 0.25em;background-color: #f0f8ff;}#sk-container-id-1 input.sk-toggleable__control:checked~div.sk-toggleable__content {max-height: 200px;max-width: 100%;overflow: auto;}#sk-container-id-1 input.sk-toggleable__control:checked~label.sk-toggleable__label-arrow:before {content: \"▾\";}#sk-container-id-1 div.sk-estimator input.sk-toggleable__control:checked~label.sk-toggleable__label {background-color: #d4ebff;}#sk-container-id-1 div.sk-label input.sk-toggleable__control:checked~label.sk-toggleable__label {background-color: #d4ebff;}#sk-container-id-1 input.sk-hidden--visually {border: 0;clip: rect(1px 1px 1px 1px);clip: rect(1px, 1px, 1px, 1px);height: 1px;margin: -1px;overflow: hidden;padding: 0;position: absolute;width: 1px;}#sk-container-id-1 div.sk-estimator {font-family: monospace;background-color: #f0f8ff;border: 1px dotted black;border-radius: 0.25em;box-sizing: border-box;margin-bottom: 0.5em;}#sk-container-id-1 div.sk-estimator:hover {background-color: #d4ebff;}#sk-container-id-1 div.sk-parallel-item::after {content: \"\";width: 100%;border-bottom: 1px solid gray;flex-grow: 1;}#sk-container-id-1 div.sk-label:hover label.sk-toggleable__label {background-color: #d4ebff;}#sk-container-id-1 div.sk-serial::before {content: \"\";position: absolute;border-left: 1px solid gray;box-sizing: border-box;top: 0;bottom: 0;left: 50%;z-index: 0;}#sk-container-id-1 div.sk-serial {display: flex;flex-direction: column;align-items: center;background-color: white;padding-right: 0.2em;padding-left: 0.2em;position: relative;}#sk-container-id-1 div.sk-item {position: relative;z-index: 1;}#sk-container-id-1 div.sk-parallel {display: flex;align-items: stretch;justify-content: center;background-color: white;position: relative;}#sk-container-id-1 div.sk-item::before, #sk-container-id-1 div.sk-parallel-item::before {content: \"\";position: absolute;border-left: 1px solid gray;box-sizing: border-box;top: 0;bottom: 0;left: 50%;z-index: -1;}#sk-container-id-1 div.sk-parallel-item {display: flex;flex-direction: column;z-index: 1;position: relative;background-color: white;}#sk-container-id-1 div.sk-parallel-item:first-child::after {align-self: flex-end;width: 50%;}#sk-container-id-1 div.sk-parallel-item:last-child::after {align-self: flex-start;width: 50%;}#sk-container-id-1 div.sk-parallel-item:only-child::after {width: 0;}#sk-container-id-1 div.sk-dashed-wrapped {border: 1px dashed gray;margin: 0 0.4em 0.5em 0.4em;box-sizing: border-box;padding-bottom: 0.4em;background-color: white;}#sk-container-id-1 div.sk-label label {font-family: monospace;font-weight: bold;display: inline-block;line-height: 1.2em;}#sk-container-id-1 div.sk-label-container {text-align: center;}#sk-container-id-1 div.sk-container {/* jupyter's `normalize.less` sets `[hidden] { display: none; }` but bootstrap.min.css set `[hidden] { display: none !important; }` so we also need the `!important` here to be able to override the default hidden behavior on the sphinx rendered scikit-learn.org. See: https://github.com/scikit-learn/scikit-learn/issues/21755 */display: inline-block !important;position: relative;}#sk-container-id-1 div.sk-text-repr-fallback {display: none;}</style><div id=\"sk-container-id-1\" class=\"sk-top-container\"><div class=\"sk-text-repr-fallback\"><pre>LGBMClassifier(colsample_bytree=0.763007791741338,\n",
       "               learning_rate=0.16645809713264254, max_bin=1023,\n",
       "               min_child_samples=6, n_estimators=27, num_leaves=9,\n",
       "               reg_alpha=0.0009765625, reg_lambda=0.10626868868028042,\n",
       "               verbose=-1)</pre><b>In a Jupyter environment, please rerun this cell to show the HTML representation or trust the notebook. <br />On GitHub, the HTML representation is unable to render, please try loading this page with nbviewer.org.</b></div><div class=\"sk-container\" hidden><div class=\"sk-item\"><div class=\"sk-estimator sk-toggleable\"><input class=\"sk-toggleable__control sk-hidden--visually\" id=\"sk-estimator-id-1\" type=\"checkbox\" checked><label for=\"sk-estimator-id-1\" class=\"sk-toggleable__label sk-toggleable__label-arrow\">LGBMClassifier</label><div class=\"sk-toggleable__content\"><pre>LGBMClassifier(colsample_bytree=0.763007791741338,\n",
       "               learning_rate=0.16645809713264254, max_bin=1023,\n",
       "               min_child_samples=6, n_estimators=27, num_leaves=9,\n",
       "               reg_alpha=0.0009765625, reg_lambda=0.10626868868028042,\n",
       "               verbose=-1)</pre></div></div></div></div></div>"
      ],
      "text/plain": [
       "LGBMClassifier(colsample_bytree=0.763007791741338,\n",
       "               learning_rate=0.16645809713264254, max_bin=1023,\n",
       "               min_child_samples=6, n_estimators=27, num_leaves=9,\n",
       "               reg_alpha=0.0009765625, reg_lambda=0.10626868868028042,\n",
       "               verbose=-1)"
      ]
     },
     "execution_count": 6,
     "metadata": {},
     "output_type": "execute_result"
    }
   ],
   "source": [
    "automl.model.estimator"
   ]
  },
  {
   "cell_type": "code",
   "execution_count": 8,
   "metadata": {},
   "outputs": [
    {
     "name": "stdout",
     "output_type": "stream",
     "text": [
      "Best ML leaner: lgbm\n",
      "Best hyperparmeter config: {'n_estimators': 27, 'num_leaves': 9, 'min_child_samples': 6, 'learning_rate': 0.16645809713264254, 'log_max_bin': 10, 'colsample_bytree': 0.763007791741338, 'reg_alpha': 0.0009765625, 'reg_lambda': 0.10626868868028042}\n",
      "Best accuracy on validation data: 0.9667\n",
      "Training duration of best run: 0.1887 s\n"
     ]
    }
   ],
   "source": [
    "'''retrieve best config and best learner'''\n",
    "print('Best ML leaner:', automl.best_estimator)\n",
    "print('Best hyperparmeter config:', automl.best_config)\n",
    "print('Best accuracy on validation data: {0:.4g}'.format(1-automl.best_loss))\n",
    "print('Training duration of best run: {0:.4g} s'.format(automl.best_config_train_time))"
   ]
  },
  {
   "cell_type": "code",
   "execution_count": 9,
   "metadata": {},
   "outputs": [
    {
     "data": {
      "text/plain": [
       "['lgbm', 'rf', 'xgboost', 'extra_tree', 'xgb_limitdepth', 'lrl1']"
      ]
     },
     "execution_count": 9,
     "metadata": {},
     "output_type": "execute_result"
    }
   ],
   "source": [
    "automl.estimator_list"
   ]
  },
  {
   "cell_type": "code",
   "execution_count": 13,
   "metadata": {},
   "outputs": [],
   "source": [
    "y_pred = automl.predict(X_test)\n"
   ]
  },
  {
   "cell_type": "code",
   "execution_count": 14,
   "metadata": {},
   "outputs": [],
   "source": [
    "from flaml.ml import sklearn_metric_loss_score\n"
   ]
  },
  {
   "cell_type": "code",
   "execution_count": 15,
   "metadata": {},
   "outputs": [
    {
     "name": "stdout",
     "output_type": "stream",
     "text": [
      "Accuracy on test data: 0.9224806201550387\n"
     ]
    }
   ],
   "source": [
    "test_accuracy = 1 - sklearn_metric_loss_score('accuracy', y_pred, y_test)\n",
    "print(f'Accuracy on test data: {test_accuracy}')"
   ]
  },
  {
   "cell_type": "code",
   "execution_count": 15,
   "metadata": {
    "scrolled": true
   },
   "outputs": [
    {
     "name": "stdout",
     "output_type": "stream",
     "text": [
      "[flaml.automl.automl: 02-19 13:22:37] {2716} INFO - task = classification\n",
      "[flaml.automl.automl: 02-19 13:22:37] {2718} INFO - Data split method: stratified\n",
      "[flaml.automl.automl: 02-19 13:22:37] {2721} INFO - Evaluation method: holdout\n",
      "[flaml.automl.automl: 02-19 13:22:37] {1312} INFO - class 0 augmented from 12 to 24\n",
      "[flaml.automl.automl: 02-19 13:22:37] {1312} INFO - class 3 augmented from 4 to 20\n",
      "[flaml.automl.automl: 02-19 13:22:37] {1312} INFO - class 5 augmented from 18 to 36\n",
      "[flaml.automl.automl: 02-19 13:22:37] {1312} INFO - class 6 augmented from 16 to 32\n",
      "[flaml.automl.automl: 02-19 13:22:37] {1312} INFO - class 7 augmented from 13 to 26\n",
      "[flaml.automl.automl: 02-19 13:22:37] {1312} INFO - class 8 augmented from 18 to 36\n",
      "[flaml.automl.automl: 02-19 13:22:37] {1312} INFO - class 10 augmented from 16 to 32\n",
      "[flaml.automl.automl: 02-19 13:22:37] {2848} INFO - Minimizing error metric: 1-accuracy\n",
      "[flaml.automl.automl: 02-19 13:22:37] {2994} INFO - List of ML learners in AutoML Run: ['lgbm']\n",
      "[flaml.automl.automl: 02-19 13:22:37] {3323} INFO - iteration 0, current learner lgbm\n",
      "[flaml.automl.automl: 02-19 13:22:37] {3461} INFO - Estimated sufficient time budget=447s. Estimated necessary time budget=0s.\n",
      "[flaml.automl.automl: 02-19 13:22:37] {3508} INFO -  at 0.1s,\testimator lgbm's best error=0.3000,\tbest estimator lgbm's best error=0.3000\n",
      "[flaml.automl.automl: 02-19 13:22:37] {3323} INFO - iteration 1, current learner lgbm\n",
      "[flaml.automl.automl: 02-19 13:22:37] {3508} INFO -  at 0.1s,\testimator lgbm's best error=0.3000,\tbest estimator lgbm's best error=0.3000\n",
      "[flaml.automl.automl: 02-19 13:22:37] {3323} INFO - iteration 2, current learner lgbm\n",
      "[flaml.automl.automl: 02-19 13:22:37] {3508} INFO -  at 0.1s,\testimator lgbm's best error=0.2000,\tbest estimator lgbm's best error=0.2000\n",
      "[flaml.automl.automl: 02-19 13:22:37] {3323} INFO - iteration 3, current learner lgbm\n",
      "[flaml.automl.automl: 02-19 13:22:37] {3508} INFO -  at 0.2s,\testimator lgbm's best error=0.1167,\tbest estimator lgbm's best error=0.1167\n",
      "[flaml.automl.automl: 02-19 13:22:37] {3323} INFO - iteration 4, current learner lgbm\n",
      "[flaml.automl.automl: 02-19 13:22:37] {3508} INFO -  at 0.2s,\testimator lgbm's best error=0.1167,\tbest estimator lgbm's best error=0.1167\n",
      "[flaml.automl.automl: 02-19 13:22:37] {3323} INFO - iteration 5, current learner lgbm\n",
      "[flaml.automl.automl: 02-19 13:22:37] {3508} INFO -  at 0.2s,\testimator lgbm's best error=0.1167,\tbest estimator lgbm's best error=0.1167\n",
      "[flaml.automl.automl: 02-19 13:22:37] {3323} INFO - iteration 6, current learner lgbm\n",
      "[flaml.automl.automl: 02-19 13:22:37] {3508} INFO -  at 0.3s,\testimator lgbm's best error=0.1167,\tbest estimator lgbm's best error=0.1167\n",
      "[flaml.automl.automl: 02-19 13:22:37] {3323} INFO - iteration 7, current learner lgbm\n",
      "[flaml.automl.automl: 02-19 13:22:37] {3508} INFO -  at 0.3s,\testimator lgbm's best error=0.1167,\tbest estimator lgbm's best error=0.1167\n",
      "[flaml.automl.automl: 02-19 13:22:37] {3323} INFO - iteration 8, current learner lgbm\n",
      "[flaml.automl.automl: 02-19 13:22:37] {3508} INFO -  at 0.3s,\testimator lgbm's best error=0.0833,\tbest estimator lgbm's best error=0.0833\n",
      "[flaml.automl.automl: 02-19 13:22:37] {3323} INFO - iteration 9, current learner lgbm\n",
      "[flaml.automl.automl: 02-19 13:22:37] {3508} INFO -  at 0.4s,\testimator lgbm's best error=0.0833,\tbest estimator lgbm's best error=0.0833\n",
      "[flaml.automl.automl: 02-19 13:22:37] {3323} INFO - iteration 10, current learner lgbm\n",
      "[flaml.automl.automl: 02-19 13:22:37] {3508} INFO -  at 0.5s,\testimator lgbm's best error=0.0333,\tbest estimator lgbm's best error=0.0333\n",
      "[flaml.automl.automl: 02-19 13:22:37] {3323} INFO - iteration 11, current learner lgbm\n",
      "[flaml.automl.automl: 02-19 13:22:37] {3508} INFO -  at 0.6s,\testimator lgbm's best error=0.0333,\tbest estimator lgbm's best error=0.0333\n",
      "[flaml.automl.automl: 02-19 13:22:38] {3323} INFO - iteration 12, current learner lgbm\n",
      "[flaml.automl.automl: 02-19 13:22:38] {3508} INFO -  at 0.7s,\testimator lgbm's best error=0.0333,\tbest estimator lgbm's best error=0.0333\n",
      "[flaml.automl.automl: 02-19 13:22:38] {3323} INFO - iteration 13, current learner lgbm\n",
      "[flaml.automl.automl: 02-19 13:22:38] {3508} INFO -  at 0.9s,\testimator lgbm's best error=0.0333,\tbest estimator lgbm's best error=0.0333\n",
      "[flaml.automl.automl: 02-19 13:22:38] {3323} INFO - iteration 14, current learner lgbm\n",
      "[flaml.automl.automl: 02-19 13:22:38] {3508} INFO -  at 1.0s,\testimator lgbm's best error=0.0333,\tbest estimator lgbm's best error=0.0333\n",
      "[flaml.automl.automl: 02-19 13:22:38] {3323} INFO - iteration 15, current learner lgbm\n",
      "[flaml.automl.automl: 02-19 13:22:38] {3508} INFO -  at 1.1s,\testimator lgbm's best error=0.0333,\tbest estimator lgbm's best error=0.0333\n",
      "[flaml.automl.automl: 02-19 13:22:38] {3323} INFO - iteration 16, current learner lgbm\n",
      "[flaml.automl.automl: 02-19 13:22:38] {3508} INFO -  at 1.2s,\testimator lgbm's best error=0.0333,\tbest estimator lgbm's best error=0.0333\n",
      "[flaml.automl.automl: 02-19 13:22:38] {3323} INFO - iteration 17, current learner lgbm\n",
      "[flaml.automl.automl: 02-19 13:22:38] {3508} INFO -  at 1.4s,\testimator lgbm's best error=0.0333,\tbest estimator lgbm's best error=0.0333\n",
      "[flaml.automl.automl: 02-19 13:22:38] {3323} INFO - iteration 18, current learner lgbm\n",
      "[flaml.automl.automl: 02-19 13:22:38] {3508} INFO -  at 1.5s,\testimator lgbm's best error=0.0333,\tbest estimator lgbm's best error=0.0333\n",
      "[flaml.automl.automl: 02-19 13:22:38] {3323} INFO - iteration 19, current learner lgbm\n",
      "[flaml.automl.automl: 02-19 13:22:38] {3508} INFO -  at 1.6s,\testimator lgbm's best error=0.0333,\tbest estimator lgbm's best error=0.0333\n",
      "[flaml.automl.automl: 02-19 13:22:38] {3323} INFO - iteration 20, current learner lgbm\n",
      "[flaml.automl.automl: 02-19 13:22:39] {3508} INFO -  at 1.8s,\testimator lgbm's best error=0.0333,\tbest estimator lgbm's best error=0.0333\n",
      "[flaml.automl.automl: 02-19 13:22:39] {3323} INFO - iteration 21, current learner lgbm\n",
      "[flaml.automl.automl: 02-19 13:22:39] {3508} INFO -  at 2.0s,\testimator lgbm's best error=0.0333,\tbest estimator lgbm's best error=0.0333\n",
      "[flaml.automl.automl: 02-19 13:22:39] {3323} INFO - iteration 22, current learner lgbm\n",
      "[flaml.automl.automl: 02-19 13:22:39] {3508} INFO -  at 2.1s,\testimator lgbm's best error=0.0333,\tbest estimator lgbm's best error=0.0333\n",
      "[flaml.automl.automl: 02-19 13:22:39] {3323} INFO - iteration 23, current learner lgbm\n",
      "[flaml.automl.automl: 02-19 13:22:39] {3508} INFO -  at 2.2s,\testimator lgbm's best error=0.0333,\tbest estimator lgbm's best error=0.0333\n",
      "[flaml.automl.automl: 02-19 13:22:39] {3323} INFO - iteration 24, current learner lgbm\n",
      "[flaml.automl.automl: 02-19 13:22:39] {3508} INFO -  at 2.3s,\testimator lgbm's best error=0.0333,\tbest estimator lgbm's best error=0.0333\n",
      "[flaml.automl.automl: 02-19 13:22:39] {3323} INFO - iteration 25, current learner lgbm\n",
      "[flaml.automl.automl: 02-19 13:22:39] {3508} INFO -  at 2.5s,\testimator lgbm's best error=0.0333,\tbest estimator lgbm's best error=0.0333\n",
      "[flaml.automl.automl: 02-19 13:22:39] {3323} INFO - iteration 26, current learner lgbm\n",
      "[flaml.automl.automl: 02-19 13:22:40] {3508} INFO -  at 2.6s,\testimator lgbm's best error=0.0333,\tbest estimator lgbm's best error=0.0333\n",
      "[flaml.automl.automl: 02-19 13:22:40] {3323} INFO - iteration 27, current learner lgbm\n",
      "[flaml.automl.automl: 02-19 13:22:40] {3508} INFO -  at 2.8s,\testimator lgbm's best error=0.0333,\tbest estimator lgbm's best error=0.0333\n",
      "[flaml.automl.automl: 02-19 13:22:40] {3323} INFO - iteration 28, current learner lgbm\n",
      "[flaml.automl.automl: 02-19 13:22:40] {3508} INFO -  at 2.9s,\testimator lgbm's best error=0.0333,\tbest estimator lgbm's best error=0.0333\n",
      "[flaml.automl.automl: 02-19 13:22:40] {3323} INFO - iteration 29, current learner lgbm\n",
      "[flaml.automl.automl: 02-19 13:22:40] {3508} INFO -  at 3.0s,\testimator lgbm's best error=0.0333,\tbest estimator lgbm's best error=0.0333\n",
      "[flaml.automl.automl: 02-19 13:22:40] {3323} INFO - iteration 30, current learner lgbm\n",
      "[flaml.automl.automl: 02-19 13:22:40] {3508} INFO -  at 3.1s,\testimator lgbm's best error=0.0333,\tbest estimator lgbm's best error=0.0333\n",
      "[flaml.automl.automl: 02-19 13:22:40] {3323} INFO - iteration 31, current learner lgbm\n",
      "[flaml.automl.automl: 02-19 13:22:40] {3508} INFO -  at 3.2s,\testimator lgbm's best error=0.0333,\tbest estimator lgbm's best error=0.0333\n"
     ]
    },
    {
     "name": "stdout",
     "output_type": "stream",
     "text": [
      "[flaml.automl.automl: 02-19 13:22:40] {3323} INFO - iteration 32, current learner lgbm\n",
      "[flaml.automl.automl: 02-19 13:22:40] {3508} INFO -  at 3.4s,\testimator lgbm's best error=0.0333,\tbest estimator lgbm's best error=0.0333\n",
      "[flaml.automl.automl: 02-19 13:22:40] {3323} INFO - iteration 33, current learner lgbm\n",
      "[flaml.automl.automl: 02-19 13:22:40] {3508} INFO -  at 3.5s,\testimator lgbm's best error=0.0333,\tbest estimator lgbm's best error=0.0333\n",
      "[flaml.automl.automl: 02-19 13:22:40] {3323} INFO - iteration 34, current learner lgbm\n",
      "[flaml.automl.automl: 02-19 13:22:41] {3508} INFO -  at 3.7s,\testimator lgbm's best error=0.0333,\tbest estimator lgbm's best error=0.0333\n",
      "[flaml.automl.automl: 02-19 13:22:41] {3323} INFO - iteration 35, current learner lgbm\n",
      "[flaml.automl.automl: 02-19 13:22:41] {3508} INFO -  at 3.9s,\testimator lgbm's best error=0.0333,\tbest estimator lgbm's best error=0.0333\n",
      "[flaml.automl.automl: 02-19 13:22:41] {3323} INFO - iteration 36, current learner lgbm\n",
      "[flaml.automl.automl: 02-19 13:22:41] {3508} INFO -  at 4.0s,\testimator lgbm's best error=0.0333,\tbest estimator lgbm's best error=0.0333\n",
      "[flaml.automl.automl: 02-19 13:22:41] {3323} INFO - iteration 37, current learner lgbm\n",
      "[flaml.automl.automl: 02-19 13:22:41] {3508} INFO -  at 4.2s,\testimator lgbm's best error=0.0333,\tbest estimator lgbm's best error=0.0333\n",
      "[flaml.automl.automl: 02-19 13:22:41] {3323} INFO - iteration 38, current learner lgbm\n",
      "[flaml.automl.automl: 02-19 13:22:41] {3508} INFO -  at 4.4s,\testimator lgbm's best error=0.0333,\tbest estimator lgbm's best error=0.0333\n",
      "[flaml.automl.automl: 02-19 13:22:41] {3323} INFO - iteration 39, current learner lgbm\n",
      "[flaml.automl.automl: 02-19 13:22:42] {3508} INFO -  at 4.6s,\testimator lgbm's best error=0.0333,\tbest estimator lgbm's best error=0.0333\n",
      "[flaml.automl.automl: 02-19 13:22:42] {3323} INFO - iteration 40, current learner lgbm\n",
      "[flaml.automl.automl: 02-19 13:22:42] {3508} INFO -  at 4.7s,\testimator lgbm's best error=0.0333,\tbest estimator lgbm's best error=0.0333\n",
      "[flaml.automl.automl: 02-19 13:22:42] {3323} INFO - iteration 41, current learner lgbm\n",
      "[flaml.automl.automl: 02-19 13:22:42] {3508} INFO -  at 4.7s,\testimator lgbm's best error=0.0333,\tbest estimator lgbm's best error=0.0333\n",
      "[flaml.automl.automl: 02-19 13:22:42] {3323} INFO - iteration 42, current learner lgbm\n",
      "[flaml.automl.automl: 02-19 13:22:42] {3508} INFO -  at 5.0s,\testimator lgbm's best error=0.0333,\tbest estimator lgbm's best error=0.0333\n",
      "[flaml.automl.automl: 02-19 13:22:42] {3323} INFO - iteration 43, current learner lgbm\n",
      "[flaml.automl.automl: 02-19 13:22:42] {3508} INFO -  at 5.2s,\testimator lgbm's best error=0.0333,\tbest estimator lgbm's best error=0.0333\n",
      "[flaml.automl.automl: 02-19 13:22:42] {3323} INFO - iteration 44, current learner lgbm\n",
      "[flaml.automl.automl: 02-19 13:22:42] {3508} INFO -  at 5.3s,\testimator lgbm's best error=0.0333,\tbest estimator lgbm's best error=0.0333\n",
      "[flaml.automl.automl: 02-19 13:22:42] {3323} INFO - iteration 45, current learner lgbm\n",
      "[flaml.automl.automl: 02-19 13:22:42] {3508} INFO -  at 5.4s,\testimator lgbm's best error=0.0333,\tbest estimator lgbm's best error=0.0333\n",
      "[flaml.automl.automl: 02-19 13:22:42] {3323} INFO - iteration 46, current learner lgbm\n",
      "[flaml.automl.automl: 02-19 13:22:43] {3508} INFO -  at 5.7s,\testimator lgbm's best error=0.0333,\tbest estimator lgbm's best error=0.0333\n",
      "[flaml.automl.automl: 02-19 13:22:43] {3323} INFO - iteration 47, current learner lgbm\n",
      "[flaml.automl.automl: 02-19 13:22:43] {3508} INFO -  at 5.7s,\testimator lgbm's best error=0.0333,\tbest estimator lgbm's best error=0.0333\n",
      "[flaml.automl.automl: 02-19 13:22:43] {3323} INFO - iteration 48, current learner lgbm\n",
      "[flaml.automl.automl: 02-19 13:22:43] {3508} INFO -  at 6.1s,\testimator lgbm's best error=0.0333,\tbest estimator lgbm's best error=0.0333\n",
      "[flaml.automl.automl: 02-19 13:22:43] {3323} INFO - iteration 49, current learner lgbm\n",
      "[flaml.automl.automl: 02-19 13:22:43] {3508} INFO -  at 6.1s,\testimator lgbm's best error=0.0333,\tbest estimator lgbm's best error=0.0333\n",
      "[flaml.automl.automl: 02-19 13:22:43] {3323} INFO - iteration 50, current learner lgbm\n",
      "[flaml.automl.automl: 02-19 13:22:43] {3508} INFO -  at 6.5s,\testimator lgbm's best error=0.0333,\tbest estimator lgbm's best error=0.0333\n",
      "[flaml.automl.automl: 02-19 13:22:43] {3323} INFO - iteration 51, current learner lgbm\n",
      "[flaml.automl.automl: 02-19 13:22:44] {3508} INFO -  at 6.9s,\testimator lgbm's best error=0.0333,\tbest estimator lgbm's best error=0.0333\n",
      "[flaml.automl.automl: 02-19 13:22:44] {3323} INFO - iteration 52, current learner lgbm\n",
      "[flaml.automl.automl: 02-19 13:22:44] {3508} INFO -  at 6.9s,\testimator lgbm's best error=0.0333,\tbest estimator lgbm's best error=0.0333\n",
      "[flaml.automl.automl: 02-19 13:22:44] {3323} INFO - iteration 53, current learner lgbm\n",
      "[flaml.automl.automl: 02-19 13:22:44] {3508} INFO -  at 7.2s,\testimator lgbm's best error=0.0333,\tbest estimator lgbm's best error=0.0333\n",
      "[flaml.automl.automl: 02-19 13:22:44] {3323} INFO - iteration 54, current learner lgbm\n",
      "[flaml.automl.automl: 02-19 13:22:44] {3508} INFO -  at 7.3s,\testimator lgbm's best error=0.0333,\tbest estimator lgbm's best error=0.0333\n",
      "[flaml.automl.automl: 02-19 13:22:44] {3323} INFO - iteration 55, current learner lgbm\n",
      "[flaml.automl.automl: 02-19 13:22:44] {3508} INFO -  at 7.5s,\testimator lgbm's best error=0.0333,\tbest estimator lgbm's best error=0.0333\n",
      "[flaml.automl.automl: 02-19 13:22:44] {3323} INFO - iteration 56, current learner lgbm\n",
      "[flaml.automl.automl: 02-19 13:22:44] {3508} INFO -  at 7.6s,\testimator lgbm's best error=0.0333,\tbest estimator lgbm's best error=0.0333\n",
      "[flaml.automl.automl: 02-19 13:22:44] {3323} INFO - iteration 57, current learner lgbm\n",
      "[flaml.automl.automl: 02-19 13:22:45] {3508} INFO -  at 7.7s,\testimator lgbm's best error=0.0333,\tbest estimator lgbm's best error=0.0333\n",
      "[flaml.automl.automl: 02-19 13:22:45] {3323} INFO - iteration 58, current learner lgbm\n",
      "[flaml.automl.automl: 02-19 13:22:45] {3508} INFO -  at 7.8s,\testimator lgbm's best error=0.0333,\tbest estimator lgbm's best error=0.0333\n",
      "[flaml.automl.automl: 02-19 13:22:45] {3323} INFO - iteration 59, current learner lgbm\n",
      "[flaml.automl.automl: 02-19 13:22:45] {3508} INFO -  at 7.9s,\testimator lgbm's best error=0.0333,\tbest estimator lgbm's best error=0.0333\n",
      "[flaml.automl.automl: 02-19 13:22:45] {3323} INFO - iteration 60, current learner lgbm\n",
      "[flaml.automl.automl: 02-19 13:22:45] {3508} INFO -  at 8.1s,\testimator lgbm's best error=0.0333,\tbest estimator lgbm's best error=0.0333\n",
      "[flaml.automl.automl: 02-19 13:22:45] {3323} INFO - iteration 61, current learner lgbm\n",
      "[flaml.automl.automl: 02-19 13:22:45] {3508} INFO -  at 8.4s,\testimator lgbm's best error=0.0333,\tbest estimator lgbm's best error=0.0333\n",
      "[flaml.automl.automl: 02-19 13:22:45] {3323} INFO - iteration 62, current learner lgbm\n",
      "[flaml.automl.automl: 02-19 13:22:45] {3508} INFO -  at 8.4s,\testimator lgbm's best error=0.0333,\tbest estimator lgbm's best error=0.0333\n",
      "[flaml.automl.automl: 02-19 13:22:45] {3323} INFO - iteration 63, current learner lgbm\n",
      "[flaml.automl.automl: 02-19 13:22:46] {3508} INFO -  at 8.6s,\testimator lgbm's best error=0.0333,\tbest estimator lgbm's best error=0.0333\n",
      "[flaml.automl.automl: 02-19 13:22:46] {3323} INFO - iteration 64, current learner lgbm\n",
      "[flaml.automl.automl: 02-19 13:22:46] {3508} INFO -  at 8.7s,\testimator lgbm's best error=0.0333,\tbest estimator lgbm's best error=0.0333\n",
      "[flaml.automl.automl: 02-19 13:22:46] {3323} INFO - iteration 65, current learner lgbm\n",
      "[flaml.automl.automl: 02-19 13:22:46] {3508} INFO -  at 8.8s,\testimator lgbm's best error=0.0333,\tbest estimator lgbm's best error=0.0333\n",
      "[flaml.automl.automl: 02-19 13:22:46] {3323} INFO - iteration 66, current learner lgbm\n",
      "[flaml.automl.automl: 02-19 13:22:46] {3508} INFO -  at 8.9s,\testimator lgbm's best error=0.0333,\tbest estimator lgbm's best error=0.0333\n",
      "[flaml.automl.automl: 02-19 13:22:46] {3323} INFO - iteration 67, current learner lgbm\n",
      "[flaml.automl.automl: 02-19 13:22:46] {3508} INFO -  at 9.0s,\testimator lgbm's best error=0.0333,\tbest estimator lgbm's best error=0.0333\n",
      "[flaml.automl.automl: 02-19 13:22:46] {3323} INFO - iteration 68, current learner lgbm\n",
      "[flaml.automl.automl: 02-19 13:22:46] {3508} INFO -  at 9.2s,\testimator lgbm's best error=0.0333,\tbest estimator lgbm's best error=0.0333\n"
     ]
    },
    {
     "name": "stdout",
     "output_type": "stream",
     "text": [
      "[flaml.automl.automl: 02-19 13:22:46] {3323} INFO - iteration 69, current learner lgbm\n",
      "[flaml.automl.automl: 02-19 13:22:46] {3508} INFO -  at 9.5s,\testimator lgbm's best error=0.0333,\tbest estimator lgbm's best error=0.0333\n",
      "[flaml.automl.automl: 02-19 13:22:46] {3323} INFO - iteration 70, current learner lgbm\n",
      "[flaml.automl.automl: 02-19 13:22:46] {3508} INFO -  at 9.6s,\testimator lgbm's best error=0.0333,\tbest estimator lgbm's best error=0.0333\n",
      "[flaml.automl.automl: 02-19 13:22:46] {3323} INFO - iteration 71, current learner lgbm\n",
      "[flaml.automl.automl: 02-19 13:22:47] {3508} INFO -  at 9.7s,\testimator lgbm's best error=0.0333,\tbest estimator lgbm's best error=0.0333\n",
      "[flaml.automl.automl: 02-19 13:22:47] {3323} INFO - iteration 72, current learner lgbm\n",
      "[flaml.automl.automl: 02-19 13:22:47] {3508} INFO -  at 9.8s,\testimator lgbm's best error=0.0333,\tbest estimator lgbm's best error=0.0333\n",
      "[flaml.automl.automl: 02-19 13:22:47] {3323} INFO - iteration 73, current learner lgbm\n",
      "[flaml.automl.automl: 02-19 13:22:47] {3508} INFO -  at 9.8s,\testimator lgbm's best error=0.0333,\tbest estimator lgbm's best error=0.0333\n",
      "[flaml.automl.automl: 02-19 13:22:47] {3323} INFO - iteration 74, current learner lgbm\n",
      "[flaml.automl.automl: 02-19 13:22:47] {3508} INFO -  at 10.1s,\testimator lgbm's best error=0.0333,\tbest estimator lgbm's best error=0.0333\n",
      "[flaml.automl.automl: 02-19 13:22:47] {3323} INFO - iteration 75, current learner lgbm\n",
      "[flaml.automl.automl: 02-19 13:22:47] {3508} INFO -  at 10.3s,\testimator lgbm's best error=0.0333,\tbest estimator lgbm's best error=0.0333\n",
      "[flaml.automl.automl: 02-19 13:22:47] {3323} INFO - iteration 76, current learner lgbm\n",
      "[flaml.automl.automl: 02-19 13:22:47] {3508} INFO -  at 10.4s,\testimator lgbm's best error=0.0333,\tbest estimator lgbm's best error=0.0333\n",
      "[flaml.automl.automl: 02-19 13:22:47] {3323} INFO - iteration 77, current learner lgbm\n",
      "[flaml.automl.automl: 02-19 13:22:47] {3508} INFO -  at 10.4s,\testimator lgbm's best error=0.0333,\tbest estimator lgbm's best error=0.0333\n",
      "[flaml.automl.automl: 02-19 13:22:47] {3323} INFO - iteration 78, current learner lgbm\n",
      "[flaml.automl.automl: 02-19 13:22:48] {3508} INFO -  at 10.7s,\testimator lgbm's best error=0.0333,\tbest estimator lgbm's best error=0.0333\n",
      "[flaml.automl.automl: 02-19 13:22:48] {3323} INFO - iteration 79, current learner lgbm\n",
      "[flaml.automl.automl: 02-19 13:22:48] {3508} INFO -  at 10.9s,\testimator lgbm's best error=0.0333,\tbest estimator lgbm's best error=0.0333\n",
      "[flaml.automl.automl: 02-19 13:22:48] {3323} INFO - iteration 80, current learner lgbm\n",
      "[flaml.automl.automl: 02-19 13:22:48] {3508} INFO -  at 11.0s,\testimator lgbm's best error=0.0333,\tbest estimator lgbm's best error=0.0333\n",
      "[flaml.automl.automl: 02-19 13:22:48] {3323} INFO - iteration 81, current learner lgbm\n",
      "[flaml.automl.automl: 02-19 13:22:48] {3508} INFO -  at 11.3s,\testimator lgbm's best error=0.0333,\tbest estimator lgbm's best error=0.0333\n",
      "[flaml.automl.automl: 02-19 13:22:48] {3323} INFO - iteration 82, current learner lgbm\n",
      "[flaml.automl.automl: 02-19 13:22:48] {3508} INFO -  at 11.3s,\testimator lgbm's best error=0.0333,\tbest estimator lgbm's best error=0.0333\n",
      "[flaml.automl.automl: 02-19 13:22:48] {3323} INFO - iteration 83, current learner lgbm\n",
      "[flaml.automl.automl: 02-19 13:22:48] {3508} INFO -  at 11.4s,\testimator lgbm's best error=0.0333,\tbest estimator lgbm's best error=0.0333\n",
      "[flaml.automl.automl: 02-19 13:22:48] {3323} INFO - iteration 84, current learner lgbm\n",
      "[flaml.automl.automl: 02-19 13:22:48] {3508} INFO -  at 11.6s,\testimator lgbm's best error=0.0333,\tbest estimator lgbm's best error=0.0333\n",
      "[flaml.automl.automl: 02-19 13:22:48] {3323} INFO - iteration 85, current learner lgbm\n",
      "[flaml.automl.automl: 02-19 13:22:49] {3508} INFO -  at 11.7s,\testimator lgbm's best error=0.0333,\tbest estimator lgbm's best error=0.0333\n",
      "[flaml.automl.automl: 02-19 13:22:49] {3323} INFO - iteration 86, current learner lgbm\n",
      "[flaml.automl.automl: 02-19 13:22:49] {3508} INFO -  at 11.8s,\testimator lgbm's best error=0.0333,\tbest estimator lgbm's best error=0.0333\n",
      "[flaml.automl.automl: 02-19 13:22:49] {3323} INFO - iteration 87, current learner lgbm\n",
      "[flaml.automl.automl: 02-19 13:22:49] {3508} INFO -  at 11.9s,\testimator lgbm's best error=0.0333,\tbest estimator lgbm's best error=0.0333\n",
      "[flaml.automl.automl: 02-19 13:22:49] {3323} INFO - iteration 88, current learner lgbm\n",
      "[flaml.automl.automl: 02-19 13:22:49] {3508} INFO -  at 12.0s,\testimator lgbm's best error=0.0333,\tbest estimator lgbm's best error=0.0333\n",
      "[flaml.automl.automl: 02-19 13:22:49] {3323} INFO - iteration 89, current learner lgbm\n",
      "[flaml.automl.automl: 02-19 13:22:49] {3508} INFO -  at 12.1s,\testimator lgbm's best error=0.0333,\tbest estimator lgbm's best error=0.0333\n",
      "[flaml.automl.automl: 02-19 13:22:49] {3323} INFO - iteration 90, current learner lgbm\n",
      "[flaml.automl.automl: 02-19 13:22:49] {3508} INFO -  at 12.3s,\testimator lgbm's best error=0.0333,\tbest estimator lgbm's best error=0.0333\n",
      "[flaml.automl.automl: 02-19 13:22:49] {3323} INFO - iteration 91, current learner lgbm\n",
      "[flaml.automl.automl: 02-19 13:22:49] {3508} INFO -  at 12.4s,\testimator lgbm's best error=0.0333,\tbest estimator lgbm's best error=0.0333\n",
      "[flaml.automl.automl: 02-19 13:22:49] {3323} INFO - iteration 92, current learner lgbm\n",
      "[flaml.automl.automl: 02-19 13:22:49] {3508} INFO -  at 12.5s,\testimator lgbm's best error=0.0333,\tbest estimator lgbm's best error=0.0333\n",
      "[flaml.automl.automl: 02-19 13:22:49] {3323} INFO - iteration 93, current learner lgbm\n",
      "[flaml.automl.automl: 02-19 13:22:50] {3508} INFO -  at 12.6s,\testimator lgbm's best error=0.0333,\tbest estimator lgbm's best error=0.0333\n",
      "[flaml.automl.automl: 02-19 13:22:50] {3323} INFO - iteration 94, current learner lgbm\n",
      "[flaml.automl.automl: 02-19 13:22:50] {3508} INFO -  at 12.9s,\testimator lgbm's best error=0.0333,\tbest estimator lgbm's best error=0.0333\n",
      "[flaml.automl.automl: 02-19 13:22:50] {3323} INFO - iteration 95, current learner lgbm\n",
      "[flaml.automl.automl: 02-19 13:22:50] {3508} INFO -  at 13.1s,\testimator lgbm's best error=0.0333,\tbest estimator lgbm's best error=0.0333\n",
      "[flaml.automl.automl: 02-19 13:22:50] {3323} INFO - iteration 96, current learner lgbm\n",
      "[flaml.automl.automl: 02-19 13:22:50] {3508} INFO -  at 13.1s,\testimator lgbm's best error=0.0333,\tbest estimator lgbm's best error=0.0333\n",
      "[flaml.automl.automl: 02-19 13:22:50] {3323} INFO - iteration 97, current learner lgbm\n",
      "[flaml.automl.automl: 02-19 13:22:50] {3508} INFO -  at 13.2s,\testimator lgbm's best error=0.0333,\tbest estimator lgbm's best error=0.0333\n",
      "[flaml.automl.automl: 02-19 13:22:50] {3323} INFO - iteration 98, current learner lgbm\n",
      "[flaml.automl.automl: 02-19 13:22:50] {3508} INFO -  at 13.4s,\testimator lgbm's best error=0.0333,\tbest estimator lgbm's best error=0.0333\n",
      "[flaml.automl.automl: 02-19 13:22:50] {3323} INFO - iteration 99, current learner lgbm\n",
      "[flaml.automl.automl: 02-19 13:22:50] {3508} INFO -  at 13.5s,\testimator lgbm's best error=0.0333,\tbest estimator lgbm's best error=0.0333\n",
      "[flaml.automl.automl: 02-19 13:22:50] {3323} INFO - iteration 100, current learner lgbm\n",
      "[flaml.automl.automl: 02-19 13:22:51] {3508} INFO -  at 13.7s,\testimator lgbm's best error=0.0333,\tbest estimator lgbm's best error=0.0333\n",
      "[flaml.automl.automl: 02-19 13:22:51] {3323} INFO - iteration 101, current learner lgbm\n",
      "[flaml.automl.automl: 02-19 13:22:51] {3508} INFO -  at 13.9s,\testimator lgbm's best error=0.0333,\tbest estimator lgbm's best error=0.0333\n",
      "[flaml.automl.automl: 02-19 13:22:51] {3323} INFO - iteration 102, current learner lgbm\n",
      "[flaml.automl.automl: 02-19 13:22:51] {3508} INFO -  at 14.0s,\testimator lgbm's best error=0.0333,\tbest estimator lgbm's best error=0.0333\n",
      "[flaml.automl.automl: 02-19 13:22:51] {3323} INFO - iteration 103, current learner lgbm\n",
      "[flaml.automl.automl: 02-19 13:22:51] {3508} INFO -  at 14.2s,\testimator lgbm's best error=0.0333,\tbest estimator lgbm's best error=0.0333\n",
      "[flaml.automl.automl: 02-19 13:22:51] {3323} INFO - iteration 104, current learner lgbm\n",
      "[flaml.automl.automl: 02-19 13:22:51] {3508} INFO -  at 14.3s,\testimator lgbm's best error=0.0333,\tbest estimator lgbm's best error=0.0333\n",
      "[flaml.automl.automl: 02-19 13:22:51] {3323} INFO - iteration 105, current learner lgbm\n"
     ]
    },
    {
     "name": "stdout",
     "output_type": "stream",
     "text": [
      "[flaml.automl.automl: 02-19 13:22:51] {3508} INFO -  at 14.5s,\testimator lgbm's best error=0.0333,\tbest estimator lgbm's best error=0.0333\n",
      "[flaml.automl.automl: 02-19 13:22:51] {3323} INFO - iteration 106, current learner lgbm\n",
      "[flaml.automl.automl: 02-19 13:22:51] {3508} INFO -  at 14.6s,\testimator lgbm's best error=0.0333,\tbest estimator lgbm's best error=0.0333\n",
      "[flaml.automl.automl: 02-19 13:22:51] {3323} INFO - iteration 107, current learner lgbm\n",
      "[flaml.automl.automl: 02-19 13:22:52] {3508} INFO -  at 14.6s,\testimator lgbm's best error=0.0333,\tbest estimator lgbm's best error=0.0333\n",
      "[flaml.automl.automl: 02-19 13:22:52] {3323} INFO - iteration 108, current learner lgbm\n",
      "[flaml.automl.automl: 02-19 13:22:52] {3508} INFO -  at 14.8s,\testimator lgbm's best error=0.0333,\tbest estimator lgbm's best error=0.0333\n",
      "[flaml.automl.automl: 02-19 13:22:52] {3323} INFO - iteration 109, current learner lgbm\n",
      "[flaml.automl.automl: 02-19 13:22:52] {3508} INFO -  at 14.9s,\testimator lgbm's best error=0.0333,\tbest estimator lgbm's best error=0.0333\n",
      "[flaml.automl.automl: 02-19 13:22:52] {3772} INFO - retrain lgbm for 0.1s\n",
      "[flaml.automl.automl: 02-19 13:22:52] {3779} INFO - retrained model: LGBMClassifier(colsample_bytree=0.763007791741338,\n",
      "               learning_rate=0.16645809713264254, max_bin=1023,\n",
      "               min_child_samples=6, n_estimators=27, num_leaves=9,\n",
      "               reg_alpha=0.0009765625, reg_lambda=0.10626868868028042,\n",
      "               verbose=-1)\n",
      "[flaml.automl.automl: 02-19 13:22:52] {3024} INFO - fit succeeded\n",
      "[flaml.automl.automl: 02-19 13:22:52] {3025} INFO - Time taken to find the best model: 0.5096240043640137\n"
     ]
    }
   ],
   "source": [
    "automl.fit(X_train=X_train, y_train=y_train, estimator_list=[\"lgbm\"], **settings)"
   ]
  },
  {
   "cell_type": "code",
   "execution_count": 20,
   "metadata": {},
   "outputs": [
    {
     "name": "stdout",
     "output_type": "stream",
     "text": [
      "lgbm: 0.9667\n"
     ]
    }
   ],
   "source": [
    "print('lgbm: {0:.4g}'.format(1-automl.best_loss))"
   ]
  },
  {
   "cell_type": "code",
   "execution_count": 21,
   "metadata": {},
   "outputs": [
    {
     "name": "stdout",
     "output_type": "stream",
     "text": [
      "[flaml.automl.automl: 02-19 13:25:04] {2716} INFO - task = classification\n",
      "[flaml.automl.automl: 02-19 13:25:04] {2718} INFO - Data split method: stratified\n",
      "[flaml.automl.automl: 02-19 13:25:04] {2721} INFO - Evaluation method: holdout\n",
      "[flaml.automl.automl: 02-19 13:25:04] {1312} INFO - class 0 augmented from 12 to 24\n",
      "[flaml.automl.automl: 02-19 13:25:04] {1312} INFO - class 3 augmented from 4 to 20\n",
      "[flaml.automl.automl: 02-19 13:25:04] {1312} INFO - class 5 augmented from 18 to 36\n",
      "[flaml.automl.automl: 02-19 13:25:04] {1312} INFO - class 6 augmented from 16 to 32\n",
      "[flaml.automl.automl: 02-19 13:25:04] {1312} INFO - class 7 augmented from 13 to 26\n",
      "[flaml.automl.automl: 02-19 13:25:04] {1312} INFO - class 8 augmented from 18 to 36\n",
      "[flaml.automl.automl: 02-19 13:25:04] {1312} INFO - class 10 augmented from 16 to 32\n",
      "[flaml.automl.automl: 02-19 13:25:04] {2848} INFO - Minimizing error metric: 1-accuracy\n",
      "[flaml.automl.automl: 02-19 13:25:04] {2994} INFO - List of ML learners in AutoML Run: ['rf']\n",
      "[flaml.automl.automl: 02-19 13:25:04] {3323} INFO - iteration 0, current learner rf\n",
      "[flaml.automl.automl: 02-19 13:25:04] {3461} INFO - Estimated sufficient time budget=497s. Estimated necessary time budget=0s.\n",
      "[flaml.automl.automl: 02-19 13:25:04] {3508} INFO -  at 0.1s,\testimator rf's best error=0.4833,\tbest estimator rf's best error=0.4833\n",
      "[flaml.automl.automl: 02-19 13:25:04] {3323} INFO - iteration 1, current learner rf\n",
      "[flaml.automl.automl: 02-19 13:25:04] {3508} INFO -  at 0.1s,\testimator rf's best error=0.4333,\tbest estimator rf's best error=0.4333\n",
      "[flaml.automl.automl: 02-19 13:25:04] {3323} INFO - iteration 2, current learner rf\n",
      "[flaml.automl.automl: 02-19 13:25:04] {3508} INFO -  at 0.1s,\testimator rf's best error=0.4333,\tbest estimator rf's best error=0.4333\n",
      "[flaml.automl.automl: 02-19 13:25:04] {3323} INFO - iteration 3, current learner rf\n",
      "[flaml.automl.automl: 02-19 13:25:04] {3508} INFO -  at 0.2s,\testimator rf's best error=0.3500,\tbest estimator rf's best error=0.3500\n",
      "[flaml.automl.automl: 02-19 13:25:04] {3323} INFO - iteration 4, current learner rf\n",
      "[flaml.automl.automl: 02-19 13:25:04] {3508} INFO -  at 0.2s,\testimator rf's best error=0.3333,\tbest estimator rf's best error=0.3333\n",
      "[flaml.automl.automl: 02-19 13:25:04] {3323} INFO - iteration 5, current learner rf\n",
      "[flaml.automl.automl: 02-19 13:25:04] {3508} INFO -  at 0.3s,\testimator rf's best error=0.3333,\tbest estimator rf's best error=0.3333\n",
      "[flaml.automl.automl: 02-19 13:25:04] {3323} INFO - iteration 6, current learner rf\n",
      "[flaml.automl.automl: 02-19 13:25:04] {3508} INFO -  at 0.4s,\testimator rf's best error=0.3333,\tbest estimator rf's best error=0.3333\n",
      "[flaml.automl.automl: 02-19 13:25:04] {3323} INFO - iteration 7, current learner rf\n",
      "[flaml.automl.automl: 02-19 13:25:04] {3508} INFO -  at 0.4s,\testimator rf's best error=0.3167,\tbest estimator rf's best error=0.3167\n",
      "[flaml.automl.automl: 02-19 13:25:04] {3323} INFO - iteration 8, current learner rf\n",
      "[flaml.automl.automl: 02-19 13:25:04] {3508} INFO -  at 0.4s,\testimator rf's best error=0.3167,\tbest estimator rf's best error=0.3167\n",
      "[flaml.automl.automl: 02-19 13:25:04] {3323} INFO - iteration 9, current learner rf\n",
      "[flaml.automl.automl: 02-19 13:25:04] {3508} INFO -  at 0.5s,\testimator rf's best error=0.3167,\tbest estimator rf's best error=0.3167\n",
      "[flaml.automl.automl: 02-19 13:25:04] {3323} INFO - iteration 10, current learner rf\n",
      "[flaml.automl.automl: 02-19 13:25:04] {3508} INFO -  at 0.6s,\testimator rf's best error=0.2333,\tbest estimator rf's best error=0.2333\n",
      "[flaml.automl.automl: 02-19 13:25:04] {3323} INFO - iteration 11, current learner rf\n",
      "[flaml.automl.automl: 02-19 13:25:04] {3508} INFO -  at 0.6s,\testimator rf's best error=0.2333,\tbest estimator rf's best error=0.2333\n",
      "[flaml.automl.automl: 02-19 13:25:04] {3323} INFO - iteration 12, current learner rf\n",
      "[flaml.automl.automl: 02-19 13:25:04] {3508} INFO -  at 0.7s,\testimator rf's best error=0.1667,\tbest estimator rf's best error=0.1667\n",
      "[flaml.automl.automl: 02-19 13:25:04] {3323} INFO - iteration 13, current learner rf\n",
      "[flaml.automl.automl: 02-19 13:25:05] {3508} INFO -  at 0.8s,\testimator rf's best error=0.1500,\tbest estimator rf's best error=0.1500\n",
      "[flaml.automl.automl: 02-19 13:25:05] {3323} INFO - iteration 14, current learner rf\n",
      "[flaml.automl.automl: 02-19 13:25:05] {3508} INFO -  at 0.8s,\testimator rf's best error=0.1500,\tbest estimator rf's best error=0.1500\n",
      "[flaml.automl.automl: 02-19 13:25:05] {3323} INFO - iteration 15, current learner rf\n",
      "[flaml.automl.automl: 02-19 13:25:05] {3508} INFO -  at 0.9s,\testimator rf's best error=0.1000,\tbest estimator rf's best error=0.1000\n",
      "[flaml.automl.automl: 02-19 13:25:05] {3323} INFO - iteration 16, current learner rf\n",
      "[flaml.automl.automl: 02-19 13:25:05] {3508} INFO -  at 0.9s,\testimator rf's best error=0.1000,\tbest estimator rf's best error=0.1000\n",
      "[flaml.automl.automl: 02-19 13:25:05] {3323} INFO - iteration 17, current learner rf\n",
      "[flaml.automl.automl: 02-19 13:25:05] {3508} INFO -  at 1.0s,\testimator rf's best error=0.1000,\tbest estimator rf's best error=0.1000\n",
      "[flaml.automl.automl: 02-19 13:25:05] {3323} INFO - iteration 18, current learner rf\n",
      "[flaml.automl.automl: 02-19 13:25:05] {3508} INFO -  at 1.1s,\testimator rf's best error=0.1000,\tbest estimator rf's best error=0.1000\n",
      "[flaml.automl.automl: 02-19 13:25:05] {3323} INFO - iteration 19, current learner rf\n",
      "[flaml.automl.automl: 02-19 13:25:05] {3508} INFO -  at 1.1s,\testimator rf's best error=0.0833,\tbest estimator rf's best error=0.0833\n",
      "[flaml.automl.automl: 02-19 13:25:05] {3323} INFO - iteration 20, current learner rf\n",
      "[flaml.automl.automl: 02-19 13:25:05] {3508} INFO -  at 1.2s,\testimator rf's best error=0.0833,\tbest estimator rf's best error=0.0833\n",
      "[flaml.automl.automl: 02-19 13:25:05] {3323} INFO - iteration 21, current learner rf\n",
      "[flaml.automl.automl: 02-19 13:25:05] {3508} INFO -  at 1.3s,\testimator rf's best error=0.0833,\tbest estimator rf's best error=0.0833\n",
      "[flaml.automl.automl: 02-19 13:25:05] {3323} INFO - iteration 22, current learner rf\n",
      "[flaml.automl.automl: 02-19 13:25:05] {3508} INFO -  at 1.3s,\testimator rf's best error=0.0833,\tbest estimator rf's best error=0.0833\n",
      "[flaml.automl.automl: 02-19 13:25:05] {3323} INFO - iteration 23, current learner rf\n",
      "[flaml.automl.automl: 02-19 13:25:05] {3508} INFO -  at 1.4s,\testimator rf's best error=0.0833,\tbest estimator rf's best error=0.0833\n",
      "[flaml.automl.automl: 02-19 13:25:05] {3323} INFO - iteration 24, current learner rf\n",
      "[flaml.automl.automl: 02-19 13:25:05] {3508} INFO -  at 1.5s,\testimator rf's best error=0.0833,\tbest estimator rf's best error=0.0833\n",
      "[flaml.automl.automl: 02-19 13:25:05] {3323} INFO - iteration 25, current learner rf\n",
      "[flaml.automl.automl: 02-19 13:25:05] {3508} INFO -  at 1.6s,\testimator rf's best error=0.0833,\tbest estimator rf's best error=0.0833\n",
      "[flaml.automl.automl: 02-19 13:25:05] {3323} INFO - iteration 26, current learner rf\n",
      "[flaml.automl.automl: 02-19 13:25:05] {3508} INFO -  at 1.6s,\testimator rf's best error=0.0833,\tbest estimator rf's best error=0.0833\n",
      "[flaml.automl.automl: 02-19 13:25:05] {3323} INFO - iteration 27, current learner rf\n",
      "[flaml.automl.automl: 02-19 13:25:05] {3508} INFO -  at 1.7s,\testimator rf's best error=0.0833,\tbest estimator rf's best error=0.0833\n",
      "[flaml.automl.automl: 02-19 13:25:05] {3323} INFO - iteration 28, current learner rf\n",
      "[flaml.automl.automl: 02-19 13:25:06] {3508} INFO -  at 1.8s,\testimator rf's best error=0.0833,\tbest estimator rf's best error=0.0833\n",
      "[flaml.automl.automl: 02-19 13:25:06] {3323} INFO - iteration 29, current learner rf\n",
      "[flaml.automl.automl: 02-19 13:25:06] {3508} INFO -  at 1.9s,\testimator rf's best error=0.0833,\tbest estimator rf's best error=0.0833\n",
      "[flaml.automl.automl: 02-19 13:25:06] {3323} INFO - iteration 30, current learner rf\n",
      "[flaml.automl.automl: 02-19 13:25:06] {3508} INFO -  at 1.9s,\testimator rf's best error=0.0833,\tbest estimator rf's best error=0.0833\n",
      "[flaml.automl.automl: 02-19 13:25:06] {3323} INFO - iteration 31, current learner rf\n",
      "[flaml.automl.automl: 02-19 13:25:06] {3508} INFO -  at 2.0s,\testimator rf's best error=0.0833,\tbest estimator rf's best error=0.0833\n",
      "[flaml.automl.automl: 02-19 13:25:06] {3323} INFO - iteration 32, current learner rf\n"
     ]
    },
    {
     "name": "stdout",
     "output_type": "stream",
     "text": [
      "[flaml.automl.automl: 02-19 13:25:06] {3508} INFO -  at 2.1s,\testimator rf's best error=0.0833,\tbest estimator rf's best error=0.0833\n",
      "[flaml.automl.automl: 02-19 13:25:06] {3323} INFO - iteration 33, current learner rf\n",
      "[flaml.automl.automl: 02-19 13:25:06] {3508} INFO -  at 2.1s,\testimator rf's best error=0.0833,\tbest estimator rf's best error=0.0833\n",
      "[flaml.automl.automl: 02-19 13:25:06] {3323} INFO - iteration 34, current learner rf\n",
      "[flaml.automl.automl: 02-19 13:25:06] {3508} INFO -  at 2.2s,\testimator rf's best error=0.0833,\tbest estimator rf's best error=0.0833\n",
      "[flaml.automl.automl: 02-19 13:25:06] {3323} INFO - iteration 35, current learner rf\n",
      "[flaml.automl.automl: 02-19 13:25:06] {3508} INFO -  at 2.3s,\testimator rf's best error=0.0833,\tbest estimator rf's best error=0.0833\n",
      "[flaml.automl.automl: 02-19 13:25:06] {3323} INFO - iteration 36, current learner rf\n",
      "[flaml.automl.automl: 02-19 13:25:06] {3508} INFO -  at 2.4s,\testimator rf's best error=0.0833,\tbest estimator rf's best error=0.0833\n",
      "[flaml.automl.automl: 02-19 13:25:06] {3323} INFO - iteration 37, current learner rf\n",
      "[flaml.automl.automl: 02-19 13:25:06] {3508} INFO -  at 2.4s,\testimator rf's best error=0.0833,\tbest estimator rf's best error=0.0833\n",
      "[flaml.automl.automl: 02-19 13:25:06] {3323} INFO - iteration 38, current learner rf\n",
      "[flaml.automl.automl: 02-19 13:25:06] {3508} INFO -  at 2.5s,\testimator rf's best error=0.0833,\tbest estimator rf's best error=0.0833\n",
      "[flaml.automl.automl: 02-19 13:25:06] {3323} INFO - iteration 39, current learner rf\n",
      "[flaml.automl.automl: 02-19 13:25:06] {3508} INFO -  at 2.6s,\testimator rf's best error=0.0833,\tbest estimator rf's best error=0.0833\n",
      "[flaml.automl.automl: 02-19 13:25:06] {3323} INFO - iteration 40, current learner rf\n",
      "[flaml.automl.automl: 02-19 13:25:06] {3508} INFO -  at 2.6s,\testimator rf's best error=0.0833,\tbest estimator rf's best error=0.0833\n",
      "[flaml.automl.automl: 02-19 13:25:06] {3323} INFO - iteration 41, current learner rf\n",
      "[flaml.automl.automl: 02-19 13:25:06] {3508} INFO -  at 2.7s,\testimator rf's best error=0.0833,\tbest estimator rf's best error=0.0833\n",
      "[flaml.automl.automl: 02-19 13:25:06] {3323} INFO - iteration 42, current learner rf\n",
      "[flaml.automl.automl: 02-19 13:25:07] {3508} INFO -  at 2.7s,\testimator rf's best error=0.0833,\tbest estimator rf's best error=0.0833\n",
      "[flaml.automl.automl: 02-19 13:25:07] {3323} INFO - iteration 43, current learner rf\n",
      "[flaml.automl.automl: 02-19 13:25:07] {3508} INFO -  at 2.8s,\testimator rf's best error=0.0833,\tbest estimator rf's best error=0.0833\n",
      "[flaml.automl.automl: 02-19 13:25:07] {3323} INFO - iteration 44, current learner rf\n",
      "[flaml.automl.automl: 02-19 13:25:07] {3508} INFO -  at 2.9s,\testimator rf's best error=0.0833,\tbest estimator rf's best error=0.0833\n",
      "[flaml.automl.automl: 02-19 13:25:07] {3323} INFO - iteration 45, current learner rf\n",
      "[flaml.automl.automl: 02-19 13:25:07] {3508} INFO -  at 3.0s,\testimator rf's best error=0.0833,\tbest estimator rf's best error=0.0833\n",
      "[flaml.automl.automl: 02-19 13:25:07] {3323} INFO - iteration 46, current learner rf\n",
      "[flaml.automl.automl: 02-19 13:25:07] {3508} INFO -  at 3.0s,\testimator rf's best error=0.0833,\tbest estimator rf's best error=0.0833\n",
      "[flaml.automl.automl: 02-19 13:25:07] {3323} INFO - iteration 47, current learner rf\n",
      "[flaml.automl.automl: 02-19 13:25:07] {3508} INFO -  at 3.1s,\testimator rf's best error=0.0833,\tbest estimator rf's best error=0.0833\n",
      "[flaml.automl.automl: 02-19 13:25:07] {3323} INFO - iteration 48, current learner rf\n",
      "[flaml.automl.automl: 02-19 13:25:07] {3508} INFO -  at 3.2s,\testimator rf's best error=0.0833,\tbest estimator rf's best error=0.0833\n",
      "[flaml.automl.automl: 02-19 13:25:07] {3323} INFO - iteration 49, current learner rf\n",
      "[flaml.automl.automl: 02-19 13:25:07] {3508} INFO -  at 3.2s,\testimator rf's best error=0.0833,\tbest estimator rf's best error=0.0833\n",
      "[flaml.automl.automl: 02-19 13:25:07] {3323} INFO - iteration 50, current learner rf\n",
      "[flaml.automl.automl: 02-19 13:25:07] {3508} INFO -  at 3.3s,\testimator rf's best error=0.0833,\tbest estimator rf's best error=0.0833\n",
      "[flaml.automl.automl: 02-19 13:25:07] {3323} INFO - iteration 51, current learner rf\n",
      "[flaml.automl.automl: 02-19 13:25:07] {3508} INFO -  at 3.4s,\testimator rf's best error=0.0833,\tbest estimator rf's best error=0.0833\n",
      "[flaml.automl.automl: 02-19 13:25:07] {3323} INFO - iteration 52, current learner rf\n",
      "[flaml.automl.automl: 02-19 13:25:07] {3508} INFO -  at 3.4s,\testimator rf's best error=0.0833,\tbest estimator rf's best error=0.0833\n",
      "[flaml.automl.automl: 02-19 13:25:07] {3323} INFO - iteration 53, current learner rf\n",
      "[flaml.automl.automl: 02-19 13:25:07] {3508} INFO -  at 3.5s,\testimator rf's best error=0.0833,\tbest estimator rf's best error=0.0833\n",
      "[flaml.automl.automl: 02-19 13:25:07] {3323} INFO - iteration 54, current learner rf\n",
      "[flaml.automl.automl: 02-19 13:25:07] {3508} INFO -  at 3.6s,\testimator rf's best error=0.0833,\tbest estimator rf's best error=0.0833\n",
      "[flaml.automl.automl: 02-19 13:25:07] {3323} INFO - iteration 55, current learner rf\n",
      "[flaml.automl.automl: 02-19 13:25:07] {3508} INFO -  at 3.6s,\testimator rf's best error=0.0833,\tbest estimator rf's best error=0.0833\n",
      "[flaml.automl.automl: 02-19 13:25:07] {3323} INFO - iteration 56, current learner rf\n",
      "[flaml.automl.automl: 02-19 13:25:07] {3508} INFO -  at 3.7s,\testimator rf's best error=0.0833,\tbest estimator rf's best error=0.0833\n",
      "[flaml.automl.automl: 02-19 13:25:07] {3323} INFO - iteration 57, current learner rf\n",
      "[flaml.automl.automl: 02-19 13:25:07] {3508} INFO -  at 3.7s,\testimator rf's best error=0.0833,\tbest estimator rf's best error=0.0833\n",
      "[flaml.automl.automl: 02-19 13:25:07] {3323} INFO - iteration 58, current learner rf\n",
      "[flaml.automl.automl: 02-19 13:25:08] {3508} INFO -  at 3.8s,\testimator rf's best error=0.0833,\tbest estimator rf's best error=0.0833\n",
      "[flaml.automl.automl: 02-19 13:25:08] {3323} INFO - iteration 59, current learner rf\n",
      "[flaml.automl.automl: 02-19 13:25:08] {3508} INFO -  at 3.9s,\testimator rf's best error=0.0833,\tbest estimator rf's best error=0.0833\n",
      "[flaml.automl.automl: 02-19 13:25:08] {3323} INFO - iteration 60, current learner rf\n",
      "[flaml.automl.automl: 02-19 13:25:08] {3508} INFO -  at 4.0s,\testimator rf's best error=0.0833,\tbest estimator rf's best error=0.0833\n",
      "[flaml.automl.automl: 02-19 13:25:08] {3323} INFO - iteration 61, current learner rf\n",
      "[flaml.automl.automl: 02-19 13:25:08] {3508} INFO -  at 4.0s,\testimator rf's best error=0.0833,\tbest estimator rf's best error=0.0833\n",
      "[flaml.automl.automl: 02-19 13:25:08] {3323} INFO - iteration 62, current learner rf\n",
      "[flaml.automl.automl: 02-19 13:25:08] {3508} INFO -  at 4.1s,\testimator rf's best error=0.0833,\tbest estimator rf's best error=0.0833\n",
      "[flaml.automl.automl: 02-19 13:25:08] {3323} INFO - iteration 63, current learner rf\n",
      "[flaml.automl.automl: 02-19 13:25:08] {3508} INFO -  at 4.1s,\testimator rf's best error=0.0833,\tbest estimator rf's best error=0.0833\n",
      "[flaml.automl.automl: 02-19 13:25:08] {3323} INFO - iteration 64, current learner rf\n",
      "[flaml.automl.automl: 02-19 13:25:08] {3508} INFO -  at 4.2s,\testimator rf's best error=0.0833,\tbest estimator rf's best error=0.0833\n",
      "[flaml.automl.automl: 02-19 13:25:08] {3323} INFO - iteration 65, current learner rf\n",
      "[flaml.automl.automl: 02-19 13:25:08] {3508} INFO -  at 4.3s,\testimator rf's best error=0.0833,\tbest estimator rf's best error=0.0833\n",
      "[flaml.automl.automl: 02-19 13:25:08] {3323} INFO - iteration 66, current learner rf\n",
      "[flaml.automl.automl: 02-19 13:25:08] {3508} INFO -  at 4.4s,\testimator rf's best error=0.0833,\tbest estimator rf's best error=0.0833\n",
      "[flaml.automl.automl: 02-19 13:25:08] {3323} INFO - iteration 67, current learner rf\n",
      "[flaml.automl.automl: 02-19 13:25:08] {3508} INFO -  at 4.4s,\testimator rf's best error=0.0833,\tbest estimator rf's best error=0.0833\n",
      "[flaml.automl.automl: 02-19 13:25:08] {3323} INFO - iteration 68, current learner rf\n",
      "[flaml.automl.automl: 02-19 13:25:08] {3508} INFO -  at 4.5s,\testimator rf's best error=0.0833,\tbest estimator rf's best error=0.0833\n",
      "[flaml.automl.automl: 02-19 13:25:08] {3323} INFO - iteration 69, current learner rf\n",
      "[flaml.automl.automl: 02-19 13:25:08] {3508} INFO -  at 4.6s,\testimator rf's best error=0.0833,\tbest estimator rf's best error=0.0833\n"
     ]
    },
    {
     "name": "stdout",
     "output_type": "stream",
     "text": [
      "[flaml.automl.automl: 02-19 13:25:08] {3323} INFO - iteration 70, current learner rf\n",
      "[flaml.automl.automl: 02-19 13:25:08] {3508} INFO -  at 4.6s,\testimator rf's best error=0.0833,\tbest estimator rf's best error=0.0833\n",
      "[flaml.automl.automl: 02-19 13:25:08] {3323} INFO - iteration 71, current learner rf\n",
      "[flaml.automl.automl: 02-19 13:25:08] {3508} INFO -  at 4.7s,\testimator rf's best error=0.0833,\tbest estimator rf's best error=0.0833\n",
      "[flaml.automl.automl: 02-19 13:25:08] {3323} INFO - iteration 72, current learner rf\n",
      "[flaml.automl.automl: 02-19 13:25:09] {3508} INFO -  at 4.8s,\testimator rf's best error=0.0833,\tbest estimator rf's best error=0.0833\n",
      "[flaml.automl.automl: 02-19 13:25:09] {3323} INFO - iteration 73, current learner rf\n",
      "[flaml.automl.automl: 02-19 13:25:09] {3508} INFO -  at 4.8s,\testimator rf's best error=0.0833,\tbest estimator rf's best error=0.0833\n",
      "[flaml.automl.automl: 02-19 13:25:09] {3323} INFO - iteration 74, current learner rf\n",
      "[flaml.automl.automl: 02-19 13:25:09] {3508} INFO -  at 4.9s,\testimator rf's best error=0.0833,\tbest estimator rf's best error=0.0833\n",
      "[flaml.automl.automl: 02-19 13:25:09] {3323} INFO - iteration 75, current learner rf\n",
      "[flaml.automl.automl: 02-19 13:25:09] {3508} INFO -  at 5.0s,\testimator rf's best error=0.0833,\tbest estimator rf's best error=0.0833\n",
      "[flaml.automl.automl: 02-19 13:25:09] {3323} INFO - iteration 76, current learner rf\n",
      "[flaml.automl.automl: 02-19 13:25:09] {3508} INFO -  at 5.0s,\testimator rf's best error=0.0833,\tbest estimator rf's best error=0.0833\n",
      "[flaml.automl.automl: 02-19 13:25:09] {3323} INFO - iteration 77, current learner rf\n",
      "[flaml.automl.automl: 02-19 13:25:09] {3508} INFO -  at 5.1s,\testimator rf's best error=0.0833,\tbest estimator rf's best error=0.0833\n",
      "[flaml.automl.automl: 02-19 13:25:09] {3323} INFO - iteration 78, current learner rf\n",
      "[flaml.automl.automl: 02-19 13:25:09] {3508} INFO -  at 5.2s,\testimator rf's best error=0.0833,\tbest estimator rf's best error=0.0833\n",
      "[flaml.automl.automl: 02-19 13:25:09] {3323} INFO - iteration 79, current learner rf\n",
      "[flaml.automl.automl: 02-19 13:25:09] {3508} INFO -  at 5.2s,\testimator rf's best error=0.0833,\tbest estimator rf's best error=0.0833\n",
      "[flaml.automl.automl: 02-19 13:25:09] {3323} INFO - iteration 80, current learner rf\n",
      "[flaml.automl.automl: 02-19 13:25:09] {3508} INFO -  at 5.3s,\testimator rf's best error=0.0833,\tbest estimator rf's best error=0.0833\n",
      "[flaml.automl.automl: 02-19 13:25:09] {3323} INFO - iteration 81, current learner rf\n",
      "[flaml.automl.automl: 02-19 13:25:09] {3508} INFO -  at 5.3s,\testimator rf's best error=0.0833,\tbest estimator rf's best error=0.0833\n",
      "[flaml.automl.automl: 02-19 13:25:09] {3323} INFO - iteration 82, current learner rf\n",
      "[flaml.automl.automl: 02-19 13:25:09] {3508} INFO -  at 5.4s,\testimator rf's best error=0.0833,\tbest estimator rf's best error=0.0833\n",
      "[flaml.automl.automl: 02-19 13:25:09] {3323} INFO - iteration 83, current learner rf\n",
      "[flaml.automl.automl: 02-19 13:25:09] {3508} INFO -  at 5.5s,\testimator rf's best error=0.0833,\tbest estimator rf's best error=0.0833\n",
      "[flaml.automl.automl: 02-19 13:25:09] {3323} INFO - iteration 84, current learner rf\n",
      "[flaml.automl.automl: 02-19 13:25:09] {3508} INFO -  at 5.5s,\testimator rf's best error=0.0833,\tbest estimator rf's best error=0.0833\n",
      "[flaml.automl.automl: 02-19 13:25:09] {3323} INFO - iteration 85, current learner rf\n",
      "[flaml.automl.automl: 02-19 13:25:09] {3508} INFO -  at 5.7s,\testimator rf's best error=0.0833,\tbest estimator rf's best error=0.0833\n",
      "[flaml.automl.automl: 02-19 13:25:09] {3323} INFO - iteration 86, current learner rf\n",
      "[flaml.automl.automl: 02-19 13:25:09] {3508} INFO -  at 5.7s,\testimator rf's best error=0.0833,\tbest estimator rf's best error=0.0833\n",
      "[flaml.automl.automl: 02-19 13:25:09] {3323} INFO - iteration 87, current learner rf\n",
      "[flaml.automl.automl: 02-19 13:25:10] {3508} INFO -  at 5.8s,\testimator rf's best error=0.0833,\tbest estimator rf's best error=0.0833\n",
      "[flaml.automl.automl: 02-19 13:25:10] {3323} INFO - iteration 88, current learner rf\n",
      "[flaml.automl.automl: 02-19 13:25:10] {3508} INFO -  at 5.8s,\testimator rf's best error=0.0833,\tbest estimator rf's best error=0.0833\n",
      "[flaml.automl.automl: 02-19 13:25:10] {3323} INFO - iteration 89, current learner rf\n",
      "[flaml.automl.automl: 02-19 13:25:10] {3508} INFO -  at 5.9s,\testimator rf's best error=0.0833,\tbest estimator rf's best error=0.0833\n",
      "[flaml.automl.automl: 02-19 13:25:10] {3323} INFO - iteration 90, current learner rf\n",
      "[flaml.automl.automl: 02-19 13:25:10] {3508} INFO -  at 6.0s,\testimator rf's best error=0.0833,\tbest estimator rf's best error=0.0833\n",
      "[flaml.automl.automl: 02-19 13:25:10] {3323} INFO - iteration 91, current learner rf\n",
      "[flaml.automl.automl: 02-19 13:25:10] {3508} INFO -  at 6.0s,\testimator rf's best error=0.0833,\tbest estimator rf's best error=0.0833\n",
      "[flaml.automl.automl: 02-19 13:25:10] {3323} INFO - iteration 92, current learner rf\n",
      "[flaml.automl.automl: 02-19 13:25:10] {3508} INFO -  at 6.1s,\testimator rf's best error=0.0833,\tbest estimator rf's best error=0.0833\n",
      "[flaml.automl.automl: 02-19 13:25:10] {3323} INFO - iteration 93, current learner rf\n",
      "[flaml.automl.automl: 02-19 13:25:10] {3508} INFO -  at 6.2s,\testimator rf's best error=0.0833,\tbest estimator rf's best error=0.0833\n",
      "[flaml.automl.automl: 02-19 13:25:10] {3323} INFO - iteration 94, current learner rf\n",
      "[flaml.automl.automl: 02-19 13:25:10] {3508} INFO -  at 6.2s,\testimator rf's best error=0.0833,\tbest estimator rf's best error=0.0833\n",
      "[flaml.automl.automl: 02-19 13:25:10] {3323} INFO - iteration 95, current learner rf\n",
      "[flaml.automl.automl: 02-19 13:25:10] {3508} INFO -  at 6.3s,\testimator rf's best error=0.0833,\tbest estimator rf's best error=0.0833\n",
      "[flaml.automl.automl: 02-19 13:25:10] {3323} INFO - iteration 96, current learner rf\n",
      "[flaml.automl.automl: 02-19 13:25:10] {3508} INFO -  at 6.4s,\testimator rf's best error=0.0833,\tbest estimator rf's best error=0.0833\n",
      "[flaml.automl.automl: 02-19 13:25:10] {3323} INFO - iteration 97, current learner rf\n",
      "[flaml.automl.automl: 02-19 13:25:10] {3508} INFO -  at 6.4s,\testimator rf's best error=0.0833,\tbest estimator rf's best error=0.0833\n",
      "[flaml.automl.automl: 02-19 13:25:10] {3323} INFO - iteration 98, current learner rf\n",
      "[flaml.automl.automl: 02-19 13:25:10] {3508} INFO -  at 6.5s,\testimator rf's best error=0.0833,\tbest estimator rf's best error=0.0833\n",
      "[flaml.automl.automl: 02-19 13:25:10] {3323} INFO - iteration 99, current learner rf\n",
      "[flaml.automl.automl: 02-19 13:25:10] {3508} INFO -  at 6.6s,\testimator rf's best error=0.0833,\tbest estimator rf's best error=0.0833\n",
      "[flaml.automl.automl: 02-19 13:25:10] {3323} INFO - iteration 100, current learner rf\n",
      "[flaml.automl.automl: 02-19 13:25:10] {3508} INFO -  at 6.6s,\testimator rf's best error=0.0833,\tbest estimator rf's best error=0.0833\n",
      "[flaml.automl.automl: 02-19 13:25:10] {3323} INFO - iteration 101, current learner rf\n",
      "[flaml.automl.automl: 02-19 13:25:10] {3508} INFO -  at 6.7s,\testimator rf's best error=0.0833,\tbest estimator rf's best error=0.0833\n",
      "[flaml.automl.automl: 02-19 13:25:10] {3323} INFO - iteration 102, current learner rf\n",
      "[flaml.automl.automl: 02-19 13:25:11] {3508} INFO -  at 6.8s,\testimator rf's best error=0.0833,\tbest estimator rf's best error=0.0833\n",
      "[flaml.automl.automl: 02-19 13:25:11] {3323} INFO - iteration 103, current learner rf\n",
      "[flaml.automl.automl: 02-19 13:25:11] {3508} INFO -  at 6.9s,\testimator rf's best error=0.0833,\tbest estimator rf's best error=0.0833\n",
      "[flaml.automl.automl: 02-19 13:25:11] {3323} INFO - iteration 104, current learner rf\n",
      "[flaml.automl.automl: 02-19 13:25:11] {3508} INFO -  at 6.9s,\testimator rf's best error=0.0833,\tbest estimator rf's best error=0.0833\n",
      "[flaml.automl.automl: 02-19 13:25:11] {3323} INFO - iteration 105, current learner rf\n",
      "[flaml.automl.automl: 02-19 13:25:11] {3508} INFO -  at 7.0s,\testimator rf's best error=0.0833,\tbest estimator rf's best error=0.0833\n",
      "[flaml.automl.automl: 02-19 13:25:11] {3323} INFO - iteration 106, current learner rf\n",
      "[flaml.automl.automl: 02-19 13:25:11] {3508} INFO -  at 7.0s,\testimator rf's best error=0.0833,\tbest estimator rf's best error=0.0833\n",
      "[flaml.automl.automl: 02-19 13:25:11] {3323} INFO - iteration 107, current learner rf\n"
     ]
    },
    {
     "name": "stdout",
     "output_type": "stream",
     "text": [
      "[flaml.automl.automl: 02-19 13:25:11] {3508} INFO -  at 7.1s,\testimator rf's best error=0.0833,\tbest estimator rf's best error=0.0833\n",
      "[flaml.automl.automl: 02-19 13:25:11] {3323} INFO - iteration 108, current learner rf\n",
      "[flaml.automl.automl: 02-19 13:25:11] {3508} INFO -  at 7.2s,\testimator rf's best error=0.0833,\tbest estimator rf's best error=0.0833\n",
      "[flaml.automl.automl: 02-19 13:25:11] {3323} INFO - iteration 109, current learner rf\n",
      "[flaml.automl.automl: 02-19 13:25:11] {3508} INFO -  at 7.3s,\testimator rf's best error=0.0833,\tbest estimator rf's best error=0.0833\n",
      "[flaml.automl.automl: 02-19 13:25:11] {3323} INFO - iteration 110, current learner rf\n",
      "[flaml.automl.automl: 02-19 13:25:11] {3508} INFO -  at 7.3s,\testimator rf's best error=0.0833,\tbest estimator rf's best error=0.0833\n",
      "[flaml.automl.automl: 02-19 13:25:11] {3323} INFO - iteration 111, current learner rf\n",
      "[flaml.automl.automl: 02-19 13:25:11] {3508} INFO -  at 7.4s,\testimator rf's best error=0.0833,\tbest estimator rf's best error=0.0833\n",
      "[flaml.automl.automl: 02-19 13:25:11] {3323} INFO - iteration 112, current learner rf\n",
      "[flaml.automl.automl: 02-19 13:25:11] {3508} INFO -  at 7.5s,\testimator rf's best error=0.0833,\tbest estimator rf's best error=0.0833\n",
      "[flaml.automl.automl: 02-19 13:25:11] {3323} INFO - iteration 113, current learner rf\n",
      "[flaml.automl.automl: 02-19 13:25:11] {3508} INFO -  at 7.5s,\testimator rf's best error=0.0833,\tbest estimator rf's best error=0.0833\n",
      "[flaml.automl.automl: 02-19 13:25:11] {3323} INFO - iteration 114, current learner rf\n",
      "[flaml.automl.automl: 02-19 13:25:11] {3508} INFO -  at 7.6s,\testimator rf's best error=0.0833,\tbest estimator rf's best error=0.0833\n",
      "[flaml.automl.automl: 02-19 13:25:11] {3323} INFO - iteration 115, current learner rf\n",
      "[flaml.automl.automl: 02-19 13:25:11] {3508} INFO -  at 7.7s,\testimator rf's best error=0.0833,\tbest estimator rf's best error=0.0833\n",
      "[flaml.automl.automl: 02-19 13:25:11] {3323} INFO - iteration 116, current learner rf\n",
      "[flaml.automl.automl: 02-19 13:25:12] {3508} INFO -  at 7.8s,\testimator rf's best error=0.0833,\tbest estimator rf's best error=0.0833\n",
      "[flaml.automl.automl: 02-19 13:25:12] {3323} INFO - iteration 117, current learner rf\n",
      "[flaml.automl.automl: 02-19 13:25:12] {3508} INFO -  at 7.8s,\testimator rf's best error=0.0833,\tbest estimator rf's best error=0.0833\n",
      "[flaml.automl.automl: 02-19 13:25:12] {3323} INFO - iteration 118, current learner rf\n",
      "[flaml.automl.automl: 02-19 13:25:12] {3508} INFO -  at 7.9s,\testimator rf's best error=0.0833,\tbest estimator rf's best error=0.0833\n",
      "[flaml.automl.automl: 02-19 13:25:12] {3323} INFO - iteration 119, current learner rf\n",
      "[flaml.automl.automl: 02-19 13:25:12] {3508} INFO -  at 8.0s,\testimator rf's best error=0.0833,\tbest estimator rf's best error=0.0833\n",
      "[flaml.automl.automl: 02-19 13:25:12] {3323} INFO - iteration 120, current learner rf\n",
      "[flaml.automl.automl: 02-19 13:25:12] {3508} INFO -  at 8.0s,\testimator rf's best error=0.0833,\tbest estimator rf's best error=0.0833\n",
      "[flaml.automl.automl: 02-19 13:25:12] {3323} INFO - iteration 121, current learner rf\n",
      "[flaml.automl.automl: 02-19 13:25:12] {3508} INFO -  at 8.1s,\testimator rf's best error=0.0833,\tbest estimator rf's best error=0.0833\n",
      "[flaml.automl.automl: 02-19 13:25:12] {3323} INFO - iteration 122, current learner rf\n",
      "[flaml.automl.automl: 02-19 13:25:12] {3508} INFO -  at 8.2s,\testimator rf's best error=0.0833,\tbest estimator rf's best error=0.0833\n",
      "[flaml.automl.automl: 02-19 13:25:12] {3323} INFO - iteration 123, current learner rf\n",
      "[flaml.automl.automl: 02-19 13:25:12] {3508} INFO -  at 8.2s,\testimator rf's best error=0.0833,\tbest estimator rf's best error=0.0833\n",
      "[flaml.automl.automl: 02-19 13:25:12] {3323} INFO - iteration 124, current learner rf\n",
      "[flaml.automl.automl: 02-19 13:25:12] {3508} INFO -  at 8.3s,\testimator rf's best error=0.0833,\tbest estimator rf's best error=0.0833\n",
      "[flaml.automl.automl: 02-19 13:25:12] {3323} INFO - iteration 125, current learner rf\n",
      "[flaml.automl.automl: 02-19 13:25:12] {3508} INFO -  at 8.4s,\testimator rf's best error=0.0833,\tbest estimator rf's best error=0.0833\n",
      "[flaml.automl.automl: 02-19 13:25:12] {3323} INFO - iteration 126, current learner rf\n",
      "[flaml.automl.automl: 02-19 13:25:12] {3508} INFO -  at 8.5s,\testimator rf's best error=0.0833,\tbest estimator rf's best error=0.0833\n",
      "[flaml.automl.automl: 02-19 13:25:12] {3323} INFO - iteration 127, current learner rf\n",
      "[flaml.automl.automl: 02-19 13:25:12] {3508} INFO -  at 8.5s,\testimator rf's best error=0.0833,\tbest estimator rf's best error=0.0833\n",
      "[flaml.automl.automl: 02-19 13:25:12] {3323} INFO - iteration 128, current learner rf\n",
      "[flaml.automl.automl: 02-19 13:25:12] {3508} INFO -  at 8.6s,\testimator rf's best error=0.0833,\tbest estimator rf's best error=0.0833\n",
      "[flaml.automl.automl: 02-19 13:25:12] {3323} INFO - iteration 129, current learner rf\n",
      "[flaml.automl.automl: 02-19 13:25:12] {3508} INFO -  at 8.7s,\testimator rf's best error=0.0833,\tbest estimator rf's best error=0.0833\n",
      "[flaml.automl.automl: 02-19 13:25:12] {3323} INFO - iteration 130, current learner rf\n",
      "[flaml.automl.automl: 02-19 13:25:13] {3508} INFO -  at 8.7s,\testimator rf's best error=0.0833,\tbest estimator rf's best error=0.0833\n",
      "[flaml.automl.automl: 02-19 13:25:13] {3323} INFO - iteration 131, current learner rf\n",
      "[flaml.automl.automl: 02-19 13:25:13] {3508} INFO -  at 8.8s,\testimator rf's best error=0.0833,\tbest estimator rf's best error=0.0833\n",
      "[flaml.automl.automl: 02-19 13:25:13] {3323} INFO - iteration 132, current learner rf\n",
      "[flaml.automl.automl: 02-19 13:25:13] {3508} INFO -  at 8.9s,\testimator rf's best error=0.0833,\tbest estimator rf's best error=0.0833\n",
      "[flaml.automl.automl: 02-19 13:25:13] {3323} INFO - iteration 133, current learner rf\n",
      "[flaml.automl.automl: 02-19 13:25:13] {3508} INFO -  at 8.9s,\testimator rf's best error=0.0833,\tbest estimator rf's best error=0.0833\n",
      "[flaml.automl.automl: 02-19 13:25:13] {3323} INFO - iteration 134, current learner rf\n",
      "[flaml.automl.automl: 02-19 13:25:13] {3508} INFO -  at 9.0s,\testimator rf's best error=0.0833,\tbest estimator rf's best error=0.0833\n",
      "[flaml.automl.automl: 02-19 13:25:13] {3323} INFO - iteration 135, current learner rf\n",
      "[flaml.automl.automl: 02-19 13:25:13] {3508} INFO -  at 9.1s,\testimator rf's best error=0.0833,\tbest estimator rf's best error=0.0833\n",
      "[flaml.automl.automl: 02-19 13:25:13] {3323} INFO - iteration 136, current learner rf\n",
      "[flaml.automl.automl: 02-19 13:25:13] {3508} INFO -  at 9.2s,\testimator rf's best error=0.0833,\tbest estimator rf's best error=0.0833\n",
      "[flaml.automl.automl: 02-19 13:25:13] {3323} INFO - iteration 137, current learner rf\n",
      "[flaml.automl.automl: 02-19 13:25:13] {3508} INFO -  at 9.3s,\testimator rf's best error=0.0833,\tbest estimator rf's best error=0.0833\n",
      "[flaml.automl.automl: 02-19 13:25:13] {3323} INFO - iteration 138, current learner rf\n",
      "[flaml.automl.automl: 02-19 13:25:13] {3508} INFO -  at 9.3s,\testimator rf's best error=0.0833,\tbest estimator rf's best error=0.0833\n",
      "[flaml.automl.automl: 02-19 13:25:13] {3323} INFO - iteration 139, current learner rf\n",
      "[flaml.automl.automl: 02-19 13:25:13] {3508} INFO -  at 9.4s,\testimator rf's best error=0.0833,\tbest estimator rf's best error=0.0833\n",
      "[flaml.automl.automl: 02-19 13:25:13] {3323} INFO - iteration 140, current learner rf\n",
      "[flaml.automl.automl: 02-19 13:25:13] {3508} INFO -  at 9.5s,\testimator rf's best error=0.0833,\tbest estimator rf's best error=0.0833\n",
      "[flaml.automl.automl: 02-19 13:25:13] {3323} INFO - iteration 141, current learner rf\n",
      "[flaml.automl.automl: 02-19 13:25:13] {3508} INFO -  at 9.5s,\testimator rf's best error=0.0833,\tbest estimator rf's best error=0.0833\n",
      "[flaml.automl.automl: 02-19 13:25:13] {3323} INFO - iteration 142, current learner rf\n",
      "[flaml.automl.automl: 02-19 13:25:13] {3508} INFO -  at 9.6s,\testimator rf's best error=0.0833,\tbest estimator rf's best error=0.0833\n",
      "[flaml.automl.automl: 02-19 13:25:13] {3323} INFO - iteration 143, current learner rf\n",
      "[flaml.automl.automl: 02-19 13:25:13] {3508} INFO -  at 9.7s,\testimator rf's best error=0.0833,\tbest estimator rf's best error=0.0833\n",
      "[flaml.automl.automl: 02-19 13:25:13] {3323} INFO - iteration 144, current learner rf\n",
      "[flaml.automl.automl: 02-19 13:25:14] {3508} INFO -  at 9.8s,\testimator rf's best error=0.0833,\tbest estimator rf's best error=0.0833\n"
     ]
    },
    {
     "name": "stdout",
     "output_type": "stream",
     "text": [
      "[flaml.automl.automl: 02-19 13:25:14] {3323} INFO - iteration 145, current learner rf\n",
      "[flaml.automl.automl: 02-19 13:25:14] {3508} INFO -  at 9.8s,\testimator rf's best error=0.0833,\tbest estimator rf's best error=0.0833\n",
      "[flaml.automl.automl: 02-19 13:25:14] {3323} INFO - iteration 146, current learner rf\n",
      "[flaml.automl.automl: 02-19 13:25:14] {3508} INFO -  at 9.9s,\testimator rf's best error=0.0833,\tbest estimator rf's best error=0.0833\n",
      "[flaml.automl.automl: 02-19 13:25:14] {3323} INFO - iteration 147, current learner rf\n",
      "[flaml.automl.automl: 02-19 13:25:14] {3508} INFO -  at 10.0s,\testimator rf's best error=0.0833,\tbest estimator rf's best error=0.0833\n",
      "[flaml.automl.automl: 02-19 13:25:14] {3323} INFO - iteration 148, current learner rf\n",
      "[flaml.automl.automl: 02-19 13:25:14] {3508} INFO -  at 10.0s,\testimator rf's best error=0.0833,\tbest estimator rf's best error=0.0833\n",
      "[flaml.automl.automl: 02-19 13:25:14] {3323} INFO - iteration 149, current learner rf\n",
      "[flaml.automl.automl: 02-19 13:25:14] {3508} INFO -  at 10.1s,\testimator rf's best error=0.0833,\tbest estimator rf's best error=0.0833\n",
      "[flaml.automl.automl: 02-19 13:25:14] {3323} INFO - iteration 150, current learner rf\n",
      "[flaml.automl.automl: 02-19 13:25:14] {3508} INFO -  at 10.1s,\testimator rf's best error=0.0833,\tbest estimator rf's best error=0.0833\n",
      "[flaml.automl.automl: 02-19 13:25:14] {3323} INFO - iteration 151, current learner rf\n",
      "[flaml.automl.automl: 02-19 13:25:14] {3508} INFO -  at 10.2s,\testimator rf's best error=0.0833,\tbest estimator rf's best error=0.0833\n",
      "[flaml.automl.automl: 02-19 13:25:14] {3323} INFO - iteration 152, current learner rf\n",
      "[flaml.automl.automl: 02-19 13:25:14] {3508} INFO -  at 10.3s,\testimator rf's best error=0.0833,\tbest estimator rf's best error=0.0833\n",
      "[flaml.automl.automl: 02-19 13:25:14] {3323} INFO - iteration 153, current learner rf\n",
      "[flaml.automl.automl: 02-19 13:25:14] {3508} INFO -  at 10.3s,\testimator rf's best error=0.0833,\tbest estimator rf's best error=0.0833\n",
      "[flaml.automl.automl: 02-19 13:25:14] {3323} INFO - iteration 154, current learner rf\n",
      "[flaml.automl.automl: 02-19 13:25:14] {3508} INFO -  at 10.4s,\testimator rf's best error=0.0833,\tbest estimator rf's best error=0.0833\n",
      "[flaml.automl.automl: 02-19 13:25:14] {3323} INFO - iteration 155, current learner rf\n",
      "[flaml.automl.automl: 02-19 13:25:14] {3508} INFO -  at 10.4s,\testimator rf's best error=0.0833,\tbest estimator rf's best error=0.0833\n",
      "[flaml.automl.automl: 02-19 13:25:14] {3323} INFO - iteration 156, current learner rf\n",
      "[flaml.automl.automl: 02-19 13:25:14] {3508} INFO -  at 10.5s,\testimator rf's best error=0.0833,\tbest estimator rf's best error=0.0833\n",
      "[flaml.automl.automl: 02-19 13:25:14] {3323} INFO - iteration 157, current learner rf\n",
      "[flaml.automl.automl: 02-19 13:25:14] {3508} INFO -  at 10.6s,\testimator rf's best error=0.0833,\tbest estimator rf's best error=0.0833\n",
      "[flaml.automl.automl: 02-19 13:25:14] {3323} INFO - iteration 158, current learner rf\n",
      "[flaml.automl.automl: 02-19 13:25:14] {3508} INFO -  at 10.7s,\testimator rf's best error=0.0833,\tbest estimator rf's best error=0.0833\n",
      "[flaml.automl.automl: 02-19 13:25:14] {3323} INFO - iteration 159, current learner rf\n",
      "[flaml.automl.automl: 02-19 13:25:15] {3508} INFO -  at 10.8s,\testimator rf's best error=0.0833,\tbest estimator rf's best error=0.0833\n",
      "[flaml.automl.automl: 02-19 13:25:15] {3323} INFO - iteration 160, current learner rf\n",
      "[flaml.automl.automl: 02-19 13:25:15] {3508} INFO -  at 10.8s,\testimator rf's best error=0.0833,\tbest estimator rf's best error=0.0833\n",
      "[flaml.automl.automl: 02-19 13:25:15] {3323} INFO - iteration 161, current learner rf\n",
      "[flaml.automl.automl: 02-19 13:25:15] {3508} INFO -  at 10.9s,\testimator rf's best error=0.0833,\tbest estimator rf's best error=0.0833\n",
      "[flaml.automl.automl: 02-19 13:25:15] {3323} INFO - iteration 162, current learner rf\n",
      "[flaml.automl.automl: 02-19 13:25:15] {3508} INFO -  at 10.9s,\testimator rf's best error=0.0833,\tbest estimator rf's best error=0.0833\n",
      "[flaml.automl.automl: 02-19 13:25:15] {3323} INFO - iteration 163, current learner rf\n",
      "[flaml.automl.automl: 02-19 13:25:15] {3508} INFO -  at 11.0s,\testimator rf's best error=0.0833,\tbest estimator rf's best error=0.0833\n",
      "[flaml.automl.automl: 02-19 13:25:15] {3323} INFO - iteration 164, current learner rf\n",
      "[flaml.automl.automl: 02-19 13:25:15] {3508} INFO -  at 11.1s,\testimator rf's best error=0.0833,\tbest estimator rf's best error=0.0833\n",
      "[flaml.automl.automl: 02-19 13:25:15] {3323} INFO - iteration 165, current learner rf\n",
      "[flaml.automl.automl: 02-19 13:25:15] {3508} INFO -  at 11.2s,\testimator rf's best error=0.0833,\tbest estimator rf's best error=0.0833\n",
      "[flaml.automl.automl: 02-19 13:25:15] {3323} INFO - iteration 166, current learner rf\n",
      "[flaml.automl.automl: 02-19 13:25:15] {3508} INFO -  at 11.2s,\testimator rf's best error=0.0833,\tbest estimator rf's best error=0.0833\n",
      "[flaml.automl.automl: 02-19 13:25:15] {3323} INFO - iteration 167, current learner rf\n",
      "[flaml.automl.automl: 02-19 13:25:15] {3508} INFO -  at 11.3s,\testimator rf's best error=0.0833,\tbest estimator rf's best error=0.0833\n",
      "[flaml.automl.automl: 02-19 13:25:15] {3323} INFO - iteration 168, current learner rf\n",
      "[flaml.automl.automl: 02-19 13:25:15] {3508} INFO -  at 11.4s,\testimator rf's best error=0.0833,\tbest estimator rf's best error=0.0833\n",
      "[flaml.automl.automl: 02-19 13:25:15] {3323} INFO - iteration 169, current learner rf\n",
      "[flaml.automl.automl: 02-19 13:25:15] {3508} INFO -  at 11.4s,\testimator rf's best error=0.0833,\tbest estimator rf's best error=0.0833\n",
      "[flaml.automl.automl: 02-19 13:25:15] {3323} INFO - iteration 170, current learner rf\n",
      "[flaml.automl.automl: 02-19 13:25:15] {3508} INFO -  at 11.5s,\testimator rf's best error=0.0833,\tbest estimator rf's best error=0.0833\n",
      "[flaml.automl.automl: 02-19 13:25:15] {3323} INFO - iteration 171, current learner rf\n",
      "[flaml.automl.automl: 02-19 13:25:15] {3508} INFO -  at 11.6s,\testimator rf's best error=0.0833,\tbest estimator rf's best error=0.0833\n",
      "[flaml.automl.automl: 02-19 13:25:15] {3323} INFO - iteration 172, current learner rf\n",
      "[flaml.automl.automl: 02-19 13:25:15] {3508} INFO -  at 11.7s,\testimator rf's best error=0.0833,\tbest estimator rf's best error=0.0833\n",
      "[flaml.automl.automl: 02-19 13:25:15] {3323} INFO - iteration 173, current learner rf\n",
      "[flaml.automl.automl: 02-19 13:25:15] {3508} INFO -  at 11.7s,\testimator rf's best error=0.0833,\tbest estimator rf's best error=0.0833\n",
      "[flaml.automl.automl: 02-19 13:25:15] {3323} INFO - iteration 174, current learner rf\n",
      "[flaml.automl.automl: 02-19 13:25:16] {3508} INFO -  at 11.8s,\testimator rf's best error=0.0833,\tbest estimator rf's best error=0.0833\n",
      "[flaml.automl.automl: 02-19 13:25:16] {3323} INFO - iteration 175, current learner rf\n",
      "[flaml.automl.automl: 02-19 13:25:16] {3508} INFO -  at 11.9s,\testimator rf's best error=0.0833,\tbest estimator rf's best error=0.0833\n",
      "[flaml.automl.automl: 02-19 13:25:16] {3323} INFO - iteration 176, current learner rf\n",
      "[flaml.automl.automl: 02-19 13:25:16] {3508} INFO -  at 11.9s,\testimator rf's best error=0.0833,\tbest estimator rf's best error=0.0833\n",
      "[flaml.automl.automl: 02-19 13:25:16] {3323} INFO - iteration 177, current learner rf\n",
      "[flaml.automl.automl: 02-19 13:25:16] {3508} INFO -  at 12.0s,\testimator rf's best error=0.0833,\tbest estimator rf's best error=0.0833\n",
      "[flaml.automl.automl: 02-19 13:25:16] {3323} INFO - iteration 178, current learner rf\n",
      "[flaml.automl.automl: 02-19 13:25:16] {3508} INFO -  at 12.1s,\testimator rf's best error=0.0833,\tbest estimator rf's best error=0.0833\n",
      "[flaml.automl.automl: 02-19 13:25:16] {3323} INFO - iteration 179, current learner rf\n",
      "[flaml.automl.automl: 02-19 13:25:16] {3508} INFO -  at 12.2s,\testimator rf's best error=0.0833,\tbest estimator rf's best error=0.0833\n",
      "[flaml.automl.automl: 02-19 13:25:16] {3323} INFO - iteration 180, current learner rf\n",
      "[flaml.automl.automl: 02-19 13:25:16] {3508} INFO -  at 12.3s,\testimator rf's best error=0.0833,\tbest estimator rf's best error=0.0833\n",
      "[flaml.automl.automl: 02-19 13:25:16] {3323} INFO - iteration 181, current learner rf\n",
      "[flaml.automl.automl: 02-19 13:25:16] {3508} INFO -  at 12.3s,\testimator rf's best error=0.0833,\tbest estimator rf's best error=0.0833\n",
      "[flaml.automl.automl: 02-19 13:25:16] {3323} INFO - iteration 182, current learner rf\n"
     ]
    },
    {
     "name": "stdout",
     "output_type": "stream",
     "text": [
      "[flaml.automl.automl: 02-19 13:25:16] {3508} INFO -  at 12.4s,\testimator rf's best error=0.0833,\tbest estimator rf's best error=0.0833\n",
      "[flaml.automl.automl: 02-19 13:25:16] {3323} INFO - iteration 183, current learner rf\n",
      "[flaml.automl.automl: 02-19 13:25:16] {3508} INFO -  at 12.5s,\testimator rf's best error=0.0833,\tbest estimator rf's best error=0.0833\n",
      "[flaml.automl.automl: 02-19 13:25:16] {3323} INFO - iteration 184, current learner rf\n",
      "[flaml.automl.automl: 02-19 13:25:16] {3508} INFO -  at 12.6s,\testimator rf's best error=0.0833,\tbest estimator rf's best error=0.0833\n",
      "[flaml.automl.automl: 02-19 13:25:16] {3323} INFO - iteration 185, current learner rf\n",
      "[flaml.automl.automl: 02-19 13:25:16] {3508} INFO -  at 12.6s,\testimator rf's best error=0.0833,\tbest estimator rf's best error=0.0833\n",
      "[flaml.automl.automl: 02-19 13:25:16] {3323} INFO - iteration 186, current learner rf\n",
      "[flaml.automl.automl: 02-19 13:25:16] {3508} INFO -  at 12.7s,\testimator rf's best error=0.0833,\tbest estimator rf's best error=0.0833\n",
      "[flaml.automl.automl: 02-19 13:25:16] {3323} INFO - iteration 187, current learner rf\n",
      "[flaml.automl.automl: 02-19 13:25:16] {3508} INFO -  at 12.7s,\testimator rf's best error=0.0833,\tbest estimator rf's best error=0.0833\n",
      "[flaml.automl.automl: 02-19 13:25:16] {3323} INFO - iteration 188, current learner rf\n",
      "[flaml.automl.automl: 02-19 13:25:17] {3508} INFO -  at 12.8s,\testimator rf's best error=0.0833,\tbest estimator rf's best error=0.0833\n",
      "[flaml.automl.automl: 02-19 13:25:17] {3323} INFO - iteration 189, current learner rf\n",
      "[flaml.automl.automl: 02-19 13:25:17] {3508} INFO -  at 12.9s,\testimator rf's best error=0.0833,\tbest estimator rf's best error=0.0833\n",
      "[flaml.automl.automl: 02-19 13:25:17] {3323} INFO - iteration 190, current learner rf\n",
      "[flaml.automl.automl: 02-19 13:25:17] {3508} INFO -  at 13.0s,\testimator rf's best error=0.0833,\tbest estimator rf's best error=0.0833\n",
      "[flaml.automl.automl: 02-19 13:25:17] {3323} INFO - iteration 191, current learner rf\n",
      "[flaml.automl.automl: 02-19 13:25:17] {3508} INFO -  at 13.0s,\testimator rf's best error=0.0833,\tbest estimator rf's best error=0.0833\n",
      "[flaml.automl.automl: 02-19 13:25:17] {3323} INFO - iteration 192, current learner rf\n",
      "[flaml.automl.automl: 02-19 13:25:17] {3508} INFO -  at 13.1s,\testimator rf's best error=0.0833,\tbest estimator rf's best error=0.0833\n",
      "[flaml.automl.automl: 02-19 13:25:17] {3323} INFO - iteration 193, current learner rf\n",
      "[flaml.automl.automl: 02-19 13:25:17] {3508} INFO -  at 13.2s,\testimator rf's best error=0.0833,\tbest estimator rf's best error=0.0833\n",
      "[flaml.automl.automl: 02-19 13:25:17] {3323} INFO - iteration 194, current learner rf\n",
      "[flaml.automl.automl: 02-19 13:25:17] {3508} INFO -  at 13.2s,\testimator rf's best error=0.0833,\tbest estimator rf's best error=0.0833\n",
      "[flaml.automl.automl: 02-19 13:25:17] {3323} INFO - iteration 195, current learner rf\n",
      "[flaml.automl.automl: 02-19 13:25:17] {3508} INFO -  at 13.3s,\testimator rf's best error=0.0833,\tbest estimator rf's best error=0.0833\n",
      "[flaml.automl.automl: 02-19 13:25:17] {3323} INFO - iteration 196, current learner rf\n",
      "[flaml.automl.automl: 02-19 13:25:17] {3508} INFO -  at 13.4s,\testimator rf's best error=0.0833,\tbest estimator rf's best error=0.0833\n",
      "[flaml.automl.automl: 02-19 13:25:17] {3323} INFO - iteration 197, current learner rf\n",
      "[flaml.automl.automl: 02-19 13:25:17] {3508} INFO -  at 13.5s,\testimator rf's best error=0.0833,\tbest estimator rf's best error=0.0833\n",
      "[flaml.automl.automl: 02-19 13:25:17] {3323} INFO - iteration 198, current learner rf\n",
      "[flaml.automl.automl: 02-19 13:25:17] {3508} INFO -  at 13.5s,\testimator rf's best error=0.0833,\tbest estimator rf's best error=0.0833\n",
      "[flaml.automl.automl: 02-19 13:25:17] {3323} INFO - iteration 199, current learner rf\n",
      "[flaml.automl.automl: 02-19 13:25:17] {3508} INFO -  at 13.6s,\testimator rf's best error=0.0833,\tbest estimator rf's best error=0.0833\n",
      "[flaml.automl.automl: 02-19 13:25:17] {3323} INFO - iteration 200, current learner rf\n",
      "[flaml.automl.automl: 02-19 13:25:17] {3508} INFO -  at 13.7s,\testimator rf's best error=0.0833,\tbest estimator rf's best error=0.0833\n",
      "[flaml.automl.automl: 02-19 13:25:17] {3323} INFO - iteration 201, current learner rf\n",
      "[flaml.automl.automl: 02-19 13:25:18] {3508} INFO -  at 13.8s,\testimator rf's best error=0.0833,\tbest estimator rf's best error=0.0833\n",
      "[flaml.automl.automl: 02-19 13:25:18] {3323} INFO - iteration 202, current learner rf\n",
      "[flaml.automl.automl: 02-19 13:25:18] {3508} INFO -  at 13.8s,\testimator rf's best error=0.0833,\tbest estimator rf's best error=0.0833\n",
      "[flaml.automl.automl: 02-19 13:25:18] {3323} INFO - iteration 203, current learner rf\n",
      "[flaml.automl.automl: 02-19 13:25:18] {3508} INFO -  at 13.9s,\testimator rf's best error=0.0833,\tbest estimator rf's best error=0.0833\n",
      "[flaml.automl.automl: 02-19 13:25:18] {3323} INFO - iteration 204, current learner rf\n",
      "[flaml.automl.automl: 02-19 13:25:18] {3508} INFO -  at 14.0s,\testimator rf's best error=0.0833,\tbest estimator rf's best error=0.0833\n",
      "[flaml.automl.automl: 02-19 13:25:18] {3323} INFO - iteration 205, current learner rf\n",
      "[flaml.automl.automl: 02-19 13:25:18] {3508} INFO -  at 14.0s,\testimator rf's best error=0.0833,\tbest estimator rf's best error=0.0833\n",
      "[flaml.automl.automl: 02-19 13:25:18] {3323} INFO - iteration 206, current learner rf\n",
      "[flaml.automl.automl: 02-19 13:25:18] {3508} INFO -  at 14.1s,\testimator rf's best error=0.0833,\tbest estimator rf's best error=0.0833\n",
      "[flaml.automl.automl: 02-19 13:25:18] {3323} INFO - iteration 207, current learner rf\n",
      "[flaml.automl.automl: 02-19 13:25:18] {3508} INFO -  at 14.1s,\testimator rf's best error=0.0833,\tbest estimator rf's best error=0.0833\n",
      "[flaml.automl.automl: 02-19 13:25:18] {3323} INFO - iteration 208, current learner rf\n",
      "[flaml.automl.automl: 02-19 13:25:18] {3508} INFO -  at 14.2s,\testimator rf's best error=0.0833,\tbest estimator rf's best error=0.0833\n",
      "[flaml.automl.automl: 02-19 13:25:18] {3323} INFO - iteration 209, current learner rf\n",
      "[flaml.automl.automl: 02-19 13:25:18] {3508} INFO -  at 14.3s,\testimator rf's best error=0.0833,\tbest estimator rf's best error=0.0833\n",
      "[flaml.automl.automl: 02-19 13:25:18] {3323} INFO - iteration 210, current learner rf\n",
      "[flaml.automl.automl: 02-19 13:25:18] {3508} INFO -  at 14.3s,\testimator rf's best error=0.0833,\tbest estimator rf's best error=0.0833\n",
      "[flaml.automl.automl: 02-19 13:25:18] {3323} INFO - iteration 211, current learner rf\n",
      "[flaml.automl.automl: 02-19 13:25:18] {3508} INFO -  at 14.4s,\testimator rf's best error=0.0833,\tbest estimator rf's best error=0.0833\n",
      "[flaml.automl.automl: 02-19 13:25:18] {3323} INFO - iteration 212, current learner rf\n",
      "[flaml.automl.automl: 02-19 13:25:18] {3508} INFO -  at 14.5s,\testimator rf's best error=0.0833,\tbest estimator rf's best error=0.0833\n",
      "[flaml.automl.automl: 02-19 13:25:18] {3323} INFO - iteration 213, current learner rf\n",
      "[flaml.automl.automl: 02-19 13:25:18] {3508} INFO -  at 14.5s,\testimator rf's best error=0.0833,\tbest estimator rf's best error=0.0833\n",
      "[flaml.automl.automl: 02-19 13:25:18] {3323} INFO - iteration 214, current learner rf\n",
      "[flaml.automl.automl: 02-19 13:25:18] {3508} INFO -  at 14.6s,\testimator rf's best error=0.0833,\tbest estimator rf's best error=0.0833\n",
      "[flaml.automl.automl: 02-19 13:25:18] {3323} INFO - iteration 215, current learner rf\n",
      "[flaml.automl.automl: 02-19 13:25:18] {3508} INFO -  at 14.6s,\testimator rf's best error=0.0833,\tbest estimator rf's best error=0.0833\n",
      "[flaml.automl.automl: 02-19 13:25:18] {3323} INFO - iteration 216, current learner rf\n",
      "[flaml.automl.automl: 02-19 13:25:18] {3508} INFO -  at 14.7s,\testimator rf's best error=0.0833,\tbest estimator rf's best error=0.0833\n",
      "[flaml.automl.automl: 02-19 13:25:18] {3323} INFO - iteration 217, current learner rf\n",
      "[flaml.automl.automl: 02-19 13:25:19] {3508} INFO -  at 14.8s,\testimator rf's best error=0.0833,\tbest estimator rf's best error=0.0833\n",
      "[flaml.automl.automl: 02-19 13:25:19] {3323} INFO - iteration 218, current learner rf\n",
      "[flaml.automl.automl: 02-19 13:25:19] {3508} INFO -  at 14.8s,\testimator rf's best error=0.0833,\tbest estimator rf's best error=0.0833\n",
      "[flaml.automl.automl: 02-19 13:25:19] {3323} INFO - iteration 219, current learner rf\n",
      "[flaml.automl.automl: 02-19 13:25:19] {3508} INFO -  at 14.9s,\testimator rf's best error=0.0833,\tbest estimator rf's best error=0.0833\n"
     ]
    },
    {
     "name": "stdout",
     "output_type": "stream",
     "text": [
      "[flaml.automl.automl: 02-19 13:25:19] {3323} INFO - iteration 220, current learner rf\n",
      "[flaml.automl.automl: 02-19 13:25:19] {3508} INFO -  at 15.0s,\testimator rf's best error=0.0833,\tbest estimator rf's best error=0.0833\n",
      "[flaml.automl.automl: 02-19 13:25:19] {3772} INFO - retrain rf for 0.1s\n",
      "[flaml.automl.automl: 02-19 13:25:19] {3779} INFO - retrained model: RandomForestClassifier(criterion='entropy', max_features=0.2525538979739081,\n",
      "                       max_leaf_nodes=66, n_estimators=5, n_jobs=-1,\n",
      "                       random_state=12032022)\n",
      "[flaml.automl.automl: 02-19 13:25:19] {3024} INFO - fit succeeded\n",
      "[flaml.automl.automl: 02-19 13:25:19] {3025} INFO - Time taken to find the best model: 1.1448800563812256\n"
     ]
    }
   ],
   "source": [
    "rf = automl.fit(X_train=X_train, y_train=y_train, estimator_list=[\"rf\"], **settings)"
   ]
  },
  {
   "cell_type": "code",
   "execution_count": 22,
   "metadata": {},
   "outputs": [
    {
     "name": "stdout",
     "output_type": "stream",
     "text": [
      "rf: 0.9167\n"
     ]
    }
   ],
   "source": [
    "print('rf: {0:.4g}'.format(1-automl.best_loss))"
   ]
  },
  {
   "cell_type": "code",
   "execution_count": 23,
   "metadata": {
    "scrolled": true
   },
   "outputs": [
    {
     "name": "stdout",
     "output_type": "stream",
     "text": [
      "[flaml.automl.automl: 02-19 13:25:44] {2716} INFO - task = classification\n",
      "[flaml.automl.automl: 02-19 13:25:44] {2718} INFO - Data split method: stratified\n",
      "[flaml.automl.automl: 02-19 13:25:44] {2721} INFO - Evaluation method: holdout\n",
      "[flaml.automl.automl: 02-19 13:25:44] {1312} INFO - class 0 augmented from 12 to 24\n",
      "[flaml.automl.automl: 02-19 13:25:44] {1312} INFO - class 3 augmented from 4 to 20\n",
      "[flaml.automl.automl: 02-19 13:25:44] {1312} INFO - class 5 augmented from 18 to 36\n",
      "[flaml.automl.automl: 02-19 13:25:44] {1312} INFO - class 6 augmented from 16 to 32\n",
      "[flaml.automl.automl: 02-19 13:25:44] {1312} INFO - class 7 augmented from 13 to 26\n",
      "[flaml.automl.automl: 02-19 13:25:44] {1312} INFO - class 8 augmented from 18 to 36\n",
      "[flaml.automl.automl: 02-19 13:25:44] {1312} INFO - class 10 augmented from 16 to 32\n",
      "[flaml.automl.automl: 02-19 13:25:44] {2848} INFO - Minimizing error metric: 1-accuracy\n",
      "[flaml.automl.automl: 02-19 13:25:44] {2994} INFO - List of ML learners in AutoML Run: ['xgboost']\n",
      "[flaml.automl.automl: 02-19 13:25:44] {3323} INFO - iteration 0, current learner xgboost\n",
      "[flaml.automl.automl: 02-19 13:25:44] {3461} INFO - Estimated sufficient time budget=722s. Estimated necessary time budget=1s.\n",
      "[flaml.automl.automl: 02-19 13:25:44] {3508} INFO -  at 0.1s,\testimator xgboost's best error=0.2000,\tbest estimator xgboost's best error=0.2000\n",
      "[flaml.automl.automl: 02-19 13:25:44] {3323} INFO - iteration 1, current learner xgboost\n",
      "[flaml.automl.automl: 02-19 13:25:44] {3508} INFO -  at 0.2s,\testimator xgboost's best error=0.2000,\tbest estimator xgboost's best error=0.2000\n",
      "[flaml.automl.automl: 02-19 13:25:44] {3323} INFO - iteration 2, current learner xgboost\n"
     ]
    },
    {
     "name": "stderr",
     "output_type": "stream",
     "text": [
      "C:\\ProgramData\\Anaconda3\\lib\\site-packages\\xgboost\\sklearn.py:1395: UserWarning: `use_label_encoder` is deprecated in 1.7.0.\n",
      "  warnings.warn(\"`use_label_encoder` is deprecated in 1.7.0.\")\n",
      "C:\\ProgramData\\Anaconda3\\lib\\site-packages\\xgboost\\sklearn.py:1395: UserWarning: `use_label_encoder` is deprecated in 1.7.0.\n",
      "  warnings.warn(\"`use_label_encoder` is deprecated in 1.7.0.\")\n",
      "C:\\ProgramData\\Anaconda3\\lib\\site-packages\\xgboost\\sklearn.py:1395: UserWarning: `use_label_encoder` is deprecated in 1.7.0.\n",
      "  warnings.warn(\"`use_label_encoder` is deprecated in 1.7.0.\")\n"
     ]
    },
    {
     "name": "stdout",
     "output_type": "stream",
     "text": [
      "[flaml.automl.automl: 02-19 13:25:44] {3508} INFO -  at 0.2s,\testimator xgboost's best error=0.1667,\tbest estimator xgboost's best error=0.1667\n",
      "[flaml.automl.automl: 02-19 13:25:44] {3323} INFO - iteration 3, current learner xgboost\n",
      "[flaml.automl.automl: 02-19 13:25:44] {3508} INFO -  at 0.3s,\testimator xgboost's best error=0.1667,\tbest estimator xgboost's best error=0.1667\n",
      "[flaml.automl.automl: 02-19 13:25:44] {3323} INFO - iteration 4, current learner xgboost\n",
      "[flaml.automl.automl: 02-19 13:25:44] {3508} INFO -  at 0.4s,\testimator xgboost's best error=0.1500,\tbest estimator xgboost's best error=0.1500\n",
      "[flaml.automl.automl: 02-19 13:25:44] {3323} INFO - iteration 5, current learner xgboost\n"
     ]
    },
    {
     "name": "stderr",
     "output_type": "stream",
     "text": [
      "C:\\ProgramData\\Anaconda3\\lib\\site-packages\\xgboost\\sklearn.py:1395: UserWarning: `use_label_encoder` is deprecated in 1.7.0.\n",
      "  warnings.warn(\"`use_label_encoder` is deprecated in 1.7.0.\")\n",
      "C:\\ProgramData\\Anaconda3\\lib\\site-packages\\xgboost\\sklearn.py:1395: UserWarning: `use_label_encoder` is deprecated in 1.7.0.\n",
      "  warnings.warn(\"`use_label_encoder` is deprecated in 1.7.0.\")\n",
      "C:\\ProgramData\\Anaconda3\\lib\\site-packages\\xgboost\\sklearn.py:1395: UserWarning: `use_label_encoder` is deprecated in 1.7.0.\n",
      "  warnings.warn(\"`use_label_encoder` is deprecated in 1.7.0.\")\n"
     ]
    },
    {
     "name": "stdout",
     "output_type": "stream",
     "text": [
      "[flaml.automl.automl: 02-19 13:25:44] {3508} INFO -  at 0.5s,\testimator xgboost's best error=0.1500,\tbest estimator xgboost's best error=0.1500\n",
      "[flaml.automl.automl: 02-19 13:25:44] {3323} INFO - iteration 6, current learner xgboost\n",
      "[flaml.automl.automl: 02-19 13:25:45] {3508} INFO -  at 0.6s,\testimator xgboost's best error=0.1333,\tbest estimator xgboost's best error=0.1333\n",
      "[flaml.automl.automl: 02-19 13:25:45] {3323} INFO - iteration 7, current learner xgboost\n"
     ]
    },
    {
     "name": "stderr",
     "output_type": "stream",
     "text": [
      "C:\\ProgramData\\Anaconda3\\lib\\site-packages\\xgboost\\sklearn.py:1395: UserWarning: `use_label_encoder` is deprecated in 1.7.0.\n",
      "  warnings.warn(\"`use_label_encoder` is deprecated in 1.7.0.\")\n",
      "C:\\ProgramData\\Anaconda3\\lib\\site-packages\\xgboost\\sklearn.py:1395: UserWarning: `use_label_encoder` is deprecated in 1.7.0.\n",
      "  warnings.warn(\"`use_label_encoder` is deprecated in 1.7.0.\")\n"
     ]
    },
    {
     "name": "stdout",
     "output_type": "stream",
     "text": [
      "[flaml.automl.automl: 02-19 13:25:45] {3508} INFO -  at 0.8s,\testimator xgboost's best error=0.1333,\tbest estimator xgboost's best error=0.1333\n",
      "[flaml.automl.automl: 02-19 13:25:45] {3323} INFO - iteration 8, current learner xgboost\n",
      "[flaml.automl.automl: 02-19 13:25:45] {3508} INFO -  at 1.0s,\testimator xgboost's best error=0.1333,\tbest estimator xgboost's best error=0.1333\n",
      "[flaml.automl.automl: 02-19 13:25:45] {3323} INFO - iteration 9, current learner xgboost\n"
     ]
    },
    {
     "name": "stderr",
     "output_type": "stream",
     "text": [
      "C:\\ProgramData\\Anaconda3\\lib\\site-packages\\xgboost\\sklearn.py:1395: UserWarning: `use_label_encoder` is deprecated in 1.7.0.\n",
      "  warnings.warn(\"`use_label_encoder` is deprecated in 1.7.0.\")\n",
      "C:\\ProgramData\\Anaconda3\\lib\\site-packages\\xgboost\\sklearn.py:1395: UserWarning: `use_label_encoder` is deprecated in 1.7.0.\n",
      "  warnings.warn(\"`use_label_encoder` is deprecated in 1.7.0.\")\n"
     ]
    },
    {
     "name": "stdout",
     "output_type": "stream",
     "text": [
      "[flaml.automl.automl: 02-19 13:25:45] {3508} INFO -  at 1.2s,\testimator xgboost's best error=0.1333,\tbest estimator xgboost's best error=0.1333\n",
      "[flaml.automl.automl: 02-19 13:25:45] {3323} INFO - iteration 10, current learner xgboost\n",
      "[flaml.automl.automl: 02-19 13:25:45] {3508} INFO -  at 1.3s,\testimator xgboost's best error=0.1333,\tbest estimator xgboost's best error=0.1333\n",
      "[flaml.automl.automl: 02-19 13:25:45] {3323} INFO - iteration 11, current learner xgboost\n"
     ]
    },
    {
     "name": "stderr",
     "output_type": "stream",
     "text": [
      "C:\\ProgramData\\Anaconda3\\lib\\site-packages\\xgboost\\sklearn.py:1395: UserWarning: `use_label_encoder` is deprecated in 1.7.0.\n",
      "  warnings.warn(\"`use_label_encoder` is deprecated in 1.7.0.\")\n",
      "C:\\ProgramData\\Anaconda3\\lib\\site-packages\\xgboost\\sklearn.py:1395: UserWarning: `use_label_encoder` is deprecated in 1.7.0.\n",
      "  warnings.warn(\"`use_label_encoder` is deprecated in 1.7.0.\")\n"
     ]
    },
    {
     "name": "stdout",
     "output_type": "stream",
     "text": [
      "[flaml.automl.automl: 02-19 13:25:45] {3508} INFO -  at 1.5s,\testimator xgboost's best error=0.1333,\tbest estimator xgboost's best error=0.1333\n",
      "[flaml.automl.automl: 02-19 13:25:45] {3323} INFO - iteration 12, current learner xgboost\n"
     ]
    },
    {
     "name": "stderr",
     "output_type": "stream",
     "text": [
      "C:\\ProgramData\\Anaconda3\\lib\\site-packages\\xgboost\\sklearn.py:1395: UserWarning: `use_label_encoder` is deprecated in 1.7.0.\n",
      "  warnings.warn(\"`use_label_encoder` is deprecated in 1.7.0.\")\n"
     ]
    },
    {
     "name": "stdout",
     "output_type": "stream",
     "text": [
      "[flaml.automl.automl: 02-19 13:25:46] {3508} INFO -  at 1.7s,\testimator xgboost's best error=0.1333,\tbest estimator xgboost's best error=0.1333\n",
      "[flaml.automl.automl: 02-19 13:25:46] {3323} INFO - iteration 13, current learner xgboost\n",
      "[flaml.automl.automl: 02-19 13:25:46] {3508} INFO -  at 1.9s,\testimator xgboost's best error=0.1333,\tbest estimator xgboost's best error=0.1333\n",
      "[flaml.automl.automl: 02-19 13:25:46] {3323} INFO - iteration 14, current learner xgboost\n"
     ]
    },
    {
     "name": "stderr",
     "output_type": "stream",
     "text": [
      "C:\\ProgramData\\Anaconda3\\lib\\site-packages\\xgboost\\sklearn.py:1395: UserWarning: `use_label_encoder` is deprecated in 1.7.0.\n",
      "  warnings.warn(\"`use_label_encoder` is deprecated in 1.7.0.\")\n",
      "C:\\ProgramData\\Anaconda3\\lib\\site-packages\\xgboost\\sklearn.py:1395: UserWarning: `use_label_encoder` is deprecated in 1.7.0.\n",
      "  warnings.warn(\"`use_label_encoder` is deprecated in 1.7.0.\")\n"
     ]
    },
    {
     "name": "stdout",
     "output_type": "stream",
     "text": [
      "[flaml.automl.automl: 02-19 13:25:46] {3508} INFO -  at 2.0s,\testimator xgboost's best error=0.1333,\tbest estimator xgboost's best error=0.1333\n",
      "[flaml.automl.automl: 02-19 13:25:46] {3323} INFO - iteration 15, current learner xgboost\n",
      "[flaml.automl.automl: 02-19 13:25:46] {3508} INFO -  at 2.1s,\testimator xgboost's best error=0.1333,\tbest estimator xgboost's best error=0.1333\n",
      "[flaml.automl.automl: 02-19 13:25:46] {3323} INFO - iteration 16, current learner xgboost\n"
     ]
    },
    {
     "name": "stderr",
     "output_type": "stream",
     "text": [
      "C:\\ProgramData\\Anaconda3\\lib\\site-packages\\xgboost\\sklearn.py:1395: UserWarning: `use_label_encoder` is deprecated in 1.7.0.\n",
      "  warnings.warn(\"`use_label_encoder` is deprecated in 1.7.0.\")\n",
      "C:\\ProgramData\\Anaconda3\\lib\\site-packages\\xgboost\\sklearn.py:1395: UserWarning: `use_label_encoder` is deprecated in 1.7.0.\n",
      "  warnings.warn(\"`use_label_encoder` is deprecated in 1.7.0.\")\n"
     ]
    },
    {
     "name": "stdout",
     "output_type": "stream",
     "text": [
      "[flaml.automl.automl: 02-19 13:25:46] {3508} INFO -  at 2.4s,\testimator xgboost's best error=0.1000,\tbest estimator xgboost's best error=0.1000\n",
      "[flaml.automl.automl: 02-19 13:25:46] {3323} INFO - iteration 17, current learner xgboost\n",
      "[flaml.automl.automl: 02-19 13:25:46] {3508} INFO -  at 2.5s,\testimator xgboost's best error=0.1000,\tbest estimator xgboost's best error=0.1000\n",
      "[flaml.automl.automl: 02-19 13:25:46] {3323} INFO - iteration 18, current learner xgboost\n"
     ]
    },
    {
     "name": "stderr",
     "output_type": "stream",
     "text": [
      "C:\\ProgramData\\Anaconda3\\lib\\site-packages\\xgboost\\sklearn.py:1395: UserWarning: `use_label_encoder` is deprecated in 1.7.0.\n",
      "  warnings.warn(\"`use_label_encoder` is deprecated in 1.7.0.\")\n",
      "C:\\ProgramData\\Anaconda3\\lib\\site-packages\\xgboost\\sklearn.py:1395: UserWarning: `use_label_encoder` is deprecated in 1.7.0.\n",
      "  warnings.warn(\"`use_label_encoder` is deprecated in 1.7.0.\")\n"
     ]
    },
    {
     "name": "stdout",
     "output_type": "stream",
     "text": [
      "[flaml.automl.automl: 02-19 13:25:47] {3508} INFO -  at 2.9s,\testimator xgboost's best error=0.0833,\tbest estimator xgboost's best error=0.0833\n",
      "[flaml.automl.automl: 02-19 13:25:47] {3323} INFO - iteration 19, current learner xgboost\n",
      "[flaml.automl.automl: 02-19 13:25:47] {3508} INFO -  at 3.1s,\testimator xgboost's best error=0.0833,\tbest estimator xgboost's best error=0.0833\n",
      "[flaml.automl.automl: 02-19 13:25:47] {3323} INFO - iteration 20, current learner xgboost\n"
     ]
    },
    {
     "name": "stderr",
     "output_type": "stream",
     "text": [
      "C:\\ProgramData\\Anaconda3\\lib\\site-packages\\xgboost\\sklearn.py:1395: UserWarning: `use_label_encoder` is deprecated in 1.7.0.\n",
      "  warnings.warn(\"`use_label_encoder` is deprecated in 1.7.0.\")\n",
      "C:\\ProgramData\\Anaconda3\\lib\\site-packages\\xgboost\\sklearn.py:1395: UserWarning: `use_label_encoder` is deprecated in 1.7.0.\n",
      "  warnings.warn(\"`use_label_encoder` is deprecated in 1.7.0.\")\n"
     ]
    },
    {
     "name": "stdout",
     "output_type": "stream",
     "text": [
      "[flaml.automl.automl: 02-19 13:25:48] {3508} INFO -  at 3.7s,\testimator xgboost's best error=0.0667,\tbest estimator xgboost's best error=0.0667\n",
      "[flaml.automl.automl: 02-19 13:25:48] {3323} INFO - iteration 21, current learner xgboost\n"
     ]
    },
    {
     "name": "stderr",
     "output_type": "stream",
     "text": [
      "C:\\ProgramData\\Anaconda3\\lib\\site-packages\\xgboost\\sklearn.py:1395: UserWarning: `use_label_encoder` is deprecated in 1.7.0.\n",
      "  warnings.warn(\"`use_label_encoder` is deprecated in 1.7.0.\")\n"
     ]
    },
    {
     "name": "stdout",
     "output_type": "stream",
     "text": [
      "[flaml.automl.automl: 02-19 13:25:48] {3508} INFO -  at 4.3s,\testimator xgboost's best error=0.0667,\tbest estimator xgboost's best error=0.0667\n",
      "[flaml.automl.automl: 02-19 13:25:48] {3323} INFO - iteration 22, current learner xgboost\n"
     ]
    },
    {
     "name": "stderr",
     "output_type": "stream",
     "text": [
      "C:\\ProgramData\\Anaconda3\\lib\\site-packages\\xgboost\\sklearn.py:1395: UserWarning: `use_label_encoder` is deprecated in 1.7.0.\n",
      "  warnings.warn(\"`use_label_encoder` is deprecated in 1.7.0.\")\n"
     ]
    },
    {
     "name": "stdout",
     "output_type": "stream",
     "text": [
      "[flaml.automl.automl: 02-19 13:25:49] {3508} INFO -  at 5.0s,\testimator xgboost's best error=0.0667,\tbest estimator xgboost's best error=0.0667\n",
      "[flaml.automl.automl: 02-19 13:25:49] {3323} INFO - iteration 23, current learner xgboost\n"
     ]
    },
    {
     "name": "stderr",
     "output_type": "stream",
     "text": [
      "C:\\ProgramData\\Anaconda3\\lib\\site-packages\\xgboost\\sklearn.py:1395: UserWarning: `use_label_encoder` is deprecated in 1.7.0.\n",
      "  warnings.warn(\"`use_label_encoder` is deprecated in 1.7.0.\")\n"
     ]
    },
    {
     "name": "stdout",
     "output_type": "stream",
     "text": [
      "[flaml.automl.automl: 02-19 13:25:49] {3508} INFO -  at 5.5s,\testimator xgboost's best error=0.0667,\tbest estimator xgboost's best error=0.0667\n",
      "[flaml.automl.automl: 02-19 13:25:49] {3323} INFO - iteration 24, current learner xgboost\n"
     ]
    },
    {
     "name": "stderr",
     "output_type": "stream",
     "text": [
      "C:\\ProgramData\\Anaconda3\\lib\\site-packages\\xgboost\\sklearn.py:1395: UserWarning: `use_label_encoder` is deprecated in 1.7.0.\n",
      "  warnings.warn(\"`use_label_encoder` is deprecated in 1.7.0.\")\n"
     ]
    },
    {
     "name": "stdout",
     "output_type": "stream",
     "text": [
      "[flaml.automl.automl: 02-19 13:25:50] {3508} INFO -  at 6.2s,\testimator xgboost's best error=0.0667,\tbest estimator xgboost's best error=0.0667\n",
      "[flaml.automl.automl: 02-19 13:25:50] {3323} INFO - iteration 25, current learner xgboost\n"
     ]
    },
    {
     "name": "stderr",
     "output_type": "stream",
     "text": [
      "C:\\ProgramData\\Anaconda3\\lib\\site-packages\\xgboost\\sklearn.py:1395: UserWarning: `use_label_encoder` is deprecated in 1.7.0.\n",
      "  warnings.warn(\"`use_label_encoder` is deprecated in 1.7.0.\")\n"
     ]
    },
    {
     "name": "stdout",
     "output_type": "stream",
     "text": [
      "[flaml.automl.automl: 02-19 13:25:50] {3508} INFO -  at 6.6s,\testimator xgboost's best error=0.0667,\tbest estimator xgboost's best error=0.0667\n",
      "[flaml.automl.automl: 02-19 13:25:50] {3323} INFO - iteration 26, current learner xgboost\n"
     ]
    },
    {
     "name": "stderr",
     "output_type": "stream",
     "text": [
      "C:\\ProgramData\\Anaconda3\\lib\\site-packages\\xgboost\\sklearn.py:1395: UserWarning: `use_label_encoder` is deprecated in 1.7.0.\n",
      "  warnings.warn(\"`use_label_encoder` is deprecated in 1.7.0.\")\n"
     ]
    },
    {
     "name": "stdout",
     "output_type": "stream",
     "text": [
      "[flaml.automl.automl: 02-19 13:25:52] {3508} INFO -  at 8.1s,\testimator xgboost's best error=0.0500,\tbest estimator xgboost's best error=0.0500\n",
      "[flaml.automl.automl: 02-19 13:25:52] {3323} INFO - iteration 27, current learner xgboost\n"
     ]
    },
    {
     "name": "stderr",
     "output_type": "stream",
     "text": [
      "C:\\ProgramData\\Anaconda3\\lib\\site-packages\\xgboost\\sklearn.py:1395: UserWarning: `use_label_encoder` is deprecated in 1.7.0.\n",
      "  warnings.warn(\"`use_label_encoder` is deprecated in 1.7.0.\")\n"
     ]
    },
    {
     "name": "stdout",
     "output_type": "stream",
     "text": [
      "[flaml.automl.automl: 02-19 13:25:53] {3508} INFO -  at 9.1s,\testimator xgboost's best error=0.0500,\tbest estimator xgboost's best error=0.0500\n",
      "[flaml.automl.automl: 02-19 13:25:53] {3323} INFO - iteration 28, current learner xgboost\n"
     ]
    },
    {
     "name": "stderr",
     "output_type": "stream",
     "text": [
      "C:\\ProgramData\\Anaconda3\\lib\\site-packages\\xgboost\\sklearn.py:1395: UserWarning: `use_label_encoder` is deprecated in 1.7.0.\n",
      "  warnings.warn(\"`use_label_encoder` is deprecated in 1.7.0.\")\n"
     ]
    },
    {
     "name": "stdout",
     "output_type": "stream",
     "text": [
      "[flaml.automl.automl: 02-19 13:25:55] {3508} INFO -  at 10.7s,\testimator xgboost's best error=0.0500,\tbest estimator xgboost's best error=0.0500\n",
      "[flaml.automl.automl: 02-19 13:25:55] {3323} INFO - iteration 29, current learner xgboost\n"
     ]
    },
    {
     "name": "stderr",
     "output_type": "stream",
     "text": [
      "C:\\ProgramData\\Anaconda3\\lib\\site-packages\\xgboost\\sklearn.py:1395: UserWarning: `use_label_encoder` is deprecated in 1.7.0.\n",
      "  warnings.warn(\"`use_label_encoder` is deprecated in 1.7.0.\")\n"
     ]
    },
    {
     "name": "stdout",
     "output_type": "stream",
     "text": [
      "[flaml.automl.automl: 02-19 13:25:55] {3508} INFO -  at 11.3s,\testimator xgboost's best error=0.0500,\tbest estimator xgboost's best error=0.0500\n",
      "[flaml.automl.automl: 02-19 13:25:55] {3323} INFO - iteration 30, current learner xgboost\n"
     ]
    },
    {
     "name": "stderr",
     "output_type": "stream",
     "text": [
      "C:\\ProgramData\\Anaconda3\\lib\\site-packages\\xgboost\\sklearn.py:1395: UserWarning: `use_label_encoder` is deprecated in 1.7.0.\n",
      "  warnings.warn(\"`use_label_encoder` is deprecated in 1.7.0.\")\n"
     ]
    },
    {
     "name": "stdout",
     "output_type": "stream",
     "text": [
      "[flaml.automl.automl: 02-19 13:25:59] {3508} INFO -  at 15.0s,\testimator xgboost's best error=0.0500,\tbest estimator xgboost's best error=0.0500\n"
     ]
    },
    {
     "name": "stderr",
     "output_type": "stream",
     "text": [
      "C:\\ProgramData\\Anaconda3\\lib\\site-packages\\xgboost\\sklearn.py:1395: UserWarning: `use_label_encoder` is deprecated in 1.7.0.\n",
      "  warnings.warn(\"`use_label_encoder` is deprecated in 1.7.0.\")\n"
     ]
    },
    {
     "name": "stdout",
     "output_type": "stream",
     "text": [
      "[flaml.automl.automl: 02-19 13:26:00] {3772} INFO - retrain xgboost for 1.4s\n",
      "[flaml.automl.automl: 02-19 13:26:00] {3779} INFO - retrained model: XGBClassifier(base_score=None, booster=None, callbacks=[],\n",
      "              colsample_bylevel=0.658222851052983, colsample_bynode=None,\n",
      "              colsample_bytree=0.8198466716884618, early_stopping_rounds=None,\n",
      "              enable_categorical=False, eval_metric=None, feature_types=None,\n",
      "              gamma=None, gpu_id=None, grow_policy='lossguide',\n",
      "              importance_type=None, interaction_constraints=None,\n",
      "              learning_rate=0.028579462434052093, max_bin=None,\n",
      "              max_cat_threshold=None, max_cat_to_onehot=None,\n",
      "              max_delta_step=None, max_depth=0, max_leaves=57,\n",
      "              min_child_weight=0.036513335101107346, missing=nan,\n",
      "              monotone_constraints=None, n_estimators=47, n_jobs=-1,\n",
      "              num_parallel_tree=None, objective='multi:softprob',\n",
      "              predictor=None, ...)\n",
      "[flaml.automl.automl: 02-19 13:26:00] {3024} INFO - fit succeeded\n",
      "[flaml.automl.automl: 02-19 13:26:00] {3025} INFO - Time taken to find the best model: 8.054830551147461\n"
     ]
    }
   ],
   "source": [
    "xgboost = automl.fit(X_train=X_train, y_train=y_train, estimator_list=[\"xgboost\"], **settings)"
   ]
  },
  {
   "cell_type": "code",
   "execution_count": 24,
   "metadata": {},
   "outputs": [
    {
     "name": "stdout",
     "output_type": "stream",
     "text": [
      "xgboost: 0.95\n"
     ]
    }
   ],
   "source": [
    "print('xgboost: {0:.4g}'.format(1-automl.best_loss))"
   ]
  },
  {
   "cell_type": "code",
   "execution_count": 25,
   "metadata": {
    "scrolled": true
   },
   "outputs": [
    {
     "name": "stdout",
     "output_type": "stream",
     "text": [
      "[flaml.automl.automl: 02-19 13:26:26] {2716} INFO - task = classification\n",
      "[flaml.automl.automl: 02-19 13:26:26] {2718} INFO - Data split method: stratified\n",
      "[flaml.automl.automl: 02-19 13:26:26] {2721} INFO - Evaluation method: holdout\n",
      "[flaml.automl.automl: 02-19 13:26:26] {1312} INFO - class 0 augmented from 12 to 24\n",
      "[flaml.automl.automl: 02-19 13:26:26] {1312} INFO - class 3 augmented from 4 to 20\n",
      "[flaml.automl.automl: 02-19 13:26:26] {1312} INFO - class 5 augmented from 18 to 36\n",
      "[flaml.automl.automl: 02-19 13:26:26] {1312} INFO - class 6 augmented from 16 to 32\n",
      "[flaml.automl.automl: 02-19 13:26:26] {1312} INFO - class 7 augmented from 13 to 26\n",
      "[flaml.automl.automl: 02-19 13:26:26] {1312} INFO - class 8 augmented from 18 to 36\n",
      "[flaml.automl.automl: 02-19 13:26:26] {1312} INFO - class 10 augmented from 16 to 32\n",
      "[flaml.automl.automl: 02-19 13:26:26] {2848} INFO - Minimizing error metric: 1-accuracy\n",
      "[flaml.automl.automl: 02-19 13:26:26] {2994} INFO - List of ML learners in AutoML Run: ['extra_tree']\n",
      "[flaml.automl.automl: 02-19 13:26:26] {3323} INFO - iteration 0, current learner extra_tree\n",
      "[flaml.automl.automl: 02-19 13:26:26] {3461} INFO - Estimated sufficient time budget=301s. Estimated necessary time budget=0s.\n",
      "[flaml.automl.automl: 02-19 13:26:26] {3508} INFO -  at 0.1s,\testimator extra_tree's best error=0.5500,\tbest estimator extra_tree's best error=0.5500\n",
      "[flaml.automl.automl: 02-19 13:26:26] {3323} INFO - iteration 1, current learner extra_tree\n",
      "[flaml.automl.automl: 02-19 13:26:26] {3508} INFO -  at 0.1s,\testimator extra_tree's best error=0.5333,\tbest estimator extra_tree's best error=0.5333\n",
      "[flaml.automl.automl: 02-19 13:26:26] {3323} INFO - iteration 2, current learner extra_tree\n",
      "[flaml.automl.automl: 02-19 13:26:26] {3508} INFO -  at 0.1s,\testimator extra_tree's best error=0.5333,\tbest estimator extra_tree's best error=0.5333\n",
      "[flaml.automl.automl: 02-19 13:26:26] {3323} INFO - iteration 3, current learner extra_tree\n",
      "[flaml.automl.automl: 02-19 13:26:26] {3508} INFO -  at 0.2s,\testimator extra_tree's best error=0.4833,\tbest estimator extra_tree's best error=0.4833\n",
      "[flaml.automl.automl: 02-19 13:26:26] {3323} INFO - iteration 4, current learner extra_tree\n",
      "[flaml.automl.automl: 02-19 13:26:26] {3508} INFO -  at 0.2s,\testimator extra_tree's best error=0.4667,\tbest estimator extra_tree's best error=0.4667\n",
      "[flaml.automl.automl: 02-19 13:26:26] {3323} INFO - iteration 5, current learner extra_tree\n",
      "[flaml.automl.automl: 02-19 13:26:27] {3508} INFO -  at 0.2s,\testimator extra_tree's best error=0.4667,\tbest estimator extra_tree's best error=0.4667\n",
      "[flaml.automl.automl: 02-19 13:26:27] {3323} INFO - iteration 6, current learner extra_tree\n",
      "[flaml.automl.automl: 02-19 13:26:27] {3508} INFO -  at 0.3s,\testimator extra_tree's best error=0.4000,\tbest estimator extra_tree's best error=0.4000\n",
      "[flaml.automl.automl: 02-19 13:26:27] {3323} INFO - iteration 7, current learner extra_tree\n",
      "[flaml.automl.automl: 02-19 13:26:27] {3508} INFO -  at 0.3s,\testimator extra_tree's best error=0.4000,\tbest estimator extra_tree's best error=0.4000\n",
      "[flaml.automl.automl: 02-19 13:26:27] {3323} INFO - iteration 8, current learner extra_tree\n",
      "[flaml.automl.automl: 02-19 13:26:27] {3508} INFO -  at 0.3s,\testimator extra_tree's best error=0.4000,\tbest estimator extra_tree's best error=0.4000\n",
      "[flaml.automl.automl: 02-19 13:26:27] {3323} INFO - iteration 9, current learner extra_tree\n",
      "[flaml.automl.automl: 02-19 13:26:27] {3508} INFO -  at 0.4s,\testimator extra_tree's best error=0.4000,\tbest estimator extra_tree's best error=0.4000\n",
      "[flaml.automl.automl: 02-19 13:26:27] {3323} INFO - iteration 10, current learner extra_tree\n",
      "[flaml.automl.automl: 02-19 13:26:27] {3508} INFO -  at 0.4s,\testimator extra_tree's best error=0.2833,\tbest estimator extra_tree's best error=0.2833\n",
      "[flaml.automl.automl: 02-19 13:26:27] {3323} INFO - iteration 11, current learner extra_tree\n",
      "[flaml.automl.automl: 02-19 13:26:27] {3508} INFO -  at 0.4s,\testimator extra_tree's best error=0.2500,\tbest estimator extra_tree's best error=0.2500\n",
      "[flaml.automl.automl: 02-19 13:26:27] {3323} INFO - iteration 12, current learner extra_tree\n",
      "[flaml.automl.automl: 02-19 13:26:27] {3508} INFO -  at 0.5s,\testimator extra_tree's best error=0.2167,\tbest estimator extra_tree's best error=0.2167\n",
      "[flaml.automl.automl: 02-19 13:26:27] {3323} INFO - iteration 13, current learner extra_tree\n",
      "[flaml.automl.automl: 02-19 13:26:27] {3508} INFO -  at 0.5s,\testimator extra_tree's best error=0.2167,\tbest estimator extra_tree's best error=0.2167\n",
      "[flaml.automl.automl: 02-19 13:26:27] {3323} INFO - iteration 14, current learner extra_tree\n",
      "[flaml.automl.automl: 02-19 13:26:27] {3508} INFO -  at 0.6s,\testimator extra_tree's best error=0.2167,\tbest estimator extra_tree's best error=0.2167\n",
      "[flaml.automl.automl: 02-19 13:26:27] {3323} INFO - iteration 15, current learner extra_tree\n",
      "[flaml.automl.automl: 02-19 13:26:27] {3508} INFO -  at 0.6s,\testimator extra_tree's best error=0.2167,\tbest estimator extra_tree's best error=0.2167\n",
      "[flaml.automl.automl: 02-19 13:26:27] {3323} INFO - iteration 16, current learner extra_tree\n",
      "[flaml.automl.automl: 02-19 13:26:27] {3508} INFO -  at 0.7s,\testimator extra_tree's best error=0.2167,\tbest estimator extra_tree's best error=0.2167\n",
      "[flaml.automl.automl: 02-19 13:26:27] {3323} INFO - iteration 17, current learner extra_tree\n",
      "[flaml.automl.automl: 02-19 13:26:27] {3508} INFO -  at 0.7s,\testimator extra_tree's best error=0.2167,\tbest estimator extra_tree's best error=0.2167\n",
      "[flaml.automl.automl: 02-19 13:26:27] {3323} INFO - iteration 18, current learner extra_tree\n",
      "[flaml.automl.automl: 02-19 13:26:27] {3508} INFO -  at 0.8s,\testimator extra_tree's best error=0.2167,\tbest estimator extra_tree's best error=0.2167\n",
      "[flaml.automl.automl: 02-19 13:26:27] {3323} INFO - iteration 19, current learner extra_tree\n",
      "[flaml.automl.automl: 02-19 13:26:27] {3508} INFO -  at 0.8s,\testimator extra_tree's best error=0.1833,\tbest estimator extra_tree's best error=0.1833\n",
      "[flaml.automl.automl: 02-19 13:26:27] {3323} INFO - iteration 20, current learner extra_tree\n",
      "[flaml.automl.automl: 02-19 13:26:27] {3508} INFO -  at 0.9s,\testimator extra_tree's best error=0.1833,\tbest estimator extra_tree's best error=0.1833\n",
      "[flaml.automl.automl: 02-19 13:26:27] {3323} INFO - iteration 21, current learner extra_tree\n",
      "[flaml.automl.automl: 02-19 13:26:27] {3508} INFO -  at 0.9s,\testimator extra_tree's best error=0.1833,\tbest estimator extra_tree's best error=0.1833\n",
      "[flaml.automl.automl: 02-19 13:26:27] {3323} INFO - iteration 22, current learner extra_tree\n",
      "[flaml.automl.automl: 02-19 13:26:27] {3508} INFO -  at 0.9s,\testimator extra_tree's best error=0.1833,\tbest estimator extra_tree's best error=0.1833\n",
      "[flaml.automl.automl: 02-19 13:26:27] {3323} INFO - iteration 23, current learner extra_tree\n",
      "[flaml.automl.automl: 02-19 13:26:27] {3508} INFO -  at 1.0s,\testimator extra_tree's best error=0.1833,\tbest estimator extra_tree's best error=0.1833\n",
      "[flaml.automl.automl: 02-19 13:26:27] {3323} INFO - iteration 24, current learner extra_tree\n",
      "[flaml.automl.automl: 02-19 13:26:27] {3508} INFO -  at 1.0s,\testimator extra_tree's best error=0.1500,\tbest estimator extra_tree's best error=0.1500\n",
      "[flaml.automl.automl: 02-19 13:26:27] {3323} INFO - iteration 25, current learner extra_tree\n",
      "[flaml.automl.automl: 02-19 13:26:27] {3508} INFO -  at 1.1s,\testimator extra_tree's best error=0.1500,\tbest estimator extra_tree's best error=0.1500\n",
      "[flaml.automl.automl: 02-19 13:26:27] {3323} INFO - iteration 26, current learner extra_tree\n",
      "[flaml.automl.automl: 02-19 13:26:27] {3508} INFO -  at 1.1s,\testimator extra_tree's best error=0.1500,\tbest estimator extra_tree's best error=0.1500\n",
      "[flaml.automl.automl: 02-19 13:26:27] {3323} INFO - iteration 27, current learner extra_tree\n",
      "[flaml.automl.automl: 02-19 13:26:27] {3508} INFO -  at 1.2s,\testimator extra_tree's best error=0.1500,\tbest estimator extra_tree's best error=0.1500\n",
      "[flaml.automl.automl: 02-19 13:26:27] {3323} INFO - iteration 28, current learner extra_tree\n",
      "[flaml.automl.automl: 02-19 13:26:27] {3508} INFO -  at 1.2s,\testimator extra_tree's best error=0.1500,\tbest estimator extra_tree's best error=0.1500\n",
      "[flaml.automl.automl: 02-19 13:26:27] {3323} INFO - iteration 29, current learner extra_tree\n"
     ]
    },
    {
     "name": "stdout",
     "output_type": "stream",
     "text": [
      "[flaml.automl.automl: 02-19 13:26:28] {3508} INFO -  at 1.2s,\testimator extra_tree's best error=0.1500,\tbest estimator extra_tree's best error=0.1500\n",
      "[flaml.automl.automl: 02-19 13:26:28] {3323} INFO - iteration 30, current learner extra_tree\n",
      "[flaml.automl.automl: 02-19 13:26:28] {3508} INFO -  at 1.3s,\testimator extra_tree's best error=0.1500,\tbest estimator extra_tree's best error=0.1500\n",
      "[flaml.automl.automl: 02-19 13:26:28] {3323} INFO - iteration 31, current learner extra_tree\n",
      "[flaml.automl.automl: 02-19 13:26:28] {3508} INFO -  at 1.3s,\testimator extra_tree's best error=0.1500,\tbest estimator extra_tree's best error=0.1500\n",
      "[flaml.automl.automl: 02-19 13:26:28] {3323} INFO - iteration 32, current learner extra_tree\n",
      "[flaml.automl.automl: 02-19 13:26:28] {3508} INFO -  at 1.3s,\testimator extra_tree's best error=0.1500,\tbest estimator extra_tree's best error=0.1500\n",
      "[flaml.automl.automl: 02-19 13:26:28] {3323} INFO - iteration 33, current learner extra_tree\n",
      "[flaml.automl.automl: 02-19 13:26:28] {3508} INFO -  at 1.4s,\testimator extra_tree's best error=0.1500,\tbest estimator extra_tree's best error=0.1500\n",
      "[flaml.automl.automl: 02-19 13:26:28] {3323} INFO - iteration 34, current learner extra_tree\n",
      "[flaml.automl.automl: 02-19 13:26:28] {3508} INFO -  at 1.4s,\testimator extra_tree's best error=0.1500,\tbest estimator extra_tree's best error=0.1500\n",
      "[flaml.automl.automl: 02-19 13:26:28] {3323} INFO - iteration 35, current learner extra_tree\n",
      "[flaml.automl.automl: 02-19 13:26:28] {3508} INFO -  at 1.5s,\testimator extra_tree's best error=0.1500,\tbest estimator extra_tree's best error=0.1500\n",
      "[flaml.automl.automl: 02-19 13:26:28] {3323} INFO - iteration 36, current learner extra_tree\n",
      "[flaml.automl.automl: 02-19 13:26:28] {3508} INFO -  at 1.5s,\testimator extra_tree's best error=0.1500,\tbest estimator extra_tree's best error=0.1500\n",
      "[flaml.automl.automl: 02-19 13:26:28] {3323} INFO - iteration 37, current learner extra_tree\n",
      "[flaml.automl.automl: 02-19 13:26:28] {3508} INFO -  at 1.5s,\testimator extra_tree's best error=0.1500,\tbest estimator extra_tree's best error=0.1500\n",
      "[flaml.automl.automl: 02-19 13:26:28] {3323} INFO - iteration 38, current learner extra_tree\n",
      "[flaml.automl.automl: 02-19 13:26:28] {3508} INFO -  at 1.6s,\testimator extra_tree's best error=0.1500,\tbest estimator extra_tree's best error=0.1500\n",
      "[flaml.automl.automl: 02-19 13:26:28] {3323} INFO - iteration 39, current learner extra_tree\n",
      "[flaml.automl.automl: 02-19 13:26:28] {3508} INFO -  at 1.6s,\testimator extra_tree's best error=0.1500,\tbest estimator extra_tree's best error=0.1500\n",
      "[flaml.automl.automl: 02-19 13:26:28] {3323} INFO - iteration 40, current learner extra_tree\n",
      "[flaml.automl.automl: 02-19 13:26:28] {3508} INFO -  at 1.6s,\testimator extra_tree's best error=0.1500,\tbest estimator extra_tree's best error=0.1500\n",
      "[flaml.automl.automl: 02-19 13:26:28] {3323} INFO - iteration 41, current learner extra_tree\n",
      "[flaml.automl.automl: 02-19 13:26:28] {3508} INFO -  at 1.7s,\testimator extra_tree's best error=0.1500,\tbest estimator extra_tree's best error=0.1500\n",
      "[flaml.automl.automl: 02-19 13:26:28] {3323} INFO - iteration 42, current learner extra_tree\n",
      "[flaml.automl.automl: 02-19 13:26:28] {3508} INFO -  at 1.7s,\testimator extra_tree's best error=0.1500,\tbest estimator extra_tree's best error=0.1500\n",
      "[flaml.automl.automl: 02-19 13:26:28] {3323} INFO - iteration 43, current learner extra_tree\n",
      "[flaml.automl.automl: 02-19 13:26:28] {3508} INFO -  at 1.7s,\testimator extra_tree's best error=0.1500,\tbest estimator extra_tree's best error=0.1500\n",
      "[flaml.automl.automl: 02-19 13:26:28] {3323} INFO - iteration 44, current learner extra_tree\n",
      "[flaml.automl.automl: 02-19 13:26:28] {3508} INFO -  at 1.7s,\testimator extra_tree's best error=0.1500,\tbest estimator extra_tree's best error=0.1500\n",
      "[flaml.automl.automl: 02-19 13:26:28] {3323} INFO - iteration 45, current learner extra_tree\n",
      "[flaml.automl.automl: 02-19 13:26:28] {3508} INFO -  at 1.8s,\testimator extra_tree's best error=0.1500,\tbest estimator extra_tree's best error=0.1500\n",
      "[flaml.automl.automl: 02-19 13:26:28] {3323} INFO - iteration 46, current learner extra_tree\n",
      "[flaml.automl.automl: 02-19 13:26:28] {3508} INFO -  at 1.8s,\testimator extra_tree's best error=0.1500,\tbest estimator extra_tree's best error=0.1500\n",
      "[flaml.automl.automl: 02-19 13:26:28] {3323} INFO - iteration 47, current learner extra_tree\n",
      "[flaml.automl.automl: 02-19 13:26:28] {3508} INFO -  at 1.9s,\testimator extra_tree's best error=0.1500,\tbest estimator extra_tree's best error=0.1500\n",
      "[flaml.automl.automl: 02-19 13:26:28] {3323} INFO - iteration 48, current learner extra_tree\n",
      "[flaml.automl.automl: 02-19 13:26:28] {3508} INFO -  at 1.9s,\testimator extra_tree's best error=0.1500,\tbest estimator extra_tree's best error=0.1500\n",
      "[flaml.automl.automl: 02-19 13:26:28] {3323} INFO - iteration 49, current learner extra_tree\n",
      "[flaml.automl.automl: 02-19 13:26:28] {3508} INFO -  at 1.9s,\testimator extra_tree's best error=0.1500,\tbest estimator extra_tree's best error=0.1500\n",
      "[flaml.automl.automl: 02-19 13:26:28] {3323} INFO - iteration 50, current learner extra_tree\n",
      "[flaml.automl.automl: 02-19 13:26:28] {3508} INFO -  at 2.0s,\testimator extra_tree's best error=0.1500,\tbest estimator extra_tree's best error=0.1500\n",
      "[flaml.automl.automl: 02-19 13:26:28] {3323} INFO - iteration 51, current learner extra_tree\n",
      "[flaml.automl.automl: 02-19 13:26:28] {3508} INFO -  at 2.0s,\testimator extra_tree's best error=0.1500,\tbest estimator extra_tree's best error=0.1500\n",
      "[flaml.automl.automl: 02-19 13:26:28] {3323} INFO - iteration 52, current learner extra_tree\n",
      "[flaml.automl.automl: 02-19 13:26:28] {3508} INFO -  at 2.0s,\testimator extra_tree's best error=0.1500,\tbest estimator extra_tree's best error=0.1500\n",
      "[flaml.automl.automl: 02-19 13:26:28] {3323} INFO - iteration 53, current learner extra_tree\n",
      "[flaml.automl.automl: 02-19 13:26:28] {3508} INFO -  at 2.1s,\testimator extra_tree's best error=0.1500,\tbest estimator extra_tree's best error=0.1500\n",
      "[flaml.automl.automl: 02-19 13:26:28] {3323} INFO - iteration 54, current learner extra_tree\n",
      "[flaml.automl.automl: 02-19 13:26:28] {3508} INFO -  at 2.1s,\testimator extra_tree's best error=0.1500,\tbest estimator extra_tree's best error=0.1500\n",
      "[flaml.automl.automl: 02-19 13:26:28] {3323} INFO - iteration 55, current learner extra_tree\n",
      "[flaml.automl.automl: 02-19 13:26:28] {3508} INFO -  at 2.1s,\testimator extra_tree's best error=0.1500,\tbest estimator extra_tree's best error=0.1500\n",
      "[flaml.automl.automl: 02-19 13:26:28] {3323} INFO - iteration 56, current learner extra_tree\n",
      "[flaml.automl.automl: 02-19 13:26:28] {3508} INFO -  at 2.2s,\testimator extra_tree's best error=0.1500,\tbest estimator extra_tree's best error=0.1500\n",
      "[flaml.automl.automl: 02-19 13:26:28] {3323} INFO - iteration 57, current learner extra_tree\n",
      "[flaml.automl.automl: 02-19 13:26:28] {3508} INFO -  at 2.2s,\testimator extra_tree's best error=0.1500,\tbest estimator extra_tree's best error=0.1500\n",
      "[flaml.automl.automl: 02-19 13:26:28] {3323} INFO - iteration 58, current learner extra_tree\n",
      "[flaml.automl.automl: 02-19 13:26:29] {3508} INFO -  at 2.2s,\testimator extra_tree's best error=0.1500,\tbest estimator extra_tree's best error=0.1500\n",
      "[flaml.automl.automl: 02-19 13:26:29] {3323} INFO - iteration 59, current learner extra_tree\n",
      "[flaml.automl.automl: 02-19 13:26:29] {3508} INFO -  at 2.2s,\testimator extra_tree's best error=0.1500,\tbest estimator extra_tree's best error=0.1500\n",
      "[flaml.automl.automl: 02-19 13:26:29] {3323} INFO - iteration 60, current learner extra_tree\n",
      "[flaml.automl.automl: 02-19 13:26:29] {3508} INFO -  at 2.3s,\testimator extra_tree's best error=0.1500,\tbest estimator extra_tree's best error=0.1500\n",
      "[flaml.automl.automl: 02-19 13:26:29] {3323} INFO - iteration 61, current learner extra_tree\n",
      "[flaml.automl.automl: 02-19 13:26:29] {3508} INFO -  at 2.3s,\testimator extra_tree's best error=0.1500,\tbest estimator extra_tree's best error=0.1500\n",
      "[flaml.automl.automl: 02-19 13:26:29] {3323} INFO - iteration 62, current learner extra_tree\n",
      "[flaml.automl.automl: 02-19 13:26:29] {3508} INFO -  at 2.3s,\testimator extra_tree's best error=0.1500,\tbest estimator extra_tree's best error=0.1500\n",
      "[flaml.automl.automl: 02-19 13:26:29] {3323} INFO - iteration 63, current learner extra_tree\n"
     ]
    },
    {
     "name": "stdout",
     "output_type": "stream",
     "text": [
      "[flaml.automl.automl: 02-19 13:26:29] {3508} INFO -  at 2.4s,\testimator extra_tree's best error=0.1500,\tbest estimator extra_tree's best error=0.1500\n",
      "[flaml.automl.automl: 02-19 13:26:29] {3323} INFO - iteration 64, current learner extra_tree\n",
      "[flaml.automl.automl: 02-19 13:26:29] {3508} INFO -  at 2.4s,\testimator extra_tree's best error=0.1333,\tbest estimator extra_tree's best error=0.1333\n",
      "[flaml.automl.automl: 02-19 13:26:29] {3323} INFO - iteration 65, current learner extra_tree\n",
      "[flaml.automl.automl: 02-19 13:26:29] {3508} INFO -  at 2.4s,\testimator extra_tree's best error=0.1333,\tbest estimator extra_tree's best error=0.1333\n",
      "[flaml.automl.automl: 02-19 13:26:29] {3323} INFO - iteration 66, current learner extra_tree\n",
      "[flaml.automl.automl: 02-19 13:26:29] {3508} INFO -  at 2.5s,\testimator extra_tree's best error=0.1333,\tbest estimator extra_tree's best error=0.1333\n",
      "[flaml.automl.automl: 02-19 13:26:29] {3323} INFO - iteration 67, current learner extra_tree\n",
      "[flaml.automl.automl: 02-19 13:26:29] {3508} INFO -  at 2.5s,\testimator extra_tree's best error=0.1333,\tbest estimator extra_tree's best error=0.1333\n",
      "[flaml.automl.automl: 02-19 13:26:29] {3323} INFO - iteration 68, current learner extra_tree\n",
      "[flaml.automl.automl: 02-19 13:26:29] {3508} INFO -  at 2.5s,\testimator extra_tree's best error=0.1333,\tbest estimator extra_tree's best error=0.1333\n",
      "[flaml.automl.automl: 02-19 13:26:29] {3323} INFO - iteration 69, current learner extra_tree\n",
      "[flaml.automl.automl: 02-19 13:26:29] {3508} INFO -  at 2.6s,\testimator extra_tree's best error=0.1333,\tbest estimator extra_tree's best error=0.1333\n",
      "[flaml.automl.automl: 02-19 13:26:29] {3323} INFO - iteration 70, current learner extra_tree\n",
      "[flaml.automl.automl: 02-19 13:26:29] {3508} INFO -  at 2.6s,\testimator extra_tree's best error=0.1333,\tbest estimator extra_tree's best error=0.1333\n",
      "[flaml.automl.automl: 02-19 13:26:29] {3323} INFO - iteration 71, current learner extra_tree\n",
      "[flaml.automl.automl: 02-19 13:26:29] {3508} INFO -  at 2.6s,\testimator extra_tree's best error=0.1333,\tbest estimator extra_tree's best error=0.1333\n",
      "[flaml.automl.automl: 02-19 13:26:29] {3323} INFO - iteration 72, current learner extra_tree\n",
      "[flaml.automl.automl: 02-19 13:26:29] {3508} INFO -  at 2.7s,\testimator extra_tree's best error=0.1167,\tbest estimator extra_tree's best error=0.1167\n",
      "[flaml.automl.automl: 02-19 13:26:29] {3323} INFO - iteration 73, current learner extra_tree\n",
      "[flaml.automl.automl: 02-19 13:26:29] {3508} INFO -  at 2.7s,\testimator extra_tree's best error=0.0833,\tbest estimator extra_tree's best error=0.0833\n",
      "[flaml.automl.automl: 02-19 13:26:29] {3323} INFO - iteration 74, current learner extra_tree\n",
      "[flaml.automl.automl: 02-19 13:26:29] {3508} INFO -  at 2.8s,\testimator extra_tree's best error=0.0833,\tbest estimator extra_tree's best error=0.0833\n",
      "[flaml.automl.automl: 02-19 13:26:29] {3323} INFO - iteration 75, current learner extra_tree\n",
      "[flaml.automl.automl: 02-19 13:26:29] {3508} INFO -  at 2.8s,\testimator extra_tree's best error=0.0833,\tbest estimator extra_tree's best error=0.0833\n",
      "[flaml.automl.automl: 02-19 13:26:29] {3323} INFO - iteration 76, current learner extra_tree\n",
      "[flaml.automl.automl: 02-19 13:26:29] {3508} INFO -  at 2.9s,\testimator extra_tree's best error=0.0833,\tbest estimator extra_tree's best error=0.0833\n",
      "[flaml.automl.automl: 02-19 13:26:29] {3323} INFO - iteration 77, current learner extra_tree\n",
      "[flaml.automl.automl: 02-19 13:26:29] {3508} INFO -  at 2.9s,\testimator extra_tree's best error=0.0667,\tbest estimator extra_tree's best error=0.0667\n",
      "[flaml.automl.automl: 02-19 13:26:29] {3323} INFO - iteration 78, current learner extra_tree\n",
      "[flaml.automl.automl: 02-19 13:26:29] {3508} INFO -  at 3.0s,\testimator extra_tree's best error=0.0667,\tbest estimator extra_tree's best error=0.0667\n",
      "[flaml.automl.automl: 02-19 13:26:29] {3323} INFO - iteration 79, current learner extra_tree\n",
      "[flaml.automl.automl: 02-19 13:26:29] {3508} INFO -  at 3.0s,\testimator extra_tree's best error=0.0667,\tbest estimator extra_tree's best error=0.0667\n",
      "[flaml.automl.automl: 02-19 13:26:29] {3323} INFO - iteration 80, current learner extra_tree\n",
      "[flaml.automl.automl: 02-19 13:26:29] {3508} INFO -  at 3.1s,\testimator extra_tree's best error=0.0667,\tbest estimator extra_tree's best error=0.0667\n",
      "[flaml.automl.automl: 02-19 13:26:29] {3323} INFO - iteration 81, current learner extra_tree\n",
      "[flaml.automl.automl: 02-19 13:26:29] {3508} INFO -  at 3.1s,\testimator extra_tree's best error=0.0667,\tbest estimator extra_tree's best error=0.0667\n",
      "[flaml.automl.automl: 02-19 13:26:29] {3323} INFO - iteration 82, current learner extra_tree\n",
      "[flaml.automl.automl: 02-19 13:26:29] {3508} INFO -  at 3.2s,\testimator extra_tree's best error=0.0500,\tbest estimator extra_tree's best error=0.0500\n",
      "[flaml.automl.automl: 02-19 13:26:29] {3323} INFO - iteration 83, current learner extra_tree\n",
      "[flaml.automl.automl: 02-19 13:26:29] {3508} INFO -  at 3.2s,\testimator extra_tree's best error=0.0500,\tbest estimator extra_tree's best error=0.0500\n",
      "[flaml.automl.automl: 02-19 13:26:29] {3323} INFO - iteration 84, current learner extra_tree\n",
      "[flaml.automl.automl: 02-19 13:26:30] {3508} INFO -  at 3.3s,\testimator extra_tree's best error=0.0500,\tbest estimator extra_tree's best error=0.0500\n",
      "[flaml.automl.automl: 02-19 13:26:30] {3323} INFO - iteration 85, current learner extra_tree\n",
      "[flaml.automl.automl: 02-19 13:26:30] {3508} INFO -  at 3.4s,\testimator extra_tree's best error=0.0500,\tbest estimator extra_tree's best error=0.0500\n",
      "[flaml.automl.automl: 02-19 13:26:30] {3323} INFO - iteration 86, current learner extra_tree\n",
      "[flaml.automl.automl: 02-19 13:26:30] {3508} INFO -  at 3.4s,\testimator extra_tree's best error=0.0500,\tbest estimator extra_tree's best error=0.0500\n",
      "[flaml.automl.automl: 02-19 13:26:30] {3323} INFO - iteration 87, current learner extra_tree\n",
      "[flaml.automl.automl: 02-19 13:26:30] {3508} INFO -  at 3.5s,\testimator extra_tree's best error=0.0500,\tbest estimator extra_tree's best error=0.0500\n",
      "[flaml.automl.automl: 02-19 13:26:30] {3323} INFO - iteration 88, current learner extra_tree\n",
      "[flaml.automl.automl: 02-19 13:26:30] {3508} INFO -  at 3.5s,\testimator extra_tree's best error=0.0500,\tbest estimator extra_tree's best error=0.0500\n",
      "[flaml.automl.automl: 02-19 13:26:30] {3323} INFO - iteration 89, current learner extra_tree\n",
      "[flaml.automl.automl: 02-19 13:26:30] {3508} INFO -  at 3.6s,\testimator extra_tree's best error=0.0500,\tbest estimator extra_tree's best error=0.0500\n",
      "[flaml.automl.automl: 02-19 13:26:30] {3323} INFO - iteration 90, current learner extra_tree\n",
      "[flaml.automl.automl: 02-19 13:26:30] {3508} INFO -  at 3.7s,\testimator extra_tree's best error=0.0500,\tbest estimator extra_tree's best error=0.0500\n",
      "[flaml.automl.automl: 02-19 13:26:30] {3323} INFO - iteration 91, current learner extra_tree\n",
      "[flaml.automl.automl: 02-19 13:26:30] {3508} INFO -  at 3.7s,\testimator extra_tree's best error=0.0500,\tbest estimator extra_tree's best error=0.0500\n",
      "[flaml.automl.automl: 02-19 13:26:30] {3323} INFO - iteration 92, current learner extra_tree\n",
      "[flaml.automl.automl: 02-19 13:26:30] {3508} INFO -  at 3.8s,\testimator extra_tree's best error=0.0500,\tbest estimator extra_tree's best error=0.0500\n",
      "[flaml.automl.automl: 02-19 13:26:30] {3323} INFO - iteration 93, current learner extra_tree\n",
      "[flaml.automl.automl: 02-19 13:26:30] {3508} INFO -  at 3.8s,\testimator extra_tree's best error=0.0500,\tbest estimator extra_tree's best error=0.0500\n",
      "[flaml.automl.automl: 02-19 13:26:30] {3323} INFO - iteration 94, current learner extra_tree\n",
      "[flaml.automl.automl: 02-19 13:26:30] {3508} INFO -  at 3.9s,\testimator extra_tree's best error=0.0500,\tbest estimator extra_tree's best error=0.0500\n",
      "[flaml.automl.automl: 02-19 13:26:30] {3323} INFO - iteration 95, current learner extra_tree\n",
      "[flaml.automl.automl: 02-19 13:26:30] {3508} INFO -  at 4.0s,\testimator extra_tree's best error=0.0500,\tbest estimator extra_tree's best error=0.0500\n",
      "[flaml.automl.automl: 02-19 13:26:30] {3323} INFO - iteration 96, current learner extra_tree\n",
      "[flaml.automl.automl: 02-19 13:26:30] {3508} INFO -  at 4.0s,\testimator extra_tree's best error=0.0500,\tbest estimator extra_tree's best error=0.0500\n",
      "[flaml.automl.automl: 02-19 13:26:30] {3323} INFO - iteration 97, current learner extra_tree\n"
     ]
    },
    {
     "name": "stdout",
     "output_type": "stream",
     "text": [
      "[flaml.automl.automl: 02-19 13:26:30] {3508} INFO -  at 4.1s,\testimator extra_tree's best error=0.0500,\tbest estimator extra_tree's best error=0.0500\n",
      "[flaml.automl.automl: 02-19 13:26:30] {3323} INFO - iteration 98, current learner extra_tree\n",
      "[flaml.automl.automl: 02-19 13:26:30] {3508} INFO -  at 4.2s,\testimator extra_tree's best error=0.0500,\tbest estimator extra_tree's best error=0.0500\n",
      "[flaml.automl.automl: 02-19 13:26:30] {3323} INFO - iteration 99, current learner extra_tree\n",
      "[flaml.automl.automl: 02-19 13:26:31] {3508} INFO -  at 4.2s,\testimator extra_tree's best error=0.0500,\tbest estimator extra_tree's best error=0.0500\n",
      "[flaml.automl.automl: 02-19 13:26:31] {3323} INFO - iteration 100, current learner extra_tree\n",
      "[flaml.automl.automl: 02-19 13:26:31] {3508} INFO -  at 4.3s,\testimator extra_tree's best error=0.0500,\tbest estimator extra_tree's best error=0.0500\n",
      "[flaml.automl.automl: 02-19 13:26:31] {3323} INFO - iteration 101, current learner extra_tree\n",
      "[flaml.automl.automl: 02-19 13:26:31] {3508} INFO -  at 4.4s,\testimator extra_tree's best error=0.0500,\tbest estimator extra_tree's best error=0.0500\n",
      "[flaml.automl.automl: 02-19 13:26:31] {3323} INFO - iteration 102, current learner extra_tree\n",
      "[flaml.automl.automl: 02-19 13:26:31] {3508} INFO -  at 4.4s,\testimator extra_tree's best error=0.0500,\tbest estimator extra_tree's best error=0.0500\n",
      "[flaml.automl.automl: 02-19 13:26:31] {3323} INFO - iteration 103, current learner extra_tree\n",
      "[flaml.automl.automl: 02-19 13:26:31] {3508} INFO -  at 4.5s,\testimator extra_tree's best error=0.0500,\tbest estimator extra_tree's best error=0.0500\n",
      "[flaml.automl.automl: 02-19 13:26:31] {3323} INFO - iteration 104, current learner extra_tree\n",
      "[flaml.automl.automl: 02-19 13:26:31] {3508} INFO -  at 4.5s,\testimator extra_tree's best error=0.0500,\tbest estimator extra_tree's best error=0.0500\n",
      "[flaml.automl.automl: 02-19 13:26:31] {3323} INFO - iteration 105, current learner extra_tree\n",
      "[flaml.automl.automl: 02-19 13:26:31] {3508} INFO -  at 4.6s,\testimator extra_tree's best error=0.0500,\tbest estimator extra_tree's best error=0.0500\n",
      "[flaml.automl.automl: 02-19 13:26:31] {3323} INFO - iteration 106, current learner extra_tree\n",
      "[flaml.automl.automl: 02-19 13:26:31] {3508} INFO -  at 4.7s,\testimator extra_tree's best error=0.0500,\tbest estimator extra_tree's best error=0.0500\n",
      "[flaml.automl.automl: 02-19 13:26:31] {3323} INFO - iteration 107, current learner extra_tree\n",
      "[flaml.automl.automl: 02-19 13:26:31] {3508} INFO -  at 4.7s,\testimator extra_tree's best error=0.0500,\tbest estimator extra_tree's best error=0.0500\n",
      "[flaml.automl.automl: 02-19 13:26:31] {3323} INFO - iteration 108, current learner extra_tree\n",
      "[flaml.automl.automl: 02-19 13:26:31] {3508} INFO -  at 4.8s,\testimator extra_tree's best error=0.0500,\tbest estimator extra_tree's best error=0.0500\n",
      "[flaml.automl.automl: 02-19 13:26:31] {3323} INFO - iteration 109, current learner extra_tree\n",
      "[flaml.automl.automl: 02-19 13:26:31] {3508} INFO -  at 4.8s,\testimator extra_tree's best error=0.0500,\tbest estimator extra_tree's best error=0.0500\n",
      "[flaml.automl.automl: 02-19 13:26:31] {3323} INFO - iteration 110, current learner extra_tree\n",
      "[flaml.automl.automl: 02-19 13:26:31] {3508} INFO -  at 4.9s,\testimator extra_tree's best error=0.0500,\tbest estimator extra_tree's best error=0.0500\n",
      "[flaml.automl.automl: 02-19 13:26:31] {3323} INFO - iteration 111, current learner extra_tree\n",
      "[flaml.automl.automl: 02-19 13:26:31] {3508} INFO -  at 5.0s,\testimator extra_tree's best error=0.0500,\tbest estimator extra_tree's best error=0.0500\n",
      "[flaml.automl.automl: 02-19 13:26:31] {3323} INFO - iteration 112, current learner extra_tree\n",
      "[flaml.automl.automl: 02-19 13:26:31] {3508} INFO -  at 5.0s,\testimator extra_tree's best error=0.0500,\tbest estimator extra_tree's best error=0.0500\n",
      "[flaml.automl.automl: 02-19 13:26:31] {3323} INFO - iteration 113, current learner extra_tree\n",
      "[flaml.automl.automl: 02-19 13:26:31] {3508} INFO -  at 5.1s,\testimator extra_tree's best error=0.0500,\tbest estimator extra_tree's best error=0.0500\n",
      "[flaml.automl.automl: 02-19 13:26:31] {3323} INFO - iteration 114, current learner extra_tree\n",
      "[flaml.automl.automl: 02-19 13:26:31] {3508} INFO -  at 5.1s,\testimator extra_tree's best error=0.0500,\tbest estimator extra_tree's best error=0.0500\n",
      "[flaml.automl.automl: 02-19 13:26:31] {3323} INFO - iteration 115, current learner extra_tree\n",
      "[flaml.automl.automl: 02-19 13:26:31] {3508} INFO -  at 5.2s,\testimator extra_tree's best error=0.0500,\tbest estimator extra_tree's best error=0.0500\n",
      "[flaml.automl.automl: 02-19 13:26:31] {3323} INFO - iteration 116, current learner extra_tree\n",
      "[flaml.automl.automl: 02-19 13:26:32] {3508} INFO -  at 5.3s,\testimator extra_tree's best error=0.0500,\tbest estimator extra_tree's best error=0.0500\n",
      "[flaml.automl.automl: 02-19 13:26:32] {3323} INFO - iteration 117, current learner extra_tree\n",
      "[flaml.automl.automl: 02-19 13:26:32] {3508} INFO -  at 5.3s,\testimator extra_tree's best error=0.0500,\tbest estimator extra_tree's best error=0.0500\n",
      "[flaml.automl.automl: 02-19 13:26:32] {3323} INFO - iteration 118, current learner extra_tree\n",
      "[flaml.automl.automl: 02-19 13:26:32] {3508} INFO -  at 5.4s,\testimator extra_tree's best error=0.0500,\tbest estimator extra_tree's best error=0.0500\n",
      "[flaml.automl.automl: 02-19 13:26:32] {3323} INFO - iteration 119, current learner extra_tree\n",
      "[flaml.automl.automl: 02-19 13:26:32] {3508} INFO -  at 5.5s,\testimator extra_tree's best error=0.0500,\tbest estimator extra_tree's best error=0.0500\n",
      "[flaml.automl.automl: 02-19 13:26:32] {3323} INFO - iteration 120, current learner extra_tree\n",
      "[flaml.automl.automl: 02-19 13:26:32] {3508} INFO -  at 5.5s,\testimator extra_tree's best error=0.0500,\tbest estimator extra_tree's best error=0.0500\n",
      "[flaml.automl.automl: 02-19 13:26:32] {3323} INFO - iteration 121, current learner extra_tree\n",
      "[flaml.automl.automl: 02-19 13:26:32] {3508} INFO -  at 5.6s,\testimator extra_tree's best error=0.0500,\tbest estimator extra_tree's best error=0.0500\n",
      "[flaml.automl.automl: 02-19 13:26:32] {3323} INFO - iteration 122, current learner extra_tree\n",
      "[flaml.automl.automl: 02-19 13:26:32] {3508} INFO -  at 5.6s,\testimator extra_tree's best error=0.0500,\tbest estimator extra_tree's best error=0.0500\n",
      "[flaml.automl.automl: 02-19 13:26:32] {3323} INFO - iteration 123, current learner extra_tree\n",
      "[flaml.automl.automl: 02-19 13:26:32] {3508} INFO -  at 5.7s,\testimator extra_tree's best error=0.0500,\tbest estimator extra_tree's best error=0.0500\n",
      "[flaml.automl.automl: 02-19 13:26:32] {3323} INFO - iteration 124, current learner extra_tree\n",
      "[flaml.automl.automl: 02-19 13:26:32] {3508} INFO -  at 5.8s,\testimator extra_tree's best error=0.0500,\tbest estimator extra_tree's best error=0.0500\n",
      "[flaml.automl.automl: 02-19 13:26:32] {3323} INFO - iteration 125, current learner extra_tree\n",
      "[flaml.automl.automl: 02-19 13:26:32] {3508} INFO -  at 5.8s,\testimator extra_tree's best error=0.0500,\tbest estimator extra_tree's best error=0.0500\n",
      "[flaml.automl.automl: 02-19 13:26:32] {3323} INFO - iteration 126, current learner extra_tree\n",
      "[flaml.automl.automl: 02-19 13:26:32] {3508} INFO -  at 5.9s,\testimator extra_tree's best error=0.0500,\tbest estimator extra_tree's best error=0.0500\n",
      "[flaml.automl.automl: 02-19 13:26:32] {3323} INFO - iteration 127, current learner extra_tree\n",
      "[flaml.automl.automl: 02-19 13:26:32] {3508} INFO -  at 5.9s,\testimator extra_tree's best error=0.0500,\tbest estimator extra_tree's best error=0.0500\n",
      "[flaml.automl.automl: 02-19 13:26:32] {3323} INFO - iteration 128, current learner extra_tree\n",
      "[flaml.automl.automl: 02-19 13:26:32] {3508} INFO -  at 6.0s,\testimator extra_tree's best error=0.0500,\tbest estimator extra_tree's best error=0.0500\n",
      "[flaml.automl.automl: 02-19 13:26:32] {3323} INFO - iteration 129, current learner extra_tree\n",
      "[flaml.automl.automl: 02-19 13:26:32] {3508} INFO -  at 6.1s,\testimator extra_tree's best error=0.0500,\tbest estimator extra_tree's best error=0.0500\n",
      "[flaml.automl.automl: 02-19 13:26:32] {3323} INFO - iteration 130, current learner extra_tree\n",
      "[flaml.automl.automl: 02-19 13:26:32] {3508} INFO -  at 6.1s,\testimator extra_tree's best error=0.0500,\tbest estimator extra_tree's best error=0.0500\n"
     ]
    },
    {
     "name": "stdout",
     "output_type": "stream",
     "text": [
      "[flaml.automl.automl: 02-19 13:26:32] {3323} INFO - iteration 131, current learner extra_tree\n",
      "[flaml.automl.automl: 02-19 13:26:32] {3508} INFO -  at 6.2s,\testimator extra_tree's best error=0.0500,\tbest estimator extra_tree's best error=0.0500\n",
      "[flaml.automl.automl: 02-19 13:26:32] {3323} INFO - iteration 132, current learner extra_tree\n",
      "[flaml.automl.automl: 02-19 13:26:33] {3508} INFO -  at 6.2s,\testimator extra_tree's best error=0.0500,\tbest estimator extra_tree's best error=0.0500\n",
      "[flaml.automl.automl: 02-19 13:26:33] {3323} INFO - iteration 133, current learner extra_tree\n",
      "[flaml.automl.automl: 02-19 13:26:33] {3508} INFO -  at 6.3s,\testimator extra_tree's best error=0.0500,\tbest estimator extra_tree's best error=0.0500\n",
      "[flaml.automl.automl: 02-19 13:26:33] {3323} INFO - iteration 134, current learner extra_tree\n",
      "[flaml.automl.automl: 02-19 13:26:33] {3508} INFO -  at 6.4s,\testimator extra_tree's best error=0.0500,\tbest estimator extra_tree's best error=0.0500\n",
      "[flaml.automl.automl: 02-19 13:26:33] {3323} INFO - iteration 135, current learner extra_tree\n",
      "[flaml.automl.automl: 02-19 13:26:33] {3508} INFO -  at 6.4s,\testimator extra_tree's best error=0.0500,\tbest estimator extra_tree's best error=0.0500\n",
      "[flaml.automl.automl: 02-19 13:26:33] {3323} INFO - iteration 136, current learner extra_tree\n",
      "[flaml.automl.automl: 02-19 13:26:33] {3508} INFO -  at 6.5s,\testimator extra_tree's best error=0.0500,\tbest estimator extra_tree's best error=0.0500\n",
      "[flaml.automl.automl: 02-19 13:26:33] {3323} INFO - iteration 137, current learner extra_tree\n",
      "[flaml.automl.automl: 02-19 13:26:33] {3508} INFO -  at 6.6s,\testimator extra_tree's best error=0.0500,\tbest estimator extra_tree's best error=0.0500\n",
      "[flaml.automl.automl: 02-19 13:26:33] {3323} INFO - iteration 138, current learner extra_tree\n",
      "[flaml.automl.automl: 02-19 13:26:33] {3508} INFO -  at 6.6s,\testimator extra_tree's best error=0.0500,\tbest estimator extra_tree's best error=0.0500\n",
      "[flaml.automl.automl: 02-19 13:26:33] {3323} INFO - iteration 139, current learner extra_tree\n",
      "[flaml.automl.automl: 02-19 13:26:33] {3508} INFO -  at 6.7s,\testimator extra_tree's best error=0.0500,\tbest estimator extra_tree's best error=0.0500\n",
      "[flaml.automl.automl: 02-19 13:26:33] {3323} INFO - iteration 140, current learner extra_tree\n",
      "[flaml.automl.automl: 02-19 13:26:33] {3508} INFO -  at 6.8s,\testimator extra_tree's best error=0.0500,\tbest estimator extra_tree's best error=0.0500\n",
      "[flaml.automl.automl: 02-19 13:26:33] {3323} INFO - iteration 141, current learner extra_tree\n",
      "[flaml.automl.automl: 02-19 13:26:33] {3508} INFO -  at 6.8s,\testimator extra_tree's best error=0.0500,\tbest estimator extra_tree's best error=0.0500\n",
      "[flaml.automl.automl: 02-19 13:26:33] {3323} INFO - iteration 142, current learner extra_tree\n",
      "[flaml.automl.automl: 02-19 13:26:33] {3508} INFO -  at 6.9s,\testimator extra_tree's best error=0.0500,\tbest estimator extra_tree's best error=0.0500\n",
      "[flaml.automl.automl: 02-19 13:26:33] {3323} INFO - iteration 143, current learner extra_tree\n",
      "[flaml.automl.automl: 02-19 13:26:33] {3508} INFO -  at 7.0s,\testimator extra_tree's best error=0.0500,\tbest estimator extra_tree's best error=0.0500\n",
      "[flaml.automl.automl: 02-19 13:26:33] {3323} INFO - iteration 144, current learner extra_tree\n",
      "[flaml.automl.automl: 02-19 13:26:33] {3508} INFO -  at 7.0s,\testimator extra_tree's best error=0.0500,\tbest estimator extra_tree's best error=0.0500\n",
      "[flaml.automl.automl: 02-19 13:26:33] {3323} INFO - iteration 145, current learner extra_tree\n",
      "[flaml.automl.automl: 02-19 13:26:33] {3508} INFO -  at 7.1s,\testimator extra_tree's best error=0.0500,\tbest estimator extra_tree's best error=0.0500\n",
      "[flaml.automl.automl: 02-19 13:26:33] {3323} INFO - iteration 146, current learner extra_tree\n",
      "[flaml.automl.automl: 02-19 13:26:33] {3508} INFO -  at 7.1s,\testimator extra_tree's best error=0.0500,\tbest estimator extra_tree's best error=0.0500\n",
      "[flaml.automl.automl: 02-19 13:26:33] {3323} INFO - iteration 147, current learner extra_tree\n",
      "[flaml.automl.automl: 02-19 13:26:33] {3508} INFO -  at 7.2s,\testimator extra_tree's best error=0.0500,\tbest estimator extra_tree's best error=0.0500\n",
      "[flaml.automl.automl: 02-19 13:26:33] {3323} INFO - iteration 148, current learner extra_tree\n",
      "[flaml.automl.automl: 02-19 13:26:34] {3508} INFO -  at 7.3s,\testimator extra_tree's best error=0.0500,\tbest estimator extra_tree's best error=0.0500\n",
      "[flaml.automl.automl: 02-19 13:26:34] {3323} INFO - iteration 149, current learner extra_tree\n",
      "[flaml.automl.automl: 02-19 13:26:34] {3508} INFO -  at 7.3s,\testimator extra_tree's best error=0.0500,\tbest estimator extra_tree's best error=0.0500\n",
      "[flaml.automl.automl: 02-19 13:26:34] {3323} INFO - iteration 150, current learner extra_tree\n",
      "[flaml.automl.automl: 02-19 13:26:34] {3508} INFO -  at 7.4s,\testimator extra_tree's best error=0.0500,\tbest estimator extra_tree's best error=0.0500\n",
      "[flaml.automl.automl: 02-19 13:26:34] {3323} INFO - iteration 151, current learner extra_tree\n",
      "[flaml.automl.automl: 02-19 13:26:34] {3508} INFO -  at 7.4s,\testimator extra_tree's best error=0.0500,\tbest estimator extra_tree's best error=0.0500\n",
      "[flaml.automl.automl: 02-19 13:26:34] {3323} INFO - iteration 152, current learner extra_tree\n",
      "[flaml.automl.automl: 02-19 13:26:34] {3508} INFO -  at 7.5s,\testimator extra_tree's best error=0.0500,\tbest estimator extra_tree's best error=0.0500\n",
      "[flaml.automl.automl: 02-19 13:26:34] {3323} INFO - iteration 153, current learner extra_tree\n",
      "[flaml.automl.automl: 02-19 13:26:34] {3508} INFO -  at 7.6s,\testimator extra_tree's best error=0.0500,\tbest estimator extra_tree's best error=0.0500\n",
      "[flaml.automl.automl: 02-19 13:26:34] {3323} INFO - iteration 154, current learner extra_tree\n",
      "[flaml.automl.automl: 02-19 13:26:34] {3508} INFO -  at 7.6s,\testimator extra_tree's best error=0.0500,\tbest estimator extra_tree's best error=0.0500\n",
      "[flaml.automl.automl: 02-19 13:26:34] {3323} INFO - iteration 155, current learner extra_tree\n",
      "[flaml.automl.automl: 02-19 13:26:34] {3508} INFO -  at 7.7s,\testimator extra_tree's best error=0.0500,\tbest estimator extra_tree's best error=0.0500\n",
      "[flaml.automl.automl: 02-19 13:26:34] {3323} INFO - iteration 156, current learner extra_tree\n",
      "[flaml.automl.automl: 02-19 13:26:34] {3508} INFO -  at 7.8s,\testimator extra_tree's best error=0.0500,\tbest estimator extra_tree's best error=0.0500\n",
      "[flaml.automl.automl: 02-19 13:26:34] {3323} INFO - iteration 157, current learner extra_tree\n",
      "[flaml.automl.automl: 02-19 13:26:34] {3508} INFO -  at 7.8s,\testimator extra_tree's best error=0.0500,\tbest estimator extra_tree's best error=0.0500\n",
      "[flaml.automl.automl: 02-19 13:26:34] {3323} INFO - iteration 158, current learner extra_tree\n",
      "[flaml.automl.automl: 02-19 13:26:34] {3508} INFO -  at 7.9s,\testimator extra_tree's best error=0.0500,\tbest estimator extra_tree's best error=0.0500\n",
      "[flaml.automl.automl: 02-19 13:26:34] {3323} INFO - iteration 159, current learner extra_tree\n",
      "[flaml.automl.automl: 02-19 13:26:34] {3508} INFO -  at 7.9s,\testimator extra_tree's best error=0.0500,\tbest estimator extra_tree's best error=0.0500\n",
      "[flaml.automl.automl: 02-19 13:26:34] {3323} INFO - iteration 160, current learner extra_tree\n",
      "[flaml.automl.automl: 02-19 13:26:34] {3508} INFO -  at 8.0s,\testimator extra_tree's best error=0.0500,\tbest estimator extra_tree's best error=0.0500\n",
      "[flaml.automl.automl: 02-19 13:26:34] {3323} INFO - iteration 161, current learner extra_tree\n",
      "[flaml.automl.automl: 02-19 13:26:34] {3508} INFO -  at 8.1s,\testimator extra_tree's best error=0.0500,\tbest estimator extra_tree's best error=0.0500\n",
      "[flaml.automl.automl: 02-19 13:26:34] {3323} INFO - iteration 162, current learner extra_tree\n",
      "[flaml.automl.automl: 02-19 13:26:34] {3508} INFO -  at 8.1s,\testimator extra_tree's best error=0.0500,\tbest estimator extra_tree's best error=0.0500\n",
      "[flaml.automl.automl: 02-19 13:26:34] {3323} INFO - iteration 163, current learner extra_tree\n",
      "[flaml.automl.automl: 02-19 13:26:34] {3508} INFO -  at 8.2s,\testimator extra_tree's best error=0.0500,\tbest estimator extra_tree's best error=0.0500\n",
      "[flaml.automl.automl: 02-19 13:26:34] {3323} INFO - iteration 164, current learner extra_tree\n",
      "[flaml.automl.automl: 02-19 13:26:35] {3508} INFO -  at 8.2s,\testimator extra_tree's best error=0.0500,\tbest estimator extra_tree's best error=0.0500\n"
     ]
    },
    {
     "name": "stdout",
     "output_type": "stream",
     "text": [
      "[flaml.automl.automl: 02-19 13:26:35] {3323} INFO - iteration 165, current learner extra_tree\n",
      "[flaml.automl.automl: 02-19 13:26:35] {3508} INFO -  at 8.3s,\testimator extra_tree's best error=0.0500,\tbest estimator extra_tree's best error=0.0500\n",
      "[flaml.automl.automl: 02-19 13:26:35] {3323} INFO - iteration 166, current learner extra_tree\n",
      "[flaml.automl.automl: 02-19 13:26:35] {3508} INFO -  at 8.4s,\testimator extra_tree's best error=0.0500,\tbest estimator extra_tree's best error=0.0500\n",
      "[flaml.automl.automl: 02-19 13:26:35] {3323} INFO - iteration 167, current learner extra_tree\n",
      "[flaml.automl.automl: 02-19 13:26:35] {3508} INFO -  at 8.4s,\testimator extra_tree's best error=0.0500,\tbest estimator extra_tree's best error=0.0500\n",
      "[flaml.automl.automl: 02-19 13:26:35] {3323} INFO - iteration 168, current learner extra_tree\n",
      "[flaml.automl.automl: 02-19 13:26:35] {3508} INFO -  at 8.5s,\testimator extra_tree's best error=0.0500,\tbest estimator extra_tree's best error=0.0500\n",
      "[flaml.automl.automl: 02-19 13:26:35] {3323} INFO - iteration 169, current learner extra_tree\n",
      "[flaml.automl.automl: 02-19 13:26:35] {3508} INFO -  at 8.5s,\testimator extra_tree's best error=0.0500,\tbest estimator extra_tree's best error=0.0500\n",
      "[flaml.automl.automl: 02-19 13:26:35] {3323} INFO - iteration 170, current learner extra_tree\n",
      "[flaml.automl.automl: 02-19 13:26:35] {3508} INFO -  at 8.6s,\testimator extra_tree's best error=0.0500,\tbest estimator extra_tree's best error=0.0500\n",
      "[flaml.automl.automl: 02-19 13:26:35] {3323} INFO - iteration 171, current learner extra_tree\n",
      "[flaml.automl.automl: 02-19 13:26:35] {3508} INFO -  at 8.7s,\testimator extra_tree's best error=0.0500,\tbest estimator extra_tree's best error=0.0500\n",
      "[flaml.automl.automl: 02-19 13:26:35] {3323} INFO - iteration 172, current learner extra_tree\n",
      "[flaml.automl.automl: 02-19 13:26:35] {3508} INFO -  at 8.7s,\testimator extra_tree's best error=0.0500,\tbest estimator extra_tree's best error=0.0500\n",
      "[flaml.automl.automl: 02-19 13:26:35] {3323} INFO - iteration 173, current learner extra_tree\n",
      "[flaml.automl.automl: 02-19 13:26:35] {3508} INFO -  at 8.8s,\testimator extra_tree's best error=0.0500,\tbest estimator extra_tree's best error=0.0500\n",
      "[flaml.automl.automl: 02-19 13:26:35] {3323} INFO - iteration 174, current learner extra_tree\n",
      "[flaml.automl.automl: 02-19 13:26:35] {3508} INFO -  at 8.9s,\testimator extra_tree's best error=0.0500,\tbest estimator extra_tree's best error=0.0500\n",
      "[flaml.automl.automl: 02-19 13:26:35] {3323} INFO - iteration 175, current learner extra_tree\n",
      "[flaml.automl.automl: 02-19 13:26:35] {3508} INFO -  at 8.9s,\testimator extra_tree's best error=0.0500,\tbest estimator extra_tree's best error=0.0500\n",
      "[flaml.automl.automl: 02-19 13:26:35] {3323} INFO - iteration 176, current learner extra_tree\n",
      "[flaml.automl.automl: 02-19 13:26:35] {3508} INFO -  at 9.0s,\testimator extra_tree's best error=0.0500,\tbest estimator extra_tree's best error=0.0500\n",
      "[flaml.automl.automl: 02-19 13:26:35] {3323} INFO - iteration 177, current learner extra_tree\n",
      "[flaml.automl.automl: 02-19 13:26:35] {3508} INFO -  at 9.0s,\testimator extra_tree's best error=0.0500,\tbest estimator extra_tree's best error=0.0500\n",
      "[flaml.automl.automl: 02-19 13:26:35] {3323} INFO - iteration 178, current learner extra_tree\n",
      "[flaml.automl.automl: 02-19 13:26:35] {3508} INFO -  at 9.1s,\testimator extra_tree's best error=0.0500,\tbest estimator extra_tree's best error=0.0500\n",
      "[flaml.automl.automl: 02-19 13:26:35] {3323} INFO - iteration 179, current learner extra_tree\n",
      "[flaml.automl.automl: 02-19 13:26:35] {3508} INFO -  at 9.2s,\testimator extra_tree's best error=0.0500,\tbest estimator extra_tree's best error=0.0500\n",
      "[flaml.automl.automl: 02-19 13:26:35] {3323} INFO - iteration 180, current learner extra_tree\n",
      "[flaml.automl.automl: 02-19 13:26:36] {3508} INFO -  at 9.2s,\testimator extra_tree's best error=0.0500,\tbest estimator extra_tree's best error=0.0500\n",
      "[flaml.automl.automl: 02-19 13:26:36] {3323} INFO - iteration 181, current learner extra_tree\n",
      "[flaml.automl.automl: 02-19 13:26:36] {3508} INFO -  at 9.3s,\testimator extra_tree's best error=0.0500,\tbest estimator extra_tree's best error=0.0500\n",
      "[flaml.automl.automl: 02-19 13:26:36] {3323} INFO - iteration 182, current learner extra_tree\n",
      "[flaml.automl.automl: 02-19 13:26:36] {3508} INFO -  at 9.3s,\testimator extra_tree's best error=0.0500,\tbest estimator extra_tree's best error=0.0500\n",
      "[flaml.automl.automl: 02-19 13:26:36] {3323} INFO - iteration 183, current learner extra_tree\n",
      "[flaml.automl.automl: 02-19 13:26:36] {3508} INFO -  at 9.4s,\testimator extra_tree's best error=0.0500,\tbest estimator extra_tree's best error=0.0500\n",
      "[flaml.automl.automl: 02-19 13:26:36] {3323} INFO - iteration 184, current learner extra_tree\n",
      "[flaml.automl.automl: 02-19 13:26:36] {3508} INFO -  at 9.5s,\testimator extra_tree's best error=0.0500,\tbest estimator extra_tree's best error=0.0500\n",
      "[flaml.automl.automl: 02-19 13:26:36] {3323} INFO - iteration 185, current learner extra_tree\n",
      "[flaml.automl.automl: 02-19 13:26:36] {3508} INFO -  at 9.5s,\testimator extra_tree's best error=0.0500,\tbest estimator extra_tree's best error=0.0500\n",
      "[flaml.automl.automl: 02-19 13:26:36] {3323} INFO - iteration 186, current learner extra_tree\n",
      "[flaml.automl.automl: 02-19 13:26:36] {3508} INFO -  at 9.6s,\testimator extra_tree's best error=0.0500,\tbest estimator extra_tree's best error=0.0500\n",
      "[flaml.automl.automl: 02-19 13:26:36] {3323} INFO - iteration 187, current learner extra_tree\n",
      "[flaml.automl.automl: 02-19 13:26:36] {3508} INFO -  at 9.6s,\testimator extra_tree's best error=0.0500,\tbest estimator extra_tree's best error=0.0500\n",
      "[flaml.automl.automl: 02-19 13:26:36] {3323} INFO - iteration 188, current learner extra_tree\n",
      "[flaml.automl.automl: 02-19 13:26:36] {3508} INFO -  at 9.7s,\testimator extra_tree's best error=0.0500,\tbest estimator extra_tree's best error=0.0500\n",
      "[flaml.automl.automl: 02-19 13:26:36] {3323} INFO - iteration 189, current learner extra_tree\n",
      "[flaml.automl.automl: 02-19 13:26:36] {3508} INFO -  at 9.8s,\testimator extra_tree's best error=0.0500,\tbest estimator extra_tree's best error=0.0500\n",
      "[flaml.automl.automl: 02-19 13:26:36] {3323} INFO - iteration 190, current learner extra_tree\n",
      "[flaml.automl.automl: 02-19 13:26:36] {3508} INFO -  at 9.8s,\testimator extra_tree's best error=0.0500,\tbest estimator extra_tree's best error=0.0500\n",
      "[flaml.automl.automl: 02-19 13:26:36] {3323} INFO - iteration 191, current learner extra_tree\n",
      "[flaml.automl.automl: 02-19 13:26:36] {3508} INFO -  at 9.9s,\testimator extra_tree's best error=0.0500,\tbest estimator extra_tree's best error=0.0500\n",
      "[flaml.automl.automl: 02-19 13:26:36] {3323} INFO - iteration 192, current learner extra_tree\n",
      "[flaml.automl.automl: 02-19 13:26:36] {3508} INFO -  at 9.9s,\testimator extra_tree's best error=0.0500,\tbest estimator extra_tree's best error=0.0500\n",
      "[flaml.automl.automl: 02-19 13:26:36] {3323} INFO - iteration 193, current learner extra_tree\n",
      "[flaml.automl.automl: 02-19 13:26:36] {3508} INFO -  at 10.0s,\testimator extra_tree's best error=0.0500,\tbest estimator extra_tree's best error=0.0500\n",
      "[flaml.automl.automl: 02-19 13:26:36] {3323} INFO - iteration 194, current learner extra_tree\n",
      "[flaml.automl.automl: 02-19 13:26:36] {3508} INFO -  at 10.1s,\testimator extra_tree's best error=0.0500,\tbest estimator extra_tree's best error=0.0500\n",
      "[flaml.automl.automl: 02-19 13:26:36] {3323} INFO - iteration 195, current learner extra_tree\n",
      "[flaml.automl.automl: 02-19 13:26:36] {3508} INFO -  at 10.1s,\testimator extra_tree's best error=0.0500,\tbest estimator extra_tree's best error=0.0500\n",
      "[flaml.automl.automl: 02-19 13:26:36] {3323} INFO - iteration 196, current learner extra_tree\n",
      "[flaml.automl.automl: 02-19 13:26:36] {3508} INFO -  at 10.2s,\testimator extra_tree's best error=0.0500,\tbest estimator extra_tree's best error=0.0500\n",
      "[flaml.automl.automl: 02-19 13:26:36] {3323} INFO - iteration 197, current learner extra_tree\n",
      "[flaml.automl.automl: 02-19 13:26:37] {3508} INFO -  at 10.2s,\testimator extra_tree's best error=0.0500,\tbest estimator extra_tree's best error=0.0500\n",
      "[flaml.automl.automl: 02-19 13:26:37] {3323} INFO - iteration 198, current learner extra_tree\n",
      "[flaml.automl.automl: 02-19 13:26:37] {3508} INFO -  at 10.3s,\testimator extra_tree's best error=0.0500,\tbest estimator extra_tree's best error=0.0500\n"
     ]
    },
    {
     "name": "stdout",
     "output_type": "stream",
     "text": [
      "[flaml.automl.automl: 02-19 13:26:37] {3323} INFO - iteration 199, current learner extra_tree\n",
      "[flaml.automl.automl: 02-19 13:26:37] {3508} INFO -  at 10.4s,\testimator extra_tree's best error=0.0500,\tbest estimator extra_tree's best error=0.0500\n",
      "[flaml.automl.automl: 02-19 13:26:37] {3323} INFO - iteration 200, current learner extra_tree\n",
      "[flaml.automl.automl: 02-19 13:26:37] {3508} INFO -  at 10.4s,\testimator extra_tree's best error=0.0500,\tbest estimator extra_tree's best error=0.0500\n",
      "[flaml.automl.automl: 02-19 13:26:37] {3323} INFO - iteration 201, current learner extra_tree\n",
      "[flaml.automl.automl: 02-19 13:26:37] {3508} INFO -  at 10.5s,\testimator extra_tree's best error=0.0500,\tbest estimator extra_tree's best error=0.0500\n",
      "[flaml.automl.automl: 02-19 13:26:37] {3323} INFO - iteration 202, current learner extra_tree\n",
      "[flaml.automl.automl: 02-19 13:26:37] {3508} INFO -  at 10.6s,\testimator extra_tree's best error=0.0500,\tbest estimator extra_tree's best error=0.0500\n",
      "[flaml.automl.automl: 02-19 13:26:37] {3323} INFO - iteration 203, current learner extra_tree\n",
      "[flaml.automl.automl: 02-19 13:26:37] {3508} INFO -  at 10.6s,\testimator extra_tree's best error=0.0500,\tbest estimator extra_tree's best error=0.0500\n",
      "[flaml.automl.automl: 02-19 13:26:37] {3323} INFO - iteration 204, current learner extra_tree\n",
      "[flaml.automl.automl: 02-19 13:26:37] {3508} INFO -  at 10.7s,\testimator extra_tree's best error=0.0500,\tbest estimator extra_tree's best error=0.0500\n",
      "[flaml.automl.automl: 02-19 13:26:37] {3323} INFO - iteration 205, current learner extra_tree\n",
      "[flaml.automl.automl: 02-19 13:26:37] {3508} INFO -  at 10.7s,\testimator extra_tree's best error=0.0500,\tbest estimator extra_tree's best error=0.0500\n",
      "[flaml.automl.automl: 02-19 13:26:37] {3323} INFO - iteration 206, current learner extra_tree\n",
      "[flaml.automl.automl: 02-19 13:26:37] {3508} INFO -  at 10.8s,\testimator extra_tree's best error=0.0500,\tbest estimator extra_tree's best error=0.0500\n",
      "[flaml.automl.automl: 02-19 13:26:37] {3323} INFO - iteration 207, current learner extra_tree\n",
      "[flaml.automl.automl: 02-19 13:26:37] {3508} INFO -  at 10.9s,\testimator extra_tree's best error=0.0500,\tbest estimator extra_tree's best error=0.0500\n",
      "[flaml.automl.automl: 02-19 13:26:37] {3323} INFO - iteration 208, current learner extra_tree\n",
      "[flaml.automl.automl: 02-19 13:26:37] {3508} INFO -  at 10.9s,\testimator extra_tree's best error=0.0500,\tbest estimator extra_tree's best error=0.0500\n",
      "[flaml.automl.automl: 02-19 13:26:37] {3323} INFO - iteration 209, current learner extra_tree\n",
      "[flaml.automl.automl: 02-19 13:26:37] {3508} INFO -  at 11.0s,\testimator extra_tree's best error=0.0500,\tbest estimator extra_tree's best error=0.0500\n",
      "[flaml.automl.automl: 02-19 13:26:37] {3323} INFO - iteration 210, current learner extra_tree\n",
      "[flaml.automl.automl: 02-19 13:26:37] {3508} INFO -  at 11.1s,\testimator extra_tree's best error=0.0500,\tbest estimator extra_tree's best error=0.0500\n",
      "[flaml.automl.automl: 02-19 13:26:37] {3323} INFO - iteration 211, current learner extra_tree\n",
      "[flaml.automl.automl: 02-19 13:26:37] {3508} INFO -  at 11.1s,\testimator extra_tree's best error=0.0500,\tbest estimator extra_tree's best error=0.0500\n",
      "[flaml.automl.automl: 02-19 13:26:37] {3323} INFO - iteration 212, current learner extra_tree\n",
      "[flaml.automl.automl: 02-19 13:26:37] {3508} INFO -  at 11.2s,\testimator extra_tree's best error=0.0500,\tbest estimator extra_tree's best error=0.0500\n",
      "[flaml.automl.automl: 02-19 13:26:37] {3323} INFO - iteration 213, current learner extra_tree\n",
      "[flaml.automl.automl: 02-19 13:26:38] {3508} INFO -  at 11.2s,\testimator extra_tree's best error=0.0500,\tbest estimator extra_tree's best error=0.0500\n",
      "[flaml.automl.automl: 02-19 13:26:38] {3323} INFO - iteration 214, current learner extra_tree\n",
      "[flaml.automl.automl: 02-19 13:26:38] {3508} INFO -  at 11.3s,\testimator extra_tree's best error=0.0500,\tbest estimator extra_tree's best error=0.0500\n",
      "[flaml.automl.automl: 02-19 13:26:38] {3323} INFO - iteration 215, current learner extra_tree\n",
      "[flaml.automl.automl: 02-19 13:26:38] {3508} INFO -  at 11.4s,\testimator extra_tree's best error=0.0500,\tbest estimator extra_tree's best error=0.0500\n",
      "[flaml.automl.automl: 02-19 13:26:38] {3323} INFO - iteration 216, current learner extra_tree\n",
      "[flaml.automl.automl: 02-19 13:26:38] {3508} INFO -  at 11.4s,\testimator extra_tree's best error=0.0500,\tbest estimator extra_tree's best error=0.0500\n",
      "[flaml.automl.automl: 02-19 13:26:38] {3323} INFO - iteration 217, current learner extra_tree\n",
      "[flaml.automl.automl: 02-19 13:26:38] {3508} INFO -  at 11.5s,\testimator extra_tree's best error=0.0500,\tbest estimator extra_tree's best error=0.0500\n",
      "[flaml.automl.automl: 02-19 13:26:38] {3323} INFO - iteration 218, current learner extra_tree\n",
      "[flaml.automl.automl: 02-19 13:26:38] {3508} INFO -  at 11.5s,\testimator extra_tree's best error=0.0500,\tbest estimator extra_tree's best error=0.0500\n",
      "[flaml.automl.automl: 02-19 13:26:38] {3323} INFO - iteration 219, current learner extra_tree\n",
      "[flaml.automl.automl: 02-19 13:26:38] {3508} INFO -  at 11.6s,\testimator extra_tree's best error=0.0500,\tbest estimator extra_tree's best error=0.0500\n",
      "[flaml.automl.automl: 02-19 13:26:38] {3323} INFO - iteration 220, current learner extra_tree\n",
      "[flaml.automl.automl: 02-19 13:26:38] {3508} INFO -  at 11.7s,\testimator extra_tree's best error=0.0500,\tbest estimator extra_tree's best error=0.0500\n",
      "[flaml.automl.automl: 02-19 13:26:38] {3323} INFO - iteration 221, current learner extra_tree\n",
      "[flaml.automl.automl: 02-19 13:26:38] {3508} INFO -  at 11.7s,\testimator extra_tree's best error=0.0500,\tbest estimator extra_tree's best error=0.0500\n",
      "[flaml.automl.automl: 02-19 13:26:38] {3323} INFO - iteration 222, current learner extra_tree\n",
      "[flaml.automl.automl: 02-19 13:26:38] {3508} INFO -  at 11.8s,\testimator extra_tree's best error=0.0500,\tbest estimator extra_tree's best error=0.0500\n",
      "[flaml.automl.automl: 02-19 13:26:38] {3323} INFO - iteration 223, current learner extra_tree\n",
      "[flaml.automl.automl: 02-19 13:26:38] {3508} INFO -  at 11.8s,\testimator extra_tree's best error=0.0500,\tbest estimator extra_tree's best error=0.0500\n",
      "[flaml.automl.automl: 02-19 13:26:38] {3323} INFO - iteration 224, current learner extra_tree\n",
      "[flaml.automl.automl: 02-19 13:26:38] {3508} INFO -  at 11.9s,\testimator extra_tree's best error=0.0500,\tbest estimator extra_tree's best error=0.0500\n",
      "[flaml.automl.automl: 02-19 13:26:38] {3323} INFO - iteration 225, current learner extra_tree\n",
      "[flaml.automl.automl: 02-19 13:26:38] {3508} INFO -  at 12.0s,\testimator extra_tree's best error=0.0500,\tbest estimator extra_tree's best error=0.0500\n",
      "[flaml.automl.automl: 02-19 13:26:38] {3323} INFO - iteration 226, current learner extra_tree\n",
      "[flaml.automl.automl: 02-19 13:26:38] {3508} INFO -  at 12.0s,\testimator extra_tree's best error=0.0500,\tbest estimator extra_tree's best error=0.0500\n",
      "[flaml.automl.automl: 02-19 13:26:38] {3323} INFO - iteration 227, current learner extra_tree\n",
      "[flaml.automl.automl: 02-19 13:26:38] {3508} INFO -  at 12.1s,\testimator extra_tree's best error=0.0500,\tbest estimator extra_tree's best error=0.0500\n",
      "[flaml.automl.automl: 02-19 13:26:38] {3323} INFO - iteration 228, current learner extra_tree\n",
      "[flaml.automl.automl: 02-19 13:26:38] {3508} INFO -  at 12.2s,\testimator extra_tree's best error=0.0500,\tbest estimator extra_tree's best error=0.0500\n",
      "[flaml.automl.automl: 02-19 13:26:38] {3323} INFO - iteration 229, current learner extra_tree\n",
      "[flaml.automl.automl: 02-19 13:26:39] {3508} INFO -  at 12.2s,\testimator extra_tree's best error=0.0500,\tbest estimator extra_tree's best error=0.0500\n",
      "[flaml.automl.automl: 02-19 13:26:39] {3323} INFO - iteration 230, current learner extra_tree\n",
      "[flaml.automl.automl: 02-19 13:26:39] {3508} INFO -  at 12.3s,\testimator extra_tree's best error=0.0500,\tbest estimator extra_tree's best error=0.0500\n",
      "[flaml.automl.automl: 02-19 13:26:39] {3323} INFO - iteration 231, current learner extra_tree\n",
      "[flaml.automl.automl: 02-19 13:26:39] {3508} INFO -  at 12.3s,\testimator extra_tree's best error=0.0500,\tbest estimator extra_tree's best error=0.0500\n",
      "[flaml.automl.automl: 02-19 13:26:39] {3323} INFO - iteration 232, current learner extra_tree\n",
      "[flaml.automl.automl: 02-19 13:26:39] {3508} INFO -  at 12.4s,\testimator extra_tree's best error=0.0500,\tbest estimator extra_tree's best error=0.0500\n"
     ]
    },
    {
     "name": "stdout",
     "output_type": "stream",
     "text": [
      "[flaml.automl.automl: 02-19 13:26:39] {3323} INFO - iteration 233, current learner extra_tree\n",
      "[flaml.automl.automl: 02-19 13:26:39] {3508} INFO -  at 12.5s,\testimator extra_tree's best error=0.0500,\tbest estimator extra_tree's best error=0.0500\n",
      "[flaml.automl.automl: 02-19 13:26:39] {3323} INFO - iteration 234, current learner extra_tree\n",
      "[flaml.automl.automl: 02-19 13:26:39] {3508} INFO -  at 12.5s,\testimator extra_tree's best error=0.0500,\tbest estimator extra_tree's best error=0.0500\n",
      "[flaml.automl.automl: 02-19 13:26:39] {3323} INFO - iteration 235, current learner extra_tree\n",
      "[flaml.automl.automl: 02-19 13:26:39] {3508} INFO -  at 12.6s,\testimator extra_tree's best error=0.0500,\tbest estimator extra_tree's best error=0.0500\n",
      "[flaml.automl.automl: 02-19 13:26:39] {3323} INFO - iteration 236, current learner extra_tree\n",
      "[flaml.automl.automl: 02-19 13:26:39] {3508} INFO -  at 12.7s,\testimator extra_tree's best error=0.0500,\tbest estimator extra_tree's best error=0.0500\n",
      "[flaml.automl.automl: 02-19 13:26:39] {3323} INFO - iteration 237, current learner extra_tree\n",
      "[flaml.automl.automl: 02-19 13:26:39] {3508} INFO -  at 12.7s,\testimator extra_tree's best error=0.0500,\tbest estimator extra_tree's best error=0.0500\n",
      "[flaml.automl.automl: 02-19 13:26:39] {3323} INFO - iteration 238, current learner extra_tree\n",
      "[flaml.automl.automl: 02-19 13:26:39] {3508} INFO -  at 12.8s,\testimator extra_tree's best error=0.0500,\tbest estimator extra_tree's best error=0.0500\n",
      "[flaml.automl.automl: 02-19 13:26:39] {3323} INFO - iteration 239, current learner extra_tree\n",
      "[flaml.automl.automl: 02-19 13:26:39] {3508} INFO -  at 12.8s,\testimator extra_tree's best error=0.0500,\tbest estimator extra_tree's best error=0.0500\n",
      "[flaml.automl.automl: 02-19 13:26:39] {3323} INFO - iteration 240, current learner extra_tree\n",
      "[flaml.automl.automl: 02-19 13:26:39] {3508} INFO -  at 12.9s,\testimator extra_tree's best error=0.0500,\tbest estimator extra_tree's best error=0.0500\n",
      "[flaml.automl.automl: 02-19 13:26:39] {3323} INFO - iteration 241, current learner extra_tree\n",
      "[flaml.automl.automl: 02-19 13:26:39] {3508} INFO -  at 13.0s,\testimator extra_tree's best error=0.0500,\tbest estimator extra_tree's best error=0.0500\n",
      "[flaml.automl.automl: 02-19 13:26:39] {3323} INFO - iteration 242, current learner extra_tree\n",
      "[flaml.automl.automl: 02-19 13:26:39] {3508} INFO -  at 13.0s,\testimator extra_tree's best error=0.0500,\tbest estimator extra_tree's best error=0.0500\n",
      "[flaml.automl.automl: 02-19 13:26:39] {3323} INFO - iteration 243, current learner extra_tree\n",
      "[flaml.automl.automl: 02-19 13:26:39] {3508} INFO -  at 13.1s,\testimator extra_tree's best error=0.0500,\tbest estimator extra_tree's best error=0.0500\n",
      "[flaml.automl.automl: 02-19 13:26:39] {3323} INFO - iteration 244, current learner extra_tree\n",
      "[flaml.automl.automl: 02-19 13:26:39] {3508} INFO -  at 13.1s,\testimator extra_tree's best error=0.0500,\tbest estimator extra_tree's best error=0.0500\n",
      "[flaml.automl.automl: 02-19 13:26:39] {3323} INFO - iteration 245, current learner extra_tree\n",
      "[flaml.automl.automl: 02-19 13:26:39] {3508} INFO -  at 13.2s,\testimator extra_tree's best error=0.0500,\tbest estimator extra_tree's best error=0.0500\n",
      "[flaml.automl.automl: 02-19 13:26:39] {3323} INFO - iteration 246, current learner extra_tree\n",
      "[flaml.automl.automl: 02-19 13:26:40] {3508} INFO -  at 13.3s,\testimator extra_tree's best error=0.0500,\tbest estimator extra_tree's best error=0.0500\n",
      "[flaml.automl.automl: 02-19 13:26:40] {3323} INFO - iteration 247, current learner extra_tree\n",
      "[flaml.automl.automl: 02-19 13:26:40] {3508} INFO -  at 13.3s,\testimator extra_tree's best error=0.0500,\tbest estimator extra_tree's best error=0.0500\n",
      "[flaml.automl.automl: 02-19 13:26:40] {3323} INFO - iteration 248, current learner extra_tree\n",
      "[flaml.automl.automl: 02-19 13:26:40] {3508} INFO -  at 13.4s,\testimator extra_tree's best error=0.0500,\tbest estimator extra_tree's best error=0.0500\n",
      "[flaml.automl.automl: 02-19 13:26:40] {3323} INFO - iteration 249, current learner extra_tree\n",
      "[flaml.automl.automl: 02-19 13:26:40] {3508} INFO -  at 13.4s,\testimator extra_tree's best error=0.0500,\tbest estimator extra_tree's best error=0.0500\n",
      "[flaml.automl.automl: 02-19 13:26:40] {3323} INFO - iteration 250, current learner extra_tree\n",
      "[flaml.automl.automl: 02-19 13:26:40] {3508} INFO -  at 13.5s,\testimator extra_tree's best error=0.0500,\tbest estimator extra_tree's best error=0.0500\n",
      "[flaml.automl.automl: 02-19 13:26:40] {3323} INFO - iteration 251, current learner extra_tree\n",
      "[flaml.automl.automl: 02-19 13:26:40] {3508} INFO -  at 13.6s,\testimator extra_tree's best error=0.0500,\tbest estimator extra_tree's best error=0.0500\n",
      "[flaml.automl.automl: 02-19 13:26:40] {3323} INFO - iteration 252, current learner extra_tree\n",
      "[flaml.automl.automl: 02-19 13:26:40] {3508} INFO -  at 13.6s,\testimator extra_tree's best error=0.0500,\tbest estimator extra_tree's best error=0.0500\n",
      "[flaml.automl.automl: 02-19 13:26:40] {3323} INFO - iteration 253, current learner extra_tree\n",
      "[flaml.automl.automl: 02-19 13:26:40] {3508} INFO -  at 13.7s,\testimator extra_tree's best error=0.0500,\tbest estimator extra_tree's best error=0.0500\n",
      "[flaml.automl.automl: 02-19 13:26:40] {3323} INFO - iteration 254, current learner extra_tree\n",
      "[flaml.automl.automl: 02-19 13:26:40] {3508} INFO -  at 13.8s,\testimator extra_tree's best error=0.0500,\tbest estimator extra_tree's best error=0.0500\n",
      "[flaml.automl.automl: 02-19 13:26:40] {3323} INFO - iteration 255, current learner extra_tree\n",
      "[flaml.automl.automl: 02-19 13:26:40] {3508} INFO -  at 13.8s,\testimator extra_tree's best error=0.0500,\tbest estimator extra_tree's best error=0.0500\n",
      "[flaml.automl.automl: 02-19 13:26:40] {3323} INFO - iteration 256, current learner extra_tree\n",
      "[flaml.automl.automl: 02-19 13:26:40] {3508} INFO -  at 13.9s,\testimator extra_tree's best error=0.0500,\tbest estimator extra_tree's best error=0.0500\n",
      "[flaml.automl.automl: 02-19 13:26:40] {3323} INFO - iteration 257, current learner extra_tree\n",
      "[flaml.automl.automl: 02-19 13:26:40] {3508} INFO -  at 13.9s,\testimator extra_tree's best error=0.0500,\tbest estimator extra_tree's best error=0.0500\n",
      "[flaml.automl.automl: 02-19 13:26:40] {3323} INFO - iteration 258, current learner extra_tree\n",
      "[flaml.automl.automl: 02-19 13:26:40] {3508} INFO -  at 14.0s,\testimator extra_tree's best error=0.0500,\tbest estimator extra_tree's best error=0.0500\n",
      "[flaml.automl.automl: 02-19 13:26:40] {3323} INFO - iteration 259, current learner extra_tree\n",
      "[flaml.automl.automl: 02-19 13:26:40] {3508} INFO -  at 14.1s,\testimator extra_tree's best error=0.0500,\tbest estimator extra_tree's best error=0.0500\n",
      "[flaml.automl.automl: 02-19 13:26:40] {3323} INFO - iteration 260, current learner extra_tree\n",
      "[flaml.automl.automl: 02-19 13:26:40] {3508} INFO -  at 14.1s,\testimator extra_tree's best error=0.0500,\tbest estimator extra_tree's best error=0.0500\n",
      "[flaml.automl.automl: 02-19 13:26:40] {3323} INFO - iteration 261, current learner extra_tree\n",
      "[flaml.automl.automl: 02-19 13:26:40] {3508} INFO -  at 14.2s,\testimator extra_tree's best error=0.0500,\tbest estimator extra_tree's best error=0.0500\n",
      "[flaml.automl.automl: 02-19 13:26:40] {3323} INFO - iteration 262, current learner extra_tree\n",
      "[flaml.automl.automl: 02-19 13:26:41] {3508} INFO -  at 14.2s,\testimator extra_tree's best error=0.0500,\tbest estimator extra_tree's best error=0.0500\n",
      "[flaml.automl.automl: 02-19 13:26:41] {3323} INFO - iteration 263, current learner extra_tree\n",
      "[flaml.automl.automl: 02-19 13:26:41] {3508} INFO -  at 14.3s,\testimator extra_tree's best error=0.0500,\tbest estimator extra_tree's best error=0.0500\n",
      "[flaml.automl.automl: 02-19 13:26:41] {3323} INFO - iteration 264, current learner extra_tree\n",
      "[flaml.automl.automl: 02-19 13:26:41] {3508} INFO -  at 14.4s,\testimator extra_tree's best error=0.0500,\tbest estimator extra_tree's best error=0.0500\n",
      "[flaml.automl.automl: 02-19 13:26:41] {3323} INFO - iteration 265, current learner extra_tree\n",
      "[flaml.automl.automl: 02-19 13:26:41] {3508} INFO -  at 14.4s,\testimator extra_tree's best error=0.0500,\tbest estimator extra_tree's best error=0.0500\n",
      "[flaml.automl.automl: 02-19 13:26:41] {3323} INFO - iteration 266, current learner extra_tree\n",
      "[flaml.automl.automl: 02-19 13:26:41] {3508} INFO -  at 14.5s,\testimator extra_tree's best error=0.0500,\tbest estimator extra_tree's best error=0.0500\n"
     ]
    },
    {
     "name": "stdout",
     "output_type": "stream",
     "text": [
      "[flaml.automl.automl: 02-19 13:26:41] {3323} INFO - iteration 267, current learner extra_tree\n",
      "[flaml.automl.automl: 02-19 13:26:41] {3508} INFO -  at 14.6s,\testimator extra_tree's best error=0.0500,\tbest estimator extra_tree's best error=0.0500\n",
      "[flaml.automl.automl: 02-19 13:26:41] {3323} INFO - iteration 268, current learner extra_tree\n",
      "[flaml.automl.automl: 02-19 13:26:41] {3508} INFO -  at 14.6s,\testimator extra_tree's best error=0.0500,\tbest estimator extra_tree's best error=0.0500\n",
      "[flaml.automl.automl: 02-19 13:26:41] {3323} INFO - iteration 269, current learner extra_tree\n",
      "[flaml.automl.automl: 02-19 13:26:41] {3508} INFO -  at 14.7s,\testimator extra_tree's best error=0.0500,\tbest estimator extra_tree's best error=0.0500\n",
      "[flaml.automl.automl: 02-19 13:26:41] {3323} INFO - iteration 270, current learner extra_tree\n",
      "[flaml.automl.automl: 02-19 13:26:41] {3508} INFO -  at 14.7s,\testimator extra_tree's best error=0.0500,\tbest estimator extra_tree's best error=0.0500\n",
      "[flaml.automl.automl: 02-19 13:26:41] {3323} INFO - iteration 271, current learner extra_tree\n",
      "[flaml.automl.automl: 02-19 13:26:41] {3508} INFO -  at 14.8s,\testimator extra_tree's best error=0.0500,\tbest estimator extra_tree's best error=0.0500\n",
      "[flaml.automl.automl: 02-19 13:26:41] {3323} INFO - iteration 272, current learner extra_tree\n",
      "[flaml.automl.automl: 02-19 13:26:41] {3508} INFO -  at 14.8s,\testimator extra_tree's best error=0.0500,\tbest estimator extra_tree's best error=0.0500\n",
      "[flaml.automl.automl: 02-19 13:26:41] {3323} INFO - iteration 273, current learner extra_tree\n",
      "[flaml.automl.automl: 02-19 13:26:41] {3508} INFO -  at 14.9s,\testimator extra_tree's best error=0.0500,\tbest estimator extra_tree's best error=0.0500\n",
      "[flaml.automl.automl: 02-19 13:26:41] {3323} INFO - iteration 274, current learner extra_tree\n",
      "[flaml.automl.automl: 02-19 13:26:41] {3508} INFO -  at 15.0s,\testimator extra_tree's best error=0.0500,\tbest estimator extra_tree's best error=0.0500\n",
      "[flaml.automl.automl: 02-19 13:26:41] {3772} INFO - retrain extra_tree for 0.1s\n",
      "[flaml.automl.automl: 02-19 13:26:41] {3779} INFO - retrained model: ExtraTreesClassifier(criterion='entropy', max_features=0.34863460040433647,\n",
      "                     max_leaf_nodes=104, n_estimators=19, n_jobs=-1,\n",
      "                     random_state=12032022)\n",
      "[flaml.automl.automl: 02-19 13:26:41] {3024} INFO - fit succeeded\n",
      "[flaml.automl.automl: 02-19 13:26:41] {3025} INFO - Time taken to find the best model: 3.159999370574951\n"
     ]
    }
   ],
   "source": [
    "extra_tree = automl.fit(X_train=X_train, y_train=y_train, estimator_list=[\"extra_tree\"], **settings)"
   ]
  },
  {
   "cell_type": "code",
   "execution_count": 26,
   "metadata": {},
   "outputs": [
    {
     "name": "stdout",
     "output_type": "stream",
     "text": [
      "extra_tree: 0.95\n"
     ]
    }
   ],
   "source": [
    "print('extra_tree: {0:.4g}'.format(1-automl.best_loss))"
   ]
  },
  {
   "cell_type": "code",
   "execution_count": 27,
   "metadata": {},
   "outputs": [
    {
     "name": "stdout",
     "output_type": "stream",
     "text": [
      "[flaml.automl.automl: 02-19 13:27:52] {2716} INFO - task = classification\n",
      "[flaml.automl.automl: 02-19 13:27:52] {2718} INFO - Data split method: stratified\n",
      "[flaml.automl.automl: 02-19 13:27:52] {2721} INFO - Evaluation method: holdout\n",
      "[flaml.automl.automl: 02-19 13:27:52] {1312} INFO - class 0 augmented from 12 to 24\n",
      "[flaml.automl.automl: 02-19 13:27:52] {1312} INFO - class 3 augmented from 4 to 20\n",
      "[flaml.automl.automl: 02-19 13:27:52] {1312} INFO - class 5 augmented from 18 to 36\n",
      "[flaml.automl.automl: 02-19 13:27:52] {1312} INFO - class 6 augmented from 16 to 32\n",
      "[flaml.automl.automl: 02-19 13:27:52] {1312} INFO - class 7 augmented from 13 to 26\n",
      "[flaml.automl.automl: 02-19 13:27:52] {1312} INFO - class 8 augmented from 18 to 36\n",
      "[flaml.automl.automl: 02-19 13:27:52] {1312} INFO - class 10 augmented from 16 to 32\n",
      "[flaml.automl.automl: 02-19 13:27:52] {2848} INFO - Minimizing error metric: 1-accuracy\n",
      "[flaml.automl.automl: 02-19 13:27:52] {2994} INFO - List of ML learners in AutoML Run: ['xgb_limitdepth']\n",
      "[flaml.automl.automl: 02-19 13:27:52] {3323} INFO - iteration 0, current learner xgb_limitdepth\n",
      "[flaml.automl.automl: 02-19 13:27:52] {3461} INFO - Estimated sufficient time budget=1665s. Estimated necessary time budget=2s.\n",
      "[flaml.automl.automl: 02-19 13:27:52] {3508} INFO -  at 0.2s,\testimator xgb_limitdepth's best error=0.1333,\tbest estimator xgb_limitdepth's best error=0.1333\n",
      "[flaml.automl.automl: 02-19 13:27:52] {3323} INFO - iteration 1, current learner xgb_limitdepth\n"
     ]
    },
    {
     "name": "stderr",
     "output_type": "stream",
     "text": [
      "C:\\ProgramData\\Anaconda3\\lib\\site-packages\\xgboost\\sklearn.py:1395: UserWarning: `use_label_encoder` is deprecated in 1.7.0.\n",
      "  warnings.warn(\"`use_label_encoder` is deprecated in 1.7.0.\")\n",
      "C:\\ProgramData\\Anaconda3\\lib\\site-packages\\xgboost\\sklearn.py:1395: UserWarning: `use_label_encoder` is deprecated in 1.7.0.\n",
      "  warnings.warn(\"`use_label_encoder` is deprecated in 1.7.0.\")\n"
     ]
    },
    {
     "name": "stdout",
     "output_type": "stream",
     "text": [
      "[flaml.automl.automl: 02-19 13:27:52] {3508} INFO -  at 0.3s,\testimator xgb_limitdepth's best error=0.1333,\tbest estimator xgb_limitdepth's best error=0.1333\n",
      "[flaml.automl.automl: 02-19 13:27:52] {3323} INFO - iteration 2, current learner xgb_limitdepth\n",
      "[flaml.automl.automl: 02-19 13:27:52] {3508} INFO -  at 0.4s,\testimator xgb_limitdepth's best error=0.0833,\tbest estimator xgb_limitdepth's best error=0.0833\n",
      "[flaml.automl.automl: 02-19 13:27:52] {3323} INFO - iteration 3, current learner xgb_limitdepth\n",
      "[flaml.automl.automl: 02-19 13:27:52] {3508} INFO -  at 0.5s,\testimator xgb_limitdepth's best error=0.0833,\tbest estimator xgb_limitdepth's best error=0.0833\n"
     ]
    },
    {
     "name": "stderr",
     "output_type": "stream",
     "text": [
      "C:\\ProgramData\\Anaconda3\\lib\\site-packages\\xgboost\\sklearn.py:1395: UserWarning: `use_label_encoder` is deprecated in 1.7.0.\n",
      "  warnings.warn(\"`use_label_encoder` is deprecated in 1.7.0.\")\n",
      "C:\\ProgramData\\Anaconda3\\lib\\site-packages\\xgboost\\sklearn.py:1395: UserWarning: `use_label_encoder` is deprecated in 1.7.0.\n",
      "  warnings.warn(\"`use_label_encoder` is deprecated in 1.7.0.\")\n"
     ]
    },
    {
     "name": "stdout",
     "output_type": "stream",
     "text": [
      "[flaml.automl.automl: 02-19 13:27:52] {3323} INFO - iteration 4, current learner xgb_limitdepth\n",
      "[flaml.automl.automl: 02-19 13:27:52] {3508} INFO -  at 0.7s,\testimator xgb_limitdepth's best error=0.0833,\tbest estimator xgb_limitdepth's best error=0.0833\n"
     ]
    },
    {
     "name": "stderr",
     "output_type": "stream",
     "text": [
      "C:\\ProgramData\\Anaconda3\\lib\\site-packages\\xgboost\\sklearn.py:1395: UserWarning: `use_label_encoder` is deprecated in 1.7.0.\n",
      "  warnings.warn(\"`use_label_encoder` is deprecated in 1.7.0.\")\n"
     ]
    },
    {
     "name": "stdout",
     "output_type": "stream",
     "text": [
      "[flaml.automl.automl: 02-19 13:27:52] {3323} INFO - iteration 5, current learner xgb_limitdepth\n",
      "[flaml.automl.automl: 02-19 13:27:52] {3508} INFO -  at 0.7s,\testimator xgb_limitdepth's best error=0.0833,\tbest estimator xgb_limitdepth's best error=0.0833\n",
      "[flaml.automl.automl: 02-19 13:27:52] {3323} INFO - iteration 6, current learner xgb_limitdepth\n",
      "[flaml.automl.automl: 02-19 13:27:52] {3508} INFO -  at 0.9s,\testimator xgb_limitdepth's best error=0.0833,\tbest estimator xgb_limitdepth's best error=0.0833\n"
     ]
    },
    {
     "name": "stderr",
     "output_type": "stream",
     "text": [
      "C:\\ProgramData\\Anaconda3\\lib\\site-packages\\xgboost\\sklearn.py:1395: UserWarning: `use_label_encoder` is deprecated in 1.7.0.\n",
      "  warnings.warn(\"`use_label_encoder` is deprecated in 1.7.0.\")\n",
      "C:\\ProgramData\\Anaconda3\\lib\\site-packages\\xgboost\\sklearn.py:1395: UserWarning: `use_label_encoder` is deprecated in 1.7.0.\n",
      "  warnings.warn(\"`use_label_encoder` is deprecated in 1.7.0.\")\n"
     ]
    },
    {
     "name": "stdout",
     "output_type": "stream",
     "text": [
      "[flaml.automl.automl: 02-19 13:27:52] {3323} INFO - iteration 7, current learner xgb_limitdepth\n",
      "[flaml.automl.automl: 02-19 13:27:52] {3508} INFO -  at 1.0s,\testimator xgb_limitdepth's best error=0.0667,\tbest estimator xgb_limitdepth's best error=0.0667\n",
      "[flaml.automl.automl: 02-19 13:27:52] {3323} INFO - iteration 8, current learner xgb_limitdepth\n"
     ]
    },
    {
     "name": "stderr",
     "output_type": "stream",
     "text": [
      "C:\\ProgramData\\Anaconda3\\lib\\site-packages\\xgboost\\sklearn.py:1395: UserWarning: `use_label_encoder` is deprecated in 1.7.0.\n",
      "  warnings.warn(\"`use_label_encoder` is deprecated in 1.7.0.\")\n",
      "C:\\ProgramData\\Anaconda3\\lib\\site-packages\\xgboost\\sklearn.py:1395: UserWarning: `use_label_encoder` is deprecated in 1.7.0.\n",
      "  warnings.warn(\"`use_label_encoder` is deprecated in 1.7.0.\")\n"
     ]
    },
    {
     "name": "stdout",
     "output_type": "stream",
     "text": [
      "[flaml.automl.automl: 02-19 13:27:53] {3508} INFO -  at 1.1s,\testimator xgb_limitdepth's best error=0.0667,\tbest estimator xgb_limitdepth's best error=0.0667\n",
      "[flaml.automl.automl: 02-19 13:27:53] {3323} INFO - iteration 9, current learner xgb_limitdepth\n",
      "[flaml.automl.automl: 02-19 13:27:53] {3508} INFO -  at 1.2s,\testimator xgb_limitdepth's best error=0.0667,\tbest estimator xgb_limitdepth's best error=0.0667\n",
      "[flaml.automl.automl: 02-19 13:27:53] {3323} INFO - iteration 10, current learner xgb_limitdepth\n"
     ]
    },
    {
     "name": "stderr",
     "output_type": "stream",
     "text": [
      "C:\\ProgramData\\Anaconda3\\lib\\site-packages\\xgboost\\sklearn.py:1395: UserWarning: `use_label_encoder` is deprecated in 1.7.0.\n",
      "  warnings.warn(\"`use_label_encoder` is deprecated in 1.7.0.\")\n",
      "C:\\ProgramData\\Anaconda3\\lib\\site-packages\\xgboost\\sklearn.py:1395: UserWarning: `use_label_encoder` is deprecated in 1.7.0.\n",
      "  warnings.warn(\"`use_label_encoder` is deprecated in 1.7.0.\")\n"
     ]
    },
    {
     "name": "stdout",
     "output_type": "stream",
     "text": [
      "[flaml.automl.automl: 02-19 13:27:53] {3508} INFO -  at 1.4s,\testimator xgb_limitdepth's best error=0.0667,\tbest estimator xgb_limitdepth's best error=0.0667\n",
      "[flaml.automl.automl: 02-19 13:27:53] {3323} INFO - iteration 11, current learner xgb_limitdepth\n",
      "[flaml.automl.automl: 02-19 13:27:53] {3508} INFO -  at 1.5s,\testimator xgb_limitdepth's best error=0.0667,\tbest estimator xgb_limitdepth's best error=0.0667\n",
      "[flaml.automl.automl: 02-19 13:27:53] {3323} INFO - iteration 12, current learner xgb_limitdepth\n"
     ]
    },
    {
     "name": "stderr",
     "output_type": "stream",
     "text": [
      "C:\\ProgramData\\Anaconda3\\lib\\site-packages\\xgboost\\sklearn.py:1395: UserWarning: `use_label_encoder` is deprecated in 1.7.0.\n",
      "  warnings.warn(\"`use_label_encoder` is deprecated in 1.7.0.\")\n",
      "C:\\ProgramData\\Anaconda3\\lib\\site-packages\\xgboost\\sklearn.py:1395: UserWarning: `use_label_encoder` is deprecated in 1.7.0.\n",
      "  warnings.warn(\"`use_label_encoder` is deprecated in 1.7.0.\")\n"
     ]
    },
    {
     "name": "stdout",
     "output_type": "stream",
     "text": [
      "[flaml.automl.automl: 02-19 13:27:53] {3508} INFO -  at 1.6s,\testimator xgb_limitdepth's best error=0.0667,\tbest estimator xgb_limitdepth's best error=0.0667\n",
      "[flaml.automl.automl: 02-19 13:27:53] {3323} INFO - iteration 13, current learner xgb_limitdepth\n",
      "[flaml.automl.automl: 02-19 13:27:53] {3508} INFO -  at 1.7s,\testimator xgb_limitdepth's best error=0.0667,\tbest estimator xgb_limitdepth's best error=0.0667\n",
      "[flaml.automl.automl: 02-19 13:27:53] {3323} INFO - iteration 14, current learner xgb_limitdepth\n"
     ]
    },
    {
     "name": "stderr",
     "output_type": "stream",
     "text": [
      "C:\\ProgramData\\Anaconda3\\lib\\site-packages\\xgboost\\sklearn.py:1395: UserWarning: `use_label_encoder` is deprecated in 1.7.0.\n",
      "  warnings.warn(\"`use_label_encoder` is deprecated in 1.7.0.\")\n",
      "C:\\ProgramData\\Anaconda3\\lib\\site-packages\\xgboost\\sklearn.py:1395: UserWarning: `use_label_encoder` is deprecated in 1.7.0.\n",
      "  warnings.warn(\"`use_label_encoder` is deprecated in 1.7.0.\")\n"
     ]
    },
    {
     "name": "stdout",
     "output_type": "stream",
     "text": [
      "[flaml.automl.automl: 02-19 13:27:53] {3508} INFO -  at 1.9s,\testimator xgb_limitdepth's best error=0.0667,\tbest estimator xgb_limitdepth's best error=0.0667\n",
      "[flaml.automl.automl: 02-19 13:27:53] {3323} INFO - iteration 15, current learner xgb_limitdepth\n",
      "[flaml.automl.automl: 02-19 13:27:53] {3508} INFO -  at 2.0s,\testimator xgb_limitdepth's best error=0.0667,\tbest estimator xgb_limitdepth's best error=0.0667\n",
      "[flaml.automl.automl: 02-19 13:27:53] {3323} INFO - iteration 16, current learner xgb_limitdepth\n",
      "[flaml.automl.automl: 02-19 13:27:54] {3508} INFO -  at 2.1s,\testimator xgb_limitdepth's best error=0.0667,\tbest estimator xgb_limitdepth's best error=0.0667\n"
     ]
    },
    {
     "name": "stderr",
     "output_type": "stream",
     "text": [
      "C:\\ProgramData\\Anaconda3\\lib\\site-packages\\xgboost\\sklearn.py:1395: UserWarning: `use_label_encoder` is deprecated in 1.7.0.\n",
      "  warnings.warn(\"`use_label_encoder` is deprecated in 1.7.0.\")\n",
      "C:\\ProgramData\\Anaconda3\\lib\\site-packages\\xgboost\\sklearn.py:1395: UserWarning: `use_label_encoder` is deprecated in 1.7.0.\n",
      "  warnings.warn(\"`use_label_encoder` is deprecated in 1.7.0.\")\n"
     ]
    },
    {
     "name": "stdout",
     "output_type": "stream",
     "text": [
      "[flaml.automl.automl: 02-19 13:27:54] {3323} INFO - iteration 17, current learner xgb_limitdepth\n",
      "[flaml.automl.automl: 02-19 13:27:54] {3508} INFO -  at 2.2s,\testimator xgb_limitdepth's best error=0.0667,\tbest estimator xgb_limitdepth's best error=0.0667\n",
      "[flaml.automl.automl: 02-19 13:27:54] {3323} INFO - iteration 18, current learner xgb_limitdepth\n"
     ]
    },
    {
     "name": "stderr",
     "output_type": "stream",
     "text": [
      "C:\\ProgramData\\Anaconda3\\lib\\site-packages\\xgboost\\sklearn.py:1395: UserWarning: `use_label_encoder` is deprecated in 1.7.0.\n",
      "  warnings.warn(\"`use_label_encoder` is deprecated in 1.7.0.\")\n",
      "C:\\ProgramData\\Anaconda3\\lib\\site-packages\\xgboost\\sklearn.py:1395: UserWarning: `use_label_encoder` is deprecated in 1.7.0.\n",
      "  warnings.warn(\"`use_label_encoder` is deprecated in 1.7.0.\")\n"
     ]
    },
    {
     "name": "stdout",
     "output_type": "stream",
     "text": [
      "[flaml.automl.automl: 02-19 13:27:54] {3508} INFO -  at 2.4s,\testimator xgb_limitdepth's best error=0.0667,\tbest estimator xgb_limitdepth's best error=0.0667\n",
      "[flaml.automl.automl: 02-19 13:27:54] {3323} INFO - iteration 19, current learner xgb_limitdepth\n",
      "[flaml.automl.automl: 02-19 13:27:54] {3508} INFO -  at 2.4s,\testimator xgb_limitdepth's best error=0.0667,\tbest estimator xgb_limitdepth's best error=0.0667\n",
      "[flaml.automl.automl: 02-19 13:27:54] {3323} INFO - iteration 20, current learner xgb_limitdepth\n"
     ]
    },
    {
     "name": "stderr",
     "output_type": "stream",
     "text": [
      "C:\\ProgramData\\Anaconda3\\lib\\site-packages\\xgboost\\sklearn.py:1395: UserWarning: `use_label_encoder` is deprecated in 1.7.0.\n",
      "  warnings.warn(\"`use_label_encoder` is deprecated in 1.7.0.\")\n",
      "C:\\ProgramData\\Anaconda3\\lib\\site-packages\\xgboost\\sklearn.py:1395: UserWarning: `use_label_encoder` is deprecated in 1.7.0.\n",
      "  warnings.warn(\"`use_label_encoder` is deprecated in 1.7.0.\")\n"
     ]
    },
    {
     "name": "stdout",
     "output_type": "stream",
     "text": [
      "[flaml.automl.automl: 02-19 13:27:54] {3508} INFO -  at 2.6s,\testimator xgb_limitdepth's best error=0.0667,\tbest estimator xgb_limitdepth's best error=0.0667\n",
      "[flaml.automl.automl: 02-19 13:27:54] {3323} INFO - iteration 21, current learner xgb_limitdepth\n",
      "[flaml.automl.automl: 02-19 13:27:54] {3508} INFO -  at 2.7s,\testimator xgb_limitdepth's best error=0.0667,\tbest estimator xgb_limitdepth's best error=0.0667\n",
      "[flaml.automl.automl: 02-19 13:27:54] {3323} INFO - iteration 22, current learner xgb_limitdepth\n"
     ]
    },
    {
     "name": "stderr",
     "output_type": "stream",
     "text": [
      "C:\\ProgramData\\Anaconda3\\lib\\site-packages\\xgboost\\sklearn.py:1395: UserWarning: `use_label_encoder` is deprecated in 1.7.0.\n",
      "  warnings.warn(\"`use_label_encoder` is deprecated in 1.7.0.\")\n",
      "C:\\ProgramData\\Anaconda3\\lib\\site-packages\\xgboost\\sklearn.py:1395: UserWarning: `use_label_encoder` is deprecated in 1.7.0.\n",
      "  warnings.warn(\"`use_label_encoder` is deprecated in 1.7.0.\")\n"
     ]
    },
    {
     "name": "stdout",
     "output_type": "stream",
     "text": [
      "[flaml.automl.automl: 02-19 13:27:54] {3508} INFO -  at 2.9s,\testimator xgb_limitdepth's best error=0.0667,\tbest estimator xgb_limitdepth's best error=0.0667\n",
      "[flaml.automl.automl: 02-19 13:27:54] {3323} INFO - iteration 23, current learner xgb_limitdepth\n",
      "[flaml.automl.automl: 02-19 13:27:55] {3508} INFO -  at 3.0s,\testimator xgb_limitdepth's best error=0.0667,\tbest estimator xgb_limitdepth's best error=0.0667\n",
      "[flaml.automl.automl: 02-19 13:27:55] {3323} INFO - iteration 24, current learner xgb_limitdepth\n"
     ]
    },
    {
     "name": "stderr",
     "output_type": "stream",
     "text": [
      "C:\\ProgramData\\Anaconda3\\lib\\site-packages\\xgboost\\sklearn.py:1395: UserWarning: `use_label_encoder` is deprecated in 1.7.0.\n",
      "  warnings.warn(\"`use_label_encoder` is deprecated in 1.7.0.\")\n",
      "C:\\ProgramData\\Anaconda3\\lib\\site-packages\\xgboost\\sklearn.py:1395: UserWarning: `use_label_encoder` is deprecated in 1.7.0.\n",
      "  warnings.warn(\"`use_label_encoder` is deprecated in 1.7.0.\")\n"
     ]
    },
    {
     "name": "stdout",
     "output_type": "stream",
     "text": [
      "[flaml.automl.automl: 02-19 13:27:55] {3508} INFO -  at 3.1s,\testimator xgb_limitdepth's best error=0.0667,\tbest estimator xgb_limitdepth's best error=0.0667\n",
      "[flaml.automl.automl: 02-19 13:27:55] {3323} INFO - iteration 25, current learner xgb_limitdepth\n",
      "[flaml.automl.automl: 02-19 13:27:55] {3508} INFO -  at 3.1s,\testimator xgb_limitdepth's best error=0.0667,\tbest estimator xgb_limitdepth's best error=0.0667\n",
      "[flaml.automl.automl: 02-19 13:27:55] {3323} INFO - iteration 26, current learner xgb_limitdepth\n"
     ]
    },
    {
     "name": "stderr",
     "output_type": "stream",
     "text": [
      "C:\\ProgramData\\Anaconda3\\lib\\site-packages\\xgboost\\sklearn.py:1395: UserWarning: `use_label_encoder` is deprecated in 1.7.0.\n",
      "  warnings.warn(\"`use_label_encoder` is deprecated in 1.7.0.\")\n",
      "C:\\ProgramData\\Anaconda3\\lib\\site-packages\\xgboost\\sklearn.py:1395: UserWarning: `use_label_encoder` is deprecated in 1.7.0.\n",
      "  warnings.warn(\"`use_label_encoder` is deprecated in 1.7.0.\")\n"
     ]
    },
    {
     "name": "stdout",
     "output_type": "stream",
     "text": [
      "[flaml.automl.automl: 02-19 13:27:55] {3508} INFO -  at 3.3s,\testimator xgb_limitdepth's best error=0.0667,\tbest estimator xgb_limitdepth's best error=0.0667\n",
      "[flaml.automl.automl: 02-19 13:27:55] {3323} INFO - iteration 27, current learner xgb_limitdepth\n",
      "[flaml.automl.automl: 02-19 13:27:55] {3508} INFO -  at 3.4s,\testimator xgb_limitdepth's best error=0.0667,\tbest estimator xgb_limitdepth's best error=0.0667\n",
      "[flaml.automl.automl: 02-19 13:27:55] {3323} INFO - iteration 28, current learner xgb_limitdepth\n",
      "[flaml.automl.automl: 02-19 13:27:55] {3508} INFO -  at 3.5s,\testimator xgb_limitdepth's best error=0.0667,\tbest estimator xgb_limitdepth's best error=0.0667\n"
     ]
    },
    {
     "name": "stderr",
     "output_type": "stream",
     "text": [
      "C:\\ProgramData\\Anaconda3\\lib\\site-packages\\xgboost\\sklearn.py:1395: UserWarning: `use_label_encoder` is deprecated in 1.7.0.\n",
      "  warnings.warn(\"`use_label_encoder` is deprecated in 1.7.0.\")\n",
      "C:\\ProgramData\\Anaconda3\\lib\\site-packages\\xgboost\\sklearn.py:1395: UserWarning: `use_label_encoder` is deprecated in 1.7.0.\n",
      "  warnings.warn(\"`use_label_encoder` is deprecated in 1.7.0.\")\n"
     ]
    },
    {
     "name": "stdout",
     "output_type": "stream",
     "text": [
      "[flaml.automl.automl: 02-19 13:27:55] {3323} INFO - iteration 29, current learner xgb_limitdepth\n",
      "[flaml.automl.automl: 02-19 13:27:55] {3508} INFO -  at 3.6s,\testimator xgb_limitdepth's best error=0.0667,\tbest estimator xgb_limitdepth's best error=0.0667\n",
      "[flaml.automl.automl: 02-19 13:27:55] {3323} INFO - iteration 30, current learner xgb_limitdepth\n"
     ]
    },
    {
     "name": "stderr",
     "output_type": "stream",
     "text": [
      "C:\\ProgramData\\Anaconda3\\lib\\site-packages\\xgboost\\sklearn.py:1395: UserWarning: `use_label_encoder` is deprecated in 1.7.0.\n",
      "  warnings.warn(\"`use_label_encoder` is deprecated in 1.7.0.\")\n",
      "C:\\ProgramData\\Anaconda3\\lib\\site-packages\\xgboost\\sklearn.py:1395: UserWarning: `use_label_encoder` is deprecated in 1.7.0.\n",
      "  warnings.warn(\"`use_label_encoder` is deprecated in 1.7.0.\")\n"
     ]
    },
    {
     "name": "stdout",
     "output_type": "stream",
     "text": [
      "[flaml.automl.automl: 02-19 13:27:55] {3508} INFO -  at 3.8s,\testimator xgb_limitdepth's best error=0.0667,\tbest estimator xgb_limitdepth's best error=0.0667\n",
      "[flaml.automl.automl: 02-19 13:27:55] {3323} INFO - iteration 31, current learner xgb_limitdepth\n",
      "[flaml.automl.automl: 02-19 13:27:55] {3508} INFO -  at 3.9s,\testimator xgb_limitdepth's best error=0.0667,\tbest estimator xgb_limitdepth's best error=0.0667\n",
      "[flaml.automl.automl: 02-19 13:27:55] {3323} INFO - iteration 32, current learner xgb_limitdepth\n",
      "[flaml.automl.automl: 02-19 13:27:56] {3508} INFO -  at 4.0s,\testimator xgb_limitdepth's best error=0.0667,\tbest estimator xgb_limitdepth's best error=0.0667\n"
     ]
    },
    {
     "name": "stderr",
     "output_type": "stream",
     "text": [
      "C:\\ProgramData\\Anaconda3\\lib\\site-packages\\xgboost\\sklearn.py:1395: UserWarning: `use_label_encoder` is deprecated in 1.7.0.\n",
      "  warnings.warn(\"`use_label_encoder` is deprecated in 1.7.0.\")\n",
      "C:\\ProgramData\\Anaconda3\\lib\\site-packages\\xgboost\\sklearn.py:1395: UserWarning: `use_label_encoder` is deprecated in 1.7.0.\n",
      "  warnings.warn(\"`use_label_encoder` is deprecated in 1.7.0.\")\n"
     ]
    },
    {
     "name": "stdout",
     "output_type": "stream",
     "text": [
      "[flaml.automl.automl: 02-19 13:27:56] {3323} INFO - iteration 33, current learner xgb_limitdepth\n",
      "[flaml.automl.automl: 02-19 13:27:56] {3508} INFO -  at 4.1s,\testimator xgb_limitdepth's best error=0.0667,\tbest estimator xgb_limitdepth's best error=0.0667\n",
      "[flaml.automl.automl: 02-19 13:27:56] {3323} INFO - iteration 34, current learner xgb_limitdepth\n"
     ]
    },
    {
     "name": "stderr",
     "output_type": "stream",
     "text": [
      "C:\\ProgramData\\Anaconda3\\lib\\site-packages\\xgboost\\sklearn.py:1395: UserWarning: `use_label_encoder` is deprecated in 1.7.0.\n",
      "  warnings.warn(\"`use_label_encoder` is deprecated in 1.7.0.\")\n",
      "C:\\ProgramData\\Anaconda3\\lib\\site-packages\\xgboost\\sklearn.py:1395: UserWarning: `use_label_encoder` is deprecated in 1.7.0.\n",
      "  warnings.warn(\"`use_label_encoder` is deprecated in 1.7.0.\")\n"
     ]
    },
    {
     "name": "stdout",
     "output_type": "stream",
     "text": [
      "[flaml.automl.automl: 02-19 13:27:56] {3508} INFO -  at 4.2s,\testimator xgb_limitdepth's best error=0.0667,\tbest estimator xgb_limitdepth's best error=0.0667\n",
      "[flaml.automl.automl: 02-19 13:27:56] {3323} INFO - iteration 35, current learner xgb_limitdepth\n",
      "[flaml.automl.automl: 02-19 13:27:56] {3508} INFO -  at 4.4s,\testimator xgb_limitdepth's best error=0.0667,\tbest estimator xgb_limitdepth's best error=0.0667\n",
      "[flaml.automl.automl: 02-19 13:27:56] {3323} INFO - iteration 36, current learner xgb_limitdepth\n",
      "[flaml.automl.automl: 02-19 13:27:56] {3508} INFO -  at 4.4s,\testimator xgb_limitdepth's best error=0.0667,\tbest estimator xgb_limitdepth's best error=0.0667\n"
     ]
    },
    {
     "name": "stderr",
     "output_type": "stream",
     "text": [
      "C:\\ProgramData\\Anaconda3\\lib\\site-packages\\xgboost\\sklearn.py:1395: UserWarning: `use_label_encoder` is deprecated in 1.7.0.\n",
      "  warnings.warn(\"`use_label_encoder` is deprecated in 1.7.0.\")\n",
      "C:\\ProgramData\\Anaconda3\\lib\\site-packages\\xgboost\\sklearn.py:1395: UserWarning: `use_label_encoder` is deprecated in 1.7.0.\n",
      "  warnings.warn(\"`use_label_encoder` is deprecated in 1.7.0.\")\n"
     ]
    },
    {
     "name": "stdout",
     "output_type": "stream",
     "text": [
      "[flaml.automl.automl: 02-19 13:27:56] {3323} INFO - iteration 37, current learner xgb_limitdepth\n",
      "[flaml.automl.automl: 02-19 13:27:56] {3508} INFO -  at 4.6s,\testimator xgb_limitdepth's best error=0.0667,\tbest estimator xgb_limitdepth's best error=0.0667\n",
      "[flaml.automl.automl: 02-19 13:27:56] {3323} INFO - iteration 38, current learner xgb_limitdepth\n"
     ]
    },
    {
     "name": "stderr",
     "output_type": "stream",
     "text": [
      "C:\\ProgramData\\Anaconda3\\lib\\site-packages\\xgboost\\sklearn.py:1395: UserWarning: `use_label_encoder` is deprecated in 1.7.0.\n",
      "  warnings.warn(\"`use_label_encoder` is deprecated in 1.7.0.\")\n",
      "C:\\ProgramData\\Anaconda3\\lib\\site-packages\\xgboost\\sklearn.py:1395: UserWarning: `use_label_encoder` is deprecated in 1.7.0.\n",
      "  warnings.warn(\"`use_label_encoder` is deprecated in 1.7.0.\")\n"
     ]
    },
    {
     "name": "stdout",
     "output_type": "stream",
     "text": [
      "[flaml.automl.automl: 02-19 13:27:56] {3508} INFO -  at 4.6s,\testimator xgb_limitdepth's best error=0.0667,\tbest estimator xgb_limitdepth's best error=0.0667\n",
      "[flaml.automl.automl: 02-19 13:27:56] {3323} INFO - iteration 39, current learner xgb_limitdepth\n",
      "[flaml.automl.automl: 02-19 13:27:56] {3508} INFO -  at 4.8s,\testimator xgb_limitdepth's best error=0.0667,\tbest estimator xgb_limitdepth's best error=0.0667\n",
      "[flaml.automl.automl: 02-19 13:27:56] {3323} INFO - iteration 40, current learner xgb_limitdepth\n"
     ]
    },
    {
     "name": "stderr",
     "output_type": "stream",
     "text": [
      "C:\\ProgramData\\Anaconda3\\lib\\site-packages\\xgboost\\sklearn.py:1395: UserWarning: `use_label_encoder` is deprecated in 1.7.0.\n",
      "  warnings.warn(\"`use_label_encoder` is deprecated in 1.7.0.\")\n",
      "C:\\ProgramData\\Anaconda3\\lib\\site-packages\\xgboost\\sklearn.py:1395: UserWarning: `use_label_encoder` is deprecated in 1.7.0.\n",
      "  warnings.warn(\"`use_label_encoder` is deprecated in 1.7.0.\")\n"
     ]
    },
    {
     "name": "stdout",
     "output_type": "stream",
     "text": [
      "[flaml.automl.automl: 02-19 13:27:56] {3508} INFO -  at 4.9s,\testimator xgb_limitdepth's best error=0.0667,\tbest estimator xgb_limitdepth's best error=0.0667\n",
      "[flaml.automl.automl: 02-19 13:27:56] {3323} INFO - iteration 41, current learner xgb_limitdepth\n",
      "[flaml.automl.automl: 02-19 13:27:56] {3508} INFO -  at 4.9s,\testimator xgb_limitdepth's best error=0.0667,\tbest estimator xgb_limitdepth's best error=0.0667\n",
      "[flaml.automl.automl: 02-19 13:27:56] {3323} INFO - iteration 42, current learner xgb_limitdepth\n"
     ]
    },
    {
     "name": "stderr",
     "output_type": "stream",
     "text": [
      "C:\\ProgramData\\Anaconda3\\lib\\site-packages\\xgboost\\sklearn.py:1395: UserWarning: `use_label_encoder` is deprecated in 1.7.0.\n",
      "  warnings.warn(\"`use_label_encoder` is deprecated in 1.7.0.\")\n",
      "C:\\ProgramData\\Anaconda3\\lib\\site-packages\\xgboost\\sklearn.py:1395: UserWarning: `use_label_encoder` is deprecated in 1.7.0.\n",
      "  warnings.warn(\"`use_label_encoder` is deprecated in 1.7.0.\")\n"
     ]
    },
    {
     "name": "stdout",
     "output_type": "stream",
     "text": [
      "[flaml.automl.automl: 02-19 13:27:57] {3508} INFO -  at 5.1s,\testimator xgb_limitdepth's best error=0.0667,\tbest estimator xgb_limitdepth's best error=0.0667\n",
      "[flaml.automl.automl: 02-19 13:27:57] {3323} INFO - iteration 43, current learner xgb_limitdepth\n",
      "[flaml.automl.automl: 02-19 13:27:57] {3508} INFO -  at 5.3s,\testimator xgb_limitdepth's best error=0.0667,\tbest estimator xgb_limitdepth's best error=0.0667\n",
      "[flaml.automl.automl: 02-19 13:27:57] {3323} INFO - iteration 44, current learner xgb_limitdepth\n"
     ]
    },
    {
     "name": "stderr",
     "output_type": "stream",
     "text": [
      "C:\\ProgramData\\Anaconda3\\lib\\site-packages\\xgboost\\sklearn.py:1395: UserWarning: `use_label_encoder` is deprecated in 1.7.0.\n",
      "  warnings.warn(\"`use_label_encoder` is deprecated in 1.7.0.\")\n",
      "C:\\ProgramData\\Anaconda3\\lib\\site-packages\\xgboost\\sklearn.py:1395: UserWarning: `use_label_encoder` is deprecated in 1.7.0.\n",
      "  warnings.warn(\"`use_label_encoder` is deprecated in 1.7.0.\")\n"
     ]
    },
    {
     "name": "stdout",
     "output_type": "stream",
     "text": [
      "[flaml.automl.automl: 02-19 13:27:57] {3508} INFO -  at 5.4s,\testimator xgb_limitdepth's best error=0.0667,\tbest estimator xgb_limitdepth's best error=0.0667\n",
      "[flaml.automl.automl: 02-19 13:27:57] {3323} INFO - iteration 45, current learner xgb_limitdepth\n",
      "[flaml.automl.automl: 02-19 13:27:57] {3508} INFO -  at 5.5s,\testimator xgb_limitdepth's best error=0.0667,\tbest estimator xgb_limitdepth's best error=0.0667\n",
      "[flaml.automl.automl: 02-19 13:27:57] {3323} INFO - iteration 46, current learner xgb_limitdepth\n",
      "[flaml.automl.automl: 02-19 13:27:57] {3508} INFO -  at 5.6s,\testimator xgb_limitdepth's best error=0.0667,\tbest estimator xgb_limitdepth's best error=0.0667\n"
     ]
    },
    {
     "name": "stderr",
     "output_type": "stream",
     "text": [
      "C:\\ProgramData\\Anaconda3\\lib\\site-packages\\xgboost\\sklearn.py:1395: UserWarning: `use_label_encoder` is deprecated in 1.7.0.\n",
      "  warnings.warn(\"`use_label_encoder` is deprecated in 1.7.0.\")\n",
      "C:\\ProgramData\\Anaconda3\\lib\\site-packages\\xgboost\\sklearn.py:1395: UserWarning: `use_label_encoder` is deprecated in 1.7.0.\n",
      "  warnings.warn(\"`use_label_encoder` is deprecated in 1.7.0.\")\n"
     ]
    },
    {
     "name": "stdout",
     "output_type": "stream",
     "text": [
      "[flaml.automl.automl: 02-19 13:27:57] {3323} INFO - iteration 47, current learner xgb_limitdepth\n",
      "[flaml.automl.automl: 02-19 13:27:57] {3508} INFO -  at 5.7s,\testimator xgb_limitdepth's best error=0.0667,\tbest estimator xgb_limitdepth's best error=0.0667\n",
      "[flaml.automl.automl: 02-19 13:27:57] {3323} INFO - iteration 48, current learner xgb_limitdepth\n"
     ]
    },
    {
     "name": "stderr",
     "output_type": "stream",
     "text": [
      "C:\\ProgramData\\Anaconda3\\lib\\site-packages\\xgboost\\sklearn.py:1395: UserWarning: `use_label_encoder` is deprecated in 1.7.0.\n",
      "  warnings.warn(\"`use_label_encoder` is deprecated in 1.7.0.\")\n",
      "C:\\ProgramData\\Anaconda3\\lib\\site-packages\\xgboost\\sklearn.py:1395: UserWarning: `use_label_encoder` is deprecated in 1.7.0.\n",
      "  warnings.warn(\"`use_label_encoder` is deprecated in 1.7.0.\")\n"
     ]
    },
    {
     "name": "stdout",
     "output_type": "stream",
     "text": [
      "[flaml.automl.automl: 02-19 13:27:57] {3508} INFO -  at 5.8s,\testimator xgb_limitdepth's best error=0.0667,\tbest estimator xgb_limitdepth's best error=0.0667\n",
      "[flaml.automl.automl: 02-19 13:27:57] {3323} INFO - iteration 49, current learner xgb_limitdepth\n",
      "[flaml.automl.automl: 02-19 13:27:57] {3508} INFO -  at 5.9s,\testimator xgb_limitdepth's best error=0.0667,\tbest estimator xgb_limitdepth's best error=0.0667\n",
      "[flaml.automl.automl: 02-19 13:27:57] {3323} INFO - iteration 50, current learner xgb_limitdepth\n",
      "[flaml.automl.automl: 02-19 13:27:58] {3508} INFO -  at 6.0s,\testimator xgb_limitdepth's best error=0.0667,\tbest estimator xgb_limitdepth's best error=0.0667\n"
     ]
    },
    {
     "name": "stderr",
     "output_type": "stream",
     "text": [
      "C:\\ProgramData\\Anaconda3\\lib\\site-packages\\xgboost\\sklearn.py:1395: UserWarning: `use_label_encoder` is deprecated in 1.7.0.\n",
      "  warnings.warn(\"`use_label_encoder` is deprecated in 1.7.0.\")\n",
      "C:\\ProgramData\\Anaconda3\\lib\\site-packages\\xgboost\\sklearn.py:1395: UserWarning: `use_label_encoder` is deprecated in 1.7.0.\n",
      "  warnings.warn(\"`use_label_encoder` is deprecated in 1.7.0.\")\n"
     ]
    },
    {
     "name": "stdout",
     "output_type": "stream",
     "text": [
      "[flaml.automl.automl: 02-19 13:27:58] {3323} INFO - iteration 51, current learner xgb_limitdepth\n",
      "[flaml.automl.automl: 02-19 13:27:58] {3508} INFO -  at 6.1s,\testimator xgb_limitdepth's best error=0.0667,\tbest estimator xgb_limitdepth's best error=0.0667\n",
      "[flaml.automl.automl: 02-19 13:27:58] {3323} INFO - iteration 52, current learner xgb_limitdepth\n",
      "[flaml.automl.automl: 02-19 13:27:58] {3508} INFO -  at 6.2s,\testimator xgb_limitdepth's best error=0.0667,\tbest estimator xgb_limitdepth's best error=0.0667\n"
     ]
    },
    {
     "name": "stderr",
     "output_type": "stream",
     "text": [
      "C:\\ProgramData\\Anaconda3\\lib\\site-packages\\xgboost\\sklearn.py:1395: UserWarning: `use_label_encoder` is deprecated in 1.7.0.\n",
      "  warnings.warn(\"`use_label_encoder` is deprecated in 1.7.0.\")\n",
      "C:\\ProgramData\\Anaconda3\\lib\\site-packages\\xgboost\\sklearn.py:1395: UserWarning: `use_label_encoder` is deprecated in 1.7.0.\n",
      "  warnings.warn(\"`use_label_encoder` is deprecated in 1.7.0.\")\n"
     ]
    },
    {
     "name": "stdout",
     "output_type": "stream",
     "text": [
      "[flaml.automl.automl: 02-19 13:27:58] {3323} INFO - iteration 53, current learner xgb_limitdepth\n",
      "[flaml.automl.automl: 02-19 13:27:58] {3508} INFO -  at 6.3s,\testimator xgb_limitdepth's best error=0.0667,\tbest estimator xgb_limitdepth's best error=0.0667\n",
      "[flaml.automl.automl: 02-19 13:27:58] {3323} INFO - iteration 54, current learner xgb_limitdepth\n",
      "[flaml.automl.automl: 02-19 13:27:58] {3508} INFO -  at 6.4s,\testimator xgb_limitdepth's best error=0.0667,\tbest estimator xgb_limitdepth's best error=0.0667\n"
     ]
    },
    {
     "name": "stderr",
     "output_type": "stream",
     "text": [
      "C:\\ProgramData\\Anaconda3\\lib\\site-packages\\xgboost\\sklearn.py:1395: UserWarning: `use_label_encoder` is deprecated in 1.7.0.\n",
      "  warnings.warn(\"`use_label_encoder` is deprecated in 1.7.0.\")\n",
      "C:\\ProgramData\\Anaconda3\\lib\\site-packages\\xgboost\\sklearn.py:1395: UserWarning: `use_label_encoder` is deprecated in 1.7.0.\n",
      "  warnings.warn(\"`use_label_encoder` is deprecated in 1.7.0.\")\n"
     ]
    },
    {
     "name": "stdout",
     "output_type": "stream",
     "text": [
      "[flaml.automl.automl: 02-19 13:27:58] {3323} INFO - iteration 55, current learner xgb_limitdepth\n",
      "[flaml.automl.automl: 02-19 13:27:58] {3508} INFO -  at 6.5s,\testimator xgb_limitdepth's best error=0.0667,\tbest estimator xgb_limitdepth's best error=0.0667\n",
      "[flaml.automl.automl: 02-19 13:27:58] {3323} INFO - iteration 56, current learner xgb_limitdepth\n",
      "[flaml.automl.automl: 02-19 13:27:58] {3508} INFO -  at 6.6s,\testimator xgb_limitdepth's best error=0.0667,\tbest estimator xgb_limitdepth's best error=0.0667\n"
     ]
    },
    {
     "name": "stderr",
     "output_type": "stream",
     "text": [
      "C:\\ProgramData\\Anaconda3\\lib\\site-packages\\xgboost\\sklearn.py:1395: UserWarning: `use_label_encoder` is deprecated in 1.7.0.\n",
      "  warnings.warn(\"`use_label_encoder` is deprecated in 1.7.0.\")\n",
      "C:\\ProgramData\\Anaconda3\\lib\\site-packages\\xgboost\\sklearn.py:1395: UserWarning: `use_label_encoder` is deprecated in 1.7.0.\n",
      "  warnings.warn(\"`use_label_encoder` is deprecated in 1.7.0.\")\n"
     ]
    },
    {
     "name": "stdout",
     "output_type": "stream",
     "text": [
      "[flaml.automl.automl: 02-19 13:27:58] {3323} INFO - iteration 57, current learner xgb_limitdepth\n",
      "[flaml.automl.automl: 02-19 13:27:58] {3508} INFO -  at 6.8s,\testimator xgb_limitdepth's best error=0.0667,\tbest estimator xgb_limitdepth's best error=0.0667\n",
      "[flaml.automl.automl: 02-19 13:27:58] {3323} INFO - iteration 58, current learner xgb_limitdepth\n"
     ]
    },
    {
     "name": "stderr",
     "output_type": "stream",
     "text": [
      "C:\\ProgramData\\Anaconda3\\lib\\site-packages\\xgboost\\sklearn.py:1395: UserWarning: `use_label_encoder` is deprecated in 1.7.0.\n",
      "  warnings.warn(\"`use_label_encoder` is deprecated in 1.7.0.\")\n",
      "C:\\ProgramData\\Anaconda3\\lib\\site-packages\\xgboost\\sklearn.py:1395: UserWarning: `use_label_encoder` is deprecated in 1.7.0.\n",
      "  warnings.warn(\"`use_label_encoder` is deprecated in 1.7.0.\")\n"
     ]
    },
    {
     "name": "stdout",
     "output_type": "stream",
     "text": [
      "[flaml.automl.automl: 02-19 13:27:58] {3508} INFO -  at 6.8s,\testimator xgb_limitdepth's best error=0.0667,\tbest estimator xgb_limitdepth's best error=0.0667\n",
      "[flaml.automl.automl: 02-19 13:27:58] {3323} INFO - iteration 59, current learner xgb_limitdepth\n",
      "[flaml.automl.automl: 02-19 13:27:58] {3508} INFO -  at 6.9s,\testimator xgb_limitdepth's best error=0.0667,\tbest estimator xgb_limitdepth's best error=0.0667\n",
      "[flaml.automl.automl: 02-19 13:27:58] {3323} INFO - iteration 60, current learner xgb_limitdepth\n"
     ]
    },
    {
     "name": "stderr",
     "output_type": "stream",
     "text": [
      "C:\\ProgramData\\Anaconda3\\lib\\site-packages\\xgboost\\sklearn.py:1395: UserWarning: `use_label_encoder` is deprecated in 1.7.0.\n",
      "  warnings.warn(\"`use_label_encoder` is deprecated in 1.7.0.\")\n",
      "C:\\ProgramData\\Anaconda3\\lib\\site-packages\\xgboost\\sklearn.py:1395: UserWarning: `use_label_encoder` is deprecated in 1.7.0.\n",
      "  warnings.warn(\"`use_label_encoder` is deprecated in 1.7.0.\")\n"
     ]
    },
    {
     "name": "stdout",
     "output_type": "stream",
     "text": [
      "[flaml.automl.automl: 02-19 13:27:59] {3508} INFO -  at 7.1s,\testimator xgb_limitdepth's best error=0.0667,\tbest estimator xgb_limitdepth's best error=0.0667\n",
      "[flaml.automl.automl: 02-19 13:27:59] {3323} INFO - iteration 61, current learner xgb_limitdepth\n",
      "[flaml.automl.automl: 02-19 13:27:59] {3508} INFO -  at 7.2s,\testimator xgb_limitdepth's best error=0.0667,\tbest estimator xgb_limitdepth's best error=0.0667\n",
      "[flaml.automl.automl: 02-19 13:27:59] {3323} INFO - iteration 62, current learner xgb_limitdepth\n",
      "[flaml.automl.automl: 02-19 13:27:59] {3508} INFO -  at 7.3s,\testimator xgb_limitdepth's best error=0.0667,\tbest estimator xgb_limitdepth's best error=0.0667\n"
     ]
    },
    {
     "name": "stderr",
     "output_type": "stream",
     "text": [
      "C:\\ProgramData\\Anaconda3\\lib\\site-packages\\xgboost\\sklearn.py:1395: UserWarning: `use_label_encoder` is deprecated in 1.7.0.\n",
      "  warnings.warn(\"`use_label_encoder` is deprecated in 1.7.0.\")\n",
      "C:\\ProgramData\\Anaconda3\\lib\\site-packages\\xgboost\\sklearn.py:1395: UserWarning: `use_label_encoder` is deprecated in 1.7.0.\n",
      "  warnings.warn(\"`use_label_encoder` is deprecated in 1.7.0.\")\n"
     ]
    },
    {
     "name": "stdout",
     "output_type": "stream",
     "text": [
      "[flaml.automl.automl: 02-19 13:27:59] {3323} INFO - iteration 63, current learner xgb_limitdepth\n",
      "[flaml.automl.automl: 02-19 13:27:59] {3508} INFO -  at 7.4s,\testimator xgb_limitdepth's best error=0.0667,\tbest estimator xgb_limitdepth's best error=0.0667\n",
      "[flaml.automl.automl: 02-19 13:27:59] {3323} INFO - iteration 64, current learner xgb_limitdepth\n"
     ]
    },
    {
     "name": "stderr",
     "output_type": "stream",
     "text": [
      "C:\\ProgramData\\Anaconda3\\lib\\site-packages\\xgboost\\sklearn.py:1395: UserWarning: `use_label_encoder` is deprecated in 1.7.0.\n",
      "  warnings.warn(\"`use_label_encoder` is deprecated in 1.7.0.\")\n",
      "C:\\ProgramData\\Anaconda3\\lib\\site-packages\\xgboost\\sklearn.py:1395: UserWarning: `use_label_encoder` is deprecated in 1.7.0.\n",
      "  warnings.warn(\"`use_label_encoder` is deprecated in 1.7.0.\")\n"
     ]
    },
    {
     "name": "stdout",
     "output_type": "stream",
     "text": [
      "[flaml.automl.automl: 02-19 13:27:59] {3508} INFO -  at 7.5s,\testimator xgb_limitdepth's best error=0.0667,\tbest estimator xgb_limitdepth's best error=0.0667\n",
      "[flaml.automl.automl: 02-19 13:27:59] {3323} INFO - iteration 65, current learner xgb_limitdepth\n",
      "[flaml.automl.automl: 02-19 13:27:59] {3508} INFO -  at 7.6s,\testimator xgb_limitdepth's best error=0.0667,\tbest estimator xgb_limitdepth's best error=0.0667\n",
      "[flaml.automl.automl: 02-19 13:27:59] {3323} INFO - iteration 66, current learner xgb_limitdepth\n"
     ]
    },
    {
     "name": "stderr",
     "output_type": "stream",
     "text": [
      "C:\\ProgramData\\Anaconda3\\lib\\site-packages\\xgboost\\sklearn.py:1395: UserWarning: `use_label_encoder` is deprecated in 1.7.0.\n",
      "  warnings.warn(\"`use_label_encoder` is deprecated in 1.7.0.\")\n",
      "C:\\ProgramData\\Anaconda3\\lib\\site-packages\\xgboost\\sklearn.py:1395: UserWarning: `use_label_encoder` is deprecated in 1.7.0.\n",
      "  warnings.warn(\"`use_label_encoder` is deprecated in 1.7.0.\")\n"
     ]
    },
    {
     "name": "stdout",
     "output_type": "stream",
     "text": [
      "[flaml.automl.automl: 02-19 13:27:59] {3508} INFO -  at 7.8s,\testimator xgb_limitdepth's best error=0.0667,\tbest estimator xgb_limitdepth's best error=0.0667\n",
      "[flaml.automl.automl: 02-19 13:27:59] {3323} INFO - iteration 67, current learner xgb_limitdepth\n",
      "[flaml.automl.automl: 02-19 13:27:59] {3508} INFO -  at 7.9s,\testimator xgb_limitdepth's best error=0.0667,\tbest estimator xgb_limitdepth's best error=0.0667\n",
      "[flaml.automl.automl: 02-19 13:27:59] {3323} INFO - iteration 68, current learner xgb_limitdepth\n"
     ]
    },
    {
     "name": "stderr",
     "output_type": "stream",
     "text": [
      "C:\\ProgramData\\Anaconda3\\lib\\site-packages\\xgboost\\sklearn.py:1395: UserWarning: `use_label_encoder` is deprecated in 1.7.0.\n",
      "  warnings.warn(\"`use_label_encoder` is deprecated in 1.7.0.\")\n",
      "C:\\ProgramData\\Anaconda3\\lib\\site-packages\\xgboost\\sklearn.py:1395: UserWarning: `use_label_encoder` is deprecated in 1.7.0.\n",
      "  warnings.warn(\"`use_label_encoder` is deprecated in 1.7.0.\")\n"
     ]
    },
    {
     "name": "stdout",
     "output_type": "stream",
     "text": [
      "[flaml.automl.automl: 02-19 13:28:00] {3508} INFO -  at 8.0s,\testimator xgb_limitdepth's best error=0.0667,\tbest estimator xgb_limitdepth's best error=0.0667\n",
      "[flaml.automl.automl: 02-19 13:28:00] {3323} INFO - iteration 69, current learner xgb_limitdepth\n",
      "[flaml.automl.automl: 02-19 13:28:00] {3508} INFO -  at 8.1s,\testimator xgb_limitdepth's best error=0.0667,\tbest estimator xgb_limitdepth's best error=0.0667\n",
      "[flaml.automl.automl: 02-19 13:28:00] {3323} INFO - iteration 70, current learner xgb_limitdepth\n"
     ]
    },
    {
     "name": "stderr",
     "output_type": "stream",
     "text": [
      "C:\\ProgramData\\Anaconda3\\lib\\site-packages\\xgboost\\sklearn.py:1395: UserWarning: `use_label_encoder` is deprecated in 1.7.0.\n",
      "  warnings.warn(\"`use_label_encoder` is deprecated in 1.7.0.\")\n",
      "C:\\ProgramData\\Anaconda3\\lib\\site-packages\\xgboost\\sklearn.py:1395: UserWarning: `use_label_encoder` is deprecated in 1.7.0.\n",
      "  warnings.warn(\"`use_label_encoder` is deprecated in 1.7.0.\")\n"
     ]
    },
    {
     "name": "stdout",
     "output_type": "stream",
     "text": [
      "[flaml.automl.automl: 02-19 13:28:00] {3508} INFO -  at 8.2s,\testimator xgb_limitdepth's best error=0.0667,\tbest estimator xgb_limitdepth's best error=0.0667\n",
      "[flaml.automl.automl: 02-19 13:28:00] {3323} INFO - iteration 71, current learner xgb_limitdepth\n",
      "[flaml.automl.automl: 02-19 13:28:00] {3508} INFO -  at 8.3s,\testimator xgb_limitdepth's best error=0.0667,\tbest estimator xgb_limitdepth's best error=0.0667\n",
      "[flaml.automl.automl: 02-19 13:28:00] {3323} INFO - iteration 72, current learner xgb_limitdepth\n",
      "[flaml.automl.automl: 02-19 13:28:00] {3508} INFO -  at 8.4s,\testimator xgb_limitdepth's best error=0.0667,\tbest estimator xgb_limitdepth's best error=0.0667\n"
     ]
    },
    {
     "name": "stderr",
     "output_type": "stream",
     "text": [
      "C:\\ProgramData\\Anaconda3\\lib\\site-packages\\xgboost\\sklearn.py:1395: UserWarning: `use_label_encoder` is deprecated in 1.7.0.\n",
      "  warnings.warn(\"`use_label_encoder` is deprecated in 1.7.0.\")\n",
      "C:\\ProgramData\\Anaconda3\\lib\\site-packages\\xgboost\\sklearn.py:1395: UserWarning: `use_label_encoder` is deprecated in 1.7.0.\n",
      "  warnings.warn(\"`use_label_encoder` is deprecated in 1.7.0.\")\n"
     ]
    },
    {
     "name": "stdout",
     "output_type": "stream",
     "text": [
      "[flaml.automl.automl: 02-19 13:28:00] {3323} INFO - iteration 73, current learner xgb_limitdepth\n",
      "[flaml.automl.automl: 02-19 13:28:00] {3508} INFO -  at 8.5s,\testimator xgb_limitdepth's best error=0.0667,\tbest estimator xgb_limitdepth's best error=0.0667\n",
      "[flaml.automl.automl: 02-19 13:28:00] {3323} INFO - iteration 74, current learner xgb_limitdepth\n"
     ]
    },
    {
     "name": "stderr",
     "output_type": "stream",
     "text": [
      "C:\\ProgramData\\Anaconda3\\lib\\site-packages\\xgboost\\sklearn.py:1395: UserWarning: `use_label_encoder` is deprecated in 1.7.0.\n",
      "  warnings.warn(\"`use_label_encoder` is deprecated in 1.7.0.\")\n",
      "C:\\ProgramData\\Anaconda3\\lib\\site-packages\\xgboost\\sklearn.py:1395: UserWarning: `use_label_encoder` is deprecated in 1.7.0.\n",
      "  warnings.warn(\"`use_label_encoder` is deprecated in 1.7.0.\")\n"
     ]
    },
    {
     "name": "stdout",
     "output_type": "stream",
     "text": [
      "[flaml.automl.automl: 02-19 13:28:00] {3508} INFO -  at 8.7s,\testimator xgb_limitdepth's best error=0.0667,\tbest estimator xgb_limitdepth's best error=0.0667\n",
      "[flaml.automl.automl: 02-19 13:28:00] {3323} INFO - iteration 75, current learner xgb_limitdepth\n",
      "[flaml.automl.automl: 02-19 13:28:00] {3508} INFO -  at 8.8s,\testimator xgb_limitdepth's best error=0.0667,\tbest estimator xgb_limitdepth's best error=0.0667\n",
      "[flaml.automl.automl: 02-19 13:28:00] {3323} INFO - iteration 76, current learner xgb_limitdepth\n",
      "[flaml.automl.automl: 02-19 13:28:00] {3508} INFO -  at 8.9s,\testimator xgb_limitdepth's best error=0.0667,\tbest estimator xgb_limitdepth's best error=0.0667\n"
     ]
    },
    {
     "name": "stderr",
     "output_type": "stream",
     "text": [
      "C:\\ProgramData\\Anaconda3\\lib\\site-packages\\xgboost\\sklearn.py:1395: UserWarning: `use_label_encoder` is deprecated in 1.7.0.\n",
      "  warnings.warn(\"`use_label_encoder` is deprecated in 1.7.0.\")\n",
      "C:\\ProgramData\\Anaconda3\\lib\\site-packages\\xgboost\\sklearn.py:1395: UserWarning: `use_label_encoder` is deprecated in 1.7.0.\n",
      "  warnings.warn(\"`use_label_encoder` is deprecated in 1.7.0.\")\n"
     ]
    },
    {
     "name": "stdout",
     "output_type": "stream",
     "text": [
      "[flaml.automl.automl: 02-19 13:28:00] {3323} INFO - iteration 77, current learner xgb_limitdepth\n",
      "[flaml.automl.automl: 02-19 13:28:00] {3508} INFO -  at 9.0s,\testimator xgb_limitdepth's best error=0.0667,\tbest estimator xgb_limitdepth's best error=0.0667\n",
      "[flaml.automl.automl: 02-19 13:28:00] {3323} INFO - iteration 78, current learner xgb_limitdepth\n",
      "[flaml.automl.automl: 02-19 13:28:01] {3508} INFO -  at 9.1s,\testimator xgb_limitdepth's best error=0.0667,\tbest estimator xgb_limitdepth's best error=0.0667\n"
     ]
    },
    {
     "name": "stderr",
     "output_type": "stream",
     "text": [
      "C:\\ProgramData\\Anaconda3\\lib\\site-packages\\xgboost\\sklearn.py:1395: UserWarning: `use_label_encoder` is deprecated in 1.7.0.\n",
      "  warnings.warn(\"`use_label_encoder` is deprecated in 1.7.0.\")\n",
      "C:\\ProgramData\\Anaconda3\\lib\\site-packages\\xgboost\\sklearn.py:1395: UserWarning: `use_label_encoder` is deprecated in 1.7.0.\n",
      "  warnings.warn(\"`use_label_encoder` is deprecated in 1.7.0.\")\n"
     ]
    },
    {
     "name": "stdout",
     "output_type": "stream",
     "text": [
      "[flaml.automl.automl: 02-19 13:28:01] {3323} INFO - iteration 79, current learner xgb_limitdepth\n",
      "[flaml.automl.automl: 02-19 13:28:01] {3508} INFO -  at 9.2s,\testimator xgb_limitdepth's best error=0.0667,\tbest estimator xgb_limitdepth's best error=0.0667\n",
      "[flaml.automl.automl: 02-19 13:28:01] {3323} INFO - iteration 80, current learner xgb_limitdepth\n"
     ]
    },
    {
     "name": "stderr",
     "output_type": "stream",
     "text": [
      "C:\\ProgramData\\Anaconda3\\lib\\site-packages\\xgboost\\sklearn.py:1395: UserWarning: `use_label_encoder` is deprecated in 1.7.0.\n",
      "  warnings.warn(\"`use_label_encoder` is deprecated in 1.7.0.\")\n",
      "C:\\ProgramData\\Anaconda3\\lib\\site-packages\\xgboost\\sklearn.py:1395: UserWarning: `use_label_encoder` is deprecated in 1.7.0.\n",
      "  warnings.warn(\"`use_label_encoder` is deprecated in 1.7.0.\")\n"
     ]
    },
    {
     "name": "stdout",
     "output_type": "stream",
     "text": [
      "[flaml.automl.automl: 02-19 13:28:01] {3508} INFO -  at 9.3s,\testimator xgb_limitdepth's best error=0.0500,\tbest estimator xgb_limitdepth's best error=0.0500\n",
      "[flaml.automl.automl: 02-19 13:28:01] {3323} INFO - iteration 81, current learner xgb_limitdepth\n",
      "[flaml.automl.automl: 02-19 13:28:01] {3508} INFO -  at 9.4s,\testimator xgb_limitdepth's best error=0.0500,\tbest estimator xgb_limitdepth's best error=0.0500\n",
      "[flaml.automl.automl: 02-19 13:28:01] {3323} INFO - iteration 82, current learner xgb_limitdepth\n",
      "[flaml.automl.automl: 02-19 13:28:01] {3508} INFO -  at 9.5s,\testimator xgb_limitdepth's best error=0.0500,\tbest estimator xgb_limitdepth's best error=0.0500\n"
     ]
    },
    {
     "name": "stderr",
     "output_type": "stream",
     "text": [
      "C:\\ProgramData\\Anaconda3\\lib\\site-packages\\xgboost\\sklearn.py:1395: UserWarning: `use_label_encoder` is deprecated in 1.7.0.\n",
      "  warnings.warn(\"`use_label_encoder` is deprecated in 1.7.0.\")\n",
      "C:\\ProgramData\\Anaconda3\\lib\\site-packages\\xgboost\\sklearn.py:1395: UserWarning: `use_label_encoder` is deprecated in 1.7.0.\n",
      "  warnings.warn(\"`use_label_encoder` is deprecated in 1.7.0.\")\n"
     ]
    },
    {
     "name": "stdout",
     "output_type": "stream",
     "text": [
      "[flaml.automl.automl: 02-19 13:28:01] {3323} INFO - iteration 83, current learner xgb_limitdepth\n",
      "[flaml.automl.automl: 02-19 13:28:01] {3508} INFO -  at 9.7s,\testimator xgb_limitdepth's best error=0.0500,\tbest estimator xgb_limitdepth's best error=0.0500\n"
     ]
    },
    {
     "name": "stderr",
     "output_type": "stream",
     "text": [
      "C:\\ProgramData\\Anaconda3\\lib\\site-packages\\xgboost\\sklearn.py:1395: UserWarning: `use_label_encoder` is deprecated in 1.7.0.\n",
      "  warnings.warn(\"`use_label_encoder` is deprecated in 1.7.0.\")\n"
     ]
    },
    {
     "name": "stdout",
     "output_type": "stream",
     "text": [
      "[flaml.automl.automl: 02-19 13:28:01] {3323} INFO - iteration 84, current learner xgb_limitdepth\n",
      "[flaml.automl.automl: 02-19 13:28:01] {3508} INFO -  at 9.7s,\testimator xgb_limitdepth's best error=0.0500,\tbest estimator xgb_limitdepth's best error=0.0500\n",
      "[flaml.automl.automl: 02-19 13:28:01] {3323} INFO - iteration 85, current learner xgb_limitdepth\n"
     ]
    },
    {
     "name": "stderr",
     "output_type": "stream",
     "text": [
      "C:\\ProgramData\\Anaconda3\\lib\\site-packages\\xgboost\\sklearn.py:1395: UserWarning: `use_label_encoder` is deprecated in 1.7.0.\n",
      "  warnings.warn(\"`use_label_encoder` is deprecated in 1.7.0.\")\n",
      "C:\\ProgramData\\Anaconda3\\lib\\site-packages\\xgboost\\sklearn.py:1395: UserWarning: `use_label_encoder` is deprecated in 1.7.0.\n",
      "  warnings.warn(\"`use_label_encoder` is deprecated in 1.7.0.\")\n"
     ]
    },
    {
     "name": "stdout",
     "output_type": "stream",
     "text": [
      "[flaml.automl.automl: 02-19 13:28:01] {3508} INFO -  at 9.9s,\testimator xgb_limitdepth's best error=0.0500,\tbest estimator xgb_limitdepth's best error=0.0500\n",
      "[flaml.automl.automl: 02-19 13:28:01] {3323} INFO - iteration 86, current learner xgb_limitdepth\n",
      "[flaml.automl.automl: 02-19 13:28:01] {3508} INFO -  at 10.0s,\testimator xgb_limitdepth's best error=0.0500,\tbest estimator xgb_limitdepth's best error=0.0500\n",
      "[flaml.automl.automl: 02-19 13:28:01] {3323} INFO - iteration 87, current learner xgb_limitdepth\n",
      "[flaml.automl.automl: 02-19 13:28:02] {3508} INFO -  at 10.1s,\testimator xgb_limitdepth's best error=0.0500,\tbest estimator xgb_limitdepth's best error=0.0500\n"
     ]
    },
    {
     "name": "stderr",
     "output_type": "stream",
     "text": [
      "C:\\ProgramData\\Anaconda3\\lib\\site-packages\\xgboost\\sklearn.py:1395: UserWarning: `use_label_encoder` is deprecated in 1.7.0.\n",
      "  warnings.warn(\"`use_label_encoder` is deprecated in 1.7.0.\")\n",
      "C:\\ProgramData\\Anaconda3\\lib\\site-packages\\xgboost\\sklearn.py:1395: UserWarning: `use_label_encoder` is deprecated in 1.7.0.\n",
      "  warnings.warn(\"`use_label_encoder` is deprecated in 1.7.0.\")\n"
     ]
    },
    {
     "name": "stdout",
     "output_type": "stream",
     "text": [
      "[flaml.automl.automl: 02-19 13:28:02] {3323} INFO - iteration 88, current learner xgb_limitdepth\n",
      "[flaml.automl.automl: 02-19 13:28:02] {3508} INFO -  at 10.2s,\testimator xgb_limitdepth's best error=0.0500,\tbest estimator xgb_limitdepth's best error=0.0500\n",
      "[flaml.automl.automl: 02-19 13:28:02] {3323} INFO - iteration 89, current learner xgb_limitdepth\n",
      "[flaml.automl.automl: 02-19 13:28:02] {3508} INFO -  at 10.3s,\testimator xgb_limitdepth's best error=0.0500,\tbest estimator xgb_limitdepth's best error=0.0500\n"
     ]
    },
    {
     "name": "stderr",
     "output_type": "stream",
     "text": [
      "C:\\ProgramData\\Anaconda3\\lib\\site-packages\\xgboost\\sklearn.py:1395: UserWarning: `use_label_encoder` is deprecated in 1.7.0.\n",
      "  warnings.warn(\"`use_label_encoder` is deprecated in 1.7.0.\")\n",
      "C:\\ProgramData\\Anaconda3\\lib\\site-packages\\xgboost\\sklearn.py:1395: UserWarning: `use_label_encoder` is deprecated in 1.7.0.\n",
      "  warnings.warn(\"`use_label_encoder` is deprecated in 1.7.0.\")\n"
     ]
    },
    {
     "name": "stdout",
     "output_type": "stream",
     "text": [
      "[flaml.automl.automl: 02-19 13:28:02] {3323} INFO - iteration 90, current learner xgb_limitdepth\n",
      "[flaml.automl.automl: 02-19 13:28:02] {3508} INFO -  at 10.4s,\testimator xgb_limitdepth's best error=0.0500,\tbest estimator xgb_limitdepth's best error=0.0500\n",
      "[flaml.automl.automl: 02-19 13:28:02] {3323} INFO - iteration 91, current learner xgb_limitdepth\n",
      "[flaml.automl.automl: 02-19 13:28:02] {3508} INFO -  at 10.5s,\testimator xgb_limitdepth's best error=0.0500,\tbest estimator xgb_limitdepth's best error=0.0500\n"
     ]
    },
    {
     "name": "stderr",
     "output_type": "stream",
     "text": [
      "C:\\ProgramData\\Anaconda3\\lib\\site-packages\\xgboost\\sklearn.py:1395: UserWarning: `use_label_encoder` is deprecated in 1.7.0.\n",
      "  warnings.warn(\"`use_label_encoder` is deprecated in 1.7.0.\")\n",
      "C:\\ProgramData\\Anaconda3\\lib\\site-packages\\xgboost\\sklearn.py:1395: UserWarning: `use_label_encoder` is deprecated in 1.7.0.\n",
      "  warnings.warn(\"`use_label_encoder` is deprecated in 1.7.0.\")\n"
     ]
    },
    {
     "name": "stdout",
     "output_type": "stream",
     "text": [
      "[flaml.automl.automl: 02-19 13:28:02] {3323} INFO - iteration 92, current learner xgb_limitdepth\n",
      "[flaml.automl.automl: 02-19 13:28:02] {3508} INFO -  at 10.6s,\testimator xgb_limitdepth's best error=0.0500,\tbest estimator xgb_limitdepth's best error=0.0500\n",
      "[flaml.automl.automl: 02-19 13:28:02] {3323} INFO - iteration 93, current learner xgb_limitdepth\n"
     ]
    },
    {
     "name": "stderr",
     "output_type": "stream",
     "text": [
      "C:\\ProgramData\\Anaconda3\\lib\\site-packages\\xgboost\\sklearn.py:1395: UserWarning: `use_label_encoder` is deprecated in 1.7.0.\n",
      "  warnings.warn(\"`use_label_encoder` is deprecated in 1.7.0.\")\n",
      "C:\\ProgramData\\Anaconda3\\lib\\site-packages\\xgboost\\sklearn.py:1395: UserWarning: `use_label_encoder` is deprecated in 1.7.0.\n",
      "  warnings.warn(\"`use_label_encoder` is deprecated in 1.7.0.\")\n"
     ]
    },
    {
     "name": "stdout",
     "output_type": "stream",
     "text": [
      "[flaml.automl.automl: 02-19 13:28:02] {3508} INFO -  at 10.7s,\testimator xgb_limitdepth's best error=0.0500,\tbest estimator xgb_limitdepth's best error=0.0500\n",
      "[flaml.automl.automl: 02-19 13:28:02] {3323} INFO - iteration 94, current learner xgb_limitdepth\n",
      "[flaml.automl.automl: 02-19 13:28:02] {3508} INFO -  at 10.8s,\testimator xgb_limitdepth's best error=0.0500,\tbest estimator xgb_limitdepth's best error=0.0500\n",
      "[flaml.automl.automl: 02-19 13:28:02] {3323} INFO - iteration 95, current learner xgb_limitdepth\n"
     ]
    },
    {
     "name": "stderr",
     "output_type": "stream",
     "text": [
      "C:\\ProgramData\\Anaconda3\\lib\\site-packages\\xgboost\\sklearn.py:1395: UserWarning: `use_label_encoder` is deprecated in 1.7.0.\n",
      "  warnings.warn(\"`use_label_encoder` is deprecated in 1.7.0.\")\n",
      "C:\\ProgramData\\Anaconda3\\lib\\site-packages\\xgboost\\sklearn.py:1395: UserWarning: `use_label_encoder` is deprecated in 1.7.0.\n",
      "  warnings.warn(\"`use_label_encoder` is deprecated in 1.7.0.\")\n"
     ]
    },
    {
     "name": "stdout",
     "output_type": "stream",
     "text": [
      "[flaml.automl.automl: 02-19 13:28:03] {3508} INFO -  at 11.0s,\testimator xgb_limitdepth's best error=0.0500,\tbest estimator xgb_limitdepth's best error=0.0500\n",
      "[flaml.automl.automl: 02-19 13:28:03] {3323} INFO - iteration 96, current learner xgb_limitdepth\n",
      "[flaml.automl.automl: 02-19 13:28:03] {3508} INFO -  at 11.1s,\testimator xgb_limitdepth's best error=0.0500,\tbest estimator xgb_limitdepth's best error=0.0500\n",
      "[flaml.automl.automl: 02-19 13:28:03] {3323} INFO - iteration 97, current learner xgb_limitdepth\n",
      "[flaml.automl.automl: 02-19 13:28:03] {3508} INFO -  at 11.2s,\testimator xgb_limitdepth's best error=0.0500,\tbest estimator xgb_limitdepth's best error=0.0500\n",
      "[flaml.automl.automl: 02-19 13:28:03] {3323} INFO - iteration 98, current learner xgb_limitdepth\n"
     ]
    },
    {
     "name": "stderr",
     "output_type": "stream",
     "text": [
      "C:\\ProgramData\\Anaconda3\\lib\\site-packages\\xgboost\\sklearn.py:1395: UserWarning: `use_label_encoder` is deprecated in 1.7.0.\n",
      "  warnings.warn(\"`use_label_encoder` is deprecated in 1.7.0.\")\n",
      "C:\\ProgramData\\Anaconda3\\lib\\site-packages\\xgboost\\sklearn.py:1395: UserWarning: `use_label_encoder` is deprecated in 1.7.0.\n",
      "  warnings.warn(\"`use_label_encoder` is deprecated in 1.7.0.\")\n",
      "C:\\ProgramData\\Anaconda3\\lib\\site-packages\\xgboost\\sklearn.py:1395: UserWarning: `use_label_encoder` is deprecated in 1.7.0.\n",
      "  warnings.warn(\"`use_label_encoder` is deprecated in 1.7.0.\")\n"
     ]
    },
    {
     "name": "stdout",
     "output_type": "stream",
     "text": [
      "[flaml.automl.automl: 02-19 13:28:03] {3508} INFO -  at 11.3s,\testimator xgb_limitdepth's best error=0.0500,\tbest estimator xgb_limitdepth's best error=0.0500\n",
      "[flaml.automl.automl: 02-19 13:28:03] {3323} INFO - iteration 99, current learner xgb_limitdepth\n",
      "[flaml.automl.automl: 02-19 13:28:03] {3508} INFO -  at 11.4s,\testimator xgb_limitdepth's best error=0.0500,\tbest estimator xgb_limitdepth's best error=0.0500\n",
      "[flaml.automl.automl: 02-19 13:28:03] {3323} INFO - iteration 100, current learner xgb_limitdepth\n"
     ]
    },
    {
     "name": "stderr",
     "output_type": "stream",
     "text": [
      "C:\\ProgramData\\Anaconda3\\lib\\site-packages\\xgboost\\sklearn.py:1395: UserWarning: `use_label_encoder` is deprecated in 1.7.0.\n",
      "  warnings.warn(\"`use_label_encoder` is deprecated in 1.7.0.\")\n",
      "C:\\ProgramData\\Anaconda3\\lib\\site-packages\\xgboost\\sklearn.py:1395: UserWarning: `use_label_encoder` is deprecated in 1.7.0.\n",
      "  warnings.warn(\"`use_label_encoder` is deprecated in 1.7.0.\")\n"
     ]
    },
    {
     "name": "stdout",
     "output_type": "stream",
     "text": [
      "[flaml.automl.automl: 02-19 13:28:03] {3508} INFO -  at 11.5s,\testimator xgb_limitdepth's best error=0.0500,\tbest estimator xgb_limitdepth's best error=0.0500\n",
      "[flaml.automl.automl: 02-19 13:28:03] {3323} INFO - iteration 101, current learner xgb_limitdepth\n",
      "[flaml.automl.automl: 02-19 13:28:03] {3508} INFO -  at 11.7s,\testimator xgb_limitdepth's best error=0.0500,\tbest estimator xgb_limitdepth's best error=0.0500\n",
      "[flaml.automl.automl: 02-19 13:28:03] {3323} INFO - iteration 102, current learner xgb_limitdepth\n"
     ]
    },
    {
     "name": "stderr",
     "output_type": "stream",
     "text": [
      "C:\\ProgramData\\Anaconda3\\lib\\site-packages\\xgboost\\sklearn.py:1395: UserWarning: `use_label_encoder` is deprecated in 1.7.0.\n",
      "  warnings.warn(\"`use_label_encoder` is deprecated in 1.7.0.\")\n",
      "C:\\ProgramData\\Anaconda3\\lib\\site-packages\\xgboost\\sklearn.py:1395: UserWarning: `use_label_encoder` is deprecated in 1.7.0.\n",
      "  warnings.warn(\"`use_label_encoder` is deprecated in 1.7.0.\")\n"
     ]
    },
    {
     "name": "stdout",
     "output_type": "stream",
     "text": [
      "[flaml.automl.automl: 02-19 13:28:03] {3508} INFO -  at 11.7s,\testimator xgb_limitdepth's best error=0.0500,\tbest estimator xgb_limitdepth's best error=0.0500\n",
      "[flaml.automl.automl: 02-19 13:28:03] {3323} INFO - iteration 103, current learner xgb_limitdepth\n",
      "[flaml.automl.automl: 02-19 13:28:03] {3508} INFO -  at 11.9s,\testimator xgb_limitdepth's best error=0.0500,\tbest estimator xgb_limitdepth's best error=0.0500\n",
      "[flaml.automl.automl: 02-19 13:28:03] {3323} INFO - iteration 104, current learner xgb_limitdepth\n",
      "[flaml.automl.automl: 02-19 13:28:03] {3508} INFO -  at 11.9s,\testimator xgb_limitdepth's best error=0.0500,\tbest estimator xgb_limitdepth's best error=0.0500\n"
     ]
    },
    {
     "name": "stderr",
     "output_type": "stream",
     "text": [
      "C:\\ProgramData\\Anaconda3\\lib\\site-packages\\xgboost\\sklearn.py:1395: UserWarning: `use_label_encoder` is deprecated in 1.7.0.\n",
      "  warnings.warn(\"`use_label_encoder` is deprecated in 1.7.0.\")\n",
      "C:\\ProgramData\\Anaconda3\\lib\\site-packages\\xgboost\\sklearn.py:1395: UserWarning: `use_label_encoder` is deprecated in 1.7.0.\n",
      "  warnings.warn(\"`use_label_encoder` is deprecated in 1.7.0.\")\n"
     ]
    },
    {
     "name": "stdout",
     "output_type": "stream",
     "text": [
      "[flaml.automl.automl: 02-19 13:28:03] {3323} INFO - iteration 105, current learner xgb_limitdepth\n",
      "[flaml.automl.automl: 02-19 13:28:04] {3508} INFO -  at 12.0s,\testimator xgb_limitdepth's best error=0.0500,\tbest estimator xgb_limitdepth's best error=0.0500\n",
      "[flaml.automl.automl: 02-19 13:28:04] {3323} INFO - iteration 106, current learner xgb_limitdepth\n"
     ]
    },
    {
     "name": "stderr",
     "output_type": "stream",
     "text": [
      "C:\\ProgramData\\Anaconda3\\lib\\site-packages\\xgboost\\sklearn.py:1395: UserWarning: `use_label_encoder` is deprecated in 1.7.0.\n",
      "  warnings.warn(\"`use_label_encoder` is deprecated in 1.7.0.\")\n",
      "C:\\ProgramData\\Anaconda3\\lib\\site-packages\\xgboost\\sklearn.py:1395: UserWarning: `use_label_encoder` is deprecated in 1.7.0.\n",
      "  warnings.warn(\"`use_label_encoder` is deprecated in 1.7.0.\")\n"
     ]
    },
    {
     "name": "stdout",
     "output_type": "stream",
     "text": [
      "[flaml.automl.automl: 02-19 13:28:04] {3508} INFO -  at 12.2s,\testimator xgb_limitdepth's best error=0.0500,\tbest estimator xgb_limitdepth's best error=0.0500\n",
      "[flaml.automl.automl: 02-19 13:28:04] {3323} INFO - iteration 107, current learner xgb_limitdepth\n",
      "[flaml.automl.automl: 02-19 13:28:04] {3508} INFO -  at 12.2s,\testimator xgb_limitdepth's best error=0.0500,\tbest estimator xgb_limitdepth's best error=0.0500\n",
      "[flaml.automl.automl: 02-19 13:28:04] {3323} INFO - iteration 108, current learner xgb_limitdepth\n",
      "[flaml.automl.automl: 02-19 13:28:04] {3508} INFO -  at 12.4s,\testimator xgb_limitdepth's best error=0.0500,\tbest estimator xgb_limitdepth's best error=0.0500\n"
     ]
    },
    {
     "name": "stderr",
     "output_type": "stream",
     "text": [
      "C:\\ProgramData\\Anaconda3\\lib\\site-packages\\xgboost\\sklearn.py:1395: UserWarning: `use_label_encoder` is deprecated in 1.7.0.\n",
      "  warnings.warn(\"`use_label_encoder` is deprecated in 1.7.0.\")\n",
      "C:\\ProgramData\\Anaconda3\\lib\\site-packages\\xgboost\\sklearn.py:1395: UserWarning: `use_label_encoder` is deprecated in 1.7.0.\n",
      "  warnings.warn(\"`use_label_encoder` is deprecated in 1.7.0.\")\n"
     ]
    },
    {
     "name": "stdout",
     "output_type": "stream",
     "text": [
      "[flaml.automl.automl: 02-19 13:28:04] {3323} INFO - iteration 109, current learner xgb_limitdepth\n",
      "[flaml.automl.automl: 02-19 13:28:04] {3508} INFO -  at 12.5s,\testimator xgb_limitdepth's best error=0.0500,\tbest estimator xgb_limitdepth's best error=0.0500\n",
      "[flaml.automl.automl: 02-19 13:28:04] {3323} INFO - iteration 110, current learner xgb_limitdepth\n"
     ]
    },
    {
     "name": "stderr",
     "output_type": "stream",
     "text": [
      "C:\\ProgramData\\Anaconda3\\lib\\site-packages\\xgboost\\sklearn.py:1395: UserWarning: `use_label_encoder` is deprecated in 1.7.0.\n",
      "  warnings.warn(\"`use_label_encoder` is deprecated in 1.7.0.\")\n",
      "C:\\ProgramData\\Anaconda3\\lib\\site-packages\\xgboost\\sklearn.py:1395: UserWarning: `use_label_encoder` is deprecated in 1.7.0.\n",
      "  warnings.warn(\"`use_label_encoder` is deprecated in 1.7.0.\")\n"
     ]
    },
    {
     "name": "stdout",
     "output_type": "stream",
     "text": [
      "[flaml.automl.automl: 02-19 13:28:04] {3508} INFO -  at 12.6s,\testimator xgb_limitdepth's best error=0.0500,\tbest estimator xgb_limitdepth's best error=0.0500\n",
      "[flaml.automl.automl: 02-19 13:28:04] {3323} INFO - iteration 111, current learner xgb_limitdepth\n",
      "[flaml.automl.automl: 02-19 13:28:04] {3508} INFO -  at 12.7s,\testimator xgb_limitdepth's best error=0.0500,\tbest estimator xgb_limitdepth's best error=0.0500\n",
      "[flaml.automl.automl: 02-19 13:28:04] {3323} INFO - iteration 112, current learner xgb_limitdepth\n",
      "[flaml.automl.automl: 02-19 13:28:04] {3508} INFO -  at 12.8s,\testimator xgb_limitdepth's best error=0.0500,\tbest estimator xgb_limitdepth's best error=0.0500\n",
      "[flaml.automl.automl: 02-19 13:28:04] {3323} INFO - iteration 113, current learner xgb_limitdepth\n"
     ]
    },
    {
     "name": "stderr",
     "output_type": "stream",
     "text": [
      "C:\\ProgramData\\Anaconda3\\lib\\site-packages\\xgboost\\sklearn.py:1395: UserWarning: `use_label_encoder` is deprecated in 1.7.0.\n",
      "  warnings.warn(\"`use_label_encoder` is deprecated in 1.7.0.\")\n",
      "C:\\ProgramData\\Anaconda3\\lib\\site-packages\\xgboost\\sklearn.py:1395: UserWarning: `use_label_encoder` is deprecated in 1.7.0.\n",
      "  warnings.warn(\"`use_label_encoder` is deprecated in 1.7.0.\")\n",
      "C:\\ProgramData\\Anaconda3\\lib\\site-packages\\xgboost\\sklearn.py:1395: UserWarning: `use_label_encoder` is deprecated in 1.7.0.\n",
      "  warnings.warn(\"`use_label_encoder` is deprecated in 1.7.0.\")\n"
     ]
    },
    {
     "name": "stdout",
     "output_type": "stream",
     "text": [
      "[flaml.automl.automl: 02-19 13:28:05] {3508} INFO -  at 13.0s,\testimator xgb_limitdepth's best error=0.0500,\tbest estimator xgb_limitdepth's best error=0.0500\n",
      "[flaml.automl.automl: 02-19 13:28:05] {3323} INFO - iteration 114, current learner xgb_limitdepth\n",
      "[flaml.automl.automl: 02-19 13:28:05] {3508} INFO -  at 13.1s,\testimator xgb_limitdepth's best error=0.0500,\tbest estimator xgb_limitdepth's best error=0.0500\n",
      "[flaml.automl.automl: 02-19 13:28:05] {3323} INFO - iteration 115, current learner xgb_limitdepth\n",
      "[flaml.automl.automl: 02-19 13:28:05] {3508} INFO -  at 13.1s,\testimator xgb_limitdepth's best error=0.0500,\tbest estimator xgb_limitdepth's best error=0.0500\n",
      "[flaml.automl.automl: 02-19 13:28:05] {3323} INFO - iteration 116, current learner xgb_limitdepth\n"
     ]
    },
    {
     "name": "stderr",
     "output_type": "stream",
     "text": [
      "C:\\ProgramData\\Anaconda3\\lib\\site-packages\\xgboost\\sklearn.py:1395: UserWarning: `use_label_encoder` is deprecated in 1.7.0.\n",
      "  warnings.warn(\"`use_label_encoder` is deprecated in 1.7.0.\")\n",
      "C:\\ProgramData\\Anaconda3\\lib\\site-packages\\xgboost\\sklearn.py:1395: UserWarning: `use_label_encoder` is deprecated in 1.7.0.\n",
      "  warnings.warn(\"`use_label_encoder` is deprecated in 1.7.0.\")\n",
      "C:\\ProgramData\\Anaconda3\\lib\\site-packages\\xgboost\\sklearn.py:1395: UserWarning: `use_label_encoder` is deprecated in 1.7.0.\n",
      "  warnings.warn(\"`use_label_encoder` is deprecated in 1.7.0.\")\n"
     ]
    },
    {
     "name": "stdout",
     "output_type": "stream",
     "text": [
      "[flaml.automl.automl: 02-19 13:28:05] {3508} INFO -  at 13.4s,\testimator xgb_limitdepth's best error=0.0500,\tbest estimator xgb_limitdepth's best error=0.0500\n",
      "[flaml.automl.automl: 02-19 13:28:05] {3323} INFO - iteration 117, current learner xgb_limitdepth\n",
      "[flaml.automl.automl: 02-19 13:28:05] {3508} INFO -  at 13.5s,\testimator xgb_limitdepth's best error=0.0500,\tbest estimator xgb_limitdepth's best error=0.0500\n",
      "[flaml.automl.automl: 02-19 13:28:05] {3323} INFO - iteration 118, current learner xgb_limitdepth\n",
      "[flaml.automl.automl: 02-19 13:28:05] {3508} INFO -  at 13.5s,\testimator xgb_limitdepth's best error=0.0500,\tbest estimator xgb_limitdepth's best error=0.0500\n"
     ]
    },
    {
     "name": "stderr",
     "output_type": "stream",
     "text": [
      "C:\\ProgramData\\Anaconda3\\lib\\site-packages\\xgboost\\sklearn.py:1395: UserWarning: `use_label_encoder` is deprecated in 1.7.0.\n",
      "  warnings.warn(\"`use_label_encoder` is deprecated in 1.7.0.\")\n",
      "C:\\ProgramData\\Anaconda3\\lib\\site-packages\\xgboost\\sklearn.py:1395: UserWarning: `use_label_encoder` is deprecated in 1.7.0.\n",
      "  warnings.warn(\"`use_label_encoder` is deprecated in 1.7.0.\")\n"
     ]
    },
    {
     "name": "stdout",
     "output_type": "stream",
     "text": [
      "[flaml.automl.automl: 02-19 13:28:05] {3323} INFO - iteration 119, current learner xgb_limitdepth\n",
      "[flaml.automl.automl: 02-19 13:28:05] {3508} INFO -  at 13.6s,\testimator xgb_limitdepth's best error=0.0500,\tbest estimator xgb_limitdepth's best error=0.0500\n",
      "[flaml.automl.automl: 02-19 13:28:05] {3323} INFO - iteration 120, current learner xgb_limitdepth\n"
     ]
    },
    {
     "name": "stderr",
     "output_type": "stream",
     "text": [
      "C:\\ProgramData\\Anaconda3\\lib\\site-packages\\xgboost\\sklearn.py:1395: UserWarning: `use_label_encoder` is deprecated in 1.7.0.\n",
      "  warnings.warn(\"`use_label_encoder` is deprecated in 1.7.0.\")\n",
      "C:\\ProgramData\\Anaconda3\\lib\\site-packages\\xgboost\\sklearn.py:1395: UserWarning: `use_label_encoder` is deprecated in 1.7.0.\n",
      "  warnings.warn(\"`use_label_encoder` is deprecated in 1.7.0.\")\n"
     ]
    },
    {
     "name": "stdout",
     "output_type": "stream",
     "text": [
      "[flaml.automl.automl: 02-19 13:28:05] {3508} INFO -  at 13.8s,\testimator xgb_limitdepth's best error=0.0500,\tbest estimator xgb_limitdepth's best error=0.0500\n",
      "[flaml.automl.automl: 02-19 13:28:05] {3323} INFO - iteration 121, current learner xgb_limitdepth\n",
      "[flaml.automl.automl: 02-19 13:28:05] {3508} INFO -  at 13.9s,\testimator xgb_limitdepth's best error=0.0500,\tbest estimator xgb_limitdepth's best error=0.0500\n",
      "[flaml.automl.automl: 02-19 13:28:05] {3323} INFO - iteration 122, current learner xgb_limitdepth\n",
      "[flaml.automl.automl: 02-19 13:28:05] {3508} INFO -  at 14.0s,\testimator xgb_limitdepth's best error=0.0500,\tbest estimator xgb_limitdepth's best error=0.0500\n"
     ]
    },
    {
     "name": "stderr",
     "output_type": "stream",
     "text": [
      "C:\\ProgramData\\Anaconda3\\lib\\site-packages\\xgboost\\sklearn.py:1395: UserWarning: `use_label_encoder` is deprecated in 1.7.0.\n",
      "  warnings.warn(\"`use_label_encoder` is deprecated in 1.7.0.\")\n",
      "C:\\ProgramData\\Anaconda3\\lib\\site-packages\\xgboost\\sklearn.py:1395: UserWarning: `use_label_encoder` is deprecated in 1.7.0.\n",
      "  warnings.warn(\"`use_label_encoder` is deprecated in 1.7.0.\")\n"
     ]
    },
    {
     "name": "stdout",
     "output_type": "stream",
     "text": [
      "[flaml.automl.automl: 02-19 13:28:05] {3323} INFO - iteration 123, current learner xgb_limitdepth\n",
      "[flaml.automl.automl: 02-19 13:28:06] {3508} INFO -  at 14.1s,\testimator xgb_limitdepth's best error=0.0500,\tbest estimator xgb_limitdepth's best error=0.0500\n",
      "[flaml.automl.automl: 02-19 13:28:06] {3323} INFO - iteration 124, current learner xgb_limitdepth\n",
      "[flaml.automl.automl: 02-19 13:28:06] {3508} INFO -  at 14.2s,\testimator xgb_limitdepth's best error=0.0500,\tbest estimator xgb_limitdepth's best error=0.0500\n",
      "[flaml.automl.automl: 02-19 13:28:06] {3323} INFO - iteration 125, current learner xgb_limitdepth\n"
     ]
    },
    {
     "name": "stderr",
     "output_type": "stream",
     "text": [
      "C:\\ProgramData\\Anaconda3\\lib\\site-packages\\xgboost\\sklearn.py:1395: UserWarning: `use_label_encoder` is deprecated in 1.7.0.\n",
      "  warnings.warn(\"`use_label_encoder` is deprecated in 1.7.0.\")\n",
      "C:\\ProgramData\\Anaconda3\\lib\\site-packages\\xgboost\\sklearn.py:1395: UserWarning: `use_label_encoder` is deprecated in 1.7.0.\n",
      "  warnings.warn(\"`use_label_encoder` is deprecated in 1.7.0.\")\n",
      "C:\\ProgramData\\Anaconda3\\lib\\site-packages\\xgboost\\sklearn.py:1395: UserWarning: `use_label_encoder` is deprecated in 1.7.0.\n",
      "  warnings.warn(\"`use_label_encoder` is deprecated in 1.7.0.\")\n"
     ]
    },
    {
     "name": "stdout",
     "output_type": "stream",
     "text": [
      "[flaml.automl.automl: 02-19 13:28:06] {3508} INFO -  at 14.2s,\testimator xgb_limitdepth's best error=0.0500,\tbest estimator xgb_limitdepth's best error=0.0500\n",
      "[flaml.automl.automl: 02-19 13:28:06] {3323} INFO - iteration 126, current learner xgb_limitdepth\n",
      "[flaml.automl.automl: 02-19 13:28:06] {3508} INFO -  at 14.3s,\testimator xgb_limitdepth's best error=0.0500,\tbest estimator xgb_limitdepth's best error=0.0500\n",
      "[flaml.automl.automl: 02-19 13:28:06] {3323} INFO - iteration 127, current learner xgb_limitdepth\n",
      "[flaml.automl.automl: 02-19 13:28:06] {3508} INFO -  at 14.4s,\testimator xgb_limitdepth's best error=0.0500,\tbest estimator xgb_limitdepth's best error=0.0500\n"
     ]
    },
    {
     "name": "stderr",
     "output_type": "stream",
     "text": [
      "C:\\ProgramData\\Anaconda3\\lib\\site-packages\\xgboost\\sklearn.py:1395: UserWarning: `use_label_encoder` is deprecated in 1.7.0.\n",
      "  warnings.warn(\"`use_label_encoder` is deprecated in 1.7.0.\")\n",
      "C:\\ProgramData\\Anaconda3\\lib\\site-packages\\xgboost\\sklearn.py:1395: UserWarning: `use_label_encoder` is deprecated in 1.7.0.\n",
      "  warnings.warn(\"`use_label_encoder` is deprecated in 1.7.0.\")\n"
     ]
    },
    {
     "name": "stdout",
     "output_type": "stream",
     "text": [
      "[flaml.automl.automl: 02-19 13:28:06] {3323} INFO - iteration 128, current learner xgb_limitdepth\n",
      "[flaml.automl.automl: 02-19 13:28:06] {3508} INFO -  at 14.5s,\testimator xgb_limitdepth's best error=0.0500,\tbest estimator xgb_limitdepth's best error=0.0500\n",
      "[flaml.automl.automl: 02-19 13:28:06] {3323} INFO - iteration 129, current learner xgb_limitdepth\n"
     ]
    },
    {
     "name": "stderr",
     "output_type": "stream",
     "text": [
      "C:\\ProgramData\\Anaconda3\\lib\\site-packages\\xgboost\\sklearn.py:1395: UserWarning: `use_label_encoder` is deprecated in 1.7.0.\n",
      "  warnings.warn(\"`use_label_encoder` is deprecated in 1.7.0.\")\n",
      "C:\\ProgramData\\Anaconda3\\lib\\site-packages\\xgboost\\sklearn.py:1395: UserWarning: `use_label_encoder` is deprecated in 1.7.0.\n",
      "  warnings.warn(\"`use_label_encoder` is deprecated in 1.7.0.\")\n"
     ]
    },
    {
     "name": "stdout",
     "output_type": "stream",
     "text": [
      "[flaml.automl.automl: 02-19 13:28:06] {3508} INFO -  at 14.6s,\testimator xgb_limitdepth's best error=0.0500,\tbest estimator xgb_limitdepth's best error=0.0500\n",
      "[flaml.automl.automl: 02-19 13:28:06] {3323} INFO - iteration 130, current learner xgb_limitdepth\n",
      "[flaml.automl.automl: 02-19 13:28:06] {3508} INFO -  at 14.8s,\testimator xgb_limitdepth's best error=0.0500,\tbest estimator xgb_limitdepth's best error=0.0500\n",
      "[flaml.automl.automl: 02-19 13:28:06] {3323} INFO - iteration 131, current learner xgb_limitdepth\n"
     ]
    },
    {
     "name": "stderr",
     "output_type": "stream",
     "text": [
      "C:\\ProgramData\\Anaconda3\\lib\\site-packages\\xgboost\\sklearn.py:1395: UserWarning: `use_label_encoder` is deprecated in 1.7.0.\n",
      "  warnings.warn(\"`use_label_encoder` is deprecated in 1.7.0.\")\n",
      "C:\\ProgramData\\Anaconda3\\lib\\site-packages\\xgboost\\sklearn.py:1395: UserWarning: `use_label_encoder` is deprecated in 1.7.0.\n",
      "  warnings.warn(\"`use_label_encoder` is deprecated in 1.7.0.\")\n"
     ]
    },
    {
     "name": "stdout",
     "output_type": "stream",
     "text": [
      "[flaml.automl.automl: 02-19 13:28:06] {3508} INFO -  at 14.8s,\testimator xgb_limitdepth's best error=0.0500,\tbest estimator xgb_limitdepth's best error=0.0500\n",
      "[flaml.automl.automl: 02-19 13:28:06] {3323} INFO - iteration 132, current learner xgb_limitdepth\n",
      "[flaml.automl.automl: 02-19 13:28:06] {3508} INFO -  at 14.9s,\testimator xgb_limitdepth's best error=0.0500,\tbest estimator xgb_limitdepth's best error=0.0500\n",
      "[flaml.automl.automl: 02-19 13:28:07] {3772} INFO - retrain xgb_limitdepth for 0.1s\n",
      "[flaml.automl.automl: 02-19 13:28:07] {3779} INFO - retrained model: XGBClassifier(base_score=None, booster=None, callbacks=[],\n",
      "              colsample_bylevel=0.94907357504588, colsample_bynode=None,\n",
      "              colsample_bytree=1.0, early_stopping_rounds=None,\n",
      "              enable_categorical=False, eval_metric=None, feature_types=None,\n",
      "              gamma=None, gpu_id=None, grow_policy=None, importance_type=None,\n",
      "              interaction_constraints=None, learning_rate=1.0, max_bin=None,\n",
      "              max_cat_threshold=None, max_cat_to_onehot=None,\n",
      "              max_delta_step=None, max_depth=6, max_leaves=None,\n",
      "              min_child_weight=0.7255574153612806, missing=nan,\n",
      "              monotone_constraints=None, n_estimators=10, n_jobs=-1,\n",
      "              num_parallel_tree=None, objective='multi:softprob',\n",
      "              predictor=None, ...)\n",
      "[flaml.automl.automl: 02-19 13:28:07] {3024} INFO - fit succeeded\n"
     ]
    },
    {
     "name": "stderr",
     "output_type": "stream",
     "text": [
      "C:\\ProgramData\\Anaconda3\\lib\\site-packages\\xgboost\\sklearn.py:1395: UserWarning: `use_label_encoder` is deprecated in 1.7.0.\n",
      "  warnings.warn(\"`use_label_encoder` is deprecated in 1.7.0.\")\n",
      "C:\\ProgramData\\Anaconda3\\lib\\site-packages\\xgboost\\sklearn.py:1395: UserWarning: `use_label_encoder` is deprecated in 1.7.0.\n",
      "  warnings.warn(\"`use_label_encoder` is deprecated in 1.7.0.\")\n"
     ]
    },
    {
     "name": "stdout",
     "output_type": "stream",
     "text": [
      "[flaml.automl.automl: 02-19 13:28:07] {3025} INFO - Time taken to find the best model: 9.278932332992554\n"
     ]
    }
   ],
   "source": [
    "xgb_limitdepth = automl.fit(X_train=X_train, y_train=y_train, estimator_list=[\"xgb_limitdepth\"], **settings)"
   ]
  },
  {
   "cell_type": "code",
   "execution_count": 28,
   "metadata": {},
   "outputs": [
    {
     "name": "stdout",
     "output_type": "stream",
     "text": [
      "xgb_limitdepth: 0.95\n"
     ]
    }
   ],
   "source": [
    "print('xgb_limitdepth: {0:.4g}'.format(1-automl.best_loss))"
   ]
  },
  {
   "cell_type": "code",
   "execution_count": 29,
   "metadata": {
    "scrolled": true
   },
   "outputs": [
    {
     "name": "stdout",
     "output_type": "stream",
     "text": [
      "[flaml.automl.automl: 02-19 13:28:49] {2716} INFO - task = classification\n",
      "[flaml.automl.automl: 02-19 13:28:49] {2718} INFO - Data split method: stratified\n",
      "[flaml.automl.automl: 02-19 13:28:49] {2721} INFO - Evaluation method: holdout\n",
      "[flaml.automl.automl: 02-19 13:28:49] {1312} INFO - class 0 augmented from 12 to 24\n",
      "[flaml.automl.automl: 02-19 13:28:49] {1312} INFO - class 3 augmented from 4 to 20\n",
      "[flaml.automl.automl: 02-19 13:28:49] {1312} INFO - class 5 augmented from 18 to 36\n",
      "[flaml.automl.automl: 02-19 13:28:49] {1312} INFO - class 6 augmented from 16 to 32\n",
      "[flaml.automl.automl: 02-19 13:28:49] {1312} INFO - class 7 augmented from 13 to 26\n",
      "[flaml.automl.automl: 02-19 13:28:49] {1312} INFO - class 8 augmented from 18 to 36\n",
      "[flaml.automl.automl: 02-19 13:28:49] {1312} INFO - class 10 augmented from 16 to 32\n",
      "[flaml.automl.automl: 02-19 13:28:49] {2848} INFO - Minimizing error metric: 1-accuracy\n",
      "[flaml.automl.automl: 02-19 13:28:49] {2994} INFO - List of ML learners in AutoML Run: ['lrl1']\n",
      "[flaml.automl.automl: 02-19 13:28:49] {3323} INFO - iteration 0, current learner lrl1\n",
      "[flaml.automl.automl: 02-19 13:28:50] {3461} INFO - Estimated sufficient time budget=8893s. Estimated necessary time budget=9s.\n",
      "[flaml.automl.automl: 02-19 13:28:50] {3508} INFO -  at 0.9s,\testimator lrl1's best error=0.2667,\tbest estimator lrl1's best error=0.2667\n",
      "[flaml.automl.automl: 02-19 13:28:50] {3323} INFO - iteration 1, current learner lrl1\n"
     ]
    },
    {
     "name": "stderr",
     "output_type": "stream",
     "text": [
      "C:\\Users\\Pichau\\AppData\\Roaming\\Python\\Python38\\site-packages\\sklearn\\linear_model\\_sag.py:350: ConvergenceWarning: The max_iter was reached which means the coef_ did not converge\n",
      "  warnings.warn(\n"
     ]
    },
    {
     "name": "stdout",
     "output_type": "stream",
     "text": [
      "[flaml.automl.automl: 02-19 13:28:51] {3508} INFO -  at 1.8s,\testimator lrl1's best error=0.2667,\tbest estimator lrl1's best error=0.2667\n",
      "[flaml.automl.automl: 02-19 13:28:51] {3323} INFO - iteration 2, current learner lrl1\n"
     ]
    },
    {
     "name": "stderr",
     "output_type": "stream",
     "text": [
      "C:\\Users\\Pichau\\AppData\\Roaming\\Python\\Python38\\site-packages\\sklearn\\linear_model\\_sag.py:350: ConvergenceWarning: The max_iter was reached which means the coef_ did not converge\n",
      "  warnings.warn(\n"
     ]
    },
    {
     "name": "stdout",
     "output_type": "stream",
     "text": [
      "[flaml.automl.automl: 02-19 13:28:52] {3508} INFO -  at 2.9s,\testimator lrl1's best error=0.2500,\tbest estimator lrl1's best error=0.2500\n",
      "[flaml.automl.automl: 02-19 13:28:52] {3323} INFO - iteration 3, current learner lrl1\n"
     ]
    },
    {
     "name": "stderr",
     "output_type": "stream",
     "text": [
      "C:\\Users\\Pichau\\AppData\\Roaming\\Python\\Python38\\site-packages\\sklearn\\linear_model\\_sag.py:350: ConvergenceWarning: The max_iter was reached which means the coef_ did not converge\n",
      "  warnings.warn(\n"
     ]
    },
    {
     "name": "stdout",
     "output_type": "stream",
     "text": [
      "[flaml.automl.automl: 02-19 13:28:52] {3508} INFO -  at 3.5s,\testimator lrl1's best error=0.2500,\tbest estimator lrl1's best error=0.2500\n",
      "[flaml.automl.automl: 02-19 13:28:52] {3323} INFO - iteration 4, current learner lrl1\n"
     ]
    },
    {
     "name": "stderr",
     "output_type": "stream",
     "text": [
      "C:\\Users\\Pichau\\AppData\\Roaming\\Python\\Python38\\site-packages\\sklearn\\linear_model\\_sag.py:350: ConvergenceWarning: The max_iter was reached which means the coef_ did not converge\n",
      "  warnings.warn(\n"
     ]
    },
    {
     "name": "stdout",
     "output_type": "stream",
     "text": [
      "[flaml.automl.automl: 02-19 13:28:54] {3508} INFO -  at 4.8s,\testimator lrl1's best error=0.2500,\tbest estimator lrl1's best error=0.2500\n",
      "[flaml.automl.automl: 02-19 13:28:54] {3323} INFO - iteration 5, current learner lrl1\n"
     ]
    },
    {
     "name": "stderr",
     "output_type": "stream",
     "text": [
      "C:\\Users\\Pichau\\AppData\\Roaming\\Python\\Python38\\site-packages\\sklearn\\linear_model\\_sag.py:350: ConvergenceWarning: The max_iter was reached which means the coef_ did not converge\n",
      "  warnings.warn(\n"
     ]
    },
    {
     "name": "stdout",
     "output_type": "stream",
     "text": [
      "[flaml.automl.automl: 02-19 13:28:55] {3508} INFO -  at 6.1s,\testimator lrl1's best error=0.2500,\tbest estimator lrl1's best error=0.2500\n",
      "[flaml.automl.automl: 02-19 13:28:55] {3323} INFO - iteration 6, current learner lrl1\n"
     ]
    },
    {
     "name": "stderr",
     "output_type": "stream",
     "text": [
      "C:\\Users\\Pichau\\AppData\\Roaming\\Python\\Python38\\site-packages\\sklearn\\linear_model\\_sag.py:350: ConvergenceWarning: The max_iter was reached which means the coef_ did not converge\n",
      "  warnings.warn(\n"
     ]
    },
    {
     "name": "stdout",
     "output_type": "stream",
     "text": [
      "[flaml.automl.automl: 02-19 13:28:56] {3508} INFO -  at 6.9s,\testimator lrl1's best error=0.2500,\tbest estimator lrl1's best error=0.2500\n",
      "[flaml.automl.automl: 02-19 13:28:56] {3323} INFO - iteration 7, current learner lrl1\n"
     ]
    },
    {
     "name": "stderr",
     "output_type": "stream",
     "text": [
      "C:\\Users\\Pichau\\AppData\\Roaming\\Python\\Python38\\site-packages\\sklearn\\linear_model\\_sag.py:350: ConvergenceWarning: The max_iter was reached which means the coef_ did not converge\n",
      "  warnings.warn(\n"
     ]
    },
    {
     "name": "stdout",
     "output_type": "stream",
     "text": [
      "[flaml.automl.automl: 02-19 13:28:57] {3508} INFO -  at 7.8s,\testimator lrl1's best error=0.2500,\tbest estimator lrl1's best error=0.2500\n",
      "[flaml.automl.automl: 02-19 13:28:57] {3323} INFO - iteration 8, current learner lrl1\n"
     ]
    },
    {
     "name": "stderr",
     "output_type": "stream",
     "text": [
      "C:\\Users\\Pichau\\AppData\\Roaming\\Python\\Python38\\site-packages\\sklearn\\linear_model\\_sag.py:350: ConvergenceWarning: The max_iter was reached which means the coef_ did not converge\n",
      "  warnings.warn(\n"
     ]
    },
    {
     "name": "stdout",
     "output_type": "stream",
     "text": [
      "[flaml.automl.automl: 02-19 13:28:58] {3508} INFO -  at 9.0s,\testimator lrl1's best error=0.2500,\tbest estimator lrl1's best error=0.2500\n",
      "[flaml.automl.automl: 02-19 13:28:58] {3323} INFO - iteration 9, current learner lrl1\n"
     ]
    },
    {
     "name": "stderr",
     "output_type": "stream",
     "text": [
      "C:\\Users\\Pichau\\AppData\\Roaming\\Python\\Python38\\site-packages\\sklearn\\linear_model\\_sag.py:350: ConvergenceWarning: The max_iter was reached which means the coef_ did not converge\n",
      "  warnings.warn(\n"
     ]
    },
    {
     "name": "stdout",
     "output_type": "stream",
     "text": [
      "[flaml.automl.automl: 02-19 13:28:59] {3508} INFO -  at 9.8s,\testimator lrl1's best error=0.2500,\tbest estimator lrl1's best error=0.2500\n",
      "[flaml.automl.automl: 02-19 13:28:59] {3323} INFO - iteration 10, current learner lrl1\n"
     ]
    },
    {
     "name": "stderr",
     "output_type": "stream",
     "text": [
      "C:\\Users\\Pichau\\AppData\\Roaming\\Python\\Python38\\site-packages\\sklearn\\linear_model\\_sag.py:350: ConvergenceWarning: The max_iter was reached which means the coef_ did not converge\n",
      "  warnings.warn(\n"
     ]
    },
    {
     "name": "stdout",
     "output_type": "stream",
     "text": [
      "[flaml.automl.automl: 02-19 13:28:59] {3508} INFO -  at 10.4s,\testimator lrl1's best error=0.2500,\tbest estimator lrl1's best error=0.2500\n",
      "[flaml.automl.automl: 02-19 13:28:59] {3323} INFO - iteration 11, current learner lrl1\n"
     ]
    },
    {
     "name": "stderr",
     "output_type": "stream",
     "text": [
      "C:\\Users\\Pichau\\AppData\\Roaming\\Python\\Python38\\site-packages\\sklearn\\linear_model\\_sag.py:350: ConvergenceWarning: The max_iter was reached which means the coef_ did not converge\n",
      "  warnings.warn(\n"
     ]
    },
    {
     "name": "stdout",
     "output_type": "stream",
     "text": [
      "[flaml.automl.automl: 02-19 13:29:00] {3508} INFO -  at 11.0s,\testimator lrl1's best error=0.2500,\tbest estimator lrl1's best error=0.2500\n",
      "[flaml.automl.automl: 02-19 13:29:00] {3323} INFO - iteration 12, current learner lrl1\n"
     ]
    },
    {
     "name": "stderr",
     "output_type": "stream",
     "text": [
      "C:\\Users\\Pichau\\AppData\\Roaming\\Python\\Python38\\site-packages\\sklearn\\linear_model\\_sag.py:350: ConvergenceWarning: The max_iter was reached which means the coef_ did not converge\n",
      "  warnings.warn(\n"
     ]
    },
    {
     "name": "stdout",
     "output_type": "stream",
     "text": [
      "[flaml.automl.automl: 02-19 13:29:01] {3508} INFO -  at 11.8s,\testimator lrl1's best error=0.2500,\tbest estimator lrl1's best error=0.2500\n",
      "[flaml.automl.automl: 02-19 13:29:01] {3323} INFO - iteration 13, current learner lrl1\n"
     ]
    },
    {
     "name": "stderr",
     "output_type": "stream",
     "text": [
      "C:\\Users\\Pichau\\AppData\\Roaming\\Python\\Python38\\site-packages\\sklearn\\linear_model\\_sag.py:350: ConvergenceWarning: The max_iter was reached which means the coef_ did not converge\n",
      "  warnings.warn(\n"
     ]
    },
    {
     "name": "stdout",
     "output_type": "stream",
     "text": [
      "[flaml.automl.automl: 02-19 13:29:01] {3508} INFO -  at 12.4s,\testimator lrl1's best error=0.2500,\tbest estimator lrl1's best error=0.2500\n",
      "[flaml.automl.automl: 02-19 13:29:01] {3323} INFO - iteration 14, current learner lrl1\n"
     ]
    },
    {
     "name": "stderr",
     "output_type": "stream",
     "text": [
      "C:\\Users\\Pichau\\AppData\\Roaming\\Python\\Python38\\site-packages\\sklearn\\linear_model\\_sag.py:350: ConvergenceWarning: The max_iter was reached which means the coef_ did not converge\n",
      "  warnings.warn(\n"
     ]
    },
    {
     "name": "stdout",
     "output_type": "stream",
     "text": [
      "[flaml.automl.automl: 02-19 13:29:02] {3508} INFO -  at 13.2s,\testimator lrl1's best error=0.2500,\tbest estimator lrl1's best error=0.2500\n",
      "[flaml.automl.automl: 02-19 13:29:02] {3323} INFO - iteration 15, current learner lrl1\n"
     ]
    },
    {
     "name": "stderr",
     "output_type": "stream",
     "text": [
      "C:\\Users\\Pichau\\AppData\\Roaming\\Python\\Python38\\site-packages\\sklearn\\linear_model\\_sag.py:350: ConvergenceWarning: The max_iter was reached which means the coef_ did not converge\n",
      "  warnings.warn(\n"
     ]
    },
    {
     "name": "stdout",
     "output_type": "stream",
     "text": [
      "[flaml.automl.automl: 02-19 13:29:03] {3508} INFO -  at 14.0s,\testimator lrl1's best error=0.2500,\tbest estimator lrl1's best error=0.2500\n"
     ]
    },
    {
     "name": "stderr",
     "output_type": "stream",
     "text": [
      "C:\\Users\\Pichau\\AppData\\Roaming\\Python\\Python38\\site-packages\\sklearn\\linear_model\\_sag.py:350: ConvergenceWarning: The max_iter was reached which means the coef_ did not converge\n",
      "  warnings.warn(\n"
     ]
    },
    {
     "name": "stdout",
     "output_type": "stream",
     "text": [
      "[flaml.automl.automl: 02-19 13:29:04] {3772} INFO - retrain lrl1 for 0.8s\n",
      "[flaml.automl.automl: 02-19 13:29:04] {3779} INFO - retrained model: LogisticRegression(C=3.9999999999999987, n_jobs=-1, penalty='l1', solver='saga')\n",
      "[flaml.automl.automl: 02-19 13:29:04] {3024} INFO - fit succeeded\n",
      "[flaml.automl.automl: 02-19 13:29:04] {3025} INFO - Time taken to find the best model: 2.85018253326416\n"
     ]
    },
    {
     "name": "stderr",
     "output_type": "stream",
     "text": [
      "C:\\Users\\Pichau\\AppData\\Roaming\\Python\\Python38\\site-packages\\sklearn\\linear_model\\_sag.py:350: ConvergenceWarning: The max_iter was reached which means the coef_ did not converge\n",
      "  warnings.warn(\n"
     ]
    }
   ],
   "source": [
    "lrl1 = automl.fit(X_train=X_train, y_train=y_train, estimator_list=[\"lrl1\"], **settings)"
   ]
  },
  {
   "cell_type": "code",
   "execution_count": 30,
   "metadata": {},
   "outputs": [
    {
     "name": "stdout",
     "output_type": "stream",
     "text": [
      "lrl1: 0.75\n"
     ]
    }
   ],
   "source": [
    "print('lrl1: {0:.4g}'.format(1-automl.best_loss))"
   ]
  },
  {
   "cell_type": "code",
   "execution_count": 31,
   "metadata": {
    "scrolled": true
   },
   "outputs": [
    {
     "name": "stdout",
     "output_type": "stream",
     "text": [
      "[flaml.automl.automl: 02-19 13:30:07] {2716} INFO - task = classification\n",
      "[flaml.automl.automl: 02-19 13:30:07] {2718} INFO - Data split method: stratified\n",
      "[flaml.automl.automl: 02-19 13:30:07] {2721} INFO - Evaluation method: holdout\n",
      "[flaml.automl.automl: 02-19 13:30:07] {1312} INFO - class 0 augmented from 12 to 24\n",
      "[flaml.automl.automl: 02-19 13:30:07] {1312} INFO - class 3 augmented from 4 to 20\n",
      "[flaml.automl.automl: 02-19 13:30:07] {1312} INFO - class 5 augmented from 18 to 36\n",
      "[flaml.automl.automl: 02-19 13:30:07] {1312} INFO - class 6 augmented from 16 to 32\n",
      "[flaml.automl.automl: 02-19 13:30:07] {1312} INFO - class 7 augmented from 13 to 26\n",
      "[flaml.automl.automl: 02-19 13:30:07] {1312} INFO - class 8 augmented from 18 to 36\n",
      "[flaml.automl.automl: 02-19 13:30:07] {1312} INFO - class 10 augmented from 16 to 32\n",
      "[flaml.automl.automl: 02-19 13:30:07] {2848} INFO - Minimizing error metric: 1-accuracy\n",
      "[flaml.automl.automl: 02-19 13:30:07] {2994} INFO - List of ML learners in AutoML Run: ['lrl2']\n",
      "[flaml.automl.automl: 02-19 13:30:07] {3323} INFO - iteration 0, current learner lrl2\n",
      "[flaml.automl.automl: 02-19 13:30:08] {3461} INFO - Estimated sufficient time budget=12755s. Estimated necessary time budget=13s.\n",
      "[flaml.automl.automl: 02-19 13:30:08] {3508} INFO -  at 1.3s,\testimator lrl2's best error=0.1667,\tbest estimator lrl2's best error=0.1667\n",
      "[flaml.automl.automl: 02-19 13:30:08] {3323} INFO - iteration 1, current learner lrl2\n",
      "[flaml.automl.automl: 02-19 13:30:08] {3508} INFO -  at 1.9s,\testimator lrl2's best error=0.1667,\tbest estimator lrl2's best error=0.1667\n",
      "[flaml.automl.automl: 02-19 13:30:08] {3323} INFO - iteration 2, current learner lrl2\n",
      "[flaml.automl.automl: 02-19 13:30:09] {3508} INFO -  at 2.4s,\testimator lrl2's best error=0.1667,\tbest estimator lrl2's best error=0.1667\n",
      "[flaml.automl.automl: 02-19 13:30:09] {3323} INFO - iteration 3, current learner lrl2\n",
      "[flaml.automl.automl: 02-19 13:30:10] {3508} INFO -  at 3.0s,\testimator lrl2's best error=0.1667,\tbest estimator lrl2's best error=0.1667\n",
      "[flaml.automl.automl: 02-19 13:30:10] {3323} INFO - iteration 4, current learner lrl2\n",
      "[flaml.automl.automl: 02-19 13:30:10] {3508} INFO -  at 3.1s,\testimator lrl2's best error=0.1667,\tbest estimator lrl2's best error=0.1667\n",
      "[flaml.automl.automl: 02-19 13:30:10] {3323} INFO - iteration 5, current learner lrl2\n",
      "[flaml.automl.automl: 02-19 13:30:10] {3508} INFO -  at 3.2s,\testimator lrl2's best error=0.1500,\tbest estimator lrl2's best error=0.1500\n",
      "[flaml.automl.automl: 02-19 13:30:10] {3323} INFO - iteration 6, current learner lrl2\n",
      "[flaml.automl.automl: 02-19 13:30:10] {3508} INFO -  at 3.2s,\testimator lrl2's best error=0.1500,\tbest estimator lrl2's best error=0.1500\n",
      "[flaml.automl.automl: 02-19 13:30:10] {3323} INFO - iteration 7, current learner lrl2\n",
      "[flaml.automl.automl: 02-19 13:30:10] {3508} INFO -  at 3.3s,\testimator lrl2's best error=0.1500,\tbest estimator lrl2's best error=0.1500\n",
      "[flaml.automl.automl: 02-19 13:30:10] {3323} INFO - iteration 8, current learner lrl2\n",
      "[flaml.automl.automl: 02-19 13:30:10] {3508} INFO -  at 3.4s,\testimator lrl2's best error=0.1500,\tbest estimator lrl2's best error=0.1500\n",
      "[flaml.automl.automl: 02-19 13:30:10] {3323} INFO - iteration 9, current learner lrl2\n",
      "[flaml.automl.automl: 02-19 13:30:10] {3508} INFO -  at 3.4s,\testimator lrl2's best error=0.1500,\tbest estimator lrl2's best error=0.1500\n",
      "[flaml.automl.automl: 02-19 13:30:10] {3323} INFO - iteration 10, current learner lrl2\n",
      "[flaml.automl.automl: 02-19 13:30:10] {3508} INFO -  at 3.5s,\testimator lrl2's best error=0.1500,\tbest estimator lrl2's best error=0.1500\n",
      "[flaml.automl.automl: 02-19 13:30:10] {3323} INFO - iteration 11, current learner lrl2\n",
      "[flaml.automl.automl: 02-19 13:30:10] {3508} INFO -  at 3.6s,\testimator lrl2's best error=0.1500,\tbest estimator lrl2's best error=0.1500\n",
      "[flaml.automl.automl: 02-19 13:30:10] {3323} INFO - iteration 12, current learner lrl2\n",
      "[flaml.automl.automl: 02-19 13:30:10] {3508} INFO -  at 3.6s,\testimator lrl2's best error=0.1500,\tbest estimator lrl2's best error=0.1500\n",
      "[flaml.automl.automl: 02-19 13:30:10] {3323} INFO - iteration 13, current learner lrl2\n",
      "[flaml.automl.automl: 02-19 13:30:10] {3508} INFO -  at 3.7s,\testimator lrl2's best error=0.1500,\tbest estimator lrl2's best error=0.1500\n",
      "[flaml.automl.automl: 02-19 13:30:10] {3323} INFO - iteration 14, current learner lrl2\n",
      "[flaml.automl.automl: 02-19 13:30:10] {3508} INFO -  at 3.8s,\testimator lrl2's best error=0.1500,\tbest estimator lrl2's best error=0.1500\n",
      "[flaml.automl.automl: 02-19 13:30:10] {3323} INFO - iteration 15, current learner lrl2\n",
      "[flaml.automl.automl: 02-19 13:30:10] {3508} INFO -  at 3.8s,\testimator lrl2's best error=0.1500,\tbest estimator lrl2's best error=0.1500\n",
      "[flaml.automl.automl: 02-19 13:30:10] {3323} INFO - iteration 16, current learner lrl2\n",
      "[flaml.automl.automl: 02-19 13:30:10] {3508} INFO -  at 3.9s,\testimator lrl2's best error=0.1500,\tbest estimator lrl2's best error=0.1500\n",
      "[flaml.automl.automl: 02-19 13:30:10] {3323} INFO - iteration 17, current learner lrl2\n",
      "[flaml.automl.automl: 02-19 13:30:11] {3508} INFO -  at 4.0s,\testimator lrl2's best error=0.1500,\tbest estimator lrl2's best error=0.1500\n",
      "[flaml.automl.automl: 02-19 13:30:11] {3323} INFO - iteration 18, current learner lrl2\n",
      "[flaml.automl.automl: 02-19 13:30:11] {3508} INFO -  at 4.0s,\testimator lrl2's best error=0.1500,\tbest estimator lrl2's best error=0.1500\n",
      "[flaml.automl.automl: 02-19 13:30:11] {3323} INFO - iteration 19, current learner lrl2\n",
      "[flaml.automl.automl: 02-19 13:30:11] {3508} INFO -  at 4.1s,\testimator lrl2's best error=0.1500,\tbest estimator lrl2's best error=0.1500\n",
      "[flaml.automl.automl: 02-19 13:30:11] {3323} INFO - iteration 20, current learner lrl2\n",
      "[flaml.automl.automl: 02-19 13:30:11] {3508} INFO -  at 4.2s,\testimator lrl2's best error=0.1500,\tbest estimator lrl2's best error=0.1500\n",
      "[flaml.automl.automl: 02-19 13:30:11] {3323} INFO - iteration 21, current learner lrl2\n",
      "[flaml.automl.automl: 02-19 13:30:11] {3508} INFO -  at 4.2s,\testimator lrl2's best error=0.1500,\tbest estimator lrl2's best error=0.1500\n",
      "[flaml.automl.automl: 02-19 13:30:11] {3323} INFO - iteration 22, current learner lrl2\n",
      "[flaml.automl.automl: 02-19 13:30:11] {3508} INFO -  at 4.3s,\testimator lrl2's best error=0.1500,\tbest estimator lrl2's best error=0.1500\n",
      "[flaml.automl.automl: 02-19 13:30:11] {3323} INFO - iteration 23, current learner lrl2\n",
      "[flaml.automl.automl: 02-19 13:30:11] {3508} INFO -  at 4.4s,\testimator lrl2's best error=0.1500,\tbest estimator lrl2's best error=0.1500\n",
      "[flaml.automl.automl: 02-19 13:30:11] {3323} INFO - iteration 24, current learner lrl2\n",
      "[flaml.automl.automl: 02-19 13:30:11] {3508} INFO -  at 4.4s,\testimator lrl2's best error=0.1500,\tbest estimator lrl2's best error=0.1500\n",
      "[flaml.automl.automl: 02-19 13:30:11] {3323} INFO - iteration 25, current learner lrl2\n",
      "[flaml.automl.automl: 02-19 13:30:11] {3508} INFO -  at 4.5s,\testimator lrl2's best error=0.1500,\tbest estimator lrl2's best error=0.1500\n",
      "[flaml.automl.automl: 02-19 13:30:11] {3323} INFO - iteration 26, current learner lrl2\n",
      "[flaml.automl.automl: 02-19 13:30:11] {3508} INFO -  at 4.6s,\testimator lrl2's best error=0.1500,\tbest estimator lrl2's best error=0.1500\n",
      "[flaml.automl.automl: 02-19 13:30:11] {3323} INFO - iteration 27, current learner lrl2\n",
      "[flaml.automl.automl: 02-19 13:30:11] {3508} INFO -  at 4.6s,\testimator lrl2's best error=0.1500,\tbest estimator lrl2's best error=0.1500\n",
      "[flaml.automl.automl: 02-19 13:30:11] {3323} INFO - iteration 28, current learner lrl2\n",
      "[flaml.automl.automl: 02-19 13:30:11] {3508} INFO -  at 4.7s,\testimator lrl2's best error=0.1500,\tbest estimator lrl2's best error=0.1500\n",
      "[flaml.automl.automl: 02-19 13:30:11] {3323} INFO - iteration 29, current learner lrl2\n",
      "[flaml.automl.automl: 02-19 13:30:11] {3508} INFO -  at 4.8s,\testimator lrl2's best error=0.1500,\tbest estimator lrl2's best error=0.1500\n",
      "[flaml.automl.automl: 02-19 13:30:11] {3323} INFO - iteration 30, current learner lrl2\n",
      "[flaml.automl.automl: 02-19 13:30:11] {3508} INFO -  at 4.8s,\testimator lrl2's best error=0.1500,\tbest estimator lrl2's best error=0.1500\n",
      "[flaml.automl.automl: 02-19 13:30:11] {3323} INFO - iteration 31, current learner lrl2\n",
      "[flaml.automl.automl: 02-19 13:30:12] {3508} INFO -  at 4.9s,\testimator lrl2's best error=0.1500,\tbest estimator lrl2's best error=0.1500\n"
     ]
    },
    {
     "name": "stdout",
     "output_type": "stream",
     "text": [
      "[flaml.automl.automl: 02-19 13:30:12] {3323} INFO - iteration 32, current learner lrl2\n",
      "[flaml.automl.automl: 02-19 13:30:12] {3508} INFO -  at 5.0s,\testimator lrl2's best error=0.1500,\tbest estimator lrl2's best error=0.1500\n",
      "[flaml.automl.automl: 02-19 13:30:12] {3323} INFO - iteration 33, current learner lrl2\n",
      "[flaml.automl.automl: 02-19 13:30:12] {3508} INFO -  at 5.0s,\testimator lrl2's best error=0.1500,\tbest estimator lrl2's best error=0.1500\n",
      "[flaml.automl.automl: 02-19 13:30:12] {3323} INFO - iteration 34, current learner lrl2\n",
      "[flaml.automl.automl: 02-19 13:30:12] {3508} INFO -  at 5.1s,\testimator lrl2's best error=0.1500,\tbest estimator lrl2's best error=0.1500\n",
      "[flaml.automl.automl: 02-19 13:30:12] {3323} INFO - iteration 35, current learner lrl2\n",
      "[flaml.automl.automl: 02-19 13:30:12] {3508} INFO -  at 5.2s,\testimator lrl2's best error=0.1500,\tbest estimator lrl2's best error=0.1500\n",
      "[flaml.automl.automl: 02-19 13:30:12] {3323} INFO - iteration 36, current learner lrl2\n",
      "[flaml.automl.automl: 02-19 13:30:12] {3508} INFO -  at 5.2s,\testimator lrl2's best error=0.1500,\tbest estimator lrl2's best error=0.1500\n",
      "[flaml.automl.automl: 02-19 13:30:12] {3323} INFO - iteration 37, current learner lrl2\n",
      "[flaml.automl.automl: 02-19 13:30:12] {3508} INFO -  at 5.3s,\testimator lrl2's best error=0.1500,\tbest estimator lrl2's best error=0.1500\n",
      "[flaml.automl.automl: 02-19 13:30:12] {3323} INFO - iteration 38, current learner lrl2\n",
      "[flaml.automl.automl: 02-19 13:30:12] {3508} INFO -  at 5.4s,\testimator lrl2's best error=0.1500,\tbest estimator lrl2's best error=0.1500\n",
      "[flaml.automl.automl: 02-19 13:30:12] {3323} INFO - iteration 39, current learner lrl2\n",
      "[flaml.automl.automl: 02-19 13:30:12] {3508} INFO -  at 5.4s,\testimator lrl2's best error=0.1500,\tbest estimator lrl2's best error=0.1500\n",
      "[flaml.automl.automl: 02-19 13:30:12] {3323} INFO - iteration 40, current learner lrl2\n",
      "[flaml.automl.automl: 02-19 13:30:12] {3508} INFO -  at 5.5s,\testimator lrl2's best error=0.1500,\tbest estimator lrl2's best error=0.1500\n",
      "[flaml.automl.automl: 02-19 13:30:12] {3323} INFO - iteration 41, current learner lrl2\n",
      "[flaml.automl.automl: 02-19 13:30:12] {3508} INFO -  at 5.6s,\testimator lrl2's best error=0.1500,\tbest estimator lrl2's best error=0.1500\n",
      "[flaml.automl.automl: 02-19 13:30:12] {3323} INFO - iteration 42, current learner lrl2\n",
      "[flaml.automl.automl: 02-19 13:30:12] {3508} INFO -  at 5.6s,\testimator lrl2's best error=0.1500,\tbest estimator lrl2's best error=0.1500\n",
      "[flaml.automl.automl: 02-19 13:30:12] {3323} INFO - iteration 43, current learner lrl2\n",
      "[flaml.automl.automl: 02-19 13:30:12] {3508} INFO -  at 5.7s,\testimator lrl2's best error=0.1500,\tbest estimator lrl2's best error=0.1500\n",
      "[flaml.automl.automl: 02-19 13:30:12] {3323} INFO - iteration 44, current learner lrl2\n",
      "[flaml.automl.automl: 02-19 13:30:12] {3508} INFO -  at 5.8s,\testimator lrl2's best error=0.1500,\tbest estimator lrl2's best error=0.1500\n",
      "[flaml.automl.automl: 02-19 13:30:12] {3323} INFO - iteration 45, current learner lrl2\n",
      "[flaml.automl.automl: 02-19 13:30:12] {3508} INFO -  at 5.8s,\testimator lrl2's best error=0.1500,\tbest estimator lrl2's best error=0.1500\n",
      "[flaml.automl.automl: 02-19 13:30:12] {3323} INFO - iteration 46, current learner lrl2\n",
      "[flaml.automl.automl: 02-19 13:30:12] {3508} INFO -  at 5.9s,\testimator lrl2's best error=0.1500,\tbest estimator lrl2's best error=0.1500\n",
      "[flaml.automl.automl: 02-19 13:30:12] {3323} INFO - iteration 47, current learner lrl2\n",
      "[flaml.automl.automl: 02-19 13:30:13] {3508} INFO -  at 6.0s,\testimator lrl2's best error=0.1500,\tbest estimator lrl2's best error=0.1500\n",
      "[flaml.automl.automl: 02-19 13:30:13] {3323} INFO - iteration 48, current learner lrl2\n",
      "[flaml.automl.automl: 02-19 13:30:13] {3508} INFO -  at 6.0s,\testimator lrl2's best error=0.1500,\tbest estimator lrl2's best error=0.1500\n",
      "[flaml.automl.automl: 02-19 13:30:13] {3323} INFO - iteration 49, current learner lrl2\n",
      "[flaml.automl.automl: 02-19 13:30:13] {3508} INFO -  at 6.1s,\testimator lrl2's best error=0.1500,\tbest estimator lrl2's best error=0.1500\n",
      "[flaml.automl.automl: 02-19 13:30:13] {3323} INFO - iteration 50, current learner lrl2\n",
      "[flaml.automl.automl: 02-19 13:30:13] {3508} INFO -  at 6.1s,\testimator lrl2's best error=0.1500,\tbest estimator lrl2's best error=0.1500\n",
      "[flaml.automl.automl: 02-19 13:30:13] {3323} INFO - iteration 51, current learner lrl2\n",
      "[flaml.automl.automl: 02-19 13:30:13] {3508} INFO -  at 6.2s,\testimator lrl2's best error=0.1500,\tbest estimator lrl2's best error=0.1500\n",
      "[flaml.automl.automl: 02-19 13:30:13] {3323} INFO - iteration 52, current learner lrl2\n",
      "[flaml.automl.automl: 02-19 13:30:13] {3508} INFO -  at 6.3s,\testimator lrl2's best error=0.1500,\tbest estimator lrl2's best error=0.1500\n",
      "[flaml.automl.automl: 02-19 13:30:13] {3323} INFO - iteration 53, current learner lrl2\n",
      "[flaml.automl.automl: 02-19 13:30:13] {3508} INFO -  at 6.3s,\testimator lrl2's best error=0.1500,\tbest estimator lrl2's best error=0.1500\n",
      "[flaml.automl.automl: 02-19 13:30:13] {3323} INFO - iteration 54, current learner lrl2\n",
      "[flaml.automl.automl: 02-19 13:30:13] {3508} INFO -  at 6.4s,\testimator lrl2's best error=0.1500,\tbest estimator lrl2's best error=0.1500\n",
      "[flaml.automl.automl: 02-19 13:30:13] {3323} INFO - iteration 55, current learner lrl2\n",
      "[flaml.automl.automl: 02-19 13:30:13] {3508} INFO -  at 6.5s,\testimator lrl2's best error=0.1500,\tbest estimator lrl2's best error=0.1500\n",
      "[flaml.automl.automl: 02-19 13:30:13] {3323} INFO - iteration 56, current learner lrl2\n",
      "[flaml.automl.automl: 02-19 13:30:13] {3508} INFO -  at 6.6s,\testimator lrl2's best error=0.1500,\tbest estimator lrl2's best error=0.1500\n",
      "[flaml.automl.automl: 02-19 13:30:13] {3323} INFO - iteration 57, current learner lrl2\n",
      "[flaml.automl.automl: 02-19 13:30:13] {3508} INFO -  at 6.6s,\testimator lrl2's best error=0.1500,\tbest estimator lrl2's best error=0.1500\n",
      "[flaml.automl.automl: 02-19 13:30:13] {3323} INFO - iteration 58, current learner lrl2\n",
      "[flaml.automl.automl: 02-19 13:30:13] {3508} INFO -  at 6.7s,\testimator lrl2's best error=0.1500,\tbest estimator lrl2's best error=0.1500\n",
      "[flaml.automl.automl: 02-19 13:30:13] {3323} INFO - iteration 59, current learner lrl2\n",
      "[flaml.automl.automl: 02-19 13:30:13] {3508} INFO -  at 6.8s,\testimator lrl2's best error=0.1500,\tbest estimator lrl2's best error=0.1500\n",
      "[flaml.automl.automl: 02-19 13:30:13] {3323} INFO - iteration 60, current learner lrl2\n",
      "[flaml.automl.automl: 02-19 13:30:13] {3508} INFO -  at 6.8s,\testimator lrl2's best error=0.1500,\tbest estimator lrl2's best error=0.1500\n",
      "[flaml.automl.automl: 02-19 13:30:13] {3323} INFO - iteration 61, current learner lrl2\n",
      "[flaml.automl.automl: 02-19 13:30:14] {3508} INFO -  at 6.9s,\testimator lrl2's best error=0.1500,\tbest estimator lrl2's best error=0.1500\n",
      "[flaml.automl.automl: 02-19 13:30:14] {3323} INFO - iteration 62, current learner lrl2\n",
      "[flaml.automl.automl: 02-19 13:30:14] {3508} INFO -  at 7.0s,\testimator lrl2's best error=0.1500,\tbest estimator lrl2's best error=0.1500\n",
      "[flaml.automl.automl: 02-19 13:30:14] {3323} INFO - iteration 63, current learner lrl2\n",
      "[flaml.automl.automl: 02-19 13:30:14] {3508} INFO -  at 7.0s,\testimator lrl2's best error=0.1500,\tbest estimator lrl2's best error=0.1500\n",
      "[flaml.automl.automl: 02-19 13:30:14] {3323} INFO - iteration 64, current learner lrl2\n",
      "[flaml.automl.automl: 02-19 13:30:14] {3508} INFO -  at 7.1s,\testimator lrl2's best error=0.1500,\tbest estimator lrl2's best error=0.1500\n",
      "[flaml.automl.automl: 02-19 13:30:14] {3323} INFO - iteration 65, current learner lrl2\n",
      "[flaml.automl.automl: 02-19 13:30:14] {3508} INFO -  at 7.2s,\testimator lrl2's best error=0.1500,\tbest estimator lrl2's best error=0.1500\n",
      "[flaml.automl.automl: 02-19 13:30:14] {3323} INFO - iteration 66, current learner lrl2\n",
      "[flaml.automl.automl: 02-19 13:30:14] {3508} INFO -  at 7.3s,\testimator lrl2's best error=0.1500,\tbest estimator lrl2's best error=0.1500\n",
      "[flaml.automl.automl: 02-19 13:30:14] {3323} INFO - iteration 67, current learner lrl2\n",
      "[flaml.automl.automl: 02-19 13:30:14] {3508} INFO -  at 7.3s,\testimator lrl2's best error=0.1500,\tbest estimator lrl2's best error=0.1500\n",
      "[flaml.automl.automl: 02-19 13:30:14] {3323} INFO - iteration 68, current learner lrl2\n",
      "[flaml.automl.automl: 02-19 13:30:14] {3508} INFO -  at 7.4s,\testimator lrl2's best error=0.1500,\tbest estimator lrl2's best error=0.1500\n"
     ]
    },
    {
     "name": "stdout",
     "output_type": "stream",
     "text": [
      "[flaml.automl.automl: 02-19 13:30:14] {3323} INFO - iteration 69, current learner lrl2\n",
      "[flaml.automl.automl: 02-19 13:30:14] {3508} INFO -  at 7.4s,\testimator lrl2's best error=0.1500,\tbest estimator lrl2's best error=0.1500\n",
      "[flaml.automl.automl: 02-19 13:30:14] {3323} INFO - iteration 70, current learner lrl2\n",
      "[flaml.automl.automl: 02-19 13:30:14] {3508} INFO -  at 7.5s,\testimator lrl2's best error=0.1500,\tbest estimator lrl2's best error=0.1500\n",
      "[flaml.automl.automl: 02-19 13:30:14] {3323} INFO - iteration 71, current learner lrl2\n",
      "[flaml.automl.automl: 02-19 13:30:14] {3508} INFO -  at 7.6s,\testimator lrl2's best error=0.1500,\tbest estimator lrl2's best error=0.1500\n",
      "[flaml.automl.automl: 02-19 13:30:14] {3323} INFO - iteration 72, current learner lrl2\n",
      "[flaml.automl.automl: 02-19 13:30:14] {3508} INFO -  at 7.6s,\testimator lrl2's best error=0.1500,\tbest estimator lrl2's best error=0.1500\n",
      "[flaml.automl.automl: 02-19 13:30:14] {3323} INFO - iteration 73, current learner lrl2\n",
      "[flaml.automl.automl: 02-19 13:30:14] {3508} INFO -  at 7.7s,\testimator lrl2's best error=0.1500,\tbest estimator lrl2's best error=0.1500\n",
      "[flaml.automl.automl: 02-19 13:30:14] {3323} INFO - iteration 74, current learner lrl2\n",
      "[flaml.automl.automl: 02-19 13:30:14] {3508} INFO -  at 7.8s,\testimator lrl2's best error=0.1500,\tbest estimator lrl2's best error=0.1500\n",
      "[flaml.automl.automl: 02-19 13:30:14] {3323} INFO - iteration 75, current learner lrl2\n",
      "[flaml.automl.automl: 02-19 13:30:14] {3508} INFO -  at 7.8s,\testimator lrl2's best error=0.1500,\tbest estimator lrl2's best error=0.1500\n",
      "[flaml.automl.automl: 02-19 13:30:14] {3323} INFO - iteration 76, current learner lrl2\n",
      "[flaml.automl.automl: 02-19 13:30:14] {3508} INFO -  at 7.9s,\testimator lrl2's best error=0.1500,\tbest estimator lrl2's best error=0.1500\n",
      "[flaml.automl.automl: 02-19 13:30:14] {3323} INFO - iteration 77, current learner lrl2\n",
      "[flaml.automl.automl: 02-19 13:30:15] {3508} INFO -  at 8.0s,\testimator lrl2's best error=0.1500,\tbest estimator lrl2's best error=0.1500\n",
      "[flaml.automl.automl: 02-19 13:30:15] {3323} INFO - iteration 78, current learner lrl2\n",
      "[flaml.automl.automl: 02-19 13:30:15] {3508} INFO -  at 8.0s,\testimator lrl2's best error=0.1500,\tbest estimator lrl2's best error=0.1500\n",
      "[flaml.automl.automl: 02-19 13:30:15] {3323} INFO - iteration 79, current learner lrl2\n",
      "[flaml.automl.automl: 02-19 13:30:15] {3508} INFO -  at 8.1s,\testimator lrl2's best error=0.1500,\tbest estimator lrl2's best error=0.1500\n",
      "[flaml.automl.automl: 02-19 13:30:15] {3323} INFO - iteration 80, current learner lrl2\n",
      "[flaml.automl.automl: 02-19 13:30:15] {3508} INFO -  at 8.2s,\testimator lrl2's best error=0.1500,\tbest estimator lrl2's best error=0.1500\n",
      "[flaml.automl.automl: 02-19 13:30:15] {3323} INFO - iteration 81, current learner lrl2\n",
      "[flaml.automl.automl: 02-19 13:30:15] {3508} INFO -  at 8.2s,\testimator lrl2's best error=0.1500,\tbest estimator lrl2's best error=0.1500\n",
      "[flaml.automl.automl: 02-19 13:30:15] {3323} INFO - iteration 82, current learner lrl2\n",
      "[flaml.automl.automl: 02-19 13:30:15] {3508} INFO -  at 8.3s,\testimator lrl2's best error=0.1500,\tbest estimator lrl2's best error=0.1500\n",
      "[flaml.automl.automl: 02-19 13:30:15] {3323} INFO - iteration 83, current learner lrl2\n",
      "[flaml.automl.automl: 02-19 13:30:15] {3508} INFO -  at 8.3s,\testimator lrl2's best error=0.1500,\tbest estimator lrl2's best error=0.1500\n",
      "[flaml.automl.automl: 02-19 13:30:15] {3323} INFO - iteration 84, current learner lrl2\n",
      "[flaml.automl.automl: 02-19 13:30:15] {3508} INFO -  at 8.4s,\testimator lrl2's best error=0.1500,\tbest estimator lrl2's best error=0.1500\n",
      "[flaml.automl.automl: 02-19 13:30:15] {3323} INFO - iteration 85, current learner lrl2\n",
      "[flaml.automl.automl: 02-19 13:30:15] {3508} INFO -  at 8.5s,\testimator lrl2's best error=0.1500,\tbest estimator lrl2's best error=0.1500\n",
      "[flaml.automl.automl: 02-19 13:30:15] {3323} INFO - iteration 86, current learner lrl2\n",
      "[flaml.automl.automl: 02-19 13:30:15] {3508} INFO -  at 8.5s,\testimator lrl2's best error=0.1500,\tbest estimator lrl2's best error=0.1500\n",
      "[flaml.automl.automl: 02-19 13:30:15] {3323} INFO - iteration 87, current learner lrl2\n",
      "[flaml.automl.automl: 02-19 13:30:15] {3508} INFO -  at 8.6s,\testimator lrl2's best error=0.1500,\tbest estimator lrl2's best error=0.1500\n",
      "[flaml.automl.automl: 02-19 13:30:15] {3323} INFO - iteration 88, current learner lrl2\n",
      "[flaml.automl.automl: 02-19 13:30:15] {3508} INFO -  at 8.7s,\testimator lrl2's best error=0.1500,\tbest estimator lrl2's best error=0.1500\n",
      "[flaml.automl.automl: 02-19 13:30:15] {3323} INFO - iteration 89, current learner lrl2\n",
      "[flaml.automl.automl: 02-19 13:30:15] {3508} INFO -  at 8.7s,\testimator lrl2's best error=0.1500,\tbest estimator lrl2's best error=0.1500\n",
      "[flaml.automl.automl: 02-19 13:30:15] {3323} INFO - iteration 90, current learner lrl2\n",
      "[flaml.automl.automl: 02-19 13:30:15] {3508} INFO -  at 8.8s,\testimator lrl2's best error=0.1500,\tbest estimator lrl2's best error=0.1500\n",
      "[flaml.automl.automl: 02-19 13:30:15] {3323} INFO - iteration 91, current learner lrl2\n",
      "[flaml.automl.automl: 02-19 13:30:15] {3508} INFO -  at 8.9s,\testimator lrl2's best error=0.1500,\tbest estimator lrl2's best error=0.1500\n",
      "[flaml.automl.automl: 02-19 13:30:15] {3323} INFO - iteration 92, current learner lrl2\n",
      "[flaml.automl.automl: 02-19 13:30:16] {3508} INFO -  at 8.9s,\testimator lrl2's best error=0.1500,\tbest estimator lrl2's best error=0.1500\n",
      "[flaml.automl.automl: 02-19 13:30:16] {3323} INFO - iteration 93, current learner lrl2\n",
      "[flaml.automl.automl: 02-19 13:30:16] {3508} INFO -  at 9.0s,\testimator lrl2's best error=0.1500,\tbest estimator lrl2's best error=0.1500\n",
      "[flaml.automl.automl: 02-19 13:30:16] {3323} INFO - iteration 94, current learner lrl2\n",
      "[flaml.automl.automl: 02-19 13:30:16] {3508} INFO -  at 9.1s,\testimator lrl2's best error=0.1500,\tbest estimator lrl2's best error=0.1500\n",
      "[flaml.automl.automl: 02-19 13:30:16] {3323} INFO - iteration 95, current learner lrl2\n",
      "[flaml.automl.automl: 02-19 13:30:16] {3508} INFO -  at 9.1s,\testimator lrl2's best error=0.1500,\tbest estimator lrl2's best error=0.1500\n",
      "[flaml.automl.automl: 02-19 13:30:16] {3323} INFO - iteration 96, current learner lrl2\n",
      "[flaml.automl.automl: 02-19 13:30:16] {3508} INFO -  at 9.2s,\testimator lrl2's best error=0.1500,\tbest estimator lrl2's best error=0.1500\n",
      "[flaml.automl.automl: 02-19 13:30:16] {3323} INFO - iteration 97, current learner lrl2\n",
      "[flaml.automl.automl: 02-19 13:30:16] {3508} INFO -  at 9.2s,\testimator lrl2's best error=0.1500,\tbest estimator lrl2's best error=0.1500\n",
      "[flaml.automl.automl: 02-19 13:30:16] {3323} INFO - iteration 98, current learner lrl2\n",
      "[flaml.automl.automl: 02-19 13:30:16] {3508} INFO -  at 9.3s,\testimator lrl2's best error=0.1500,\tbest estimator lrl2's best error=0.1500\n",
      "[flaml.automl.automl: 02-19 13:30:16] {3323} INFO - iteration 99, current learner lrl2\n",
      "[flaml.automl.automl: 02-19 13:30:16] {3508} INFO -  at 9.4s,\testimator lrl2's best error=0.1500,\tbest estimator lrl2's best error=0.1500\n",
      "[flaml.automl.automl: 02-19 13:30:16] {3323} INFO - iteration 100, current learner lrl2\n",
      "[flaml.automl.automl: 02-19 13:30:16] {3508} INFO -  at 9.4s,\testimator lrl2's best error=0.1500,\tbest estimator lrl2's best error=0.1500\n",
      "[flaml.automl.automl: 02-19 13:30:16] {3323} INFO - iteration 101, current learner lrl2\n",
      "[flaml.automl.automl: 02-19 13:30:16] {3508} INFO -  at 9.5s,\testimator lrl2's best error=0.1500,\tbest estimator lrl2's best error=0.1500\n",
      "[flaml.automl.automl: 02-19 13:30:16] {3323} INFO - iteration 102, current learner lrl2\n",
      "[flaml.automl.automl: 02-19 13:30:16] {3508} INFO -  at 9.6s,\testimator lrl2's best error=0.1500,\tbest estimator lrl2's best error=0.1500\n",
      "[flaml.automl.automl: 02-19 13:30:16] {3323} INFO - iteration 103, current learner lrl2\n",
      "[flaml.automl.automl: 02-19 13:30:16] {3508} INFO -  at 9.6s,\testimator lrl2's best error=0.1500,\tbest estimator lrl2's best error=0.1500\n",
      "[flaml.automl.automl: 02-19 13:30:16] {3323} INFO - iteration 104, current learner lrl2\n",
      "[flaml.automl.automl: 02-19 13:30:16] {3508} INFO -  at 9.7s,\testimator lrl2's best error=0.1500,\tbest estimator lrl2's best error=0.1500\n",
      "[flaml.automl.automl: 02-19 13:30:16] {3323} INFO - iteration 105, current learner lrl2\n"
     ]
    },
    {
     "name": "stdout",
     "output_type": "stream",
     "text": [
      "[flaml.automl.automl: 02-19 13:30:16] {3508} INFO -  at 9.8s,\testimator lrl2's best error=0.1500,\tbest estimator lrl2's best error=0.1500\n",
      "[flaml.automl.automl: 02-19 13:30:16] {3323} INFO - iteration 106, current learner lrl2\n",
      "[flaml.automl.automl: 02-19 13:30:16] {3508} INFO -  at 9.8s,\testimator lrl2's best error=0.1500,\tbest estimator lrl2's best error=0.1500\n",
      "[flaml.automl.automl: 02-19 13:30:16] {3323} INFO - iteration 107, current learner lrl2\n",
      "[flaml.automl.automl: 02-19 13:30:16] {3508} INFO -  at 9.9s,\testimator lrl2's best error=0.1500,\tbest estimator lrl2's best error=0.1500\n",
      "[flaml.automl.automl: 02-19 13:30:16] {3323} INFO - iteration 108, current learner lrl2\n",
      "[flaml.automl.automl: 02-19 13:30:17] {3508} INFO -  at 9.9s,\testimator lrl2's best error=0.1500,\tbest estimator lrl2's best error=0.1500\n",
      "[flaml.automl.automl: 02-19 13:30:17] {3323} INFO - iteration 109, current learner lrl2\n",
      "[flaml.automl.automl: 02-19 13:30:17] {3508} INFO -  at 10.0s,\testimator lrl2's best error=0.1500,\tbest estimator lrl2's best error=0.1500\n",
      "[flaml.automl.automl: 02-19 13:30:17] {3323} INFO - iteration 110, current learner lrl2\n",
      "[flaml.automl.automl: 02-19 13:30:17] {3508} INFO -  at 10.1s,\testimator lrl2's best error=0.1500,\tbest estimator lrl2's best error=0.1500\n",
      "[flaml.automl.automl: 02-19 13:30:17] {3323} INFO - iteration 111, current learner lrl2\n",
      "[flaml.automl.automl: 02-19 13:30:17] {3508} INFO -  at 10.1s,\testimator lrl2's best error=0.1500,\tbest estimator lrl2's best error=0.1500\n",
      "[flaml.automl.automl: 02-19 13:30:17] {3323} INFO - iteration 112, current learner lrl2\n",
      "[flaml.automl.automl: 02-19 13:30:17] {3508} INFO -  at 10.2s,\testimator lrl2's best error=0.1500,\tbest estimator lrl2's best error=0.1500\n",
      "[flaml.automl.automl: 02-19 13:30:17] {3323} INFO - iteration 113, current learner lrl2\n",
      "[flaml.automl.automl: 02-19 13:30:17] {3508} INFO -  at 10.3s,\testimator lrl2's best error=0.1500,\tbest estimator lrl2's best error=0.1500\n",
      "[flaml.automl.automl: 02-19 13:30:17] {3323} INFO - iteration 114, current learner lrl2\n",
      "[flaml.automl.automl: 02-19 13:30:17] {3508} INFO -  at 10.3s,\testimator lrl2's best error=0.1500,\tbest estimator lrl2's best error=0.1500\n",
      "[flaml.automl.automl: 02-19 13:30:17] {3323} INFO - iteration 115, current learner lrl2\n",
      "[flaml.automl.automl: 02-19 13:30:17] {3508} INFO -  at 10.4s,\testimator lrl2's best error=0.1500,\tbest estimator lrl2's best error=0.1500\n",
      "[flaml.automl.automl: 02-19 13:30:17] {3323} INFO - iteration 116, current learner lrl2\n",
      "[flaml.automl.automl: 02-19 13:30:17] {3508} INFO -  at 10.5s,\testimator lrl2's best error=0.1500,\tbest estimator lrl2's best error=0.1500\n",
      "[flaml.automl.automl: 02-19 13:30:17] {3323} INFO - iteration 117, current learner lrl2\n",
      "[flaml.automl.automl: 02-19 13:30:17] {3508} INFO -  at 10.5s,\testimator lrl2's best error=0.1500,\tbest estimator lrl2's best error=0.1500\n",
      "[flaml.automl.automl: 02-19 13:30:17] {3323} INFO - iteration 118, current learner lrl2\n",
      "[flaml.automl.automl: 02-19 13:30:17] {3508} INFO -  at 10.6s,\testimator lrl2's best error=0.1500,\tbest estimator lrl2's best error=0.1500\n",
      "[flaml.automl.automl: 02-19 13:30:17] {3323} INFO - iteration 119, current learner lrl2\n",
      "[flaml.automl.automl: 02-19 13:30:17] {3508} INFO -  at 10.7s,\testimator lrl2's best error=0.1500,\tbest estimator lrl2's best error=0.1500\n",
      "[flaml.automl.automl: 02-19 13:30:17] {3323} INFO - iteration 120, current learner lrl2\n",
      "[flaml.automl.automl: 02-19 13:30:17] {3508} INFO -  at 10.7s,\testimator lrl2's best error=0.1500,\tbest estimator lrl2's best error=0.1500\n",
      "[flaml.automl.automl: 02-19 13:30:17] {3323} INFO - iteration 121, current learner lrl2\n",
      "[flaml.automl.automl: 02-19 13:30:17] {3508} INFO -  at 10.8s,\testimator lrl2's best error=0.1500,\tbest estimator lrl2's best error=0.1500\n",
      "[flaml.automl.automl: 02-19 13:30:17] {3323} INFO - iteration 122, current learner lrl2\n",
      "[flaml.automl.automl: 02-19 13:30:17] {3508} INFO -  at 10.9s,\testimator lrl2's best error=0.1500,\tbest estimator lrl2's best error=0.1500\n",
      "[flaml.automl.automl: 02-19 13:30:17] {3323} INFO - iteration 123, current learner lrl2\n",
      "[flaml.automl.automl: 02-19 13:30:18] {3508} INFO -  at 10.9s,\testimator lrl2's best error=0.1500,\tbest estimator lrl2's best error=0.1500\n",
      "[flaml.automl.automl: 02-19 13:30:18] {3323} INFO - iteration 124, current learner lrl2\n",
      "[flaml.automl.automl: 02-19 13:30:18] {3508} INFO -  at 11.0s,\testimator lrl2's best error=0.1500,\tbest estimator lrl2's best error=0.1500\n",
      "[flaml.automl.automl: 02-19 13:30:18] {3323} INFO - iteration 125, current learner lrl2\n",
      "[flaml.automl.automl: 02-19 13:30:18] {3508} INFO -  at 11.1s,\testimator lrl2's best error=0.1500,\tbest estimator lrl2's best error=0.1500\n",
      "[flaml.automl.automl: 02-19 13:30:18] {3323} INFO - iteration 126, current learner lrl2\n",
      "[flaml.automl.automl: 02-19 13:30:18] {3508} INFO -  at 11.1s,\testimator lrl2's best error=0.1500,\tbest estimator lrl2's best error=0.1500\n",
      "[flaml.automl.automl: 02-19 13:30:18] {3323} INFO - iteration 127, current learner lrl2\n",
      "[flaml.automl.automl: 02-19 13:30:18] {3508} INFO -  at 11.2s,\testimator lrl2's best error=0.1500,\tbest estimator lrl2's best error=0.1500\n",
      "[flaml.automl.automl: 02-19 13:30:18] {3323} INFO - iteration 128, current learner lrl2\n",
      "[flaml.automl.automl: 02-19 13:30:18] {3508} INFO -  at 11.2s,\testimator lrl2's best error=0.1500,\tbest estimator lrl2's best error=0.1500\n",
      "[flaml.automl.automl: 02-19 13:30:18] {3323} INFO - iteration 129, current learner lrl2\n",
      "[flaml.automl.automl: 02-19 13:30:18] {3508} INFO -  at 11.3s,\testimator lrl2's best error=0.1500,\tbest estimator lrl2's best error=0.1500\n",
      "[flaml.automl.automl: 02-19 13:30:18] {3323} INFO - iteration 130, current learner lrl2\n",
      "[flaml.automl.automl: 02-19 13:30:18] {3508} INFO -  at 11.4s,\testimator lrl2's best error=0.1500,\tbest estimator lrl2's best error=0.1500\n",
      "[flaml.automl.automl: 02-19 13:30:18] {3323} INFO - iteration 131, current learner lrl2\n",
      "[flaml.automl.automl: 02-19 13:30:18] {3508} INFO -  at 11.4s,\testimator lrl2's best error=0.1500,\tbest estimator lrl2's best error=0.1500\n",
      "[flaml.automl.automl: 02-19 13:30:18] {3323} INFO - iteration 132, current learner lrl2\n",
      "[flaml.automl.automl: 02-19 13:30:18] {3508} INFO -  at 11.5s,\testimator lrl2's best error=0.1500,\tbest estimator lrl2's best error=0.1500\n",
      "[flaml.automl.automl: 02-19 13:30:18] {3323} INFO - iteration 133, current learner lrl2\n",
      "[flaml.automl.automl: 02-19 13:30:18] {3508} INFO -  at 11.6s,\testimator lrl2's best error=0.1500,\tbest estimator lrl2's best error=0.1500\n",
      "[flaml.automl.automl: 02-19 13:30:18] {3323} INFO - iteration 134, current learner lrl2\n",
      "[flaml.automl.automl: 02-19 13:30:18] {3508} INFO -  at 11.6s,\testimator lrl2's best error=0.1500,\tbest estimator lrl2's best error=0.1500\n",
      "[flaml.automl.automl: 02-19 13:30:18] {3323} INFO - iteration 135, current learner lrl2\n",
      "[flaml.automl.automl: 02-19 13:30:18] {3508} INFO -  at 11.7s,\testimator lrl2's best error=0.1500,\tbest estimator lrl2's best error=0.1500\n",
      "[flaml.automl.automl: 02-19 13:30:18] {3323} INFO - iteration 136, current learner lrl2\n",
      "[flaml.automl.automl: 02-19 13:30:18] {3508} INFO -  at 11.8s,\testimator lrl2's best error=0.1500,\tbest estimator lrl2's best error=0.1500\n",
      "[flaml.automl.automl: 02-19 13:30:18] {3323} INFO - iteration 137, current learner lrl2\n",
      "[flaml.automl.automl: 02-19 13:30:18] {3508} INFO -  at 11.9s,\testimator lrl2's best error=0.1500,\tbest estimator lrl2's best error=0.1500\n",
      "[flaml.automl.automl: 02-19 13:30:18] {3323} INFO - iteration 138, current learner lrl2\n",
      "[flaml.automl.automl: 02-19 13:30:19] {3508} INFO -  at 11.9s,\testimator lrl2's best error=0.1500,\tbest estimator lrl2's best error=0.1500\n",
      "[flaml.automl.automl: 02-19 13:30:19] {3323} INFO - iteration 139, current learner lrl2\n",
      "[flaml.automl.automl: 02-19 13:30:19] {3508} INFO -  at 12.0s,\testimator lrl2's best error=0.1500,\tbest estimator lrl2's best error=0.1500\n",
      "[flaml.automl.automl: 02-19 13:30:19] {3323} INFO - iteration 140, current learner lrl2\n",
      "[flaml.automl.automl: 02-19 13:30:19] {3508} INFO -  at 12.0s,\testimator lrl2's best error=0.1500,\tbest estimator lrl2's best error=0.1500\n",
      "[flaml.automl.automl: 02-19 13:30:19] {3323} INFO - iteration 141, current learner lrl2\n",
      "[flaml.automl.automl: 02-19 13:30:19] {3508} INFO -  at 12.1s,\testimator lrl2's best error=0.1500,\tbest estimator lrl2's best error=0.1500\n"
     ]
    },
    {
     "name": "stdout",
     "output_type": "stream",
     "text": [
      "[flaml.automl.automl: 02-19 13:30:19] {3323} INFO - iteration 142, current learner lrl2\n",
      "[flaml.automl.automl: 02-19 13:30:19] {3508} INFO -  at 12.2s,\testimator lrl2's best error=0.1500,\tbest estimator lrl2's best error=0.1500\n",
      "[flaml.automl.automl: 02-19 13:30:19] {3323} INFO - iteration 143, current learner lrl2\n",
      "[flaml.automl.automl: 02-19 13:30:19] {3508} INFO -  at 12.2s,\testimator lrl2's best error=0.1500,\tbest estimator lrl2's best error=0.1500\n",
      "[flaml.automl.automl: 02-19 13:30:19] {3323} INFO - iteration 144, current learner lrl2\n",
      "[flaml.automl.automl: 02-19 13:30:19] {3508} INFO -  at 12.3s,\testimator lrl2's best error=0.1500,\tbest estimator lrl2's best error=0.1500\n",
      "[flaml.automl.automl: 02-19 13:30:19] {3323} INFO - iteration 145, current learner lrl2\n",
      "[flaml.automl.automl: 02-19 13:30:19] {3508} INFO -  at 12.4s,\testimator lrl2's best error=0.1500,\tbest estimator lrl2's best error=0.1500\n",
      "[flaml.automl.automl: 02-19 13:30:19] {3323} INFO - iteration 146, current learner lrl2\n",
      "[flaml.automl.automl: 02-19 13:30:19] {3508} INFO -  at 12.4s,\testimator lrl2's best error=0.1500,\tbest estimator lrl2's best error=0.1500\n",
      "[flaml.automl.automl: 02-19 13:30:19] {3323} INFO - iteration 147, current learner lrl2\n",
      "[flaml.automl.automl: 02-19 13:30:19] {3508} INFO -  at 12.5s,\testimator lrl2's best error=0.1500,\tbest estimator lrl2's best error=0.1500\n",
      "[flaml.automl.automl: 02-19 13:30:19] {3323} INFO - iteration 148, current learner lrl2\n",
      "[flaml.automl.automl: 02-19 13:30:19] {3508} INFO -  at 12.6s,\testimator lrl2's best error=0.1500,\tbest estimator lrl2's best error=0.1500\n",
      "[flaml.automl.automl: 02-19 13:30:19] {3323} INFO - iteration 149, current learner lrl2\n",
      "[flaml.automl.automl: 02-19 13:30:19] {3508} INFO -  at 12.6s,\testimator lrl2's best error=0.1500,\tbest estimator lrl2's best error=0.1500\n",
      "[flaml.automl.automl: 02-19 13:30:19] {3323} INFO - iteration 150, current learner lrl2\n",
      "[flaml.automl.automl: 02-19 13:30:19] {3508} INFO -  at 12.7s,\testimator lrl2's best error=0.1500,\tbest estimator lrl2's best error=0.1500\n",
      "[flaml.automl.automl: 02-19 13:30:19] {3323} INFO - iteration 151, current learner lrl2\n",
      "[flaml.automl.automl: 02-19 13:30:19] {3508} INFO -  at 12.8s,\testimator lrl2's best error=0.1500,\tbest estimator lrl2's best error=0.1500\n",
      "[flaml.automl.automl: 02-19 13:30:19] {3323} INFO - iteration 152, current learner lrl2\n",
      "[flaml.automl.automl: 02-19 13:30:19] {3508} INFO -  at 12.8s,\testimator lrl2's best error=0.1500,\tbest estimator lrl2's best error=0.1500\n",
      "[flaml.automl.automl: 02-19 13:30:19] {3323} INFO - iteration 153, current learner lrl2\n",
      "[flaml.automl.automl: 02-19 13:30:20] {3508} INFO -  at 12.9s,\testimator lrl2's best error=0.1500,\tbest estimator lrl2's best error=0.1500\n",
      "[flaml.automl.automl: 02-19 13:30:20] {3323} INFO - iteration 154, current learner lrl2\n",
      "[flaml.automl.automl: 02-19 13:30:20] {3508} INFO -  at 13.0s,\testimator lrl2's best error=0.1500,\tbest estimator lrl2's best error=0.1500\n",
      "[flaml.automl.automl: 02-19 13:30:20] {3323} INFO - iteration 155, current learner lrl2\n",
      "[flaml.automl.automl: 02-19 13:30:20] {3508} INFO -  at 13.0s,\testimator lrl2's best error=0.1500,\tbest estimator lrl2's best error=0.1500\n",
      "[flaml.automl.automl: 02-19 13:30:20] {3323} INFO - iteration 156, current learner lrl2\n",
      "[flaml.automl.automl: 02-19 13:30:20] {3508} INFO -  at 13.1s,\testimator lrl2's best error=0.1500,\tbest estimator lrl2's best error=0.1500\n",
      "[flaml.automl.automl: 02-19 13:30:20] {3323} INFO - iteration 157, current learner lrl2\n",
      "[flaml.automl.automl: 02-19 13:30:20] {3508} INFO -  at 13.2s,\testimator lrl2's best error=0.1500,\tbest estimator lrl2's best error=0.1500\n",
      "[flaml.automl.automl: 02-19 13:30:20] {3323} INFO - iteration 158, current learner lrl2\n",
      "[flaml.automl.automl: 02-19 13:30:20] {3508} INFO -  at 13.2s,\testimator lrl2's best error=0.1500,\tbest estimator lrl2's best error=0.1500\n",
      "[flaml.automl.automl: 02-19 13:30:20] {3323} INFO - iteration 159, current learner lrl2\n",
      "[flaml.automl.automl: 02-19 13:30:20] {3508} INFO -  at 13.3s,\testimator lrl2's best error=0.1500,\tbest estimator lrl2's best error=0.1500\n",
      "[flaml.automl.automl: 02-19 13:30:20] {3323} INFO - iteration 160, current learner lrl2\n",
      "[flaml.automl.automl: 02-19 13:30:20] {3508} INFO -  at 13.4s,\testimator lrl2's best error=0.1500,\tbest estimator lrl2's best error=0.1500\n",
      "[flaml.automl.automl: 02-19 13:30:20] {3323} INFO - iteration 161, current learner lrl2\n",
      "[flaml.automl.automl: 02-19 13:30:20] {3508} INFO -  at 13.4s,\testimator lrl2's best error=0.1500,\tbest estimator lrl2's best error=0.1500\n",
      "[flaml.automl.automl: 02-19 13:30:20] {3323} INFO - iteration 162, current learner lrl2\n",
      "[flaml.automl.automl: 02-19 13:30:20] {3508} INFO -  at 13.5s,\testimator lrl2's best error=0.1500,\tbest estimator lrl2's best error=0.1500\n",
      "[flaml.automl.automl: 02-19 13:30:20] {3323} INFO - iteration 163, current learner lrl2\n",
      "[flaml.automl.automl: 02-19 13:30:20] {3508} INFO -  at 13.6s,\testimator lrl2's best error=0.1500,\tbest estimator lrl2's best error=0.1500\n",
      "[flaml.automl.automl: 02-19 13:30:20] {3323} INFO - iteration 164, current learner lrl2\n",
      "[flaml.automl.automl: 02-19 13:30:20] {3508} INFO -  at 13.6s,\testimator lrl2's best error=0.1500,\tbest estimator lrl2's best error=0.1500\n",
      "[flaml.automl.automl: 02-19 13:30:20] {3323} INFO - iteration 165, current learner lrl2\n",
      "[flaml.automl.automl: 02-19 13:30:20] {3508} INFO -  at 13.7s,\testimator lrl2's best error=0.1500,\tbest estimator lrl2's best error=0.1500\n",
      "[flaml.automl.automl: 02-19 13:30:20] {3323} INFO - iteration 166, current learner lrl2\n",
      "[flaml.automl.automl: 02-19 13:30:20] {3508} INFO -  at 13.8s,\testimator lrl2's best error=0.1500,\tbest estimator lrl2's best error=0.1500\n",
      "[flaml.automl.automl: 02-19 13:30:20] {3323} INFO - iteration 167, current learner lrl2\n",
      "[flaml.automl.automl: 02-19 13:30:20] {3508} INFO -  at 13.8s,\testimator lrl2's best error=0.1500,\tbest estimator lrl2's best error=0.1500\n",
      "[flaml.automl.automl: 02-19 13:30:20] {3323} INFO - iteration 168, current learner lrl2\n",
      "[flaml.automl.automl: 02-19 13:30:20] {3508} INFO -  at 13.9s,\testimator lrl2's best error=0.1500,\tbest estimator lrl2's best error=0.1500\n",
      "[flaml.automl.automl: 02-19 13:30:20] {3323} INFO - iteration 169, current learner lrl2\n",
      "[flaml.automl.automl: 02-19 13:30:21] {3508} INFO -  at 14.0s,\testimator lrl2's best error=0.1500,\tbest estimator lrl2's best error=0.1500\n",
      "[flaml.automl.automl: 02-19 13:30:21] {3323} INFO - iteration 170, current learner lrl2\n",
      "[flaml.automl.automl: 02-19 13:30:21] {3508} INFO -  at 14.0s,\testimator lrl2's best error=0.1500,\tbest estimator lrl2's best error=0.1500\n",
      "[flaml.automl.automl: 02-19 13:30:21] {3323} INFO - iteration 171, current learner lrl2\n",
      "[flaml.automl.automl: 02-19 13:30:21] {3508} INFO -  at 14.1s,\testimator lrl2's best error=0.1500,\tbest estimator lrl2's best error=0.1500\n",
      "[flaml.automl.automl: 02-19 13:30:21] {3323} INFO - iteration 172, current learner lrl2\n",
      "[flaml.automl.automl: 02-19 13:30:21] {3508} INFO -  at 14.1s,\testimator lrl2's best error=0.1500,\tbest estimator lrl2's best error=0.1500\n",
      "[flaml.automl.automl: 02-19 13:30:21] {3323} INFO - iteration 173, current learner lrl2\n",
      "[flaml.automl.automl: 02-19 13:30:21] {3508} INFO -  at 14.2s,\testimator lrl2's best error=0.1500,\tbest estimator lrl2's best error=0.1500\n",
      "[flaml.automl.automl: 02-19 13:30:21] {3323} INFO - iteration 174, current learner lrl2\n",
      "[flaml.automl.automl: 02-19 13:30:21] {3508} INFO -  at 14.3s,\testimator lrl2's best error=0.1500,\tbest estimator lrl2's best error=0.1500\n",
      "[flaml.automl.automl: 02-19 13:30:21] {3323} INFO - iteration 175, current learner lrl2\n",
      "[flaml.automl.automl: 02-19 13:30:21] {3508} INFO -  at 14.3s,\testimator lrl2's best error=0.1500,\tbest estimator lrl2's best error=0.1500\n",
      "[flaml.automl.automl: 02-19 13:30:21] {3323} INFO - iteration 176, current learner lrl2\n",
      "[flaml.automl.automl: 02-19 13:30:21] {3508} INFO -  at 14.4s,\testimator lrl2's best error=0.1500,\tbest estimator lrl2's best error=0.1500\n",
      "[flaml.automl.automl: 02-19 13:30:21] {3323} INFO - iteration 177, current learner lrl2\n",
      "[flaml.automl.automl: 02-19 13:30:21] {3508} INFO -  at 14.5s,\testimator lrl2's best error=0.1500,\tbest estimator lrl2's best error=0.1500\n",
      "[flaml.automl.automl: 02-19 13:30:21] {3323} INFO - iteration 178, current learner lrl2\n"
     ]
    },
    {
     "name": "stdout",
     "output_type": "stream",
     "text": [
      "[flaml.automl.automl: 02-19 13:30:21] {3508} INFO -  at 14.5s,\testimator lrl2's best error=0.1500,\tbest estimator lrl2's best error=0.1500\n",
      "[flaml.automl.automl: 02-19 13:30:21] {3323} INFO - iteration 179, current learner lrl2\n",
      "[flaml.automl.automl: 02-19 13:30:21] {3508} INFO -  at 14.6s,\testimator lrl2's best error=0.1500,\tbest estimator lrl2's best error=0.1500\n",
      "[flaml.automl.automl: 02-19 13:30:21] {3323} INFO - iteration 180, current learner lrl2\n",
      "[flaml.automl.automl: 02-19 13:30:21] {3508} INFO -  at 14.7s,\testimator lrl2's best error=0.1500,\tbest estimator lrl2's best error=0.1500\n",
      "[flaml.automl.automl: 02-19 13:30:21] {3323} INFO - iteration 181, current learner lrl2\n",
      "[flaml.automl.automl: 02-19 13:30:21] {3508} INFO -  at 14.7s,\testimator lrl2's best error=0.1500,\tbest estimator lrl2's best error=0.1500\n",
      "[flaml.automl.automl: 02-19 13:30:21] {3323} INFO - iteration 182, current learner lrl2\n",
      "[flaml.automl.automl: 02-19 13:30:21] {3508} INFO -  at 14.8s,\testimator lrl2's best error=0.1500,\tbest estimator lrl2's best error=0.1500\n",
      "[flaml.automl.automl: 02-19 13:30:21] {3323} INFO - iteration 183, current learner lrl2\n",
      "[flaml.automl.automl: 02-19 13:30:21] {3508} INFO -  at 14.9s,\testimator lrl2's best error=0.1500,\tbest estimator lrl2's best error=0.1500\n",
      "[flaml.automl.automl: 02-19 13:30:21] {3323} INFO - iteration 184, current learner lrl2\n",
      "[flaml.automl.automl: 02-19 13:30:22] {3508} INFO -  at 14.9s,\testimator lrl2's best error=0.1500,\tbest estimator lrl2's best error=0.1500\n",
      "[flaml.automl.automl: 02-19 13:30:22] {3323} INFO - iteration 185, current learner lrl2\n",
      "[flaml.automl.automl: 02-19 13:30:22] {3508} INFO -  at 15.0s,\testimator lrl2's best error=0.1500,\tbest estimator lrl2's best error=0.1500\n",
      "[flaml.automl.automl: 02-19 13:30:22] {3772} INFO - retrain lrl2 for 0.1s\n",
      "[flaml.automl.automl: 02-19 13:30:22] {3779} INFO - retrained model: LogisticRegression(C=1.7611241081939724, n_jobs=-1)\n",
      "[flaml.automl.automl: 02-19 13:30:22] {3024} INFO - fit succeeded\n",
      "[flaml.automl.automl: 02-19 13:30:22] {3025} INFO - Time taken to find the best model: 3.160323143005371\n"
     ]
    }
   ],
   "source": [
    "lrl1 = automl.fit(X_train=X_train, y_train=y_train, estimator_list=[\"lrl2\"], **settings)"
   ]
  },
  {
   "cell_type": "code",
   "execution_count": 32,
   "metadata": {},
   "outputs": [
    {
     "name": "stdout",
     "output_type": "stream",
     "text": [
      "lrl2: 0.85\n"
     ]
    }
   ],
   "source": [
    "print('lrl2: {0:.4g}'.format(1-automl.best_loss))"
   ]
  },
  {
   "cell_type": "code",
   "execution_count": 42,
   "metadata": {},
   "outputs": [
    {
     "data": {
      "text/html": [
       "<style>#sk-container-id-4 {color: black;background-color: white;}#sk-container-id-4 pre{padding: 0;}#sk-container-id-4 div.sk-toggleable {background-color: white;}#sk-container-id-4 label.sk-toggleable__label {cursor: pointer;display: block;width: 100%;margin-bottom: 0;padding: 0.3em;box-sizing: border-box;text-align: center;}#sk-container-id-4 label.sk-toggleable__label-arrow:before {content: \"▸\";float: left;margin-right: 0.25em;color: #696969;}#sk-container-id-4 label.sk-toggleable__label-arrow:hover:before {color: black;}#sk-container-id-4 div.sk-estimator:hover label.sk-toggleable__label-arrow:before {color: black;}#sk-container-id-4 div.sk-toggleable__content {max-height: 0;max-width: 0;overflow: hidden;text-align: left;background-color: #f0f8ff;}#sk-container-id-4 div.sk-toggleable__content pre {margin: 0.2em;color: black;border-radius: 0.25em;background-color: #f0f8ff;}#sk-container-id-4 input.sk-toggleable__control:checked~div.sk-toggleable__content {max-height: 200px;max-width: 100%;overflow: auto;}#sk-container-id-4 input.sk-toggleable__control:checked~label.sk-toggleable__label-arrow:before {content: \"▾\";}#sk-container-id-4 div.sk-estimator input.sk-toggleable__control:checked~label.sk-toggleable__label {background-color: #d4ebff;}#sk-container-id-4 div.sk-label input.sk-toggleable__control:checked~label.sk-toggleable__label {background-color: #d4ebff;}#sk-container-id-4 input.sk-hidden--visually {border: 0;clip: rect(1px 1px 1px 1px);clip: rect(1px, 1px, 1px, 1px);height: 1px;margin: -1px;overflow: hidden;padding: 0;position: absolute;width: 1px;}#sk-container-id-4 div.sk-estimator {font-family: monospace;background-color: #f0f8ff;border: 1px dotted black;border-radius: 0.25em;box-sizing: border-box;margin-bottom: 0.5em;}#sk-container-id-4 div.sk-estimator:hover {background-color: #d4ebff;}#sk-container-id-4 div.sk-parallel-item::after {content: \"\";width: 100%;border-bottom: 1px solid gray;flex-grow: 1;}#sk-container-id-4 div.sk-label:hover label.sk-toggleable__label {background-color: #d4ebff;}#sk-container-id-4 div.sk-serial::before {content: \"\";position: absolute;border-left: 1px solid gray;box-sizing: border-box;top: 0;bottom: 0;left: 50%;z-index: 0;}#sk-container-id-4 div.sk-serial {display: flex;flex-direction: column;align-items: center;background-color: white;padding-right: 0.2em;padding-left: 0.2em;position: relative;}#sk-container-id-4 div.sk-item {position: relative;z-index: 1;}#sk-container-id-4 div.sk-parallel {display: flex;align-items: stretch;justify-content: center;background-color: white;position: relative;}#sk-container-id-4 div.sk-item::before, #sk-container-id-4 div.sk-parallel-item::before {content: \"\";position: absolute;border-left: 1px solid gray;box-sizing: border-box;top: 0;bottom: 0;left: 50%;z-index: -1;}#sk-container-id-4 div.sk-parallel-item {display: flex;flex-direction: column;z-index: 1;position: relative;background-color: white;}#sk-container-id-4 div.sk-parallel-item:first-child::after {align-self: flex-end;width: 50%;}#sk-container-id-4 div.sk-parallel-item:last-child::after {align-self: flex-start;width: 50%;}#sk-container-id-4 div.sk-parallel-item:only-child::after {width: 0;}#sk-container-id-4 div.sk-dashed-wrapped {border: 1px dashed gray;margin: 0 0.4em 0.5em 0.4em;box-sizing: border-box;padding-bottom: 0.4em;background-color: white;}#sk-container-id-4 div.sk-label label {font-family: monospace;font-weight: bold;display: inline-block;line-height: 1.2em;}#sk-container-id-4 div.sk-label-container {text-align: center;}#sk-container-id-4 div.sk-container {/* jupyter's `normalize.less` sets `[hidden] { display: none; }` but bootstrap.min.css set `[hidden] { display: none !important; }` so we also need the `!important` here to be able to override the default hidden behavior on the sphinx rendered scikit-learn.org. See: https://github.com/scikit-learn/scikit-learn/issues/21755 */display: inline-block !important;position: relative;}#sk-container-id-4 div.sk-text-repr-fallback {display: none;}</style><div id=\"sk-container-id-4\" class=\"sk-top-container\"><div class=\"sk-text-repr-fallback\"><pre>LGBMClassifier()</pre><b>In a Jupyter environment, please rerun this cell to show the HTML representation or trust the notebook. <br />On GitHub, the HTML representation is unable to render, please try loading this page with nbviewer.org.</b></div><div class=\"sk-container\" hidden><div class=\"sk-item\"><div class=\"sk-estimator sk-toggleable\"><input class=\"sk-toggleable__control sk-hidden--visually\" id=\"sk-estimator-id-4\" type=\"checkbox\" checked><label for=\"sk-estimator-id-4\" class=\"sk-toggleable__label sk-toggleable__label-arrow\">LGBMClassifier</label><div class=\"sk-toggleable__content\"><pre>LGBMClassifier()</pre></div></div></div></div></div>"
      ],
      "text/plain": [
       "LGBMClassifier()"
      ]
     },
     "execution_count": 42,
     "metadata": {},
     "output_type": "execute_result"
    }
   ],
   "source": [
    "import lightgbm as lgb\n",
    "clf = lgb.LGBMClassifier()\n",
    "clf.fit(X_train, y_train)"
   ]
  },
  {
   "cell_type": "code",
   "execution_count": 43,
   "metadata": {},
   "outputs": [],
   "source": [
    "y_pred=clf.predict(X_test)"
   ]
  },
  {
   "cell_type": "code",
   "execution_count": 44,
   "metadata": {},
   "outputs": [
    {
     "name": "stdout",
     "output_type": "stream",
     "text": [
      "LightGBM Model accuracy score: 0.9535\n"
     ]
    }
   ],
   "source": [
    "from sklearn.metrics import accuracy_score\n",
    "accuracy=accuracy_score(y_pred, y_test)\n",
    "print('LightGBM Model accuracy score: {0:0.4f}'.format(accuracy_score(y_test, y_pred)))"
   ]
  },
  {
   "cell_type": "code",
   "execution_count": 46,
   "metadata": {},
   "outputs": [
    {
     "name": "stdout",
     "output_type": "stream",
     "text": [
      "Confusion matrix\n",
      "\n",
      " [[ 2  0  0  0  0  0  0  0  0  0  0]\n",
      " [ 0 34  1  0  0  0  0  0  0  0  0]\n",
      " [ 0  0 44  0  1  0  0  0  0  0  0]\n",
      " [ 0  0  0  1  0  0  0  0  0  0  0]\n",
      " [ 0  0  1  0 16  1  0  0  0  0  0]\n",
      " [ 0  0  0  0  0  4  0  0  0  0  0]\n",
      " [ 0  0  0  0  0  0  6  0  0  0  0]\n",
      " [ 0  0  0  0  1  0  0  2  0  0  0]\n",
      " [ 0  0  0  1  0  0  0  0  5  0  0]\n",
      " [ 0  0  0  0  0  0  0  0  0  4  0]\n",
      " [ 0  0  0  0  0  0  0  0  0  0  5]]\n"
     ]
    }
   ],
   "source": [
    "from sklearn.metrics import confusion_matrix\n",
    "cm = confusion_matrix(y_test, y_pred)\n",
    "print('Confusion matrix\\n\\n', cm)\n"
   ]
  },
  {
   "cell_type": "code",
   "execution_count": null,
   "metadata": {},
   "outputs": [],
   "source": []
  }
 ],
 "metadata": {
  "kernelspec": {
   "display_name": "Python 3",
   "language": "python",
   "name": "python3"
  },
  "language_info": {
   "codemirror_mode": {
    "name": "ipython",
    "version": 3
   },
   "file_extension": ".py",
   "mimetype": "text/x-python",
   "name": "python",
   "nbconvert_exporter": "python",
   "pygments_lexer": "ipython3",
   "version": "3.8.3"
  }
 },
 "nbformat": 4,
 "nbformat_minor": 4
}
